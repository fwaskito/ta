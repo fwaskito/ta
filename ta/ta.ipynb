{
 "cells": [
  {
   "attachments": {},
   "cell_type": "markdown",
   "metadata": {},
   "source": [
    "#### Daftar Isi:\n",
    "- [1. Akusisi Data](#1-akusisi-data)\n",
    "- [2. Pembentukan Kamus Slang](#2-pembentukan-kamus-slang)\n",
    "- [3. Anotasi Data](#3-anotasi-data)\n",
    "- [4. Prapemrosesan](#4-prapemrosesan)\n",
    "- [5. Pemodelan SVM](#5-pemodelan-svm)\n",
    "- [6. Pengukuran Performa](#6-pengukuran-performa)\n",
    "    - [6.1 Pengukuran Performa Tahap 1](#61-pengukuran-performa-tahap-1)\n",
    "    - [6.2 Pengukuran Performa Tahap 2](#62-pengukuran-performa-tahap-2)\n",
    "- [7. Pengujian](#7-pengujian)"
   ]
  },
  {
   "attachments": {},
   "cell_type": "markdown",
   "metadata": {},
   "source": [
    "*__*Internal link tidak berfungsi di laman github.__*"
   ]
  },
  {
   "attachments": {},
   "cell_type": "markdown",
   "metadata": {},
   "source": [
    "***"
   ]
  },
  {
   "cell_type": "code",
   "execution_count": 1,
   "metadata": {},
   "outputs": [
    {
     "name": "stdout",
     "output_type": "stream",
     "text": [
      "Author: F. Waskito\n",
      "\n",
      "Last updated: Mon Jun 05 2023 21:26:49\n",
      "\n",
      "Python implementation: CPython\n",
      "Python version       : 3.9.16\n",
      "IPython version      : 8.12.0\n",
      "\n"
     ]
    }
   ],
   "source": [
    "from IPython.core.interactiveshell import InteractiveShell\n",
    "InteractiveShell.ast_node_interactivity = \"all\"\n",
    "\n",
    "%load_ext watermark\n",
    "%watermark -a \"F. Waskito\" -n -t -u -v"
   ]
  },
  {
   "attachments": {},
   "cell_type": "markdown",
   "metadata": {},
   "source": [
    "#### __1. Akusisi Data__"
   ]
  },
  {
   "cell_type": "code",
   "execution_count": null,
   "metadata": {},
   "outputs": [
    {
     "name": "stderr",
     "output_type": "stream",
     "text": [
      "Scraping: 100%|██████████| 476/476 [00:39<00:00, 12.17it/s]\n"
     ]
    }
   ],
   "source": [
    "from collection.scrape import TweetScraper\n",
    "\n",
    "scraper = TweetScraper(\n",
    "    \"depresi OR bipolar\",\n",
    "    \"id\",\n",
    "    \"2022-05-10\",\n",
    "    \"2022-05-11\",\n",
    ")\n",
    "\n",
    "scraper.scrape()"
   ]
  },
  {
   "cell_type": "code",
   "execution_count": null,
   "metadata": {},
   "outputs": [],
   "source": [
    "path = \"data/tweet/scrape/depresi_or_bipolar_tweets_id_220510_with_irrelevant.csv\"\n",
    "scraper.tweets_table.to_csv(path, index=False)"
   ]
  },
  {
   "cell_type": "code",
   "execution_count": null,
   "metadata": {},
   "outputs": [
    {
     "name": "stdout",
     "output_type": "stream",
     "text": [
      "Number of tweets before removal: 476\n"
     ]
    },
    {
     "name": "stderr",
     "output_type": "stream",
     "text": [
      "Removing irrelevant: 100%|██████████| 476/476 [07:44<00:00,  1.03it/s]"
     ]
    },
    {
     "name": "stdout",
     "output_type": "stream",
     "text": [
      "Number of tweets after removal: 428\n"
     ]
    },
    {
     "name": "stderr",
     "output_type": "stream",
     "text": [
      "\n"
     ]
    }
   ],
   "source": [
    "print(f\"Number of tweets before removal: {scraper.num_of_tweets}\")\n",
    "irrelevant_tweets_table = scraper.remove_irrelevant()\n",
    "print(f\"Number of tweets after removal: {scraper.num_of_tweets}\")"
   ]
  },
  {
   "cell_type": "code",
   "execution_count": null,
   "metadata": {},
   "outputs": [],
   "source": [
    "path = \"data/tweet/scrape/depresi_or_bipolar_tweets_id_220510_irrelevant.csv\"\n",
    "irrelevant_tweets_table.to_csv(path, index=False)"
   ]
  },
  {
   "cell_type": "code",
   "execution_count": null,
   "metadata": {},
   "outputs": [],
   "source": [
    "path = \"data/scrape/depresi_or_bipolar_tweets_id_220510.csv\"\n",
    "scraper.tweets_table.to_csv(path, index=False)"
   ]
  },
  {
   "attachments": {},
   "cell_type": "markdown",
   "metadata": {},
   "source": [
    "#### __2. Pembentukan Kamus Slang__"
   ]
  },
  {
   "attachments": {},
   "cell_type": "markdown",
   "metadata": {},
   "source": [
    "Beralih ke:\n",
    "- [1. Akusisi Data](#1-akusisi-data)\n",
    "- [3. Anotasi Data](#3-anotasi-data)"
   ]
  },
  {
   "cell_type": "code",
   "execution_count": 1,
   "metadata": {},
   "outputs": [
    {
     "name": "stdout",
     "output_type": "stream",
     "text": [
      "<class 'pandas.core.frame.DataFrame'>\n",
      "RangeIndex: 3409 entries, 0 to 3408\n",
      "Data columns (total 4 columns):\n",
      " #   Column    Non-Null Count  Dtype \n",
      "---  ------    --------------  ----- \n",
      " 0   Tweet_ID  3409 non-null   int64 \n",
      " 1   Datetime  3409 non-null   object\n",
      " 2   Username  3409 non-null   object\n",
      " 3   Text      3409 non-null   object\n",
      "dtypes: int64(1), object(3)\n",
      "memory usage: 106.7+ KB\n"
     ]
    }
   ],
   "source": [
    "import pandas\n",
    "\n",
    "file_path = \"data/tweet/scrape/depresi_or_bipolar_tweets_id_01-10.csv\"\n",
    "tweets_table = pandas.read_csv(file_path)\n",
    "tweets_table.info()"
   ]
  },
  {
   "cell_type": "code",
   "execution_count": 2,
   "metadata": {},
   "outputs": [
    {
     "name": "stderr",
     "output_type": "stream",
     "text": [
      "100%|██████████| 3409/3409 [4:22:04<00:00,  4.61s/it]  \n"
     ]
    }
   ],
   "source": [
    "from collection.slang.template import KamusSlangTemplate\n",
    "\n",
    "template = KamusSlangTemplate(tweets_table['Text'])\n",
    "template.create()"
   ]
  },
  {
   "attachments": {},
   "cell_type": "markdown",
   "metadata": {},
   "source": [
    "__Catatan__: Karena dalam proses pencarian slang dibutuhkan parapemrosesan teks sampai di tahap *stemming* (menggunakan Sastrawi), ketidakefisienan waktu jadi konsekuensinya."
   ]
  },
  {
   "cell_type": "code",
   "execution_count": 7,
   "metadata": {},
   "outputs": [
    {
     "name": "stdout",
     "output_type": "stream",
     "text": [
      "<class 'pandas.core.frame.DataFrame'>\n",
      "RangeIndex: 5357 entries, 0 to 5356\n",
      "Data columns (total 4 columns):\n",
      " #   Column      Non-Null Count  Dtype  \n",
      "---  ------      --------------  -----  \n",
      " 0   Slang       5357 non-null   object \n",
      " 1   Makna       0 non-null      float64\n",
      " 2   No_Konteks  5357 non-null   int64  \n",
      " 3   Konteks     5357 non-null   object \n",
      "dtypes: float64(1), int64(1), object(2)\n",
      "memory usage: 167.5+ KB\n"
     ]
    },
    {
     "data": {
      "text/html": [
       "<div>\n",
       "<style scoped>\n",
       "    .dataframe tbody tr th:only-of-type {\n",
       "        vertical-align: middle;\n",
       "    }\n",
       "\n",
       "    .dataframe tbody tr th {\n",
       "        vertical-align: top;\n",
       "    }\n",
       "\n",
       "    .dataframe thead th {\n",
       "        text-align: right;\n",
       "    }\n",
       "</style>\n",
       "<table border=\"1\" class=\"dataframe\">\n",
       "  <thead>\n",
       "    <tr style=\"text-align: right;\">\n",
       "      <th></th>\n",
       "      <th>Slang</th>\n",
       "      <th>Makna</th>\n",
       "      <th>No_Konteks</th>\n",
       "      <th>Konteks</th>\n",
       "    </tr>\n",
       "  </thead>\n",
       "  <tbody>\n",
       "    <tr>\n",
       "      <th>0</th>\n",
       "      <td>ilux</td>\n",
       "      <td>NaN</td>\n",
       "      <td>0</td>\n",
       "      <td>Padahal ilux baru KB/TK ya mana ngerti begitua...</td>\n",
       "    </tr>\n",
       "    <tr>\n",
       "      <th>1</th>\n",
       "      <td>kb</td>\n",
       "      <td>NaN</td>\n",
       "      <td>0</td>\n",
       "      <td>Padahal ilux baru KB/TK ya mana ngerti begitua...</td>\n",
       "    </tr>\n",
       "    <tr>\n",
       "      <th>2</th>\n",
       "      <td>tk</td>\n",
       "      <td>NaN</td>\n",
       "      <td>0</td>\n",
       "      <td>Padahal ilux baru KB/TK ya mana ngerti begitua...</td>\n",
       "    </tr>\n",
       "    <tr>\n",
       "      <th>3</th>\n",
       "      <td>ya</td>\n",
       "      <td>NaN</td>\n",
       "      <td>0</td>\n",
       "      <td>Padahal ilux baru KB/TK ya mana ngerti begitua...</td>\n",
       "    </tr>\n",
       "    <tr>\n",
       "      <th>4</th>\n",
       "      <td>ngerti</td>\n",
       "      <td>NaN</td>\n",
       "      <td>0</td>\n",
       "      <td>Padahal ilux baru KB/TK ya mana ngerti begitua...</td>\n",
       "    </tr>\n",
       "  </tbody>\n",
       "</table>\n",
       "</div>"
      ],
      "text/plain": [
       "    Slang  Makna  No_Konteks  \\\n",
       "0    ilux    NaN           0   \n",
       "1      kb    NaN           0   \n",
       "2      tk    NaN           0   \n",
       "3      ya    NaN           0   \n",
       "4  ngerti    NaN           0   \n",
       "\n",
       "                                             Konteks  \n",
       "0  Padahal ilux baru KB/TK ya mana ngerti begitua...  \n",
       "1  Padahal ilux baru KB/TK ya mana ngerti begitua...  \n",
       "2  Padahal ilux baru KB/TK ya mana ngerti begitua...  \n",
       "3  Padahal ilux baru KB/TK ya mana ngerti begitua...  \n",
       "4  Padahal ilux baru KB/TK ya mana ngerti begitua...  "
      ]
     },
     "execution_count": 7,
     "metadata": {},
     "output_type": "execute_result"
    }
   ],
   "source": [
    "template.template.info()\n",
    "template.template.head()"
   ]
  },
  {
   "cell_type": "code",
   "execution_count": 9,
   "metadata": {},
   "outputs": [
    {
     "data": {
      "text/html": [
       "<div>\n",
       "<style scoped>\n",
       "    .dataframe tbody tr th:only-of-type {\n",
       "        vertical-align: middle;\n",
       "    }\n",
       "\n",
       "    .dataframe tbody tr th {\n",
       "        vertical-align: top;\n",
       "    }\n",
       "\n",
       "    .dataframe thead th {\n",
       "        text-align: right;\n",
       "    }\n",
       "</style>\n",
       "<table border=\"1\" class=\"dataframe\">\n",
       "  <thead>\n",
       "    <tr style=\"text-align: right;\">\n",
       "      <th></th>\n",
       "      <th>Slang</th>\n",
       "      <th>Makna</th>\n",
       "      <th>No_Konteks</th>\n",
       "      <th>Konteks</th>\n",
       "    </tr>\n",
       "  </thead>\n",
       "  <tbody>\n",
       "    <tr>\n",
       "      <th>5342</th>\n",
       "      <td>mecicil</td>\n",
       "      <td>NaN</td>\n",
       "      <td>3392</td>\n",
       "      <td>3:10 dan masih mecicil Goddamn bipolar ... Lol..</td>\n",
       "    </tr>\n",
       "    <tr>\n",
       "      <th>5343</th>\n",
       "      <td>goddamn</td>\n",
       "      <td>NaN</td>\n",
       "      <td>3392</td>\n",
       "      <td>3:10 dan masih mecicil Goddamn bipolar ... Lol..</td>\n",
       "    </tr>\n",
       "    <tr>\n",
       "      <th>5344</th>\n",
       "      <td>pernqh</td>\n",
       "      <td>NaN</td>\n",
       "      <td>3395</td>\n",
       "      <td>Insomnia dan depresi. Gak pernqh bisq tidur le...</td>\n",
       "    </tr>\n",
       "    <tr>\n",
       "      <th>5345</th>\n",
       "      <td>bisq</td>\n",
       "      <td>NaN</td>\n",
       "      <td>3395</td>\n",
       "      <td>Insomnia dan depresi. Gak pernqh bisq tidur le...</td>\n",
       "    </tr>\n",
       "    <tr>\n",
       "      <th>5346</th>\n",
       "      <td>diseriusin</td>\n",
       "      <td>NaN</td>\n",
       "      <td>3397</td>\n",
       "      <td>pantes idup lu pada depresi anime aja diserius...</td>\n",
       "    </tr>\n",
       "    <tr>\n",
       "      <th>5347</th>\n",
       "      <td>easier</td>\n",
       "      <td>NaN</td>\n",
       "      <td>3398</td>\n",
       "      <td>\"Eren depresi krna ga cerita ke temen²nya, dan...</td>\n",
       "    </tr>\n",
       "    <tr>\n",
       "      <th>5348</th>\n",
       "      <td>said</td>\n",
       "      <td>NaN</td>\n",
       "      <td>3398</td>\n",
       "      <td>\"Eren depresi krna ga cerita ke temen²nya, dan...</td>\n",
       "    </tr>\n",
       "    <tr>\n",
       "      <th>5349</th>\n",
       "      <td>than</td>\n",
       "      <td>NaN</td>\n",
       "      <td>3398</td>\n",
       "      <td>\"Eren depresi krna ga cerita ke temen²nya, dan...</td>\n",
       "    </tr>\n",
       "    <tr>\n",
       "      <th>5350</th>\n",
       "      <td>done</td>\n",
       "      <td>NaN</td>\n",
       "      <td>3398</td>\n",
       "      <td>\"Eren depresi krna ga cerita ke temen²nya, dan...</td>\n",
       "    </tr>\n",
       "    <tr>\n",
       "      <th>5351</th>\n",
       "      <td>isnt</td>\n",
       "      <td>NaN</td>\n",
       "      <td>3398</td>\n",
       "      <td>\"Eren depresi krna ga cerita ke temen²nya, dan...</td>\n",
       "    </tr>\n",
       "    <tr>\n",
       "      <th>5352</th>\n",
       "      <td>bruh</td>\n",
       "      <td>NaN</td>\n",
       "      <td>3398</td>\n",
       "      <td>\"Eren depresi krna ga cerita ke temen²nya, dan...</td>\n",
       "    </tr>\n",
       "    <tr>\n",
       "      <th>5353</th>\n",
       "      <td>ciee</td>\n",
       "      <td>NaN</td>\n",
       "      <td>3399</td>\n",
       "      <td>Ciee depresi ya gk lolos final ucl 😜</td>\n",
       "    </tr>\n",
       "    <tr>\n",
       "      <th>5354</th>\n",
       "      <td>followlinetoday</td>\n",
       "      <td>NaN</td>\n",
       "      <td>3403</td>\n",
       "      <td>Razman Arif: Medina Zein sedang dirawat karena...</td>\n",
       "    </tr>\n",
       "    <tr>\n",
       "      <th>5355</th>\n",
       "      <td>makassar</td>\n",
       "      <td>NaN</td>\n",
       "      <td>3405</td>\n",
       "      <td>Aku pulang ke kota Makassar. Aku memiliki teka...</td>\n",
       "    </tr>\n",
       "    <tr>\n",
       "      <th>5356</th>\n",
       "      <td>phk</td>\n",
       "      <td>NaN</td>\n",
       "      <td>3408</td>\n",
       "      <td>@IchaVarma Utang emang bikin nagih, terkesan e...</td>\n",
       "    </tr>\n",
       "  </tbody>\n",
       "</table>\n",
       "</div>"
      ],
      "text/plain": [
       "                Slang  Makna  No_Konteks  \\\n",
       "5342          mecicil    NaN        3392   \n",
       "5343          goddamn    NaN        3392   \n",
       "5344           pernqh    NaN        3395   \n",
       "5345             bisq    NaN        3395   \n",
       "5346       diseriusin    NaN        3397   \n",
       "5347           easier    NaN        3398   \n",
       "5348             said    NaN        3398   \n",
       "5349             than    NaN        3398   \n",
       "5350             done    NaN        3398   \n",
       "5351             isnt    NaN        3398   \n",
       "5352             bruh    NaN        3398   \n",
       "5353             ciee    NaN        3399   \n",
       "5354  followlinetoday    NaN        3403   \n",
       "5355         makassar    NaN        3405   \n",
       "5356              phk    NaN        3408   \n",
       "\n",
       "                                                Konteks  \n",
       "5342   3:10 dan masih mecicil Goddamn bipolar ... Lol..  \n",
       "5343   3:10 dan masih mecicil Goddamn bipolar ... Lol..  \n",
       "5344  Insomnia dan depresi. Gak pernqh bisq tidur le...  \n",
       "5345  Insomnia dan depresi. Gak pernqh bisq tidur le...  \n",
       "5346  pantes idup lu pada depresi anime aja diserius...  \n",
       "5347  \"Eren depresi krna ga cerita ke temen²nya, dan...  \n",
       "5348  \"Eren depresi krna ga cerita ke temen²nya, dan...  \n",
       "5349  \"Eren depresi krna ga cerita ke temen²nya, dan...  \n",
       "5350  \"Eren depresi krna ga cerita ke temen²nya, dan...  \n",
       "5351  \"Eren depresi krna ga cerita ke temen²nya, dan...  \n",
       "5352  \"Eren depresi krna ga cerita ke temen²nya, dan...  \n",
       "5353               Ciee depresi ya gk lolos final ucl 😜  \n",
       "5354  Razman Arif: Medina Zein sedang dirawat karena...  \n",
       "5355  Aku pulang ke kota Makassar. Aku memiliki teka...  \n",
       "5356  @IchaVarma Utang emang bikin nagih, terkesan e...  "
      ]
     },
     "execution_count": 9,
     "metadata": {},
     "output_type": "execute_result"
    }
   ],
   "source": [
    "tweets_table.tail(15)"
   ]
  },
  {
   "cell_type": "code",
   "execution_count": null,
   "metadata": {},
   "outputs": [],
   "source": [
    "path = \"data/dictionary/kamus_slang.csv\"\n",
    "template.template.to_csv(path, index=False)"
   ]
  },
  {
   "attachments": {},
   "cell_type": "markdown",
   "metadata": {},
   "source": [
    "#### __3. Anotasi Data__"
   ]
  },
  {
   "attachments": {},
   "cell_type": "markdown",
   "metadata": {},
   "source": [
    "Beralih ke:\n",
    "- [2. Pembentukan Kamus Slang](#2-pembentukan-kamus-slang)\n",
    "- [4. Prapemrosesan](#4-prapemrosesan)"
   ]
  },
  {
   "cell_type": "code",
   "execution_count": 14,
   "metadata": {},
   "outputs": [
    {
     "name": "stdout",
     "output_type": "stream",
     "text": [
      "<class 'pandas.core.frame.DataFrame'>\n",
      "RangeIndex: 3409 entries, 0 to 3408\n",
      "Data columns (total 4 columns):\n",
      " #   Column    Non-Null Count  Dtype  \n",
      "---  ------    --------------  -----  \n",
      " 0   Tweet_ID  3409 non-null   float64\n",
      " 1   Datetime  3409 non-null   object \n",
      " 2   Username  3409 non-null   object \n",
      " 3   Text      3409 non-null   object \n",
      "dtypes: float64(1), object(3)\n",
      "memory usage: 106.7+ KB\n"
     ]
    }
   ],
   "source": [
    "import pandas\n",
    "\n",
    "path = \"data/tweet/scrape/depresi_or_bipolar_tweets_id_01-10.csv\"\n",
    "tweets_table = pandas.read_csv(path)\n",
    "tweets_table.info()"
   ]
  },
  {
   "cell_type": "code",
   "execution_count": 1,
   "metadata": {},
   "outputs": [],
   "source": [
    "import pandas\n",
    "\n",
    "path = \"data/tweet/depresi_or_bipolar_tweets_id_01-10.csv\"\n",
    "tweets_table = pandas.read_csv(path)"
   ]
  },
  {
   "cell_type": "code",
   "execution_count": 2,
   "metadata": {},
   "outputs": [
    {
     "name": "stderr",
     "output_type": "stream",
     "text": [
      "labeling: 100%|██████████| 3409/3409 [31:51<00:00,  1.78it/s]  \n"
     ]
    }
   ],
   "source": [
    "from collection.annotation import BlobLabeler\n",
    "\n",
    "anotator = BlobLabeler(tweets_table[\"Text\"])\n",
    "anotator.generate()"
   ]
  },
  {
   "attachments": {},
   "cell_type": "markdown",
   "metadata": {},
   "source": [
    "__Catatan__: Lama waktu proses pelabelan lebih dipengaruhi oleh dua faktor, koneksi internet dan versi Python. Pelabelan ini hampir 2 kali lebih cepat dari proses pelabelan sebelumnya. Menggunakan *dependecies* yang persis sama, proses sebelumnya memakan waktu di atas 55 menit ketika dilakukan di jam aktif dan melalui Python 3.10.x."
   ]
  },
  {
   "cell_type": "code",
   "execution_count": 5,
   "metadata": {},
   "outputs": [
    {
     "name": "stdout",
     "output_type": "stream",
     "text": [
      "Distribution:\n",
      "\t('positive', 864)\n",
      "\t('neutral', 1253)\n",
      "\t('negative', 1292)\n"
     ]
    }
   ],
   "source": [
    "from collection import analysis\n",
    "\n",
    "analysis.get_distribution(anotator.labels)"
   ]
  },
  {
   "cell_type": "code",
   "execution_count": 10,
   "metadata": {},
   "outputs": [
    {
     "name": "stdout",
     "output_type": "stream",
     "text": [
      "<class 'pandas.core.frame.DataFrame'>\n",
      "RangeIndex: 3409 entries, 0 to 3408\n",
      "Data columns (total 5 columns):\n",
      " #   Column     Non-Null Count  Dtype  \n",
      "---  ------     --------------  -----  \n",
      " 0   Tweet_ID   3409 non-null   float64\n",
      " 1   Datetime   3409 non-null   object \n",
      " 2   Username   3409 non-null   object \n",
      " 3   Text       3409 non-null   object \n",
      " 4   Sentiment  3409 non-null   object \n",
      "dtypes: float64(1), object(4)\n",
      "memory usage: 133.3+ KB\n"
     ]
    },
    {
     "data": {
      "text/html": [
       "<div>\n",
       "<style scoped>\n",
       "    .dataframe tbody tr th:only-of-type {\n",
       "        vertical-align: middle;\n",
       "    }\n",
       "\n",
       "    .dataframe tbody tr th {\n",
       "        vertical-align: top;\n",
       "    }\n",
       "\n",
       "    .dataframe thead th {\n",
       "        text-align: right;\n",
       "    }\n",
       "</style>\n",
       "<table border=\"1\" class=\"dataframe\">\n",
       "  <thead>\n",
       "    <tr style=\"text-align: right;\">\n",
       "      <th></th>\n",
       "      <th>Tweet_ID</th>\n",
       "      <th>Datetime</th>\n",
       "      <th>Username</th>\n",
       "      <th>Text</th>\n",
       "      <th>Sentiment</th>\n",
       "    </tr>\n",
       "  </thead>\n",
       "  <tbody>\n",
       "    <tr>\n",
       "      <th>0</th>\n",
       "      <td>1.520554e+18</td>\n",
       "      <td>2022-05-01 00:00:12+00:00</td>\n",
       "      <td>yfnasa</td>\n",
       "      <td>Padahal ilux baru KB/TK ya mana ngerti begitua...</td>\n",
       "      <td>positive</td>\n",
       "    </tr>\n",
       "    <tr>\n",
       "      <th>1</th>\n",
       "      <td>1.520561e+18</td>\n",
       "      <td>2022-05-01 00:30:46+00:00</td>\n",
       "      <td>SoleilLumina</td>\n",
       "      <td>Et dah gw jadi ngefollow akun quotes depresi (...</td>\n",
       "      <td>neutral</td>\n",
       "    </tr>\n",
       "    <tr>\n",
       "      <th>2</th>\n",
       "      <td>1.520563e+18</td>\n",
       "      <td>2022-05-01 00:36:48+00:00</td>\n",
       "      <td>petitegeeky</td>\n",
       "      <td>Rossy setahun di laut betah, cuma pas pulang a...</td>\n",
       "      <td>neutral</td>\n",
       "    </tr>\n",
       "    <tr>\n",
       "      <th>3</th>\n",
       "      <td>1.520565e+18</td>\n",
       "      <td>2022-05-01 00:43:40+00:00</td>\n",
       "      <td>raniapj</td>\n",
       "      <td>Sebenarnya aku jarang jbjb. Aku toh lagi stres...</td>\n",
       "      <td>neutral</td>\n",
       "    </tr>\n",
       "    <tr>\n",
       "      <th>4</th>\n",
       "      <td>1.520565e+18</td>\n",
       "      <td>2022-05-01 00:43:50+00:00</td>\n",
       "      <td>Jawaban</td>\n",
       "      <td>Apakah kamu sedang banyak masalah, sampai-samp...</td>\n",
       "      <td>neutral</td>\n",
       "    </tr>\n",
       "  </tbody>\n",
       "</table>\n",
       "</div>"
      ],
      "text/plain": [
       "       Tweet_ID                   Datetime      Username  \\\n",
       "0  1.520554e+18  2022-05-01 00:00:12+00:00        yfnasa   \n",
       "1  1.520561e+18  2022-05-01 00:30:46+00:00  SoleilLumina   \n",
       "2  1.520563e+18  2022-05-01 00:36:48+00:00   petitegeeky   \n",
       "3  1.520565e+18  2022-05-01 00:43:40+00:00       raniapj   \n",
       "4  1.520565e+18  2022-05-01 00:43:50+00:00       Jawaban   \n",
       "\n",
       "                                                Text Sentiment  \n",
       "0  Padahal ilux baru KB/TK ya mana ngerti begitua...  positive  \n",
       "1  Et dah gw jadi ngefollow akun quotes depresi (...   neutral  \n",
       "2  Rossy setahun di laut betah, cuma pas pulang a...   neutral  \n",
       "3  Sebenarnya aku jarang jbjb. Aku toh lagi stres...   neutral  \n",
       "4  Apakah kamu sedang banyak masalah, sampai-samp...   neutral  "
      ]
     },
     "execution_count": 10,
     "metadata": {},
     "output_type": "execute_result"
    }
   ],
   "source": [
    "tweets_table[\"Sentiment\"] = anotator.labels\n",
    "\n",
    "tweets_table.info()\n",
    "tweets_table.head()"
   ]
  },
  {
   "cell_type": "code",
   "execution_count": null,
   "metadata": {},
   "outputs": [],
   "source": [
    "path = \"data/tweet/depresi_or_bipolar_tweets_id_01-10.csv\"\n",
    "tweets_table.to_csv(path, index=False)"
   ]
  },
  {
   "attachments": {},
   "cell_type": "markdown",
   "metadata": {},
   "source": [
    "#### __4. Prapemrosesan__"
   ]
  },
  {
   "attachments": {},
   "cell_type": "markdown",
   "metadata": {},
   "source": [
    "Beralih ke:\n",
    "- [3. Anotasi Data](#3-anotasi-data)\n",
    "- [5. Pemodelan SVM](#5-pemodelan-svm)"
   ]
  },
  {
   "cell_type": "code",
   "execution_count": 1,
   "metadata": {},
   "outputs": [
    {
     "name": "stdout",
     "output_type": "stream",
     "text": [
      "Author: F. Waskito\n",
      "\n",
      "Last updated: Mon Jun 05 2023 14:43:47\n",
      "\n",
      "Python implementation: CPython\n",
      "Python version       : 3.9.16\n",
      "IPython version      : 8.12.0\n",
      "\n"
     ]
    },
    {
     "name": "stderr",
     "output_type": "stream",
     "text": [
      "Intel(R) Extension for Scikit-learn* enabled (https://github.com/intel/scikit-learn-intelex)\n"
     ]
    }
   ],
   "source": [
    "from IPython.core.interactiveshell import InteractiveShell\n",
    "import sklearnex\n",
    "\n",
    "InteractiveShell.ast_node_interactivity = \"all\"\n",
    "sklearnex.patch_sklearn()\n",
    "\n",
    "%load_ext watermark\n",
    "%watermark -a \"F. Waskito\" -n -t -u -v"
   ]
  },
  {
   "cell_type": "code",
   "execution_count": 2,
   "metadata": {},
   "outputs": [
    {
     "name": "stdout",
     "output_type": "stream",
     "text": [
      "<class 'pandas.core.frame.DataFrame'>\n",
      "RangeIndex: 3409 entries, 0 to 3408\n",
      "Data columns (total 5 columns):\n",
      " #   Column     Non-Null Count  Dtype  \n",
      "---  ------     --------------  -----  \n",
      " 0   Tweet_ID   3409 non-null   float64\n",
      " 1   Datetime   3409 non-null   object \n",
      " 2   Username   3409 non-null   object \n",
      " 3   Text       3409 non-null   object \n",
      " 4   Sentiment  3409 non-null   object \n",
      "dtypes: float64(1), object(4)\n",
      "memory usage: 133.3+ KB\n"
     ]
    }
   ],
   "source": [
    "import pandas\n",
    "\n",
    "file_path = \"data/tweet/depresi_or_bipolar_tweets_id_01-10.csv\"\n",
    "tweets_table = pandas.read_csv(file_path)\n",
    "tweets_table.info()"
   ]
  },
  {
   "cell_type": "code",
   "execution_count": 4,
   "metadata": {},
   "outputs": [
    {
     "name": "stdout",
     "output_type": "stream",
     "text": [
      "Shape: (101,)\n",
      "Distribution:\n",
      "\t('positive', 16)\n",
      "\t('neutral', 50)\n",
      "\t('negative', 35)\n"
     ]
    }
   ],
   "source": [
    "from collection import analysis\n",
    "\n",
    "texts = tweets_table.loc[:100, \"Text\"].copy().to_list()\n",
    "labels = tweets_table.loc[:100, \"Sentiment\"].copy().to_list()\n",
    "\n",
    "analysis.get_shape(texts)\n",
    "analysis.get_distribution(labels)"
   ]
  },
  {
   "attachments": {},
   "cell_type": "markdown",
   "metadata": {},
   "source": [
    "##### 4.1 Praoperasi Numerik"
   ]
  },
  {
   "cell_type": "code",
   "execution_count": 5,
   "metadata": {},
   "outputs": [
    {
     "name": "stderr",
     "output_type": "stream",
     "text": [
      "100%|██████████| 101/101 [00:44<00:00,  2.28it/s]\n"
     ]
    }
   ],
   "source": [
    "import time\n",
    "from tqdm import tqdm\n",
    "from preprocess.preprocessing import TextPreprocessor\n",
    "\n",
    "preprocessor = TextPreprocessor()\n",
    "for i, text in enumerate(tqdm(texts)):\n",
    "    text = preprocessor.clean(text)\n",
    "    text = preprocessor.standardize(text)\n",
    "    tokens = preprocessor.tokenize(text)\n",
    "    tokens = preprocessor.filter(tokens)\n",
    "    texts[i] = preprocessor.stem(tokens)\n",
    "    time.sleep(0.001)"
   ]
  },
  {
   "attachments": {},
   "cell_type": "markdown",
   "metadata": {},
   "source": [
    "##### 4.2 Ekstraksi Fitur"
   ]
  },
  {
   "attachments": {},
   "cell_type": "markdown",
   "metadata": {},
   "source": [
    "4.2.1 Ekstraksi Fitur dengan Bag of Words (BOW)"
   ]
  },
  {
   "cell_type": "code",
   "execution_count": 7,
   "metadata": {},
   "outputs": [],
   "source": [
    "from preprocess.feature_extraction import TextVectorizer"
   ]
  },
  {
   "cell_type": "code",
   "execution_count": 64,
   "metadata": {},
   "outputs": [
    {
     "name": "stdout",
     "output_type": "stream",
     "text": [
      "Shape: (3409, 4965)\n"
     ]
    }
   ],
   "source": [
    "extractor = TextVectorizer(texts)\n",
    "extractor.transform(target=\"bow\", min_df=1)\n",
    "vector_texts = extractor.vectors\n",
    "\n",
    "analysis.get_shape(vector_texts)"
   ]
  },
  {
   "cell_type": "code",
   "execution_count": 99,
   "metadata": {},
   "outputs": [
    {
     "data": {
      "text/plain": [
       "array([0, 0, 0, 0, 0, 0, 0, 0, 0, 0, 2, 0, 0, 0, 0, 0, 0, 0, 0, 0, 0, 0,\n",
       "       0, 0, 0, 0, 0, 0, 0, 0, 0, 0, 0, 0, 0, 0, 0, 0, 0, 0, 0, 0, 0, 0,\n",
       "       0, 0, 0, 0, 0, 0], dtype=int64)"
      ]
     },
     "execution_count": 99,
     "metadata": {},
     "output_type": "execute_result"
    },
    {
     "data": {
      "text/plain": [
       "array([0, 0, 0, 0, 0, 0, 0, 0, 0, 0, 1, 0, 0, 0, 0, 0, 0, 0, 0, 0, 0, 0,\n",
       "       0, 0, 0, 0, 0, 0, 0, 0, 0, 0, 0, 0, 0, 0, 0, 0, 0, 0, 0, 0, 0, 0,\n",
       "       0, 0, 0, 0, 0, 0], dtype=int64)"
      ]
     },
     "execution_count": 99,
     "metadata": {},
     "output_type": "execute_result"
    }
   ],
   "source": [
    "vector_texts[4][1000:1050]\n",
    "vector_texts[1151][1000:1050]"
   ]
  },
  {
   "cell_type": "code",
   "execution_count": 100,
   "metadata": {},
   "outputs": [
    {
     "data": {
      "text/plain": [
       "array([0. , 0. , 0. , 0. , 0. , 0. , 0. , 0. , 0. , 0. , 0.5, 0. , 0. ,\n",
       "       0. , 0. , 0. , 0. , 0. , 0. , 0. , 0. , 0. , 0. , 0. , 0. , 0. ,\n",
       "       0. , 0. , 0. , 0. , 0. , 0. , 0. , 0. , 0. , 0. , 0. , 0. , 0. ,\n",
       "       0. , 0. , 0. , 0. , 0. , 0. , 0. , 0. , 0. , 0. , 0. ])"
      ]
     },
     "execution_count": 100,
     "metadata": {},
     "output_type": "execute_result"
    },
    {
     "data": {
      "text/plain": [
       "array([0.  , 0.  , 0.  , 0.  , 0.  , 0.  , 0.  , 0.  , 0.  , 0.  , 0.25,\n",
       "       0.  , 0.  , 0.  , 0.  , 0.  , 0.  , 0.  , 0.  , 0.  , 0.  , 0.  ,\n",
       "       0.  , 0.  , 0.  , 0.  , 0.  , 0.  , 0.  , 0.  , 0.  , 0.  , 0.  ,\n",
       "       0.  , 0.  , 0.  , 0.  , 0.  , 0.  , 0.  , 0.  , 0.  , 0.  , 0.  ,\n",
       "       0.  , 0.  , 0.  , 0.  , 0.  , 0.  ])"
      ]
     },
     "execution_count": 100,
     "metadata": {},
     "output_type": "execute_result"
    }
   ],
   "source": [
    "extractor.transform(target=\"bow\", min_df=1, norm=True)\n",
    "extractor.vectors[4][1000:1050]\n",
    "extractor.vectors[1151][1000:1050]"
   ]
  },
  {
   "attachments": {},
   "cell_type": "markdown",
   "metadata": {},
   "source": [
    "Vektor BOW representasi teks dokumen (cuitan) yang akan digunakan adalah vetor BOW yeng telah dilakukan dua proses sekuender lainnya yaitu:\n",
    "- Normaliasi dengan penskalaan \"Min-Max\"\n",
    "- Reduksi n (banyak) fitur menaikkan nilai DF (frekuensi kemunculan *term* t dalam dokuemen d) = 2. Dengan kata lain, setiap fitur (*term*/elemen di setiap vektor) yang hanya memiliki nilai pada 1 (satu) buah vektor, maka fitur tersebut akan dihapus."
   ]
  },
  {
   "cell_type": "code",
   "execution_count": 8,
   "metadata": {},
   "outputs": [
    {
     "name": "stdout",
     "output_type": "stream",
     "text": [
      "Shape: (101, 136)\n"
     ]
    }
   ],
   "source": [
    "extractor = TextVectorizer(texts)\n",
    "extractor.transform(target=\"bow\", min_df=2, norm=True)\n",
    "vector_texts = extractor.vectors\n",
    "\n",
    "analysis.get_shape(vector_texts)"
   ]
  },
  {
   "attachments": {},
   "cell_type": "markdown",
   "metadata": {},
   "source": [
    "4.2.2 Ektraksi Fitur dengaN Term Frequency-Inverse Document Frequency (TF-IDF)"
   ]
  },
  {
   "cell_type": "code",
   "execution_count": 37,
   "metadata": {},
   "outputs": [
    {
     "name": "stdout",
     "output_type": "stream",
     "text": [
      "Shape: (3409, 4965)\n"
     ]
    }
   ],
   "source": [
    "extractor = TextVectorizer(texts)\n",
    "extractor.transform(target=\"tfidf\", min_df=1)\n",
    "vector_texts = extractor.vectors\n",
    "\n",
    "analysis.get_shape(vector_texts)"
   ]
  },
  {
   "cell_type": "code",
   "execution_count": 38,
   "metadata": {},
   "outputs": [
    {
     "data": {
      "text/plain": [
       "array([0.        , 0.        , 0.        , 0.        , 0.        ,\n",
       "       0.        , 0.        , 0.        , 0.        , 0.        ,\n",
       "       2.24158685, 0.        , 0.        , 0.        , 0.        ,\n",
       "       0.        , 0.        , 0.        , 0.        , 0.        ,\n",
       "       0.        , 0.        , 0.        , 0.        , 0.        ,\n",
       "       0.        , 0.        , 0.        , 0.        , 0.        ,\n",
       "       0.        , 0.        , 0.        , 0.        , 0.        ,\n",
       "       0.        , 0.        , 0.        , 0.        , 0.        ,\n",
       "       0.        , 0.        , 0.        , 0.        , 0.        ,\n",
       "       0.        , 0.        , 0.        , 0.        , 0.        ])"
      ]
     },
     "execution_count": 38,
     "metadata": {},
     "output_type": "execute_result"
    },
    {
     "data": {
      "text/plain": [
       "array([0.        , 0.        , 0.        , 0.        , 0.        ,\n",
       "       0.        , 0.        , 0.        , 0.        , 0.        ,\n",
       "       1.12079343, 0.        , 0.        , 0.        , 0.        ,\n",
       "       0.        , 0.        , 0.        , 0.        , 0.        ,\n",
       "       0.        , 0.        , 0.        , 0.        , 0.        ,\n",
       "       0.        , 0.        , 0.        , 0.        , 0.        ,\n",
       "       0.        , 0.        , 0.        , 0.        , 0.        ,\n",
       "       0.        , 0.        , 0.        , 0.        , 0.        ,\n",
       "       0.        , 0.        , 0.        , 0.        , 0.        ,\n",
       "       0.        , 0.        , 0.        , 0.        , 0.        ])"
      ]
     },
     "execution_count": 38,
     "metadata": {},
     "output_type": "execute_result"
    }
   ],
   "source": [
    "vector_texts[4][1000:1050]\n",
    "vector_texts[1151][1000:1050]"
   ]
  },
  {
   "cell_type": "code",
   "execution_count": 39,
   "metadata": {},
   "outputs": [
    {
     "data": {
      "text/plain": [
       "array([0.        , 0.        , 0.        , 0.        , 0.        ,\n",
       "       0.        , 0.        , 0.        , 0.        , 0.        ,\n",
       "       0.11744302, 0.        , 0.        , 0.        , 0.        ,\n",
       "       0.        , 0.        , 0.        , 0.        , 0.        ,\n",
       "       0.        , 0.        , 0.        , 0.        , 0.        ,\n",
       "       0.        , 0.        , 0.        , 0.        , 0.        ,\n",
       "       0.        , 0.        , 0.        , 0.        , 0.        ,\n",
       "       0.        , 0.        , 0.        , 0.        , 0.        ,\n",
       "       0.        , 0.        , 0.        , 0.        , 0.        ,\n",
       "       0.        , 0.        , 0.        , 0.        , 0.        ])"
      ]
     },
     "execution_count": 39,
     "metadata": {},
     "output_type": "execute_result"
    },
    {
     "data": {
      "text/plain": [
       "array([0.        , 0.        , 0.        , 0.        , 0.        ,\n",
       "       0.        , 0.        , 0.        , 0.        , 0.        ,\n",
       "       0.03381436, 0.        , 0.        , 0.        , 0.        ,\n",
       "       0.        , 0.        , 0.        , 0.        , 0.        ,\n",
       "       0.        , 0.        , 0.        , 0.        , 0.        ,\n",
       "       0.        , 0.        , 0.        , 0.        , 0.        ,\n",
       "       0.        , 0.        , 0.        , 0.        , 0.        ,\n",
       "       0.        , 0.        , 0.        , 0.        , 0.        ,\n",
       "       0.        , 0.        , 0.        , 0.        , 0.        ,\n",
       "       0.        , 0.        , 0.        , 0.        , 0.        ])"
      ]
     },
     "execution_count": 39,
     "metadata": {},
     "output_type": "execute_result"
    }
   ],
   "source": [
    "extractor.transform(target=\"tfidf\", min_df=1, norm=True)\n",
    "extractor.vectors[4][1000:1050]\n",
    "extractor.vectors[1151][1000:1050]"
   ]
  },
  {
   "attachments": {},
   "cell_type": "markdown",
   "metadata": {},
   "source": [
    "Vektor TF-IDF representasi teks dokumen (cuitan) yang akan digunakan adalah vetor TF-IDF yeng telah dilakukan dua proses sekuender lainnya yaitu:\n",
    "- Normaliasi dengan penskalaan \"L2\" (Euclidean/Akar Kuadrat)\n",
    "- Reduksi n (banyak) fitur sama sebagaiman yang juga dilakukan pada vektor BOW."
   ]
  },
  {
   "cell_type": "code",
   "execution_count": 6,
   "metadata": {},
   "outputs": [
    {
     "name": "stdout",
     "output_type": "stream",
     "text": [
      "Shape: (3409, 2205)\n"
     ]
    }
   ],
   "source": [
    "extractor = TextVectorizer(texts)\n",
    "extractor.transform(target=\"tfidf\", min_df=2, norm=True)\n",
    "vector_texts = extractor.vectors\n",
    "\n",
    "analysis.get_shape(vector_texts)"
   ]
  },
  {
   "attachments": {},
   "cell_type": "markdown",
   "metadata": {},
   "source": [
    "##### 4.3 Transformasi Label"
   ]
  },
  {
   "cell_type": "code",
   "execution_count": 9,
   "metadata": {},
   "outputs": [],
   "source": [
    "from preprocess.encoding import LabelEncoder"
   ]
  },
  {
   "cell_type": "code",
   "execution_count": 10,
   "metadata": {},
   "outputs": [
    {
     "name": "stdout",
     "output_type": "stream",
     "text": [
      "Distribution:\n",
      "\t(2, 16)\n",
      "\t(1, 50)\n",
      "\t(0, 35)\n"
     ]
    }
   ],
   "source": [
    "encoder = LabelEncoder(labels)\n",
    "encoder.transform(target=\"integer\")\n",
    "encoded_labels = encoder.encoded_labels\n",
    "\n",
    "analysis.get_distribution(encoded_labels)"
   ]
  },
  {
   "attachments": {},
   "cell_type": "markdown",
   "metadata": {},
   "source": [
    "##### 4.4 Seprasi Data Set"
   ]
  },
  {
   "cell_type": "code",
   "execution_count": 11,
   "metadata": {},
   "outputs": [],
   "source": [
    "from sklearn.model_selection import train_test_split"
   ]
  },
  {
   "cell_type": "code",
   "execution_count": 12,
   "metadata": {},
   "outputs": [
    {
     "name": "stdout",
     "output_type": "stream",
     "text": [
      "> Train set:\n",
      "Shape: (70, 136)\n",
      "Distribution:\n",
      "\t(1, 36)\n",
      "\t(0, 23)\n",
      "\t(2, 11)\n",
      "\n",
      "> Test set:\n",
      "Shape: (31, 136)\n",
      "Distribution:\n",
      "\t(0, 12)\n",
      "\t(2, 5)\n",
      "\t(1, 14)\n"
     ]
    }
   ],
   "source": [
    "X_train, X_test, y_train, y_test = train_test_split(\n",
    "    vector_texts,\n",
    "    encoded_labels,\n",
    "    test_size=0.3\n",
    ")\n",
    "\n",
    "print(\"> Train set:\")\n",
    "analysis.get_shape(X_train)\n",
    "analysis.get_distribution(y_train)\n",
    "print(\"\\n> Test set:\")\n",
    "analysis.get_shape(X_test)\n",
    "analysis.get_distribution(y_test)"
   ]
  },
  {
   "attachments": {},
   "cell_type": "markdown",
   "metadata": {},
   "source": [
    "#### __5. Pemodelan SVM__"
   ]
  },
  {
   "attachments": {},
   "cell_type": "markdown",
   "metadata": {},
   "source": [
    "Beralih ke:\n",
    "- [4. Prapemrosesan](#4-prapemrosesan)\n",
    "- [6. Pengukuran Performa](#6-pengukuran-performa)"
   ]
  },
  {
   "cell_type": "code",
   "execution_count": 13,
   "metadata": {},
   "outputs": [],
   "source": [
    "from sklearn.svm import SVC"
   ]
  },
  {
   "cell_type": "code",
   "execution_count": 39,
   "metadata": {},
   "outputs": [],
   "source": [
    "c = 1.0\n",
    "degree = 4\n",
    "gamma = 0.1"
   ]
  },
  {
   "cell_type": "code",
   "execution_count": 16,
   "metadata": {},
   "outputs": [],
   "source": [
    "linear_svm = SVC(kernel=\"linear\", C=c)"
   ]
  },
  {
   "cell_type": "code",
   "execution_count": 30,
   "metadata": {},
   "outputs": [],
   "source": [
    "poly_svm = SVC(kernel=\"poly\", C=c, degree=degree, gamma=gamma)"
   ]
  },
  {
   "cell_type": "code",
   "execution_count": 14,
   "metadata": {},
   "outputs": [],
   "source": [
    "rbf_svm = SVC(kernel=\"rbf\", C=c, gamma=gamma)"
   ]
  },
  {
   "attachments": {},
   "cell_type": "markdown",
   "metadata": {},
   "source": [
    "#### __6. Pengukuran Performa__"
   ]
  },
  {
   "attachments": {},
   "cell_type": "markdown",
   "metadata": {},
   "source": [
    "Beralih ke:\n",
    "- [5. Pemodelan SVM](#5-pemodelan-svm)\n",
    "- [6.1 Pengukuran Performa Tahap 1](#61-pengukuran-performa-tahap-1)"
   ]
  },
  {
   "cell_type": "code",
   "execution_count": 17,
   "metadata": {},
   "outputs": [],
   "source": [
    "from validation.cross import ImbalancedCV"
   ]
  },
  {
   "cell_type": "code",
   "execution_count": 41,
   "metadata": {},
   "outputs": [],
   "source": [
    "n_fold = 5\n",
    "scoring = [\"accuracy\", \"precision\", \"recall\", \"f1\",]\n",
    "random_state = 42"
   ]
  },
  {
   "cell_type": "code",
   "execution_count": 23,
   "metadata": {},
   "outputs": [
    {
     "name": "stderr",
     "output_type": "stream",
     "text": [
      "CV: 100%|██████████| 5/5 [00:15<00:00,  3.04s/it]\n"
     ]
    }
   ],
   "source": [
    "linear_perform = ImbalancedCV(\n",
    "    model = linear_svm,\n",
    "    n_fold = n_fold,\n",
    "    scoring = scoring,\n",
    "    scoring_avg = \"macro\",\n",
    "    random_state = random_state,\n",
    ")\n",
    "\n",
    "linear_perform.validate(X_train, y_train)"
   ]
  },
  {
   "cell_type": "code",
   "execution_count": 31,
   "metadata": {},
   "outputs": [
    {
     "name": "stderr",
     "output_type": "stream",
     "text": [
      "CV: 100%|██████████| 5/5 [00:17<00:00,  3.45s/it]\n"
     ]
    }
   ],
   "source": [
    "poly_perform = ImbalancedCV(\n",
    "    model = poly_svm,\n",
    "    n_fold = n_fold,\n",
    "    scoring = scoring,\n",
    "    scoring_avg = \"macro\",\n",
    "    random_state = random_state,\n",
    ")\n",
    "\n",
    "poly_perform.validate(X_train, y_train)"
   ]
  },
  {
   "cell_type": "code",
   "execution_count": 42,
   "metadata": {},
   "outputs": [
    {
     "name": "stderr",
     "output_type": "stream",
     "text": [
      "CV: 100%|██████████| 5/5 [00:17<00:00,  3.52s/it]\n"
     ]
    }
   ],
   "source": [
    "rbf_perform = ImbalancedCV(\n",
    "    model = rbf_svm,\n",
    "    n_fold = n_fold,\n",
    "    scoring = scoring,\n",
    "    scoring_avg = \"macro\",\n",
    "    random_state = random_state,\n",
    ")\n",
    "\n",
    "rbf_perform.validate(X_train, y_train)"
   ]
  },
  {
   "attachments": {},
   "cell_type": "markdown",
   "metadata": {},
   "source": [
    "***"
   ]
  },
  {
   "attachments": {},
   "cell_type": "markdown",
   "metadata": {},
   "source": [
    "##### 6.1 Pengukuran Performa Tahap 1"
   ]
  },
  {
   "attachments": {},
   "cell_type": "markdown",
   "metadata": {},
   "source": [
    ">Model Utama: (SVM + SMOTE) + BOW"
   ]
  },
  {
   "attachments": {},
   "cell_type": "markdown",
   "metadata": {},
   "source": [
    "Beralih ke:\n",
    "- [6. Pengukuran Performa](#6-pengukuran-performa)\n",
    "- [6.2 Pengukuran Performa Tahap 2](#62-pengukuran-performa-tahap-2)"
   ]
  },
  {
   "attachments": {},
   "cell_type": "markdown",
   "metadata": {},
   "source": [
    "6.1.1 Performa SVM-Linier"
   ]
  },
  {
   "cell_type": "code",
   "execution_count": 162,
   "metadata": {},
   "outputs": [
    {
     "data": {
      "text/plain": [
       "{'mean_accuracy': 0.689,\n",
       " 'mean_precison': 0.683,\n",
       " 'mean_recall': 0.674,\n",
       " 'mean_f1': 0.672}"
      ]
     },
     "execution_count": 162,
     "metadata": {},
     "output_type": "execute_result"
    }
   ],
   "source": [
    "# linear_perform.get_score() # default params"
   ]
  },
  {
   "cell_type": "code",
   "execution_count": 30,
   "metadata": {},
   "outputs": [
    {
     "data": {
      "text/plain": [
       "{'mean_accuracy': 0.693,\n",
       " 'mean_precison': 0.685,\n",
       " 'mean_recall': 0.68,\n",
       " 'mean_f1': 0.677}"
      ]
     },
     "execution_count": 30,
     "metadata": {},
     "output_type": "execute_result"
    }
   ],
   "source": [
    "linear_perform.get_score() # default params (trail 2)"
   ]
  },
  {
   "cell_type": "code",
   "execution_count": 178,
   "metadata": {},
   "outputs": [
    {
     "data": {
      "text/plain": [
       "{'mean_accuracy': 0.692,\n",
       " 'mean_precison': 0.684,\n",
       " 'mean_recall': 0.678,\n",
       " 'mean_f1': 0.677}"
      ]
     },
     "execution_count": 178,
     "metadata": {},
     "output_type": "execute_result"
    }
   ],
   "source": [
    "linear_perform.get_score() # c= 2.0"
   ]
  },
  {
   "cell_type": "code",
   "execution_count": 51,
   "metadata": {},
   "outputs": [
    {
     "data": {
      "text/plain": [
       "{'mean_accuracy': 0.699,\n",
       " 'mean_precison': 0.688,\n",
       " 'mean_recall': 0.685,\n",
       " 'mean_f1': 0.684}"
      ]
     },
     "execution_count": 51,
     "metadata": {},
     "output_type": "execute_result"
    }
   ],
   "source": [
    "linear_perform.get_score() # c= 2.0 (trail 2)"
   ]
  },
  {
   "cell_type": "code",
   "execution_count": 190,
   "metadata": {},
   "outputs": [
    {
     "data": {
      "text/plain": [
       "{'mean_accuracy': 0.687,\n",
       " 'mean_precison': 0.674,\n",
       " 'mean_recall': 0.673,\n",
       " 'mean_f1': 0.672}"
      ]
     },
     "execution_count": 190,
     "metadata": {},
     "output_type": "execute_result"
    }
   ],
   "source": [
    "# linear_perform.get_score() # c= 5.0"
   ]
  },
  {
   "cell_type": "code",
   "execution_count": 56,
   "metadata": {},
   "outputs": [
    {
     "data": {
      "text/plain": [
       "{'mean_accuracy': 0.698,\n",
       " 'mean_precison': 0.686,\n",
       " 'mean_recall': 0.685,\n",
       " 'mean_f1': 0.684}"
      ]
     },
     "execution_count": 56,
     "metadata": {},
     "output_type": "execute_result"
    }
   ],
   "source": [
    "linear_perform.get_score() # c= 5.0 (trail 2)"
   ]
  },
  {
   "cell_type": "code",
   "execution_count": 202,
   "metadata": {},
   "outputs": [
    {
     "data": {
      "text/plain": [
       "{'mean_accuracy': 0.684,\n",
       " 'mean_precison': 0.671,\n",
       " 'mean_recall': 0.67,\n",
       " 'mean_f1': 0.67}"
      ]
     },
     "execution_count": 202,
     "metadata": {},
     "output_type": "execute_result"
    }
   ],
   "source": [
    "# linear_perform.get_score() # c= 7.0"
   ]
  },
  {
   "cell_type": "code",
   "execution_count": 66,
   "metadata": {},
   "outputs": [
    {
     "data": {
      "text/plain": [
       "{'mean_accuracy': 0.699,\n",
       " 'mean_precison': 0.688,\n",
       " 'mean_recall': 0.686,\n",
       " 'mean_f1': 0.686}"
      ]
     },
     "execution_count": 66,
     "metadata": {},
     "output_type": "execute_result"
    }
   ],
   "source": [
    "linear_perform.get_score() # c= 7.0 (trail 2)"
   ]
  },
  {
   "cell_type": "code",
   "execution_count": 214,
   "metadata": {},
   "outputs": [
    {
     "data": {
      "text/plain": [
       "{'mean_accuracy': 0.676,\n",
       " 'mean_precison': 0.661,\n",
       " 'mean_recall': 0.66,\n",
       " 'mean_f1': 0.66}"
      ]
     },
     "execution_count": 214,
     "metadata": {},
     "output_type": "execute_result"
    }
   ],
   "source": [
    "# linear_perform.get_score() # c= 10.0"
   ]
  },
  {
   "cell_type": "code",
   "execution_count": 71,
   "metadata": {},
   "outputs": [
    {
     "data": {
      "text/plain": [
       "{'mean_accuracy': 0.693,\n",
       " 'mean_precison': 0.682,\n",
       " 'mean_recall': 0.679,\n",
       " 'mean_f1': 0.679}"
      ]
     },
     "execution_count": 71,
     "metadata": {},
     "output_type": "execute_result"
    }
   ],
   "source": [
    "linear_perform.get_score() # c= 10.0 (trail 2)"
   ]
  },
  {
   "cell_type": "code",
   "execution_count": 18,
   "metadata": {},
   "outputs": [
    {
     "data": {
      "text/plain": [
       "{'mean_accuracy': 0.693,\n",
       " 'mean_precison': 0.68,\n",
       " 'mean_recall': 0.679,\n",
       " 'mean_f1': 0.678}"
      ]
     },
     "execution_count": 18,
     "metadata": {},
     "output_type": "execute_result"
    }
   ],
   "source": [
    "# linear_perform.get_score() # c= 15.0 <-- terbaik di Tahap 1"
   ]
  },
  {
   "cell_type": "code",
   "execution_count": 282,
   "metadata": {},
   "outputs": [
    {
     "data": {
      "text/plain": [
       "{'mean_accuracy': 0.694,\n",
       " 'mean_precison': 0.683,\n",
       " 'mean_recall': 0.682,\n",
       " 'mean_f1': 0.682}"
      ]
     },
     "execution_count": 282,
     "metadata": {},
     "output_type": "execute_result"
    }
   ],
   "source": [
    "linear_perform.get_score() # c= 15.0 (trail 2)<-- terbaik di Tahap 1"
   ]
  },
  {
   "cell_type": "code",
   "execution_count": 23,
   "metadata": {},
   "outputs": [
    {
     "data": {
      "text/plain": [
       "{'mean_accuracy': 0.682,\n",
       " 'mean_precison': 0.668,\n",
       " 'mean_recall': 0.667,\n",
       " 'mean_f1': 0.667}"
      ]
     },
     "execution_count": 23,
     "metadata": {},
     "output_type": "execute_result"
    }
   ],
   "source": [
    "# linear_perform.get_score() # c= 20.0"
   ]
  },
  {
   "cell_type": "code",
   "execution_count": 81,
   "metadata": {},
   "outputs": [
    {
     "data": {
      "text/plain": [
       "{'mean_accuracy': 0.685,\n",
       " 'mean_precison': 0.673,\n",
       " 'mean_recall': 0.672,\n",
       " 'mean_f1': 0.672}"
      ]
     },
     "execution_count": 81,
     "metadata": {},
     "output_type": "execute_result"
    }
   ],
   "source": [
    "linear_perform.get_score() # c= 20.0 (trail 2)"
   ]
  },
  {
   "cell_type": "code",
   "execution_count": 28,
   "metadata": {},
   "outputs": [
    {
     "data": {
      "text/plain": [
       "{'mean_accuracy': 0.677,\n",
       " 'mean_precison': 0.664,\n",
       " 'mean_recall': 0.663,\n",
       " 'mean_f1': 0.663}"
      ]
     },
     "execution_count": 28,
     "metadata": {},
     "output_type": "execute_result"
    }
   ],
   "source": [
    "# linear_perform.get_score() # c= 30.0"
   ]
  },
  {
   "cell_type": "code",
   "execution_count": 91,
   "metadata": {},
   "outputs": [
    {
     "data": {
      "text/plain": [
       "{'mean_accuracy': 0.677,\n",
       " 'mean_precison': 0.664,\n",
       " 'mean_recall': 0.663,\n",
       " 'mean_f1': 0.663}"
      ]
     },
     "execution_count": 91,
     "metadata": {},
     "output_type": "execute_result"
    }
   ],
   "source": [
    "linear_perform.get_score() # c= 30.0 (trail 2)"
   ]
  },
  {
   "attachments": {},
   "cell_type": "markdown",
   "metadata": {},
   "source": [
    "6.1.2 Performa SVM-Polinomial"
   ]
  },
  {
   "attachments": {},
   "cell_type": "markdown",
   "metadata": {},
   "source": [
    "Beralih ke:\n",
    "- [5. Pemodelan SVM](#5-pemodelan-svm)"
   ]
  },
  {
   "cell_type": "code",
   "execution_count": 163,
   "metadata": {},
   "outputs": [
    {
     "data": {
      "text/plain": [
       "{'mean_accuracy': 0.394,\n",
       " 'mean_precison': 0.754,\n",
       " 'mean_recall': 0.364,\n",
       " 'mean_f1': 0.242}"
      ]
     },
     "execution_count": 163,
     "metadata": {},
     "output_type": "execute_result"
    }
   ],
   "source": [
    "# poly_perform.get_score() # default params"
   ]
  },
  {
   "cell_type": "code",
   "execution_count": 99,
   "metadata": {},
   "outputs": [
    {
     "data": {
      "text/plain": [
       "{'mean_accuracy': 0.395,\n",
       " 'mean_precison': 0.754,\n",
       " 'mean_recall': 0.366,\n",
       " 'mean_f1': 0.244}"
      ]
     },
     "execution_count": 99,
     "metadata": {},
     "output_type": "execute_result"
    }
   ],
   "source": [
    "poly_perform.get_score() # default params (trail 2)"
   ]
  },
  {
   "cell_type": "code",
   "execution_count": 179,
   "metadata": {},
   "outputs": [
    {
     "data": {
      "text/plain": [
       "{'mean_accuracy': 0.465,\n",
       " 'mean_precison': 0.619,\n",
       " 'mean_recall': 0.437,\n",
       " 'mean_f1': 0.377}"
      ]
     },
     "execution_count": 179,
     "metadata": {},
     "output_type": "execute_result"
    }
   ],
   "source": [
    "# poly_perform.get_score() # c= 2.0; degree= 4; gamma= 1.0"
   ]
  },
  {
   "cell_type": "code",
   "execution_count": 114,
   "metadata": {},
   "outputs": [
    {
     "data": {
      "text/plain": [
       "{'mean_accuracy': 0.46,\n",
       " 'mean_precison': 0.588,\n",
       " 'mean_recall': 0.433,\n",
       " 'mean_f1': 0.373}"
      ]
     },
     "execution_count": 114,
     "metadata": {},
     "output_type": "execute_result"
    }
   ],
   "source": [
    "poly_perform.get_score() # c= 2.0; degree= 4; gamma= 1.0 (trail 2)"
   ]
  },
  {
   "cell_type": "code",
   "execution_count": 191,
   "metadata": {},
   "outputs": [
    {
     "data": {
      "text/plain": [
       "{'mean_accuracy': 0.482,\n",
       " 'mean_precison': 0.601,\n",
       " 'mean_recall': 0.454,\n",
       " 'mean_f1': 0.404}"
      ]
     },
     "execution_count": 191,
     "metadata": {},
     "output_type": "execute_result"
    }
   ],
   "source": [
    "# poly_perform.get_score() # c= 5.0; degree= 4; gamma= 1.0"
   ]
  },
  {
   "cell_type": "code",
   "execution_count": 122,
   "metadata": {},
   "outputs": [
    {
     "data": {
      "text/plain": [
       "{'mean_accuracy': 0.474,\n",
       " 'mean_precison': 0.567,\n",
       " 'mean_recall': 0.448,\n",
       " 'mean_f1': 0.396}"
      ]
     },
     "execution_count": 122,
     "metadata": {},
     "output_type": "execute_result"
    }
   ],
   "source": [
    "poly_perform.get_score() # c= 5.0; degree= 4; gamma= 1.0 (trail 2)"
   ]
  },
  {
   "cell_type": "code",
   "execution_count": 203,
   "metadata": {},
   "outputs": [
    {
     "data": {
      "text/plain": [
       "{'mean_accuracy': 0.456,\n",
       " 'mean_precison': 0.615,\n",
       " 'mean_recall': 0.429,\n",
       " 'mean_f1': 0.365}"
      ]
     },
     "execution_count": 203,
     "metadata": {},
     "output_type": "execute_result"
    }
   ],
   "source": [
    "# poly_perform.get_score() # c= 7.0; degree= 5; gamma= 1.0"
   ]
  },
  {
   "cell_type": "code",
   "execution_count": 130,
   "metadata": {},
   "outputs": [
    {
     "data": {
      "text/plain": [
       "{'mean_accuracy': 0.451,\n",
       " 'mean_precison': 0.584,\n",
       " 'mean_recall': 0.425,\n",
       " 'mean_f1': 0.358}"
      ]
     },
     "execution_count": 130,
     "metadata": {},
     "output_type": "execute_result"
    }
   ],
   "source": [
    "poly_perform.get_score() # c= 7.0; degree= 5; gamma= 1.0 (trail 2)"
   ]
  },
  {
   "cell_type": "code",
   "execution_count": 215,
   "metadata": {},
   "outputs": [
    {
     "data": {
      "text/plain": [
       "{'mean_accuracy': 0.462,\n",
       " 'mean_precison': 0.612,\n",
       " 'mean_recall': 0.435,\n",
       " 'mean_f1': 0.376}"
      ]
     },
     "execution_count": 215,
     "metadata": {},
     "output_type": "execute_result"
    }
   ],
   "source": [
    "# poly_perform.get_score() # c= 10.0; degree= 5; gamma= 1.0"
   ]
  },
  {
   "cell_type": "code",
   "execution_count": 138,
   "metadata": {},
   "outputs": [
    {
     "data": {
      "text/plain": [
       "{'mean_accuracy': 0.455,\n",
       " 'mean_precison': 0.581,\n",
       " 'mean_recall': 0.429,\n",
       " 'mean_f1': 0.366}"
      ]
     },
     "execution_count": 138,
     "metadata": {},
     "output_type": "execute_result"
    }
   ],
   "source": [
    "poly_perform.get_score() # c= 10.0; degree= 5; gamma= 1.0 (trail 2)"
   ]
  },
  {
   "cell_type": "code",
   "execution_count": 227,
   "metadata": {},
   "outputs": [
    {
     "data": {
      "text/plain": [
       "{'mean_accuracy': 0.401,\n",
       " 'mean_precison': 0.737,\n",
       " 'mean_recall': 0.371,\n",
       " 'mean_f1': 0.255}"
      ]
     },
     "execution_count": 227,
     "metadata": {},
     "output_type": "execute_result"
    }
   ],
   "source": [
    "# poly_perform.get_score() # c= 2.0; degree= 4; gamma= 0.5"
   ]
  },
  {
   "cell_type": "code",
   "execution_count": 146,
   "metadata": {},
   "outputs": [
    {
     "data": {
      "text/plain": [
       "{'mean_accuracy': 0.399,\n",
       " 'mean_precison': 0.688,\n",
       " 'mean_recall': 0.37,\n",
       " 'mean_f1': 0.254}"
      ]
     },
     "execution_count": 146,
     "metadata": {},
     "output_type": "execute_result"
    }
   ],
   "source": [
    "poly_perform.get_score() # c= 2.0; degree= 4; gamma= 0.5 (trail 2)"
   ]
  },
  {
   "cell_type": "code",
   "execution_count": 238,
   "metadata": {},
   "outputs": [
    {
     "data": {
      "text/plain": [
       "{'mean_accuracy': 0.372,\n",
       " 'mean_precison': 0.573,\n",
       " 'mean_recall': 0.34,\n",
       " 'mean_f1': 0.193}"
      ]
     },
     "execution_count": 238,
     "metadata": {},
     "output_type": "execute_result"
    }
   ],
   "source": [
    "# poly_perform.get_score() # c= 2.0; degree= 4; gamma= 0.1"
   ]
  },
  {
   "cell_type": "code",
   "execution_count": 162,
   "metadata": {},
   "outputs": [
    {
     "data": {
      "text/plain": [
       "{'mean_accuracy': 0.37,\n",
       " 'mean_precison': 0.5,\n",
       " 'mean_recall': 0.336,\n",
       " 'mean_f1': 0.186}"
      ]
     },
     "execution_count": 162,
     "metadata": {},
     "output_type": "execute_result"
    }
   ],
   "source": [
    "poly_perform.get_score() # c= 2.0; degree= 4; gamma= 0.1 (trail 2)"
   ]
  },
  {
   "cell_type": "code",
   "execution_count": 248,
   "metadata": {},
   "outputs": [
    {
     "data": {
      "text/plain": [
       "{'mean_accuracy': 0.418,\n",
       " 'mean_precison': 0.668,\n",
       " 'mean_recall': 0.39,\n",
       " 'mean_f1': 0.292}"
      ]
     },
     "execution_count": 248,
     "metadata": {},
     "output_type": "execute_result"
    }
   ],
   "source": [
    "# poly_perform.get_score() # c= 5.0; degree= 4; gamma= 0.5"
   ]
  },
  {
   "cell_type": "code",
   "execution_count": 170,
   "metadata": {},
   "outputs": [
    {
     "data": {
      "text/plain": [
       "{'mean_accuracy': 0.419,\n",
       " 'mean_precison': 0.637,\n",
       " 'mean_recall': 0.392,\n",
       " 'mean_f1': 0.297}"
      ]
     },
     "execution_count": 170,
     "metadata": {},
     "output_type": "execute_result"
    }
   ],
   "source": [
    "poly_perform.get_score() # c= 5.0; degree= 4; gamma= 0.5 (trail 2)"
   ]
  },
  {
   "cell_type": "code",
   "execution_count": 258,
   "metadata": {},
   "outputs": [
    {
     "data": {
      "text/plain": [
       "{'mean_accuracy': 0.373,\n",
       " 'mean_precison': 0.573,\n",
       " 'mean_recall': 0.34,\n",
       " 'mean_f1': 0.194}"
      ]
     },
     "execution_count": 258,
     "metadata": {},
     "output_type": "execute_result"
    }
   ],
   "source": [
    "# poly_perform.get_score() # c= 5.0; degree= 4; gamma= 0.1"
   ]
  },
  {
   "cell_type": "code",
   "execution_count": 178,
   "metadata": {},
   "outputs": [
    {
     "data": {
      "text/plain": [
       "{'mean_accuracy': 0.373,\n",
       " 'mean_precison': 0.701,\n",
       " 'mean_recall': 0.34,\n",
       " 'mean_f1': 0.194}"
      ]
     },
     "execution_count": 178,
     "metadata": {},
     "output_type": "execute_result"
    }
   ],
   "source": [
    "poly_perform.get_score() # c= 5.0; degree= 4; gamma= 0.1 (trail 2)"
   ]
  },
  {
   "cell_type": "code",
   "execution_count": 264,
   "metadata": {},
   "outputs": [
    {
     "data": {
      "text/plain": [
       "{'mean_accuracy': 0.428,\n",
       " 'mean_precison': 0.638,\n",
       " 'mean_recall': 0.401,\n",
       " 'mean_f1': 0.314}"
      ]
     },
     "execution_count": 264,
     "metadata": {},
     "output_type": "execute_result"
    }
   ],
   "source": [
    "# poly_perform.get_score() # c= 2.0; degree= 6; gamma= 1.0"
   ]
  },
  {
   "cell_type": "code",
   "execution_count": 184,
   "metadata": {},
   "outputs": [
    {
     "data": {
      "text/plain": [
       "{'mean_accuracy': 0.419,\n",
       " 'mean_precison': 0.6,\n",
       " 'mean_recall': 0.39,\n",
       " 'mean_f1': 0.296}"
      ]
     },
     "execution_count": 184,
     "metadata": {},
     "output_type": "execute_result"
    }
   ],
   "source": [
    "poly_perform.get_score() # c= 2.0; degree= 6; gamma= 1.0 (trial 2)"
   ]
  },
  {
   "cell_type": "code",
   "execution_count": 269,
   "metadata": {},
   "outputs": [
    {
     "data": {
      "text/plain": [
       "{'mean_accuracy': 0.432,\n",
       " 'mean_precison': 0.616,\n",
       " 'mean_recall': 0.405,\n",
       " 'mean_f1': 0.322}"
      ]
     },
     "execution_count": 269,
     "metadata": {},
     "output_type": "execute_result"
    }
   ],
   "source": [
    "# poly_perform.get_score() # c= 5.0; degree= 6; gamma= 1.0"
   ]
  },
  {
   "cell_type": "code",
   "execution_count": 189,
   "metadata": {},
   "outputs": [
    {
     "data": {
      "text/plain": [
       "{'mean_accuracy': 0.428,\n",
       " 'mean_precison': 0.59,\n",
       " 'mean_recall': 0.4,\n",
       " 'mean_f1': 0.315}"
      ]
     },
     "execution_count": 189,
     "metadata": {},
     "output_type": "execute_result"
    }
   ],
   "source": [
    "poly_perform.get_score() # c= 5.0; degree= 6; gamma= 1.0 (trail 2)"
   ]
  },
  {
   "cell_type": "code",
   "execution_count": 276,
   "metadata": {},
   "outputs": [
    {
     "data": {
      "text/plain": [
       "{'mean_accuracy': 0.437,\n",
       " 'mean_precison': 0.618,\n",
       " 'mean_recall': 0.41,\n",
       " 'mean_f1': 0.331}"
      ]
     },
     "execution_count": 276,
     "metadata": {},
     "output_type": "execute_result"
    }
   ],
   "source": [
    "# poly_perform.get_score() # c= 7.0; degree= 6; gamma= 1.0"
   ]
  },
  {
   "cell_type": "code",
   "execution_count": 194,
   "metadata": {},
   "outputs": [
    {
     "data": {
      "text/plain": [
       "{'mean_accuracy': 0.432,\n",
       " 'mean_precison': 0.591,\n",
       " 'mean_recall': 0.404,\n",
       " 'mean_f1': 0.322}"
      ]
     },
     "execution_count": 194,
     "metadata": {},
     "output_type": "execute_result"
    }
   ],
   "source": [
    "poly_perform.get_score() # c= 7.0; degree= 6; gamma= 1.0 (trail 2)"
   ]
  },
  {
   "cell_type": "code",
   "execution_count": 281,
   "metadata": {},
   "outputs": [
    {
     "data": {
      "text/plain": [
       "{'mean_accuracy': 0.445,\n",
       " 'mean_precison': 0.628,\n",
       " 'mean_recall': 0.418,\n",
       " 'mean_f1': 0.345}"
      ]
     },
     "execution_count": 281,
     "metadata": {},
     "output_type": "execute_result"
    }
   ],
   "source": [
    "# poly_perform.get_score() # c= 10.0; degree= 6; gamma= 1.0"
   ]
  },
  {
   "cell_type": "code",
   "execution_count": 199,
   "metadata": {},
   "outputs": [
    {
     "data": {
      "text/plain": [
       "{'mean_accuracy': 0.439,\n",
       " 'mean_precison': 0.594,\n",
       " 'mean_recall': 0.412,\n",
       " 'mean_f1': 0.335}"
      ]
     },
     "execution_count": 199,
     "metadata": {},
     "output_type": "execute_result"
    }
   ],
   "source": [
    "poly_perform.get_score() # c= 10.0; degree= 6; gamma= 1.0 (trail 2)"
   ]
  },
  {
   "cell_type": "code",
   "execution_count": 290,
   "metadata": {},
   "outputs": [
    {
     "data": {
      "text/plain": [
       "{'mean_accuracy': 0.489,\n",
       " 'mean_precison': 0.6,\n",
       " 'mean_recall': 0.461,\n",
       " 'mean_f1': 0.417}"
      ]
     },
     "execution_count": 290,
     "metadata": {},
     "output_type": "execute_result"
    }
   ],
   "source": [
    "# poly_perform.get_score() # c= 7.0; degree= 4; gamma= 1.0"
   ]
  },
  {
   "cell_type": "code",
   "execution_count": 204,
   "metadata": {},
   "outputs": [
    {
     "data": {
      "text/plain": [
       "{'mean_accuracy': 0.481,\n",
       " 'mean_precison': 0.562,\n",
       " 'mean_recall': 0.455,\n",
       " 'mean_f1': 0.407}"
      ]
     },
     "execution_count": 204,
     "metadata": {},
     "output_type": "execute_result"
    }
   ],
   "source": [
    "poly_perform.get_score() # c= 7.0; degree= 4; gamma= 1.0 (trail 2)"
   ]
  },
  {
   "cell_type": "code",
   "execution_count": 295,
   "metadata": {},
   "outputs": [
    {
     "data": {
      "text/plain": [
       "{'mean_accuracy': 0.499,\n",
       " 'mean_precison': 0.588,\n",
       " 'mean_recall': 0.472,\n",
       " 'mean_f1': 0.434}"
      ]
     },
     "execution_count": 295,
     "metadata": {},
     "output_type": "execute_result"
    }
   ],
   "source": [
    "# poly_perform.get_score() # c= 10.0; degree= 4; gamma= 1.0"
   ]
  },
  {
   "cell_type": "code",
   "execution_count": 209,
   "metadata": {},
   "outputs": [
    {
     "data": {
      "text/plain": [
       "{'mean_accuracy': 0.491,\n",
       " 'mean_precison': 0.557,\n",
       " 'mean_recall': 0.464,\n",
       " 'mean_f1': 0.42}"
      ]
     },
     "execution_count": 209,
     "metadata": {},
     "output_type": "execute_result"
    }
   ],
   "source": [
    "poly_perform.get_score() # c= 10.0; degree= 4; gamma= 1.0 (trail 2)"
   ]
  },
  {
   "cell_type": "code",
   "execution_count": 307,
   "metadata": {},
   "outputs": [
    {
     "data": {
      "text/plain": [
       "{'mean_accuracy': 0.506,\n",
       " 'mean_precison': 0.589,\n",
       " 'mean_recall': 0.48,\n",
       " 'mean_f1': 0.447}"
      ]
     },
     "execution_count": 307,
     "metadata": {},
     "output_type": "execute_result"
    }
   ],
   "source": [
    "# poly_perform.get_score() # c= 15.0; degree= 4; gamma= 1.0"
   ]
  },
  {
   "cell_type": "code",
   "execution_count": 214,
   "metadata": {},
   "outputs": [
    {
     "data": {
      "text/plain": [
       "{'mean_accuracy': 0.498,\n",
       " 'mean_precison': 0.559,\n",
       " 'mean_recall': 0.472,\n",
       " 'mean_f1': 0.431}"
      ]
     },
     "execution_count": 214,
     "metadata": {},
     "output_type": "execute_result"
    }
   ],
   "source": [
    "poly_perform.get_score() # c= 15.0; degree= 4; gamma= 1.0 (trail 2)"
   ]
  },
  {
   "cell_type": "code",
   "execution_count": 314,
   "metadata": {},
   "outputs": [
    {
     "data": {
      "text/plain": [
       "{'mean_accuracy': 0.52,\n",
       " 'mean_precison': 0.595,\n",
       " 'mean_recall': 0.494,\n",
       " 'mean_f1': 0.466}"
      ]
     },
     "execution_count": 314,
     "metadata": {},
     "output_type": "execute_result"
    }
   ],
   "source": [
    "# poly_perform.get_score() # c= 20.0; degree= 4; gamma= 1.0"
   ]
  },
  {
   "cell_type": "code",
   "execution_count": 219,
   "metadata": {},
   "outputs": [
    {
     "data": {
      "text/plain": [
       "{'mean_accuracy': 0.512,\n",
       " 'mean_precison': 0.569,\n",
       " 'mean_recall': 0.487,\n",
       " 'mean_f1': 0.453}"
      ]
     },
     "execution_count": 219,
     "metadata": {},
     "output_type": "execute_result"
    }
   ],
   "source": [
    "poly_perform.get_score() # c= 20.0; degree= 4; gamma= 1.0 (trail 2)"
   ]
  },
  {
   "cell_type": "code",
   "execution_count": 319,
   "metadata": {},
   "outputs": [
    {
     "data": {
      "text/plain": [
       "{'mean_accuracy': 0.531,\n",
       " 'mean_precison': 0.59,\n",
       " 'mean_recall': 0.505,\n",
       " 'mean_f1': 0.481}"
      ]
     },
     "execution_count": 319,
     "metadata": {},
     "output_type": "execute_result"
    }
   ],
   "source": [
    "# poly_perform.get_score() # c= 30.0; degree= 4; gamma= 1.0"
   ]
  },
  {
   "cell_type": "code",
   "execution_count": 223,
   "metadata": {},
   "outputs": [
    {
     "data": {
      "text/plain": [
       "{'mean_accuracy': 0.522,\n",
       " 'mean_precison': 0.572,\n",
       " 'mean_recall': 0.497,\n",
       " 'mean_f1': 0.467}"
      ]
     },
     "execution_count": 223,
     "metadata": {},
     "output_type": "execute_result"
    }
   ],
   "source": [
    "poly_perform.get_score() # c= 30.0; degree= 4; gamma= 1.0 (trail 2)"
   ]
  },
  {
   "cell_type": "code",
   "execution_count": 323,
   "metadata": {},
   "outputs": [
    {
     "data": {
      "text/plain": [
       "{'mean_accuracy': 0.543,\n",
       " 'mean_precison': 0.585,\n",
       " 'mean_recall': 0.517,\n",
       " 'mean_f1': 0.497}"
      ]
     },
     "execution_count": 323,
     "metadata": {},
     "output_type": "execute_result"
    }
   ],
   "source": [
    "# poly_perform.get_score() # c= 50.0; degree= 4; gamma= 1.0"
   ]
  },
  {
   "cell_type": "code",
   "execution_count": 227,
   "metadata": {},
   "outputs": [
    {
     "data": {
      "text/plain": [
       "{'mean_accuracy': 0.54,\n",
       " 'mean_precison': 0.574,\n",
       " 'mean_recall': 0.515,\n",
       " 'mean_f1': 0.491}"
      ]
     },
     "execution_count": 227,
     "metadata": {},
     "output_type": "execute_result"
    }
   ],
   "source": [
    "poly_perform.get_score() # c= 50.0; degree= 4; gamma= 1.0 (trail 2)"
   ]
  },
  {
   "cell_type": "code",
   "execution_count": 328,
   "metadata": {},
   "outputs": [
    {
     "data": {
      "text/plain": [
       "{'mean_accuracy': 0.557,\n",
       " 'mean_precison': 0.578,\n",
       " 'mean_recall': 0.531,\n",
       " 'mean_f1': 0.515}"
      ]
     },
     "execution_count": 328,
     "metadata": {},
     "output_type": "execute_result"
    }
   ],
   "source": [
    "# poly_perform.get_score() # c= 100.0; degree= 4; gamma= 1.0"
   ]
  },
  {
   "cell_type": "code",
   "execution_count": 231,
   "metadata": {},
   "outputs": [
    {
     "data": {
      "text/plain": [
       "{'mean_accuracy': 0.568,\n",
       " 'mean_precison': 0.595,\n",
       " 'mean_recall': 0.546,\n",
       " 'mean_f1': 0.529}"
      ]
     },
     "execution_count": 231,
     "metadata": {},
     "output_type": "execute_result"
    }
   ],
   "source": [
    "poly_perform.get_score() # c= 100.0; degree= 4; gamma= 1.0 (trail 2)"
   ]
  },
  {
   "cell_type": "code",
   "execution_count": 333,
   "metadata": {},
   "outputs": [
    {
     "data": {
      "text/plain": [
       "{'mean_accuracy': 0.561,\n",
       " 'mean_precison': 0.57,\n",
       " 'mean_recall': 0.535,\n",
       " 'mean_f1': 0.521}"
      ]
     },
     "execution_count": 333,
     "metadata": {},
     "output_type": "execute_result"
    }
   ],
   "source": [
    "# poly_perform.get_score() # c= 200.0; degree= 4; gamma= 1.0"
   ]
  },
  {
   "cell_type": "code",
   "execution_count": 236,
   "metadata": {},
   "outputs": [
    {
     "data": {
      "text/plain": [
       "{'mean_accuracy': 0.579,\n",
       " 'mean_precison': 0.596,\n",
       " 'mean_recall': 0.559,\n",
       " 'mean_f1': 0.545}"
      ]
     },
     "execution_count": 236,
     "metadata": {},
     "output_type": "execute_result"
    }
   ],
   "source": [
    "poly_perform.get_score() # c= 200.0; degree= 4; gamma= 1.0 (trail 2)"
   ]
  },
  {
   "cell_type": "code",
   "execution_count": 338,
   "metadata": {},
   "outputs": [
    {
     "data": {
      "text/plain": [
       "{'mean_accuracy': 0.565,\n",
       " 'mean_precison': 0.566,\n",
       " 'mean_recall': 0.539,\n",
       " 'mean_f1': 0.526}"
      ]
     },
     "execution_count": 338,
     "metadata": {},
     "output_type": "execute_result"
    }
   ],
   "source": [
    "# poly_perform.get_score() # c= 500.0; degree= 4; gamma= 1.0"
   ]
  },
  {
   "cell_type": "code",
   "execution_count": 245,
   "metadata": {},
   "outputs": [
    {
     "data": {
      "text/plain": [
       "{'mean_accuracy': 0.588,\n",
       " 'mean_precison': 0.595,\n",
       " 'mean_recall': 0.568,\n",
       " 'mean_f1': 0.557}"
      ]
     },
     "execution_count": 245,
     "metadata": {},
     "output_type": "execute_result"
    }
   ],
   "source": [
    "poly_perform.get_score() # c= 500.0; degree= 4; gamma= 1.0 (trail 2)"
   ]
  },
  {
   "cell_type": "code",
   "execution_count": 343,
   "metadata": {},
   "outputs": [
    {
     "data": {
      "text/plain": [
       "{'mean_accuracy': 0.571,\n",
       " 'mean_precison': 0.566,\n",
       " 'mean_recall': 0.545,\n",
       " 'mean_f1': 0.534}"
      ]
     },
     "execution_count": 343,
     "metadata": {},
     "output_type": "execute_result"
    }
   ],
   "source": [
    "# poly_perform.get_score() # c= 1000.0; degree= 4; gamma= 1.0"
   ]
  },
  {
   "cell_type": "code",
   "execution_count": 250,
   "metadata": {},
   "outputs": [
    {
     "data": {
      "text/plain": [
       "{'mean_accuracy': 0.598,\n",
       " 'mean_precison': 0.597,\n",
       " 'mean_recall': 0.58,\n",
       " 'mean_f1': 0.57}"
      ]
     },
     "execution_count": 250,
     "metadata": {},
     "output_type": "execute_result"
    }
   ],
   "source": [
    "poly_perform.get_score() # c= 1000.0; degree= 4; gamma= 1.0 (trail 2)"
   ]
  },
  {
   "cell_type": "code",
   "execution_count": 348,
   "metadata": {},
   "outputs": [
    {
     "data": {
      "text/plain": [
       "{'mean_accuracy': 0.574,\n",
       " 'mean_precison': 0.563,\n",
       " 'mean_recall': 0.547,\n",
       " 'mean_f1': 0.538}"
      ]
     },
     "execution_count": 348,
     "metadata": {},
     "output_type": "execute_result"
    }
   ],
   "source": [
    "# poly_perform.get_score() # c= 2000.0; degree= 4; gamma= 1.0"
   ]
  },
  {
   "cell_type": "code",
   "execution_count": 255,
   "metadata": {},
   "outputs": [
    {
     "data": {
      "text/plain": [
       "{'mean_accuracy': 0.596,\n",
       " 'mean_precison': 0.591,\n",
       " 'mean_recall': 0.579,\n",
       " 'mean_f1': 0.57}"
      ]
     },
     "execution_count": 255,
     "metadata": {},
     "output_type": "execute_result"
    }
   ],
   "source": [
    "poly_perform.get_score() # c= 2000.0; degree= 4; gamma= 1.0 (trail 2)"
   ]
  },
  {
   "cell_type": "code",
   "execution_count": 352,
   "metadata": {},
   "outputs": [
    {
     "data": {
      "text/plain": [
       "{'mean_accuracy': 0.58,\n",
       " 'mean_precison': 0.564,\n",
       " 'mean_recall': 0.552,\n",
       " 'mean_f1': 0.544}"
      ]
     },
     "execution_count": 352,
     "metadata": {},
     "output_type": "execute_result"
    }
   ],
   "source": [
    "# poly_perform.get_score() # c= 5000.0; degree= 4; gamma= 1.0 <-- terbaik di Tahap 1"
   ]
  },
  {
   "cell_type": "code",
   "execution_count": 260,
   "metadata": {},
   "outputs": [
    {
     "data": {
      "text/plain": [
       "{'mean_accuracy': 0.599,\n",
       " 'mean_precison': 0.589,\n",
       " 'mean_recall': 0.582,\n",
       " 'mean_f1': 0.574}"
      ]
     },
     "execution_count": 260,
     "metadata": {},
     "output_type": "execute_result"
    }
   ],
   "source": [
    "poly_perform.get_score() # c = 5000.0; degree = 4; gamma = 1.0 (trail 2)<-- terbaik di Tahap 1"
   ]
  },
  {
   "cell_type": "code",
   "execution_count": 357,
   "metadata": {},
   "outputs": [
    {
     "data": {
      "text/plain": [
       "{'mean_accuracy': 0.575,\n",
       " 'mean_precison': 0.555,\n",
       " 'mean_recall': 0.549,\n",
       " 'mean_f1': 0.542}"
      ]
     },
     "execution_count": 357,
     "metadata": {},
     "output_type": "execute_result"
    }
   ],
   "source": [
    "# poly_perform.get_score() # c= 10000.0; degree= 4; gamma= 1.0"
   ]
  },
  {
   "cell_type": "code",
   "execution_count": 265,
   "metadata": {},
   "outputs": [
    {
     "data": {
      "text/plain": [
       "{'mean_accuracy': 0.597,\n",
       " 'mean_precison': 0.587,\n",
       " 'mean_recall': 0.581,\n",
       " 'mean_f1': 0.574}"
      ]
     },
     "execution_count": 265,
     "metadata": {},
     "output_type": "execute_result"
    }
   ],
   "source": [
    "poly_perform.get_score() # c= 10000.0; degree= 4; gamma= 1.0 (trail 2)"
   ]
  },
  {
   "cell_type": "code",
   "execution_count": 363,
   "metadata": {},
   "outputs": [
    {
     "data": {
      "text/plain": [
       "{'mean_accuracy': 0.57,\n",
       " 'mean_precison': 0.546,\n",
       " 'mean_recall': 0.542,\n",
       " 'mean_f1': 0.535}"
      ]
     },
     "execution_count": 363,
     "metadata": {},
     "output_type": "execute_result"
    }
   ],
   "source": [
    "# poly_perform.get_score() # c= 12000.0; degree= 4; gamma= 1.0"
   ]
  },
  {
   "cell_type": "code",
   "execution_count": 270,
   "metadata": {},
   "outputs": [
    {
     "data": {
      "text/plain": [
       "{'mean_accuracy': 0.596,\n",
       " 'mean_precison': 0.586,\n",
       " 'mean_recall': 0.58,\n",
       " 'mean_f1': 0.573}"
      ]
     },
     "execution_count": 270,
     "metadata": {},
     "output_type": "execute_result"
    }
   ],
   "source": [
    "poly_perform.get_score() # c= 12000.0; degree= 4; gamma= 1.0 (trail 2)"
   ]
  },
  {
   "attachments": {},
   "cell_type": "markdown",
   "metadata": {},
   "source": [
    "6.1.3 Performa SVM-RBF"
   ]
  },
  {
   "attachments": {},
   "cell_type": "markdown",
   "metadata": {},
   "source": [
    "Beralih ke:\n",
    "- [5. Pemodelan SVM](#5-pemodelan-svm)"
   ]
  },
  {
   "cell_type": "code",
   "execution_count": 164,
   "metadata": {},
   "outputs": [
    {
     "data": {
      "text/plain": [
       "{'mean_accuracy': 0.641,\n",
       " 'mean_precison': 0.646,\n",
       " 'mean_recall': 0.605,\n",
       " 'mean_f1': 0.602}"
      ]
     },
     "execution_count": 164,
     "metadata": {},
     "output_type": "execute_result"
    }
   ],
   "source": [
    "# rbf_perform.get_score() # default params"
   ]
  },
  {
   "cell_type": "code",
   "execution_count": 100,
   "metadata": {},
   "outputs": [
    {
     "data": {
      "text/plain": [
       "{'mean_accuracy': 0.648,\n",
       " 'mean_precison': 0.653,\n",
       " 'mean_recall': 0.615,\n",
       " 'mean_f1': 0.613}"
      ]
     },
     "execution_count": 100,
     "metadata": {},
     "output_type": "execute_result"
    }
   ],
   "source": [
    "rbf_perform.get_score() # default params (trail 2)"
   ]
  },
  {
   "cell_type": "code",
   "execution_count": 180,
   "metadata": {},
   "outputs": [
    {
     "data": {
      "text/plain": [
       "{'mean_accuracy': 0.586,\n",
       " 'mean_precison': 0.613,\n",
       " 'mean_recall': 0.538,\n",
       " 'mean_f1': 0.52}"
      ]
     },
     "execution_count": 180,
     "metadata": {},
     "output_type": "execute_result"
    }
   ],
   "source": [
    "# rbf_perform.get_score() # c= 2.0; gamma= 1.0"
   ]
  },
  {
   "cell_type": "code",
   "execution_count": 115,
   "metadata": {},
   "outputs": [
    {
     "data": {
      "text/plain": [
       "{'mean_accuracy': 0.604,\n",
       " 'mean_precison': 0.659,\n",
       " 'mean_recall': 0.557,\n",
       " 'mean_f1': 0.544}"
      ]
     },
     "execution_count": 115,
     "metadata": {},
     "output_type": "execute_result"
    }
   ],
   "source": [
    "rbf_perform.get_score() # c= 2.0; gamma= 1.0 (trail 2)"
   ]
  },
  {
   "cell_type": "code",
   "execution_count": 192,
   "metadata": {},
   "outputs": [
    {
     "data": {
      "text/plain": [
       "{'mean_accuracy': 0.591,\n",
       " 'mean_precison': 0.625,\n",
       " 'mean_recall': 0.541,\n",
       " 'mean_f1': 0.524}"
      ]
     },
     "execution_count": 192,
     "metadata": {},
     "output_type": "execute_result"
    }
   ],
   "source": [
    "# rbf_perform.get_score() # c= 5.0; gamma= 1.0"
   ]
  },
  {
   "cell_type": "code",
   "execution_count": 123,
   "metadata": {},
   "outputs": [
    {
     "data": {
      "text/plain": [
       "{'mean_accuracy': 0.605,\n",
       " 'mean_precison': 0.661,\n",
       " 'mean_recall': 0.558,\n",
       " 'mean_f1': 0.545}"
      ]
     },
     "execution_count": 123,
     "metadata": {},
     "output_type": "execute_result"
    }
   ],
   "source": [
    "rbf_perform.get_score() # c= 5.0; gamma= 1.0 (trail 2)"
   ]
  },
  {
   "cell_type": "code",
   "execution_count": 204,
   "metadata": {},
   "outputs": [
    {
     "data": {
      "text/plain": [
       "{'mean_accuracy': 0.588,\n",
       " 'mean_precison': 0.625,\n",
       " 'mean_recall': 0.539,\n",
       " 'mean_f1': 0.522}"
      ]
     },
     "execution_count": 204,
     "metadata": {},
     "output_type": "execute_result"
    }
   ],
   "source": [
    "# rbf_perform.get_score() # c= 7.0; gamma= 1.0"
   ]
  },
  {
   "cell_type": "code",
   "execution_count": 131,
   "metadata": {},
   "outputs": [
    {
     "data": {
      "text/plain": [
       "{'mean_accuracy': 0.603,\n",
       " 'mean_precison': 0.656,\n",
       " 'mean_recall': 0.556,\n",
       " 'mean_f1': 0.543}"
      ]
     },
     "execution_count": 131,
     "metadata": {},
     "output_type": "execute_result"
    }
   ],
   "source": [
    "rbf_perform.get_score() # c= 7.0; gamma= 1.0 (trail 2)"
   ]
  },
  {
   "cell_type": "code",
   "execution_count": 216,
   "metadata": {},
   "outputs": [
    {
     "data": {
      "text/plain": [
       "{'mean_accuracy': 0.586,\n",
       " 'mean_precison': 0.622,\n",
       " 'mean_recall': 0.537,\n",
       " 'mean_f1': 0.52}"
      ]
     },
     "execution_count": 216,
     "metadata": {},
     "output_type": "execute_result"
    }
   ],
   "source": [
    "# rbf_perform.get_score() # c= 10.0; gamma= 1.0"
   ]
  },
  {
   "cell_type": "code",
   "execution_count": 139,
   "metadata": {},
   "outputs": [
    {
     "data": {
      "text/plain": [
       "{'mean_accuracy': 0.602,\n",
       " 'mean_precison': 0.656,\n",
       " 'mean_recall': 0.555,\n",
       " 'mean_f1': 0.542}"
      ]
     },
     "execution_count": 139,
     "metadata": {},
     "output_type": "execute_result"
    }
   ],
   "source": [
    "rbf_perform.get_score() # c= 10.0; gamma= 1.0 (trail 2)"
   ]
  },
  {
   "cell_type": "code",
   "execution_count": 228,
   "metadata": {},
   "outputs": [
    {
     "data": {
      "text/plain": [
       "{'mean_accuracy': 0.633,\n",
       " 'mean_precison': 0.644,\n",
       " 'mean_recall': 0.592,\n",
       " 'mean_f1': 0.586}"
      ]
     },
     "execution_count": 228,
     "metadata": {},
     "output_type": "execute_result"
    }
   ],
   "source": [
    "# rbf_perform.get_score() # c= 2.0; gamma= 0.5"
   ]
  },
  {
   "cell_type": "code",
   "execution_count": 147,
   "metadata": {},
   "outputs": [
    {
     "data": {
      "text/plain": [
       "{'mean_accuracy': 0.649,\n",
       " 'mean_precison': 0.659,\n",
       " 'mean_recall': 0.609,\n",
       " 'mean_f1': 0.605}"
      ]
     },
     "execution_count": 147,
     "metadata": {},
     "output_type": "execute_result"
    }
   ],
   "source": [
    "rbf_perform.get_score() # c= 2.0; gamma= 0.5 (trail 2)"
   ]
  },
  {
   "cell_type": "code",
   "execution_count": 239,
   "metadata": {},
   "outputs": [
    {
     "data": {
      "text/plain": [
       "{'mean_accuracy': 0.681,\n",
       " 'mean_precison': 0.679,\n",
       " 'mean_recall': 0.662,\n",
       " 'mean_f1': 0.661}"
      ]
     },
     "execution_count": 239,
     "metadata": {},
     "output_type": "execute_result"
    }
   ],
   "source": [
    "# rbf_perform.get_score() # c= 2.0; gamma= 0.1"
   ]
  },
  {
   "cell_type": "code",
   "execution_count": 163,
   "metadata": {},
   "outputs": [
    {
     "data": {
      "text/plain": [
       "{'mean_accuracy': 0.677,\n",
       " 'mean_precison': 0.672,\n",
       " 'mean_recall': 0.659,\n",
       " 'mean_f1': 0.657}"
      ]
     },
     "execution_count": 163,
     "metadata": {},
     "output_type": "execute_result"
    }
   ],
   "source": [
    "rbf_perform.get_score() # c= 2.0; gamma= 0.1 (trail 2)"
   ]
  },
  {
   "cell_type": "code",
   "execution_count": 249,
   "metadata": {},
   "outputs": [
    {
     "data": {
      "text/plain": [
       "{'mean_accuracy': 0.636,\n",
       " 'mean_precison': 0.645,\n",
       " 'mean_recall': 0.595,\n",
       " 'mean_f1': 0.589}"
      ]
     },
     "execution_count": 249,
     "metadata": {},
     "output_type": "execute_result"
    }
   ],
   "source": [
    "# rbf_perform.get_score() # c= 5.0; gamma= 0.5"
   ]
  },
  {
   "cell_type": "code",
   "execution_count": 171,
   "metadata": {},
   "outputs": [
    {
     "data": {
      "text/plain": [
       "{'mean_accuracy': 0.652,\n",
       " 'mean_precison': 0.664,\n",
       " 'mean_recall': 0.612,\n",
       " 'mean_f1': 0.61}"
      ]
     },
     "execution_count": 171,
     "metadata": {},
     "output_type": "execute_result"
    }
   ],
   "source": [
    "rbf_perform.get_score() # c= 5.0; gamma= 0.5 (trail 2)"
   ]
  },
  {
   "cell_type": "code",
   "execution_count": 259,
   "metadata": {},
   "outputs": [
    {
     "data": {
      "text/plain": [
       "{'mean_accuracy': 0.692,\n",
       " 'mean_precison': 0.687,\n",
       " 'mean_recall': 0.673,\n",
       " 'mean_f1': 0.673}"
      ]
     },
     "execution_count": 259,
     "metadata": {},
     "output_type": "execute_result"
    }
   ],
   "source": [
    "# rbf_perform.get_score() # c= 5.0; gamma= 0.1"
   ]
  },
  {
   "cell_type": "code",
   "execution_count": 179,
   "metadata": {},
   "outputs": [
    {
     "data": {
      "text/plain": [
       "{'mean_accuracy': 0.698,\n",
       " 'mean_precison': 0.69,\n",
       " 'mean_recall': 0.679,\n",
       " 'mean_f1': 0.679}"
      ]
     },
     "execution_count": 179,
     "metadata": {},
     "output_type": "execute_result"
    }
   ],
   "source": [
    "rbf_perform.get_score() # c= 5.0; gamma= 0.1 (trial 2)"
   ]
  },
  {
   "cell_type": "code",
   "execution_count": 32,
   "metadata": {},
   "outputs": [
    {
     "data": {
      "text/plain": [
       "{'mean_accuracy': 0.7,\n",
       " 'mean_precison': 0.692,\n",
       " 'mean_recall': 0.678,\n",
       " 'mean_f1': 0.679}"
      ]
     },
     "execution_count": 32,
     "metadata": {},
     "output_type": "execute_result"
    }
   ],
   "source": [
    "# rbf_perform.get_score() # c= 10.0; gamma= 0.1 <-- terbaik di Tahap 1"
   ]
  },
  {
   "cell_type": "code",
   "execution_count": 275,
   "metadata": {},
   "outputs": [
    {
     "data": {
      "text/plain": [
       "{'mean_accuracy': 0.705,\n",
       " 'mean_precison': 0.695,\n",
       " 'mean_recall': 0.685,\n",
       " 'mean_f1': 0.686}"
      ]
     },
     "execution_count": 275,
     "metadata": {},
     "output_type": "execute_result"
    }
   ],
   "source": [
    "rbf_perform.get_score() # c= 10.0; gamma= 0.1 (tiral 2)"
   ]
  },
  {
   "cell_type": "code",
   "execution_count": 308,
   "metadata": {},
   "outputs": [
    {
     "data": {
      "text/plain": [
       "{'mean_accuracy': 0.583,\n",
       " 'mean_precison': 0.616,\n",
       " 'mean_recall': 0.535,\n",
       " 'mean_f1': 0.517}"
      ]
     },
     "execution_count": 308,
     "metadata": {},
     "output_type": "execute_result"
    }
   ],
   "source": [
    "# rbf_perform.get_score() # c = 15.0; gamma = 0.1"
   ]
  },
  {
   "cell_type": "code",
   "execution_count": 283,
   "metadata": {},
   "outputs": [
    {
     "data": {
      "text/plain": [
       "{'mean_accuracy': 0.707,\n",
       " 'mean_precison': 0.697,\n",
       " 'mean_recall': 0.688,\n",
       " 'mean_f1': 0.689}"
      ]
     },
     "execution_count": 283,
     "metadata": {},
     "output_type": "execute_result"
    }
   ],
   "source": [
    "rbf_perform.get_score() # c= 15.0; gamma= 0.1 (trial 2)<-- terbaik di Tahap 1"
   ]
  },
  {
   "cell_type": "code",
   "execution_count": 315,
   "metadata": {},
   "outputs": [
    {
     "data": {
      "text/plain": [
       "{'mean_accuracy': 0.582,\n",
       " 'mean_precison': 0.613,\n",
       " 'mean_recall': 0.534,\n",
       " 'mean_f1': 0.517}"
      ]
     },
     "execution_count": 315,
     "metadata": {},
     "output_type": "execute_result"
    }
   ],
   "source": [
    "# rbf_perform.get_score() # c = 20.0; gamma = 0.1"
   ]
  },
  {
   "cell_type": "code",
   "execution_count": 288,
   "metadata": {},
   "outputs": [
    {
     "data": {
      "text/plain": [
       "{'mean_accuracy': 0.706,\n",
       " 'mean_precison': 0.696,\n",
       " 'mean_recall': 0.687,\n",
       " 'mean_f1': 0.688}"
      ]
     },
     "execution_count": 288,
     "metadata": {},
     "output_type": "execute_result"
    }
   ],
   "source": [
    "rbf_perform.get_score() # c = 20.0; gamma = 0.1 (tiral 2)"
   ]
  },
  {
   "cell_type": "code",
   "execution_count": 293,
   "metadata": {},
   "outputs": [
    {
     "data": {
      "text/plain": [
       "{'mean_accuracy': 0.702,\n",
       " 'mean_precison': 0.69,\n",
       " 'mean_recall': 0.682,\n",
       " 'mean_f1': 0.683}"
      ]
     },
     "execution_count": 293,
     "metadata": {},
     "output_type": "execute_result"
    }
   ],
   "source": [
    "rbf_perform.get_score() # c = 20.0; gamma = 0.1 (tiral 2)"
   ]
  },
  {
   "attachments": {},
   "cell_type": "markdown",
   "metadata": {},
   "source": [
    "***"
   ]
  },
  {
   "attachments": {},
   "cell_type": "markdown",
   "metadata": {},
   "source": [
    "##### 6.2 Pengukuran Performa Tahap 2"
   ]
  },
  {
   "attachments": {},
   "cell_type": "markdown",
   "metadata": {},
   "source": [
    ">Model Utama: (SVM + SMOTE) + TF-DF"
   ]
  },
  {
   "attachments": {},
   "cell_type": "markdown",
   "metadata": {},
   "source": [
    "Beralih ke:\n",
    "- [6.1 Pengukuran Performa Tahap 1](#61-pengukuran-performa-tahap-1)\n",
    "- [7. Pengujian](#7-pengujian)"
   ]
  },
  {
   "cell_type": "code",
   "execution_count": null,
   "metadata": {},
   "outputs": [],
   "source": [
    "from sklearn.svm import SVC"
   ]
  },
  {
   "cell_type": "code",
   "execution_count": 90,
   "metadata": {},
   "outputs": [],
   "source": [
    "c = 5.0\n",
    "degree = 3\n",
    "gamma = 0.5"
   ]
  },
  {
   "cell_type": "code",
   "execution_count": 66,
   "metadata": {},
   "outputs": [],
   "source": [
    "linear_svm = SVC(kernel=\"linear\", C=c)"
   ]
  },
  {
   "cell_type": "code",
   "execution_count": 52,
   "metadata": {},
   "outputs": [],
   "source": [
    "poly_svm = SVC(kernel=\"poly\", C=c, degree=degree, gamma=gamma)"
   ]
  },
  {
   "cell_type": "code",
   "execution_count": 91,
   "metadata": {},
   "outputs": [],
   "source": [
    "rbf_svm = SVC(kernel=\"rbf\", C=c, gamma=gamma)"
   ]
  },
  {
   "cell_type": "code",
   "execution_count": null,
   "metadata": {},
   "outputs": [],
   "source": [
    "from validation.cross import ImbalancedCV"
   ]
  },
  {
   "cell_type": "code",
   "execution_count": 87,
   "metadata": {},
   "outputs": [],
   "source": [
    "n_fold = 5\n",
    "scoring = [\"accuracy\", \"precision\", \"recall\", \"f1\"]\n",
    "random_state = 42"
   ]
  },
  {
   "cell_type": "code",
   "execution_count": 68,
   "metadata": {},
   "outputs": [
    {
     "name": "stderr",
     "output_type": "stream",
     "text": [
      "CV: 100%|██████████| 5/5 [00:17<00:00,  3.56s/it]\n"
     ]
    }
   ],
   "source": [
    "linear_perform = ImbalancedCV(\n",
    "    model = linear_svm,\n",
    "    n_fold = n_fold,\n",
    "    scoring = scoring,\n",
    "    scoring_avg = \"macro\",\n",
    "    random_state = random_state,\n",
    ")\n",
    "\n",
    "linear_perform.validate(X_train, y_train)"
   ]
  },
  {
   "cell_type": "code",
   "execution_count": 58,
   "metadata": {},
   "outputs": [
    {
     "name": "stderr",
     "output_type": "stream",
     "text": [
      "CV: 100%|██████████| 5/5 [00:17<00:00,  3.42s/it]\n"
     ]
    }
   ],
   "source": [
    "poly_perform = ImbalancedCV(\n",
    "    model = poly_svm,\n",
    "    n_fold = n_fold,\n",
    "    scoring = scoring,\n",
    "    scoring_avg = \"macro\",\n",
    "    random_state = random_state,\n",
    ")\n",
    "\n",
    "poly_perform.validate(X_train, y_train)"
   ]
  },
  {
   "cell_type": "code",
   "execution_count": 92,
   "metadata": {},
   "outputs": [
    {
     "name": "stderr",
     "output_type": "stream",
     "text": [
      "CV: 100%|██████████| 5/5 [00:18<00:00,  3.80s/it]\n"
     ]
    }
   ],
   "source": [
    "rbf_perform = ImbalancedCV(\n",
    "    model = rbf_svm,\n",
    "    n_fold = n_fold,\n",
    "    scoring = scoring,\n",
    "    scoring_avg = \"macro\",\n",
    "    random_state = random_state,\n",
    ")\n",
    "\n",
    "rbf_perform.validate(X_train, y_train)"
   ]
  },
  {
   "cell_type": "code",
   "execution_count": 69,
   "metadata": {},
   "outputs": [
    {
     "data": {
      "text/plain": [
       "{'mean_accuracy': 0.728,\n",
       " 'mean_precision': 0.72,\n",
       " 'mean_recall': 0.718,\n",
       " 'mean_f1': 0.717}"
      ]
     },
     "execution_count": 69,
     "metadata": {},
     "output_type": "execute_result"
    }
   ],
   "source": [
    "linear_perform.get_score() # c= 2.0 (trail 3)"
   ]
  },
  {
   "cell_type": "code",
   "execution_count": 631,
   "metadata": {},
   "outputs": [
    {
     "data": {
      "text/plain": [
       "{'mean_accuracy': 0.604,\n",
       " 'mean_precison': 0.619,\n",
       " 'mean_recall': 0.603,\n",
       " 'mean_f1': 0.596}"
      ]
     },
     "execution_count": 631,
     "metadata": {},
     "output_type": "execute_result"
    }
   ],
   "source": [
    "poly_perform.get_score() # c=2; degree= 3; gamma='scale' # <-- titik terbaik  di Tahap 2"
   ]
  },
  {
   "cell_type": "code",
   "execution_count": 59,
   "metadata": {},
   "outputs": [
    {
     "data": {
      "text/plain": [
       "{'mean_accuracy': 0.612,\n",
       " 'mean_precision': 0.624,\n",
       " 'mean_recall': 0.605,\n",
       " 'mean_f1': 0.601}"
      ]
     },
     "execution_count": 59,
     "metadata": {},
     "output_type": "execute_result"
    }
   ],
   "source": [
    "poly_perform.get_score() # c=2; degree= 3; gamma='scale' (trail 3)"
   ]
  },
  {
   "cell_type": "code",
   "execution_count": 601,
   "metadata": {},
   "outputs": [
    {
     "data": {
      "text/plain": [
       "{'mean_accuracy': 0.715,\n",
       " 'mean_precison': 0.708,\n",
       " 'mean_recall': 0.692,\n",
       " 'mean_f1': 0.694}"
      ]
     },
     "execution_count": 601,
     "metadata": {},
     "output_type": "execute_result"
    }
   ],
   "source": [
    "rbf_perform.get_score() # <-- titik konstan max rbf. gamma= 1.0 + C (trail 2)"
   ]
  },
  {
   "cell_type": "code",
   "execution_count": 79,
   "metadata": {},
   "outputs": [
    {
     "data": {
      "text/plain": [
       "{'mean_accuracy': 0.72,\n",
       " 'mean_precision': 0.716,\n",
       " 'mean_recall': 0.702,\n",
       " 'mean_f1': 0.703}"
      ]
     },
     "execution_count": 79,
     "metadata": {},
     "output_type": "execute_result"
    }
   ],
   "source": [
    "rbf_perform.get_score() # c= 2.0, gamma= 1.0 (trail 3)"
   ]
  },
  {
   "cell_type": "code",
   "execution_count": 84,
   "metadata": {},
   "outputs": [
    {
     "data": {
      "text/plain": [
       "{'mean_accuracy': 0.722,\n",
       " 'mean_precision': 0.716,\n",
       " 'mean_recall': 0.704,\n",
       " 'mean_f1': 0.705}"
      ]
     },
     "execution_count": 84,
     "metadata": {},
     "output_type": "execute_result"
    }
   ],
   "source": [
    "rbf_perform.get_score() # c= 2.0, gamma= 1.0 (trail 3)"
   ]
  },
  {
   "attachments": {},
   "cell_type": "markdown",
   "metadata": {},
   "source": [
    "6.2.1 Performa SVM-Linier"
   ]
  },
  {
   "cell_type": "code",
   "execution_count": 287,
   "metadata": {},
   "outputs": [
    {
     "data": {
      "text/plain": [
       "{'mean_accuracy': 0.712,\n",
       " 'mean_precison': 0.707,\n",
       " 'mean_recall': 0.702,\n",
       " 'mean_f1': 0.703}"
      ]
     },
     "execution_count": 287,
     "metadata": {},
     "output_type": "execute_result"
    }
   ],
   "source": [
    "# linear_perform.get_score() # default params"
   ]
  },
  {
   "cell_type": "code",
   "execution_count": 302,
   "metadata": {},
   "outputs": [
    {
     "data": {
      "text/plain": [
       "{'mean_accuracy': 0.714,\n",
       " 'mean_precison': 0.702,\n",
       " 'mean_recall': 0.699,\n",
       " 'mean_f1': 0.7}"
      ]
     },
     "execution_count": 302,
     "metadata": {},
     "output_type": "execute_result"
    }
   ],
   "source": [
    "linear_perform.get_score() # default params (trail 2)<-- trtbsik di Tahap 2"
   ]
  },
  {
   "cell_type": "code",
   "execution_count": 274,
   "metadata": {},
   "outputs": [
    {
     "data": {
      "text/plain": [
       "{'mean_accuracy': 0.715,\n",
       " 'mean_precison': 0.708,\n",
       " 'mean_recall': 0.703,\n",
       " 'mean_f1': 0.704}"
      ]
     },
     "execution_count": 274,
     "metadata": {},
     "output_type": "execute_result"
    }
   ],
   "source": [
    "# linear_perform.get_score() # c= 2.0 <-- terbaik di tahap 2"
   ]
  },
  {
   "cell_type": "code",
   "execution_count": 307,
   "metadata": {},
   "outputs": [
    {
     "data": {
      "text/plain": [
       "{'mean_accuracy': 0.712,\n",
       " 'mean_precison': 0.702,\n",
       " 'mean_recall': 0.697,\n",
       " 'mean_f1': 0.699}"
      ]
     },
     "execution_count": 307,
     "metadata": {},
     "output_type": "execute_result"
    }
   ],
   "source": [
    "linear_perform.get_score() # c= 2.0 (trail 2)"
   ]
  },
  {
   "cell_type": "code",
   "execution_count": 309,
   "metadata": {},
   "outputs": [
    {
     "data": {
      "text/plain": [
       "{'mean_accuracy': 0.698,\n",
       " 'mean_precison': 0.691,\n",
       " 'mean_recall': 0.683,\n",
       " 'mean_f1': 0.685}"
      ]
     },
     "execution_count": 309,
     "metadata": {},
     "output_type": "execute_result"
    }
   ],
   "source": [
    "# linear_perform.get_score() # c= 5.0"
   ]
  },
  {
   "cell_type": "code",
   "execution_count": 312,
   "metadata": {},
   "outputs": [
    {
     "data": {
      "text/plain": [
       "{'mean_accuracy': 0.703,\n",
       " 'mean_precison': 0.693,\n",
       " 'mean_recall': 0.689,\n",
       " 'mean_f1': 0.69}"
      ]
     },
     "execution_count": 312,
     "metadata": {},
     "output_type": "execute_result"
    }
   ],
   "source": [
    "linear_perform.get_score() # c= 5.0 (trail 2)"
   ]
  },
  {
   "cell_type": "code",
   "execution_count": 331,
   "metadata": {},
   "outputs": [
    {
     "data": {
      "text/plain": [
       "{'mean_accuracy': 0.694,\n",
       " 'mean_precison': 0.689,\n",
       " 'mean_recall': 0.68,\n",
       " 'mean_f1': 0.683}"
      ]
     },
     "execution_count": 331,
     "metadata": {},
     "output_type": "execute_result"
    }
   ],
   "source": [
    "# linear_perform.get_score() # c= 7.0"
   ]
  },
  {
   "cell_type": "code",
   "execution_count": 317,
   "metadata": {},
   "outputs": [
    {
     "data": {
      "text/plain": [
       "{'mean_accuracy': 0.694,\n",
       " 'mean_precison': 0.685,\n",
       " 'mean_recall': 0.68,\n",
       " 'mean_f1': 0.681}"
      ]
     },
     "execution_count": 317,
     "metadata": {},
     "output_type": "execute_result"
    }
   ],
   "source": [
    "linear_perform.get_score() # c= 7.0 (trail 2)"
   ]
  },
  {
   "cell_type": "code",
   "execution_count": 342,
   "metadata": {},
   "outputs": [
    {
     "data": {
      "text/plain": [
       "{'mean_accuracy': 0.688,\n",
       " 'mean_precison': 0.682,\n",
       " 'mean_recall': 0.674,\n",
       " 'mean_f1': 0.676}"
      ]
     },
     "execution_count": 342,
     "metadata": {},
     "output_type": "execute_result"
    }
   ],
   "source": [
    "# linear_perform.get_score() # c= 10.0"
   ]
  },
  {
   "cell_type": "code",
   "execution_count": 322,
   "metadata": {},
   "outputs": [
    {
     "data": {
      "text/plain": [
       "{'mean_accuracy': 0.689,\n",
       " 'mean_precison': 0.68,\n",
       " 'mean_recall': 0.674,\n",
       " 'mean_f1': 0.676}"
      ]
     },
     "execution_count": 322,
     "metadata": {},
     "output_type": "execute_result"
    }
   ],
   "source": [
    "linear_perform.get_score() # c= 10.0 (trail 2)"
   ]
  },
  {
   "cell_type": "code",
   "execution_count": 501,
   "metadata": {},
   "outputs": [
    {
     "data": {
      "text/plain": [
       "{'mean_accuracy': 0.681,\n",
       " 'mean_precison': 0.675,\n",
       " 'mean_recall': 0.668,\n",
       " 'mean_f1': 0.67}"
      ]
     },
     "execution_count": 501,
     "metadata": {},
     "output_type": "execute_result"
    }
   ],
   "source": [
    "# linear_perform.get_score() # c= 15.0"
   ]
  },
  {
   "cell_type": "code",
   "execution_count": 327,
   "metadata": {},
   "outputs": [
    {
     "data": {
      "text/plain": [
       "{'mean_accuracy': 0.678,\n",
       " 'mean_precison': 0.668,\n",
       " 'mean_recall': 0.662,\n",
       " 'mean_f1': 0.664}"
      ]
     },
     "execution_count": 327,
     "metadata": {},
     "output_type": "execute_result"
    }
   ],
   "source": [
    "linear_perform.get_score() # c= 15.0 (Trail 2)"
   ]
  },
  {
   "cell_type": "code",
   "execution_count": 506,
   "metadata": {},
   "outputs": [
    {
     "data": {
      "text/plain": [
       "{'mean_accuracy': 0.68,\n",
       " 'mean_precison': 0.674,\n",
       " 'mean_recall': 0.667,\n",
       " 'mean_f1': 0.669}"
      ]
     },
     "execution_count": 506,
     "metadata": {},
     "output_type": "execute_result"
    }
   ],
   "source": [
    "# linear_perform.get_score() # c= 20.0"
   ]
  },
  {
   "cell_type": "code",
   "execution_count": 332,
   "metadata": {},
   "outputs": [
    {
     "data": {
      "text/plain": [
       "{'mean_accuracy': 0.672,\n",
       " 'mean_precison': 0.663,\n",
       " 'mean_recall': 0.657,\n",
       " 'mean_f1': 0.658}"
      ]
     },
     "execution_count": 332,
     "metadata": {},
     "output_type": "execute_result"
    }
   ],
   "source": [
    "linear_perform.get_score() # c= 20.0 (trail 2)"
   ]
  },
  {
   "cell_type": "code",
   "execution_count": 511,
   "metadata": {},
   "outputs": [
    {
     "data": {
      "text/plain": [
       "{'mean_accuracy': 0.676,\n",
       " 'mean_precison': 0.668,\n",
       " 'mean_recall': 0.663,\n",
       " 'mean_f1': 0.665}"
      ]
     },
     "execution_count": 511,
     "metadata": {},
     "output_type": "execute_result"
    }
   ],
   "source": [
    "# linear_perform.get_score() # c= 30.0"
   ]
  },
  {
   "cell_type": "code",
   "execution_count": 336,
   "metadata": {},
   "outputs": [
    {
     "data": {
      "text/plain": [
       "{'mean_accuracy': 0.668,\n",
       " 'mean_precison': 0.658,\n",
       " 'mean_recall': 0.652,\n",
       " 'mean_f1': 0.654}"
      ]
     },
     "execution_count": 336,
     "metadata": {},
     "output_type": "execute_result"
    }
   ],
   "source": [
    "linear_perform.get_score() # c= 30.0 (trail 2)"
   ]
  },
  {
   "attachments": {},
   "cell_type": "markdown",
   "metadata": {},
   "source": [
    "6.2.2 Performa SVM-Polinomial"
   ]
  },
  {
   "attachments": {},
   "cell_type": "markdown",
   "metadata": {},
   "source": [
    "Beralih ke:\n",
    "- [6.2 Pengukuran Performa Tahap 2](#62-pengukuran-performa-tahap-2)\n",
    "- [7. Pengujian](#7-pengujian)"
   ]
  },
  {
   "cell_type": "code",
   "execution_count": 288,
   "metadata": {},
   "outputs": [
    {
     "data": {
      "text/plain": [
       "{'mean_accuracy': 0.595,\n",
       " 'mean_precison': 0.658,\n",
       " 'mean_recall': 0.558,\n",
       " 'mean_f1': 0.549}"
      ]
     },
     "execution_count": 288,
     "metadata": {},
     "output_type": "execute_result"
    }
   ],
   "source": [
    "# poly_perform.get_score() # default params <-- terbaik di Tahap 2"
   ]
  },
  {
   "cell_type": "code",
   "execution_count": 343,
   "metadata": {},
   "outputs": [
    {
     "data": {
      "text/plain": [
       "{'mean_accuracy': 0.584,\n",
       " 'mean_precison': 0.627,\n",
       " 'mean_recall': 0.548,\n",
       " 'mean_f1': 0.535}"
      ]
     },
     "execution_count": 343,
     "metadata": {},
     "output_type": "execute_result"
    }
   ],
   "source": [
    "poly_perform.get_score() # default params (trail 2) <-- terbaik di Tahap 2"
   ]
  },
  {
   "cell_type": "code",
   "execution_count": 275,
   "metadata": {},
   "outputs": [
    {
     "data": {
      "text/plain": [
       "{'mean_accuracy': 0.57,\n",
       " 'mean_precison': 0.635,\n",
       " 'mean_recall': 0.57,\n",
       " 'mean_f1': 0.557}"
      ]
     },
     "execution_count": 275,
     "metadata": {},
     "output_type": "execute_result"
    }
   ],
   "source": [
    "# poly_perform.get_score() # c= 2.0, degree= 4, gamma= 1.0"
   ]
  },
  {
   "cell_type": "code",
   "execution_count": 351,
   "metadata": {},
   "outputs": [
    {
     "data": {
      "text/plain": [
       "{'mean_accuracy': 0.544,\n",
       " 'mean_precison': 0.622,\n",
       " 'mean_recall': 0.568,\n",
       " 'mean_f1': 0.543}"
      ]
     },
     "execution_count": 351,
     "metadata": {},
     "output_type": "execute_result"
    }
   ],
   "source": [
    "poly_perform.get_score() # c= 2.0, degree= 4, gamma= 1.0 (trail 2)"
   ]
  },
  {
   "cell_type": "code",
   "execution_count": 310,
   "metadata": {},
   "outputs": [
    {
     "data": {
      "text/plain": [
       "{'mean_accuracy': 0.533,\n",
       " 'mean_precison': 0.697,\n",
       " 'mean_recall': 0.488,\n",
       " 'mean_f1': 0.454}"
      ]
     },
     "execution_count": 310,
     "metadata": {},
     "output_type": "execute_result"
    }
   ],
   "source": [
    "# poly_perform.get_score() # c= 5.0, degree= 4, gamma= 1.0"
   ]
  },
  {
   "cell_type": "code",
   "execution_count": 359,
   "metadata": {},
   "outputs": [
    {
     "data": {
      "text/plain": [
       "{'mean_accuracy': 0.415,\n",
       " 'mean_precison': 0.658,\n",
       " 'mean_recall': 0.473,\n",
       " 'mean_f1': 0.39}"
      ]
     },
     "execution_count": 359,
     "metadata": {},
     "output_type": "execute_result"
    }
   ],
   "source": [
    "poly_perform.get_score() # c= 5.0, degree= 4, gamma= 1.0 (trail 2)"
   ]
  },
  {
   "cell_type": "code",
   "execution_count": 332,
   "metadata": {},
   "outputs": [
    {
     "data": {
      "text/plain": [
       "{'mean_accuracy': 0.518,\n",
       " 'mean_precison': 0.736,\n",
       " 'mean_recall': 0.47,\n",
       " 'mean_f1': 0.425}"
      ]
     },
     "execution_count": 332,
     "metadata": {},
     "output_type": "execute_result"
    }
   ],
   "source": [
    "# poly_perform.get_score() # c= 7.0, degree= 5, gamma= 1.0"
   ]
  },
  {
   "cell_type": "code",
   "execution_count": 367,
   "metadata": {},
   "outputs": [
    {
     "data": {
      "text/plain": [
       "{'mean_accuracy': 0.368,\n",
       " 'mean_precison': 0.67,\n",
       " 'mean_recall': 0.434,\n",
       " 'mean_f1': 0.321}"
      ]
     },
     "execution_count": 367,
     "metadata": {},
     "output_type": "execute_result"
    }
   ],
   "source": [
    "poly_perform.get_score() # c= 7.0, degree= 5, gamma= 1.0 (trail 2)"
   ]
  },
  {
   "cell_type": "code",
   "execution_count": 343,
   "metadata": {},
   "outputs": [
    {
     "data": {
      "text/plain": [
       "{'mean_accuracy': 0.518,\n",
       " 'mean_precison': 0.736,\n",
       " 'mean_recall': 0.47,\n",
       " 'mean_f1': 0.425}"
      ]
     },
     "execution_count": 343,
     "metadata": {},
     "output_type": "execute_result"
    }
   ],
   "source": [
    "# poly_perform.get_score() # c= 10.0, degree= 5, gamma= 1.0"
   ]
  },
  {
   "cell_type": "code",
   "execution_count": 382,
   "metadata": {},
   "outputs": [
    {
     "data": {
      "text/plain": [
       "{'mean_accuracy': 0.368,\n",
       " 'mean_precison': 0.675,\n",
       " 'mean_recall': 0.434,\n",
       " 'mean_f1': 0.322}"
      ]
     },
     "execution_count": 382,
     "metadata": {},
     "output_type": "execute_result"
    }
   ],
   "source": [
    "poly_perform.get_score() # c= 10.0, degree= 5, gamma= 1.0 (trail 2)"
   ]
  },
  {
   "cell_type": "code",
   "execution_count": 367,
   "metadata": {},
   "outputs": [
    {
     "data": {
      "text/plain": [
       "{'mean_accuracy': 0.425,\n",
       " 'mean_precison': 0.766,\n",
       " 'mean_recall': 0.378,\n",
       " 'mean_f1': 0.273}"
      ]
     },
     "execution_count": 367,
     "metadata": {},
     "output_type": "execute_result"
    }
   ],
   "source": [
    "# poly_perform.get_score() # c= 2.0, degree= 4, gamma= 0.5"
   ]
  },
  {
   "cell_type": "code",
   "execution_count": 390,
   "metadata": {},
   "outputs": [
    {
     "data": {
      "text/plain": [
       "{'mean_accuracy': 0.431,\n",
       " 'mean_precison': 0.779,\n",
       " 'mean_recall': 0.388,\n",
       " 'mean_f1': 0.288}"
      ]
     },
     "execution_count": 390,
     "metadata": {},
     "output_type": "execute_result"
    }
   ],
   "source": [
    "poly_perform.get_score() # c= 2.0, degree= 4, gamma= 0.5 (trail 2)"
   ]
  },
  {
   "cell_type": "code",
   "execution_count": 359,
   "metadata": {},
   "outputs": [
    {
     "data": {
      "text/plain": [
       "{'mean_accuracy': 0.425,\n",
       " 'mean_precison': 0.766,\n",
       " 'mean_recall': 0.378,\n",
       " 'mean_f1': 0.272}"
      ]
     },
     "execution_count": 359,
     "metadata": {},
     "output_type": "execute_result"
    }
   ],
   "source": [
    "# poly_perform.get_score() # c= 2.0, degree= 4, gamma= 0.1"
   ]
  },
  {
   "cell_type": "code",
   "execution_count": 398,
   "metadata": {},
   "outputs": [
    {
     "data": {
      "text/plain": [
       "{'mean_accuracy': 0.421,\n",
       " 'mean_precison': 0.774,\n",
       " 'mean_recall': 0.379,\n",
       " 'mean_f1': 0.273}"
      ]
     },
     "execution_count": 398,
     "metadata": {},
     "output_type": "execute_result"
    }
   ],
   "source": [
    "poly_perform.get_score() # c= 2.0, degree= 4, gamma= 0.1 (trail 2)"
   ]
  },
  {
   "cell_type": "code",
   "execution_count": 375,
   "metadata": {},
   "outputs": [
    {
     "data": {
      "text/plain": [
       "{'mean_accuracy': 0.425,\n",
       " 'mean_precison': 0.766,\n",
       " 'mean_recall': 0.378,\n",
       " 'mean_f1': 0.273}"
      ]
     },
     "execution_count": 375,
     "metadata": {},
     "output_type": "execute_result"
    }
   ],
   "source": [
    "# poly_perform.get_score() # c= 5.0, degree= 4, gamma= 0.5"
   ]
  },
  {
   "cell_type": "code",
   "execution_count": 406,
   "metadata": {},
   "outputs": [
    {
     "data": {
      "text/plain": [
       "{'mean_accuracy': 0.447,\n",
       " 'mean_precison': 0.755,\n",
       " 'mean_recall': 0.404,\n",
       " 'mean_f1': 0.318}"
      ]
     },
     "execution_count": 406,
     "metadata": {},
     "output_type": "execute_result"
    }
   ],
   "source": [
    "poly_perform.get_score() # c= 5.0, degree= 4, gamma= 0.5 (trail 2)"
   ]
  },
  {
   "cell_type": "code",
   "execution_count": 383,
   "metadata": {},
   "outputs": [
    {
     "data": {
      "text/plain": [
       "{'mean_accuracy': 0.425,\n",
       " 'mean_precison': 0.766,\n",
       " 'mean_recall': 0.378,\n",
       " 'mean_f1': 0.272}"
      ]
     },
     "execution_count": 383,
     "metadata": {},
     "output_type": "execute_result"
    }
   ],
   "source": [
    "# poly_perform.get_score() # c= 5.0, degree= 4, gamma= 0.1"
   ]
  },
  {
   "cell_type": "code",
   "execution_count": 414,
   "metadata": {},
   "outputs": [
    {
     "data": {
      "text/plain": [
       "{'mean_accuracy': 0.421,\n",
       " 'mean_precison': 0.774,\n",
       " 'mean_recall': 0.379,\n",
       " 'mean_f1': 0.273}"
      ]
     },
     "execution_count": 414,
     "metadata": {},
     "output_type": "execute_result"
    }
   ],
   "source": [
    "poly_perform.get_score() # c= 5.0, degree= 4, gamma= 0.1 (trail 2)"
   ]
  },
  {
   "cell_type": "code",
   "execution_count": 389,
   "metadata": {},
   "outputs": [
    {
     "data": {
      "text/plain": [
       "{'mean_accuracy': 0.503,\n",
       " 'mean_precison': 0.754,\n",
       " 'mean_recall': 0.456,\n",
       " 'mean_f1': 0.404}"
      ]
     },
     "execution_count": 389,
     "metadata": {},
     "output_type": "execute_result"
    }
   ],
   "source": [
    "# poly_perform.get_score() # c= 2.0, degree= 6, gamma= 1.0"
   ]
  },
  {
   "cell_type": "code",
   "execution_count": 420,
   "metadata": {},
   "outputs": [
    {
     "data": {
      "text/plain": [
       "{'mean_accuracy': 0.394,\n",
       " 'mean_precison': 0.646,\n",
       " 'mean_recall': 0.455,\n",
       " 'mean_f1': 0.364}"
      ]
     },
     "execution_count": 420,
     "metadata": {},
     "output_type": "execute_result"
    }
   ],
   "source": [
    "poly_perform.get_score() # c= 2.0, degree= 6, gamma= 1.0 (trail 2)"
   ]
  },
  {
   "cell_type": "code",
   "execution_count": 394,
   "metadata": {},
   "outputs": [
    {
     "data": {
      "text/plain": [
       "{'mean_accuracy': 0.503,\n",
       " 'mean_precison': 0.754,\n",
       " 'mean_recall': 0.456,\n",
       " 'mean_f1': 0.404}"
      ]
     },
     "execution_count": 394,
     "metadata": {},
     "output_type": "execute_result"
    }
   ],
   "source": [
    "# poly_perform.get_score() # c= 5.0, degree= 6, gamma= 1.0"
   ]
  },
  {
   "cell_type": "code",
   "execution_count": 425,
   "metadata": {},
   "outputs": [
    {
     "data": {
      "text/plain": [
       "{'mean_accuracy': 0.352,\n",
       " 'mean_precison': 0.678,\n",
       " 'mean_recall': 0.42,\n",
       " 'mean_f1': 0.299}"
      ]
     },
     "execution_count": 425,
     "metadata": {},
     "output_type": "execute_result"
    }
   ],
   "source": [
    "poly_perform.get_score() # c= 5.0, degree= 6, gamma= 1.0 (trail 2)"
   ]
  },
  {
   "cell_type": "code",
   "execution_count": 399,
   "metadata": {},
   "outputs": [
    {
     "data": {
      "text/plain": [
       "{'mean_accuracy': 0.503,\n",
       " 'mean_precison': 0.754,\n",
       " 'mean_recall': 0.456,\n",
       " 'mean_f1': 0.404}"
      ]
     },
     "execution_count": 399,
     "metadata": {},
     "output_type": "execute_result"
    }
   ],
   "source": [
    "# poly_perform.get_score() # c= 7.0, degree= 6, gamma= 1.0"
   ]
  },
  {
   "cell_type": "code",
   "execution_count": 430,
   "metadata": {},
   "outputs": [
    {
     "data": {
      "text/plain": [
       "{'mean_accuracy': 0.348,\n",
       " 'mean_precison': 0.698,\n",
       " 'mean_recall': 0.417,\n",
       " 'mean_f1': 0.292}"
      ]
     },
     "execution_count": 430,
     "metadata": {},
     "output_type": "execute_result"
    }
   ],
   "source": [
    "poly_perform.get_score() # c= 7.0, degree= 6, gamma= 1.0 (trail 2)"
   ]
  },
  {
   "cell_type": "code",
   "execution_count": 404,
   "metadata": {},
   "outputs": [
    {
     "data": {
      "text/plain": [
       "{'mean_accuracy': 0.503,\n",
       " 'mean_precison': 0.754,\n",
       " 'mean_recall': 0.456,\n",
       " 'mean_f1': 0.404}"
      ]
     },
     "execution_count": 404,
     "metadata": {},
     "output_type": "execute_result"
    }
   ],
   "source": [
    "# poly_perform.get_score() # c= 10.0, degree= 6, gamma= 1.0"
   ]
  },
  {
   "cell_type": "code",
   "execution_count": 435,
   "metadata": {},
   "outputs": [
    {
     "data": {
      "text/plain": [
       "{'mean_accuracy': 0.346,\n",
       " 'mean_precison': 0.692,\n",
       " 'mean_recall': 0.415,\n",
       " 'mean_f1': 0.289}"
      ]
     },
     "execution_count": 435,
     "metadata": {},
     "output_type": "execute_result"
    }
   ],
   "source": [
    "poly_perform.get_score() # c= 10.0, degree= 6, gamma= 1.0 (trail 2)"
   ]
  },
  {
   "cell_type": "code",
   "execution_count": 409,
   "metadata": {},
   "outputs": [
    {
     "data": {
      "text/plain": [
       "{'mean_accuracy': 0.533,\n",
       " 'mean_precison': 0.697,\n",
       " 'mean_recall': 0.488,\n",
       " 'mean_f1': 0.454}"
      ]
     },
     "execution_count": 409,
     "metadata": {},
     "output_type": "execute_result"
    }
   ],
   "source": [
    "# poly_perform.get_score() # c= 7.0, degree= 4, gamma= 1.0"
   ]
  },
  {
   "cell_type": "code",
   "execution_count": 440,
   "metadata": {},
   "outputs": [
    {
     "data": {
      "text/plain": [
       "{'mean_accuracy': 0.412,\n",
       " 'mean_precison': 0.659,\n",
       " 'mean_recall': 0.47,\n",
       " 'mean_f1': 0.385}"
      ]
     },
     "execution_count": 440,
     "metadata": {},
     "output_type": "execute_result"
    }
   ],
   "source": [
    "poly_perform.get_score() # c= 7.0, degree= 4, gamma= 1.0 (trail 2)"
   ]
  },
  {
   "cell_type": "code",
   "execution_count": 414,
   "metadata": {},
   "outputs": [
    {
     "data": {
      "text/plain": [
       "{'mean_accuracy': 0.533,\n",
       " 'mean_precison': 0.697,\n",
       " 'mean_recall': 0.488,\n",
       " 'mean_f1': 0.454}"
      ]
     },
     "execution_count": 414,
     "metadata": {},
     "output_type": "execute_result"
    }
   ],
   "source": [
    "# poly_perform.get_score() # c= 10.0, degree= 4, gamma= 1.0"
   ]
  },
  {
   "cell_type": "code",
   "execution_count": 447,
   "metadata": {},
   "outputs": [
    {
     "data": {
      "text/plain": [
       "{'mean_accuracy': 0.412,\n",
       " 'mean_precison': 0.657,\n",
       " 'mean_recall': 0.47,\n",
       " 'mean_f1': 0.385}"
      ]
     },
     "execution_count": 447,
     "metadata": {},
     "output_type": "execute_result"
    }
   ],
   "source": [
    "poly_perform.get_score() # c= 10.0, degree= 4, gamma= 1.0 (trial 2)"
   ]
  },
  {
   "cell_type": "code",
   "execution_count": 419,
   "metadata": {},
   "outputs": [
    {
     "data": {
      "text/plain": [
       "{'mean_accuracy': 0.533,\n",
       " 'mean_precison': 0.697,\n",
       " 'mean_recall': 0.488,\n",
       " 'mean_f1': 0.454}"
      ]
     },
     "execution_count": 419,
     "metadata": {},
     "output_type": "execute_result"
    }
   ],
   "source": [
    "# poly_perform.get_score() # c= 15.0, degree= 4, gamma= 1.0"
   ]
  },
  {
   "cell_type": "code",
   "execution_count": 452,
   "metadata": {},
   "outputs": [
    {
     "data": {
      "text/plain": [
       "{'mean_accuracy': 0.414,\n",
       " 'mean_precison': 0.656,\n",
       " 'mean_recall': 0.472,\n",
       " 'mean_f1': 0.387}"
      ]
     },
     "execution_count": 452,
     "metadata": {},
     "output_type": "execute_result"
    }
   ],
   "source": [
    "poly_perform.get_score() # c= 15.0, degree= 4, gamma= 1.0 (trail 2)"
   ]
  },
  {
   "cell_type": "code",
   "execution_count": 424,
   "metadata": {},
   "outputs": [
    {
     "data": {
      "text/plain": [
       "{'mean_accuracy': 0.533,\n",
       " 'mean_precison': 0.697,\n",
       " 'mean_recall': 0.488,\n",
       " 'mean_f1': 0.454}"
      ]
     },
     "execution_count": 424,
     "metadata": {},
     "output_type": "execute_result"
    }
   ],
   "source": [
    "# poly_perform.get_score() # c= 20.0, degree= 4, gamma= 1.0"
   ]
  },
  {
   "cell_type": "code",
   "execution_count": 457,
   "metadata": {},
   "outputs": [
    {
     "data": {
      "text/plain": [
       "{'mean_accuracy': 0.415,\n",
       " 'mean_precison': 0.656,\n",
       " 'mean_recall': 0.473,\n",
       " 'mean_f1': 0.388}"
      ]
     },
     "execution_count": 457,
     "metadata": {},
     "output_type": "execute_result"
    }
   ],
   "source": [
    "poly_perform.get_score() # c= 20.0, degree= 4, gamma= 1.0 (trail 2)"
   ]
  },
  {
   "cell_type": "code",
   "execution_count": 429,
   "metadata": {},
   "outputs": [
    {
     "data": {
      "text/plain": [
       "{'mean_accuracy': 0.533,\n",
       " 'mean_precison': 0.697,\n",
       " 'mean_recall': 0.488,\n",
       " 'mean_f1': 0.454}"
      ]
     },
     "execution_count": 429,
     "metadata": {},
     "output_type": "execute_result"
    }
   ],
   "source": [
    "# poly_perform.get_score() # c= 30.0, degree= 4, gamma= 1.0"
   ]
  },
  {
   "cell_type": "code",
   "execution_count": 462,
   "metadata": {},
   "outputs": [
    {
     "data": {
      "text/plain": [
       "{'mean_accuracy': 0.418,\n",
       " 'mean_precison': 0.65,\n",
       " 'mean_recall': 0.475,\n",
       " 'mean_f1': 0.39}"
      ]
     },
     "execution_count": 462,
     "metadata": {},
     "output_type": "execute_result"
    }
   ],
   "source": [
    "poly_perform.get_score() # c= 30.0, degree= 4, gamma= 1.0 (trail 2)"
   ]
  },
  {
   "cell_type": "code",
   "execution_count": 434,
   "metadata": {},
   "outputs": [
    {
     "data": {
      "text/plain": [
       "{'mean_accuracy': 0.533,\n",
       " 'mean_precison': 0.697,\n",
       " 'mean_recall': 0.488,\n",
       " 'mean_f1': 0.454}"
      ]
     },
     "execution_count": 434,
     "metadata": {},
     "output_type": "execute_result"
    }
   ],
   "source": [
    "poly_perform.get_score() # c= 50.0, degree= 4, gamma= 1.0"
   ]
  },
  {
   "cell_type": "code",
   "execution_count": 467,
   "metadata": {},
   "outputs": [
    {
     "data": {
      "text/plain": [
       "{'mean_accuracy': 0.423,\n",
       " 'mean_precison': 0.629,\n",
       " 'mean_recall': 0.475,\n",
       " 'mean_f1': 0.392}"
      ]
     },
     "execution_count": 467,
     "metadata": {},
     "output_type": "execute_result"
    }
   ],
   "source": [
    "# poly_perform.get_score() # c= 50.0, degree= 4, gamma= 1.0 (trail 2)"
   ]
  },
  {
   "cell_type": "code",
   "execution_count": 439,
   "metadata": {},
   "outputs": [
    {
     "data": {
      "text/plain": [
       "{'mean_accuracy': 0.533,\n",
       " 'mean_precison': 0.697,\n",
       " 'mean_recall': 0.488,\n",
       " 'mean_f1': 0.454}"
      ]
     },
     "execution_count": 439,
     "metadata": {},
     "output_type": "execute_result"
    }
   ],
   "source": [
    "# poly_perform.get_score() # c= 100.0, degree= 4, gamma= 1.0"
   ]
  },
  {
   "cell_type": "code",
   "execution_count": 472,
   "metadata": {},
   "outputs": [
    {
     "data": {
      "text/plain": [
       "{'mean_accuracy': 0.418,\n",
       " 'mean_precison': 0.628,\n",
       " 'mean_recall': 0.435,\n",
       " 'mean_f1': 0.356}"
      ]
     },
     "execution_count": 472,
     "metadata": {},
     "output_type": "execute_result"
    }
   ],
   "source": [
    "poly_perform.get_score() # c= 100.0, degree= 4, gamma= 1.0 (trail 2)"
   ]
  },
  {
   "cell_type": "code",
   "execution_count": 444,
   "metadata": {},
   "outputs": [
    {
     "data": {
      "text/plain": [
       "{'mean_accuracy': 0.533,\n",
       " 'mean_precison': 0.697,\n",
       " 'mean_recall': 0.488,\n",
       " 'mean_f1': 0.454}"
      ]
     },
     "execution_count": 444,
     "metadata": {},
     "output_type": "execute_result"
    }
   ],
   "source": [
    "# poly_perform.get_score() # c= 200.0, degree= 4, gamma= 1.0"
   ]
  },
  {
   "cell_type": "code",
   "execution_count": 477,
   "metadata": {},
   "outputs": [
    {
     "data": {
      "text/plain": [
       "{'mean_accuracy': 0.422,\n",
       " 'mean_precison': 0.65,\n",
       " 'mean_recall': 0.434,\n",
       " 'mean_f1': 0.349}"
      ]
     },
     "execution_count": 477,
     "metadata": {},
     "output_type": "execute_result"
    }
   ],
   "source": [
    "poly_perform.get_score() # c= 200.0, degree= 4, gamma= 1.0 (trail 2)"
   ]
  },
  {
   "cell_type": "code",
   "execution_count": 450,
   "metadata": {},
   "outputs": [
    {
     "data": {
      "text/plain": [
       "{'mean_accuracy': 0.533,\n",
       " 'mean_precison': 0.697,\n",
       " 'mean_recall': 0.488,\n",
       " 'mean_f1': 0.454}"
      ]
     },
     "execution_count": 450,
     "metadata": {},
     "output_type": "execute_result"
    }
   ],
   "source": [
    "# poly_perform.get_score() # c= 500.0, degree= 4, gamma= 1.0"
   ]
  },
  {
   "cell_type": "code",
   "execution_count": 482,
   "metadata": {},
   "outputs": [
    {
     "data": {
      "text/plain": [
       "{'mean_accuracy': 0.423,\n",
       " 'mean_precison': 0.633,\n",
       " 'mean_recall': 0.407,\n",
       " 'mean_f1': 0.321}"
      ]
     },
     "execution_count": 482,
     "metadata": {},
     "output_type": "execute_result"
    }
   ],
   "source": [
    "poly_perform.get_score() # c= 500.0, degree= 4, gamma= 1.0 (trail 2)"
   ]
  },
  {
   "cell_type": "code",
   "execution_count": 455,
   "metadata": {},
   "outputs": [
    {
     "data": {
      "text/plain": [
       "{'mean_accuracy': 0.533,\n",
       " 'mean_precison': 0.697,\n",
       " 'mean_recall': 0.488,\n",
       " 'mean_f1': 0.454}"
      ]
     },
     "execution_count": 455,
     "metadata": {},
     "output_type": "execute_result"
    }
   ],
   "source": [
    "# poly_perform.get_score() # c= 1000.0, degree= 4, gamma= 1.0"
   ]
  },
  {
   "cell_type": "code",
   "execution_count": 487,
   "metadata": {},
   "outputs": [
    {
     "data": {
      "text/plain": [
       "{'mean_accuracy': 0.412,\n",
       " 'mean_precison': 0.677,\n",
       " 'mean_recall': 0.391,\n",
       " 'mean_f1': 0.291}"
      ]
     },
     "execution_count": 487,
     "metadata": {},
     "output_type": "execute_result"
    }
   ],
   "source": [
    "poly_perform.get_score() # c= 1000.0, degree= 4, gamma= 1.0 (trail 2)"
   ]
  },
  {
   "cell_type": "code",
   "execution_count": 460,
   "metadata": {},
   "outputs": [
    {
     "data": {
      "text/plain": [
       "{'mean_accuracy': 0.533,\n",
       " 'mean_precison': 0.697,\n",
       " 'mean_recall': 0.488,\n",
       " 'mean_f1': 0.454}"
      ]
     },
     "execution_count": 460,
     "metadata": {},
     "output_type": "execute_result"
    }
   ],
   "source": [
    "# poly_perform.get_score() # c= 2000.0, degree= 4, gamma= 1.0"
   ]
  },
  {
   "cell_type": "code",
   "execution_count": 492,
   "metadata": {},
   "outputs": [
    {
     "data": {
      "text/plain": [
       "{'mean_accuracy': 0.409,\n",
       " 'mean_precison': 0.68,\n",
       " 'mean_recall': 0.387,\n",
       " 'mean_f1': 0.285}"
      ]
     },
     "execution_count": 492,
     "metadata": {},
     "output_type": "execute_result"
    }
   ],
   "source": [
    "poly_perform.get_score() # c= 2000.0, degree= 4, gamma= 1.0 (trail 2)"
   ]
  },
  {
   "cell_type": "code",
   "execution_count": 465,
   "metadata": {},
   "outputs": [
    {
     "data": {
      "text/plain": [
       "{'mean_accuracy': 0.533,\n",
       " 'mean_precison': 0.697,\n",
       " 'mean_recall': 0.488,\n",
       " 'mean_f1': 0.454}"
      ]
     },
     "execution_count": 465,
     "metadata": {},
     "output_type": "execute_result"
    }
   ],
   "source": [
    "poly_perform.get_score() # c= 5000.0, degree= 4, gamma= 1.0"
   ]
  },
  {
   "cell_type": "code",
   "execution_count": 497,
   "metadata": {},
   "outputs": [
    {
     "data": {
      "text/plain": [
       "{'mean_accuracy': 0.409,\n",
       " 'mean_precison': 0.68,\n",
       " 'mean_recall': 0.387,\n",
       " 'mean_f1': 0.285}"
      ]
     },
     "execution_count": 497,
     "metadata": {},
     "output_type": "execute_result"
    }
   ],
   "source": [
    "# poly_perform.get_score() # c= 5000.0, degree= 4, gamma= 1.0 (trail 2)"
   ]
  },
  {
   "cell_type": "code",
   "execution_count": 472,
   "metadata": {},
   "outputs": [
    {
     "data": {
      "text/plain": [
       "{'mean_accuracy': 0.533,\n",
       " 'mean_precison': 0.697,\n",
       " 'mean_recall': 0.488,\n",
       " 'mean_f1': 0.454}"
      ]
     },
     "execution_count": 472,
     "metadata": {},
     "output_type": "execute_result"
    }
   ],
   "source": [
    "poly_perform.get_score() # c= 10000.0, degree= 4, gamma= 1.0"
   ]
  },
  {
   "cell_type": "code",
   "execution_count": 502,
   "metadata": {},
   "outputs": [
    {
     "data": {
      "text/plain": [
       "{'mean_accuracy': 0.409,\n",
       " 'mean_precison': 0.68,\n",
       " 'mean_recall': 0.387,\n",
       " 'mean_f1': 0.285}"
      ]
     },
     "execution_count": 502,
     "metadata": {},
     "output_type": "execute_result"
    }
   ],
   "source": [
    "# poly_perform.get_score() # c= 10000.0, degree= 4, gamma= 1.0 (trail 2)"
   ]
  },
  {
   "cell_type": "code",
   "execution_count": 476,
   "metadata": {},
   "outputs": [
    {
     "data": {
      "text/plain": [
       "{'mean_accuracy': 0.533,\n",
       " 'mean_precison': 0.697,\n",
       " 'mean_recall': 0.488,\n",
       " 'mean_f1': 0.454}"
      ]
     },
     "execution_count": 476,
     "metadata": {},
     "output_type": "execute_result"
    }
   ],
   "source": [
    "# poly_perform.get_score() # c= 12000.0, degree= 4, gamma= 1.0"
   ]
  },
  {
   "attachments": {},
   "cell_type": "markdown",
   "metadata": {},
   "source": [
    "6.2.3 Performa SVM-RBF"
   ]
  },
  {
   "cell_type": "code",
   "execution_count": 507,
   "metadata": {},
   "outputs": [
    {
     "data": {
      "text/plain": [
       "{'mean_accuracy': 0.409,\n",
       " 'mean_precison': 0.68,\n",
       " 'mean_recall': 0.387,\n",
       " 'mean_f1': 0.285}"
      ]
     },
     "execution_count": 507,
     "metadata": {},
     "output_type": "execute_result"
    }
   ],
   "source": [
    "poly_perform.get_score() # c= 12000.0, degree= 4, gamma= 1.0 (trail 2)"
   ]
  },
  {
   "attachments": {},
   "cell_type": "markdown",
   "metadata": {},
   "source": [
    "Beralih ke:\n",
    "- [6.2 Pengukuran Performa Tahap 2](#62-pengukuran-performa-tahap-2)"
   ]
  },
  {
   "cell_type": "code",
   "execution_count": 289,
   "metadata": {},
   "outputs": [
    {
     "data": {
      "text/plain": [
       "{'mean_accuracy': 0.707,\n",
       " 'mean_precison': 0.718,\n",
       " 'mean_recall': 0.679,\n",
       " 'mean_f1': 0.682}"
      ]
     },
     "execution_count": 289,
     "metadata": {},
     "output_type": "execute_result"
    }
   ],
   "source": [
    "# rbf_perform.get_score() # default params"
   ]
  },
  {
   "cell_type": "code",
   "execution_count": 344,
   "metadata": {},
   "outputs": [
    {
     "data": {
      "text/plain": [
       "{'mean_accuracy': 0.71,\n",
       " 'mean_precison': 0.712,\n",
       " 'mean_recall': 0.677,\n",
       " 'mean_f1': 0.677}"
      ]
     },
     "execution_count": 344,
     "metadata": {},
     "output_type": "execute_result"
    }
   ],
   "source": [
    "rbf_perform.get_score() # default params (trail 2)"
   ]
  },
  {
   "cell_type": "code",
   "execution_count": 276,
   "metadata": {},
   "outputs": [
    {
     "data": {
      "text/plain": [
       "{'mean_accuracy': 0.723,\n",
       " 'mean_precison': 0.721,\n",
       " 'mean_recall': 0.703,\n",
       " 'mean_f1': 0.706}"
      ]
     },
     "execution_count": 276,
     "metadata": {},
     "output_type": "execute_result"
    }
   ],
   "source": [
    "# rbf_perform.get_score() # c= 2.0, gamma= 1.0 <-- terbaik di Tahap 2"
   ]
  },
  {
   "cell_type": "code",
   "execution_count": 352,
   "metadata": {},
   "outputs": [
    {
     "data": {
      "text/plain": [
       "{'mean_accuracy': 0.719,\n",
       " 'mean_precison': 0.712,\n",
       " 'mean_recall': 0.695,\n",
       " 'mean_f1': 0.698}"
      ]
     },
     "execution_count": 352,
     "metadata": {},
     "output_type": "execute_result"
    }
   ],
   "source": [
    "rbf_perform.get_score() # c= 2.0, gamma= 1.0 (trail 2)"
   ]
  },
  {
   "cell_type": "code",
   "execution_count": 311,
   "metadata": {},
   "outputs": [
    {
     "data": {
      "text/plain": [
       "{'mean_accuracy': 0.722,\n",
       " 'mean_precison': 0.719,\n",
       " 'mean_recall': 0.703,\n",
       " 'mean_f1': 0.706}"
      ]
     },
     "execution_count": 311,
     "metadata": {},
     "output_type": "execute_result"
    }
   ],
   "source": [
    "# rbf_perform.get_score() # c= 5.0, gamma= 1.0"
   ]
  },
  {
   "cell_type": "code",
   "execution_count": 360,
   "metadata": {},
   "outputs": [
    {
     "data": {
      "text/plain": [
       "{'mean_accuracy': 0.714,\n",
       " 'mean_precison': 0.706,\n",
       " 'mean_recall': 0.691,\n",
       " 'mean_f1': 0.693}"
      ]
     },
     "execution_count": 360,
     "metadata": {},
     "output_type": "execute_result"
    }
   ],
   "source": [
    "rbf_perform.get_score() # c= 5.0, gamma= 1.0 (trail 2)"
   ]
  },
  {
   "cell_type": "code",
   "execution_count": 333,
   "metadata": {},
   "outputs": [
    {
     "data": {
      "text/plain": [
       "{'mean_accuracy': 0.722,\n",
       " 'mean_precison': 0.719,\n",
       " 'mean_recall': 0.702,\n",
       " 'mean_f1': 0.705}"
      ]
     },
     "execution_count": 333,
     "metadata": {},
     "output_type": "execute_result"
    }
   ],
   "source": [
    "# rbf_perform.get_score() # c= 7.0, gamma= 1.0"
   ]
  },
  {
   "cell_type": "code",
   "execution_count": 368,
   "metadata": {},
   "outputs": [
    {
     "data": {
      "text/plain": [
       "{'mean_accuracy': 0.714,\n",
       " 'mean_precison': 0.706,\n",
       " 'mean_recall': 0.69,\n",
       " 'mean_f1': 0.693}"
      ]
     },
     "execution_count": 368,
     "metadata": {},
     "output_type": "execute_result"
    }
   ],
   "source": [
    "rbf_perform.get_score() # c= 7.0, gamma= 1.0 (trail 2)"
   ]
  },
  {
   "cell_type": "code",
   "execution_count": 344,
   "metadata": {},
   "outputs": [
    {
     "data": {
      "text/plain": [
       "{'mean_accuracy': 0.721,\n",
       " 'mean_precison': 0.718,\n",
       " 'mean_recall': 0.701,\n",
       " 'mean_f1': 0.705}"
      ]
     },
     "execution_count": 344,
     "metadata": {},
     "output_type": "execute_result"
    }
   ],
   "source": [
    "# rbf_perform.get_score() # c= 10.0, gamma= 1.0"
   ]
  },
  {
   "cell_type": "code",
   "execution_count": 383,
   "metadata": {},
   "outputs": [
    {
     "data": {
      "text/plain": [
       "{'mean_accuracy': 0.714,\n",
       " 'mean_precison': 0.706,\n",
       " 'mean_recall': 0.69,\n",
       " 'mean_f1': 0.693}"
      ]
     },
     "execution_count": 383,
     "metadata": {},
     "output_type": "execute_result"
    }
   ],
   "source": [
    "rbf_perform.get_score() # c= 10.0, gamma= 1.0 (trail 2)"
   ]
  },
  {
   "cell_type": "code",
   "execution_count": 368,
   "metadata": {},
   "outputs": [
    {
     "data": {
      "text/plain": [
       "{'mean_accuracy': 0.722,\n",
       " 'mean_precison': 0.718,\n",
       " 'mean_recall': 0.707,\n",
       " 'mean_f1': 0.71}"
      ]
     },
     "execution_count": 368,
     "metadata": {},
     "output_type": "execute_result"
    }
   ],
   "source": [
    "# rbf_perform.get_score() # c= 2.0, gamma= 0.5"
   ]
  },
  {
   "cell_type": "code",
   "execution_count": 391,
   "metadata": {},
   "outputs": [
    {
     "data": {
      "text/plain": [
       "{'mean_accuracy': 0.717,\n",
       " 'mean_precison': 0.708,\n",
       " 'mean_recall': 0.697,\n",
       " 'mean_f1': 0.699}"
      ]
     },
     "execution_count": 391,
     "metadata": {},
     "output_type": "execute_result"
    }
   ],
   "source": [
    "rbf_perform.get_score() # c= 2.0, gamma= 0.5 (trail 2)"
   ]
  },
  {
   "cell_type": "code",
   "execution_count": 360,
   "metadata": {},
   "outputs": [
    {
     "data": {
      "text/plain": [
       "{'mean_accuracy': 0.702,\n",
       " 'mean_precison': 0.695,\n",
       " 'mean_recall': 0.69,\n",
       " 'mean_f1': 0.691}"
      ]
     },
     "execution_count": 360,
     "metadata": {},
     "output_type": "execute_result"
    }
   ],
   "source": [
    "# rbf_perform.get_score() # c= 2.0, gamma= 0.1"
   ]
  },
  {
   "cell_type": "code",
   "execution_count": 399,
   "metadata": {},
   "outputs": [
    {
     "data": {
      "text/plain": [
       "{'mean_accuracy': 0.703,\n",
       " 'mean_precison': 0.69,\n",
       " 'mean_recall': 0.686,\n",
       " 'mean_f1': 0.687}"
      ]
     },
     "execution_count": 399,
     "metadata": {},
     "output_type": "execute_result"
    }
   ],
   "source": [
    "rbf_perform.get_score() # c= 2.0, gamma= 0.1 (trail 2)"
   ]
  },
  {
   "cell_type": "code",
   "execution_count": 376,
   "metadata": {},
   "outputs": [
    {
     "data": {
      "text/plain": [
       "{'mean_accuracy': 0.721,\n",
       " 'mean_precison': 0.715,\n",
       " 'mean_recall': 0.706,\n",
       " 'mean_f1': 0.709}"
      ]
     },
     "execution_count": 376,
     "metadata": {},
     "output_type": "execute_result"
    }
   ],
   "source": [
    "# rbf_perform.get_score() # c= 5.0, gamma= 0.5"
   ]
  },
  {
   "cell_type": "code",
   "execution_count": 407,
   "metadata": {},
   "outputs": [
    {
     "data": {
      "text/plain": [
       "{'mean_accuracy': 0.718,\n",
       " 'mean_precison': 0.708,\n",
       " 'mean_recall': 0.699,\n",
       " 'mean_f1': 0.701}"
      ]
     },
     "execution_count": 407,
     "metadata": {},
     "output_type": "execute_result"
    }
   ],
   "source": [
    "rbf_perform.get_score() # c= 5.0, gamma= 0.5 (trail 2)"
   ]
  },
  {
   "cell_type": "code",
   "execution_count": 384,
   "metadata": {},
   "outputs": [
    {
     "data": {
      "text/plain": [
       "{'mean_accuracy': 0.714,\n",
       " 'mean_precison': 0.709,\n",
       " 'mean_recall': 0.702,\n",
       " 'mean_f1': 0.704}"
      ]
     },
     "execution_count": 384,
     "metadata": {},
     "output_type": "execute_result"
    }
   ],
   "source": [
    "# rbf_perform.get_score() # c= 5.0, gamma= 0.1"
   ]
  },
  {
   "cell_type": "code",
   "execution_count": 415,
   "metadata": {},
   "outputs": [
    {
     "data": {
      "text/plain": [
       "{'mean_accuracy': 0.716,\n",
       " 'mean_precison': 0.705,\n",
       " 'mean_recall': 0.699,\n",
       " 'mean_f1': 0.701}"
      ]
     },
     "execution_count": 415,
     "metadata": {},
     "output_type": "execute_result"
    }
   ],
   "source": [
    "rbf_perform.get_score() # c= 5.0, gamma= 0.1 (trail 2)"
   ]
  },
  {
   "cell_type": "code",
   "execution_count": 481,
   "metadata": {},
   "outputs": [
    {
     "data": {
      "text/plain": [
       "{'mean_accuracy': 0.718,\n",
       " 'mean_precison': 0.713,\n",
       " 'mean_recall': 0.704,\n",
       " 'mean_f1': 0.707}"
      ]
     },
     "execution_count": 481,
     "metadata": {},
     "output_type": "execute_result"
    }
   ],
   "source": [
    "# rbf_perform.get_score() # c= 10.0, gamma= 0.1"
   ]
  },
  {
   "cell_type": "code",
   "execution_count": 512,
   "metadata": {},
   "outputs": [
    {
     "data": {
      "text/plain": [
       "{'mean_accuracy': 0.711,\n",
       " 'mean_precison': 0.7,\n",
       " 'mean_recall': 0.695,\n",
       " 'mean_f1': 0.697}"
      ]
     },
     "execution_count": 512,
     "metadata": {},
     "output_type": "execute_result"
    }
   ],
   "source": [
    "rbf_perform.get_score() # c= 10.0, gamma= 0.1 (trail 2)"
   ]
  },
  {
   "cell_type": "code",
   "execution_count": 486,
   "metadata": {},
   "outputs": [
    {
     "data": {
      "text/plain": [
       "{'mean_accuracy': 0.711,\n",
       " 'mean_precison': 0.706,\n",
       " 'mean_recall': 0.697,\n",
       " 'mean_f1': 0.7}"
      ]
     },
     "execution_count": 486,
     "metadata": {},
     "output_type": "execute_result"
    }
   ],
   "source": [
    "# rbf_perform.get_score() # c= 15.0, gamma= 0.1"
   ]
  },
  {
   "cell_type": "code",
   "execution_count": 517,
   "metadata": {},
   "outputs": [
    {
     "data": {
      "text/plain": [
       "{'mean_accuracy': 0.703,\n",
       " 'mean_precison': 0.692,\n",
       " 'mean_recall': 0.687,\n",
       " 'mean_f1': 0.688}"
      ]
     },
     "execution_count": 517,
     "metadata": {},
     "output_type": "execute_result"
    }
   ],
   "source": [
    "rbf_perform.get_score() # c= 15.0, gamma= 0.1 (trail 2)"
   ]
  },
  {
   "cell_type": "code",
   "execution_count": 491,
   "metadata": {},
   "outputs": [
    {
     "data": {
      "text/plain": [
       "{'mean_accuracy': 0.71,\n",
       " 'mean_precison': 0.705,\n",
       " 'mean_recall': 0.695,\n",
       " 'mean_f1': 0.698}"
      ]
     },
     "execution_count": 491,
     "metadata": {},
     "output_type": "execute_result"
    }
   ],
   "source": [
    "# rbf_perform.get_score() # c= 20.0, gamma= 0.1"
   ]
  },
  {
   "cell_type": "code",
   "execution_count": 522,
   "metadata": {},
   "outputs": [
    {
     "data": {
      "text/plain": [
       "{'mean_accuracy': 0.7,\n",
       " 'mean_precison': 0.689,\n",
       " 'mean_recall': 0.685,\n",
       " 'mean_f1': 0.686}"
      ]
     },
     "execution_count": 522,
     "metadata": {},
     "output_type": "execute_result"
    }
   ],
   "source": [
    "rbf_perform.get_score() # c= 20.0, gamma= 0.1 (trail 2)"
   ]
  },
  {
   "cell_type": "code",
   "execution_count": 496,
   "metadata": {},
   "outputs": [
    {
     "data": {
      "text/plain": [
       "{'mean_accuracy': 0.703,\n",
       " 'mean_precison': 0.697,\n",
       " 'mean_recall': 0.689,\n",
       " 'mean_f1': 0.691}"
      ]
     },
     "execution_count": 496,
     "metadata": {},
     "output_type": "execute_result"
    }
   ],
   "source": [
    "# rbf_perform.get_score() # c= 30.0, gamma= 0.1"
   ]
  },
  {
   "cell_type": "code",
   "execution_count": 527,
   "metadata": {},
   "outputs": [
    {
     "data": {
      "text/plain": [
       "{'mean_accuracy': 0.697,\n",
       " 'mean_precison': 0.687,\n",
       " 'mean_recall': 0.682,\n",
       " 'mean_f1': 0.683}"
      ]
     },
     "execution_count": 527,
     "metadata": {},
     "output_type": "execute_result"
    }
   ],
   "source": [
    "rbf_perform.get_score() # c= 30.0, gamma= 0.1 (trail 2)"
   ]
  },
  {
   "cell_type": "code",
   "execution_count": 532,
   "metadata": {},
   "outputs": [
    {
     "data": {
      "text/plain": [
       "{'mean_accuracy': 0.72,\n",
       " 'mean_precison': 0.713,\n",
       " 'mean_recall': 0.696,\n",
       " 'mean_f1': 0.698}"
      ]
     },
     "execution_count": 532,
     "metadata": {},
     "output_type": "execute_result"
    }
   ],
   "source": [
    "rbf_perform.get_score() # c= 2.0, gamma= 'scale' (trail 2)<-- terbaik di Tahap 2"
   ]
  },
  {
   "attachments": {},
   "cell_type": "markdown",
   "metadata": {},
   "source": [
    "#### __7. Pengujian__"
   ]
  },
  {
   "attachments": {},
   "cell_type": "markdown",
   "metadata": {},
   "source": [
    "Beralih ke:\n",
    "- [6.2 Pengukuran Performa Tahap 2](#62-pengukuran-performa-tahap-2)\n",
    "- [Daftar Isi](#daftar-isi)"
   ]
  },
  {
   "cell_type": "code",
   "execution_count": 140,
   "metadata": {},
   "outputs": [],
   "source": [
    "from sklearn.metrics import confusion_matrix, classification_report\n",
    "from imblearn.over_sampling import SMOTE"
   ]
  },
  {
   "cell_type": "code",
   "execution_count": null,
   "metadata": {},
   "outputs": [],
   "source": [
    "smoter = SMOTE()\n",
    "balanced_X_train, balanced_y_train = smoter.fit_resample(\n",
    "    X_train,\n",
    "    y_train\n",
    ")\n",
    "\n",
    "analysis.get_shape(X_train)\n",
    "analysis.get_distribution(y_train)\n",
    "analysis.get_shape(balanced_X_train)\n",
    "analysis.get_distribution(balanced_y_train)"
   ]
  },
  {
   "cell_type": "code",
   "execution_count": null,
   "metadata": {},
   "outputs": [],
   "source": [
    "# print(f\"Confusion Matrix:\\n {confusion_matrix(y_test, )}\\n\")\n",
    "# print(f\"Report:\\n {classification_report(y_test, )}\")\n"
   ]
  }
 ],
 "metadata": {
  "kernelspec": {
   "display_name": "Python 3 (Spyder)",
   "language": "python3",
   "name": "python3"
  },
  "language_info": {
   "codemirror_mode": {
    "name": "ipython",
    "version": 3
   },
   "file_extension": ".py",
   "mimetype": "text/x-python",
   "name": "python",
   "nbconvert_exporter": "python",
   "pygments_lexer": "ipython3",
   "version": "3.9.16"
  },
  "vscode": {
   "interpreter": {
    "hash": "3a866adf8194fa61f189944e84fd4593acc60ea224cd56c5077b5e0209d174b5"
   }
  }
 },
 "nbformat": 4,
 "nbformat_minor": 4
}
