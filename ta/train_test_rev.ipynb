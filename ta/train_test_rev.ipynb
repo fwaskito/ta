{
 "cells": [
  {
   "cell_type": "markdown",
   "metadata": {},
   "source": [
    "### Pelatihan dan pengujian (Revisi)"
   ]
  },
  {
   "attachments": {},
   "cell_type": "markdown",
   "metadata": {},
   "source": [
    "#### Daftar Isi:\n",
    "- [1. Pemodelan SVM](#1-pemodelan-svm)\n",
    "- [2. Pengukuran Performa (Pelatihan)](#2-pengukuran-performa-pelatihan)\n",
    "- [3. Pengujian](#3-pengujian)"
   ]
  },
  {
   "attachments": {},
   "cell_type": "markdown",
   "metadata": {},
   "source": [
    "***"
   ]
  },
  {
   "cell_type": "code",
   "execution_count": 1,
   "metadata": {},
   "outputs": [
    {
     "name": "stdout",
     "output_type": "stream",
     "text": [
      "Author: F. Waskito\n",
      "\n",
      "Last updated: Tue Jan 23 2024 12:02:55\n",
      "\n",
      "Python implementation: CPython\n",
      "Python version       : 3.9.18\n",
      "IPython version      : 8.15.0\n",
      "\n"
     ]
    },
    {
     "name": "stderr",
     "output_type": "stream",
     "text": [
      "Intel(R) Extension for Scikit-learn* enabled (https://github.com/intel/scikit-learn-intelex)\n"
     ]
    }
   ],
   "source": [
    "from IPython.core.interactiveshell import InteractiveShell\n",
    "import warnings\n",
    "import sklearnex\n",
    "\n",
    "InteractiveShell.ast_node_interactivity = \"all\"\n",
    "sklearnex.patch_sklearn()\n",
    "warnings.filterwarnings(\"ignore\")\n",
    "\n",
    "%load_ext watermark\n",
    "%watermark -a \"F. Waskito\" -n -t -u -v"
   ]
  },
  {
   "cell_type": "code",
   "execution_count": 2,
   "metadata": {},
   "outputs": [
    {
     "name": "stdout",
     "output_type": "stream",
     "text": [
      "Shape: (3409,)\n",
      "Distribution:\n",
      "\t('positive', 864)\n",
      "\t('neutral', 1253)\n",
      "\t('negative', 1292)\n"
     ]
    }
   ],
   "source": [
    "import pandas\n",
    "from collection import analysis\n",
    "\n",
    "path = \"data/tweet/depresi_or_bipolar_tweets_id_01-10[clean].csv\"\n",
    "tweets_table = pandas.read_csv(path)\n",
    "texts = tweets_table.loc[:, \"Text\"].copy().to_list()\n",
    "labels = tweets_table.loc[:, \"Sentiment\"].copy().to_list()\n",
    "\n",
    "analysis.get_shape(texts)\n",
    "analysis.get_distribution(labels)"
   ]
  },
  {
   "cell_type": "markdown",
   "metadata": {},
   "source": [
    "Set data yang digunakan telah terlebih dahulu dilakukan praoperasi numerik atasnya demi memangkas waktu prapemrosesan secara keseluruhan."
   ]
  },
  {
   "cell_type": "code",
   "execution_count": 3,
   "metadata": {},
   "outputs": [
    {
     "data": {
      "text/html": [
       "<div>\n",
       "<style scoped>\n",
       "    .dataframe tbody tr th:only-of-type {\n",
       "        vertical-align: middle;\n",
       "    }\n",
       "\n",
       "    .dataframe tbody tr th {\n",
       "        vertical-align: top;\n",
       "    }\n",
       "\n",
       "    .dataframe thead th {\n",
       "        text-align: right;\n",
       "    }\n",
       "</style>\n",
       "<table border=\"1\" class=\"dataframe\">\n",
       "  <thead>\n",
       "    <tr style=\"text-align: right;\">\n",
       "      <th></th>\n",
       "      <th>Tweet_ID</th>\n",
       "      <th>Datetime</th>\n",
       "      <th>Username</th>\n",
       "      <th>Text</th>\n",
       "      <th>Sentiment</th>\n",
       "    </tr>\n",
       "  </thead>\n",
       "  <tbody>\n",
       "    <tr>\n",
       "      <th>0</th>\n",
       "      <td>1.520554e+18</td>\n",
       "      <td>2022-05-01 00:00:12+00:00</td>\n",
       "      <td>yfnasa</td>\n",
       "      <td>ilux kelompok main taman anak arti begitu pas ...</td>\n",
       "      <td>positive</td>\n",
       "    </tr>\n",
       "    <tr>\n",
       "      <th>1</th>\n",
       "      <td>1.520561e+18</td>\n",
       "      <td>2022-05-01 00:30:46+00:00</td>\n",
       "      <td>SoleilLumina</td>\n",
       "      <td>et ikut akun kutip depresi suka gelisah puisi ...</td>\n",
       "      <td>neutral</td>\n",
       "    </tr>\n",
       "    <tr>\n",
       "      <th>2</th>\n",
       "      <td>1.520563e+18</td>\n",
       "      <td>2022-05-01 00:36:48+00:00</td>\n",
       "      <td>petitegeeky</td>\n",
       "      <td>rossy tahun laut betah pas pulang depresi kaya...</td>\n",
       "      <td>neutral</td>\n",
       "    </tr>\n",
       "    <tr>\n",
       "      <th>3</th>\n",
       "      <td>1.520565e+18</td>\n",
       "      <td>2022-05-01 00:43:40+00:00</td>\n",
       "      <td>raniapj</td>\n",
       "      <td>jarang nimbrung stres depresi sulit gaul tamba...</td>\n",
       "      <td>neutral</td>\n",
       "    </tr>\n",
       "    <tr>\n",
       "      <th>4</th>\n",
       "      <td>1.520565e+18</td>\n",
       "      <td>2022-05-01 00:43:50+00:00</td>\n",
       "      <td>Jawaban</td>\n",
       "      <td>depresi orang kristen laku atas link stressawa...</td>\n",
       "      <td>neutral</td>\n",
       "    </tr>\n",
       "  </tbody>\n",
       "</table>\n",
       "</div>"
      ],
      "text/plain": [
       "       Tweet_ID                   Datetime      Username  \\\n",
       "0  1.520554e+18  2022-05-01 00:00:12+00:00        yfnasa   \n",
       "1  1.520561e+18  2022-05-01 00:30:46+00:00  SoleilLumina   \n",
       "2  1.520563e+18  2022-05-01 00:36:48+00:00   petitegeeky   \n",
       "3  1.520565e+18  2022-05-01 00:43:40+00:00       raniapj   \n",
       "4  1.520565e+18  2022-05-01 00:43:50+00:00       Jawaban   \n",
       "\n",
       "                                                Text Sentiment  \n",
       "0  ilux kelompok main taman anak arti begitu pas ...  positive  \n",
       "1  et ikut akun kutip depresi suka gelisah puisi ...   neutral  \n",
       "2  rossy tahun laut betah pas pulang depresi kaya...   neutral  \n",
       "3  jarang nimbrung stres depresi sulit gaul tamba...   neutral  \n",
       "4  depresi orang kristen laku atas link stressawa...   neutral  "
      ]
     },
     "execution_count": 3,
     "metadata": {},
     "output_type": "execute_result"
    },
    {
     "data": {
      "text/html": [
       "<div>\n",
       "<style scoped>\n",
       "    .dataframe tbody tr th:only-of-type {\n",
       "        vertical-align: middle;\n",
       "    }\n",
       "\n",
       "    .dataframe tbody tr th {\n",
       "        vertical-align: top;\n",
       "    }\n",
       "\n",
       "    .dataframe thead th {\n",
       "        text-align: right;\n",
       "    }\n",
       "</style>\n",
       "<table border=\"1\" class=\"dataframe\">\n",
       "  <thead>\n",
       "    <tr style=\"text-align: right;\">\n",
       "      <th></th>\n",
       "      <th>Tweet_ID</th>\n",
       "      <th>Datetime</th>\n",
       "      <th>Username</th>\n",
       "      <th>Text</th>\n",
       "      <th>Sentiment</th>\n",
       "    </tr>\n",
       "  </thead>\n",
       "  <tbody>\n",
       "    <tr>\n",
       "      <th>3404</th>\n",
       "      <td>1.524168e+18</td>\n",
       "      <td>2022-05-10 23:21:56+00:00</td>\n",
       "      <td>puci_chuu</td>\n",
       "      <td>depresi hasil apa laku</td>\n",
       "      <td>neutral</td>\n",
       "    </tr>\n",
       "    <tr>\n",
       "      <th>3405</th>\n",
       "      <td>1.524170e+18</td>\n",
       "      <td>2022-05-10 23:30:51+00:00</td>\n",
       "      <td>_ilhammmmmm</td>\n",
       "      <td>pulang kota makassar milik tekan depresi ibu s...</td>\n",
       "      <td>negative</td>\n",
       "    </tr>\n",
       "    <tr>\n",
       "      <th>3406</th>\n",
       "      <td>1.524170e+18</td>\n",
       "      <td>2022-05-10 23:31:44+00:00</td>\n",
       "      <td>detikhot</td>\n",
       "      <td>medina zein rawat rumah sakit ganggu bipolar i...</td>\n",
       "      <td>neutral</td>\n",
       "    </tr>\n",
       "    <tr>\n",
       "      <th>3407</th>\n",
       "      <td>1.524175e+18</td>\n",
       "      <td>2022-05-10 23:48:41+00:00</td>\n",
       "      <td>mournchild</td>\n",
       "      <td>mahasiswa psikolog depresi baca catat materi</td>\n",
       "      <td>neutral</td>\n",
       "    </tr>\n",
       "    <tr>\n",
       "      <th>3408</th>\n",
       "      <td>1.524177e+18</td>\n",
       "      <td>2022-05-10 23:57:02+00:00</td>\n",
       "      <td>ramaperput</td>\n",
       "      <td>utang emang bikin tagih kes mudah uang dapat a...</td>\n",
       "      <td>negative</td>\n",
       "    </tr>\n",
       "  </tbody>\n",
       "</table>\n",
       "</div>"
      ],
      "text/plain": [
       "          Tweet_ID                   Datetime     Username  \\\n",
       "3404  1.524168e+18  2022-05-10 23:21:56+00:00    puci_chuu   \n",
       "3405  1.524170e+18  2022-05-10 23:30:51+00:00  _ilhammmmmm   \n",
       "3406  1.524170e+18  2022-05-10 23:31:44+00:00     detikhot   \n",
       "3407  1.524175e+18  2022-05-10 23:48:41+00:00   mournchild   \n",
       "3408  1.524177e+18  2022-05-10 23:57:02+00:00   ramaperput   \n",
       "\n",
       "                                                   Text Sentiment  \n",
       "3404                             depresi hasil apa laku   neutral  \n",
       "3405  pulang kota makassar milik tekan depresi ibu s...  negative  \n",
       "3406  medina zein rawat rumah sakit ganggu bipolar i...   neutral  \n",
       "3407       mahasiswa psikolog depresi baca catat materi   neutral  \n",
       "3408  utang emang bikin tagih kes mudah uang dapat a...  negative  "
      ]
     },
     "execution_count": 3,
     "metadata": {},
     "output_type": "execute_result"
    }
   ],
   "source": [
    "tweets_table.head(5)\n",
    "tweets_table.tail(5)"
   ]
  },
  {
   "attachments": {},
   "cell_type": "markdown",
   "metadata": {},
   "source": [
    "Praoperasi Numerik"
   ]
  },
  {
   "cell_type": "markdown",
   "metadata": {},
   "source": [
    "_skip_"
   ]
  },
  {
   "attachments": {},
   "cell_type": "markdown",
   "metadata": {},
   "source": [
    "Ekstraksi Fitur"
   ]
  },
  {
   "cell_type": "code",
   "execution_count": 3,
   "metadata": {},
   "outputs": [],
   "source": [
    "from preprocess.feature.extraction import TextVectorizer"
   ]
  },
  {
   "cell_type": "code",
   "execution_count": 5,
   "metadata": {},
   "outputs": [
    {
     "name": "stdout",
     "output_type": "stream",
     "text": [
      "Shape: (3409, 2202)\n"
     ]
    }
   ],
   "source": [
    "# BOW\n",
    "extractor = TextVectorizer(texts)\n",
    "extractor.transform(target=\"bow\", min_df=2, norm=True)\n",
    "vector_texts = extractor.vectors\n",
    "\n",
    "analysis.get_shape(vector_texts)"
   ]
  },
  {
   "cell_type": "code",
   "execution_count": 4,
   "metadata": {},
   "outputs": [
    {
     "name": "stdout",
     "output_type": "stream",
     "text": [
      "Shape: (3409, 2202)\n"
     ]
    }
   ],
   "source": [
    "# TF-IDF\n",
    "extractor = TextVectorizer(texts)\n",
    "extractor.transform(target=\"tfidf\", min_df=2, norm=True, smooth_idf=True)\n",
    "vector_texts = extractor.vectors\n",
    "\n",
    "analysis.get_shape(vector_texts)"
   ]
  },
  {
   "attachments": {},
   "cell_type": "markdown",
   "metadata": {},
   "source": [
    "Transformasi Label"
   ]
  },
  {
   "cell_type": "code",
   "execution_count": 5,
   "metadata": {},
   "outputs": [],
   "source": [
    "from preprocess.encoding import LabelEncoder"
   ]
  },
  {
   "cell_type": "code",
   "execution_count": 6,
   "metadata": {},
   "outputs": [
    {
     "name": "stdout",
     "output_type": "stream",
     "text": [
      "Distribution:\n",
      "\t(2, 864)\n",
      "\t(1, 1253)\n",
      "\t(0, 1292)\n"
     ]
    }
   ],
   "source": [
    "encoder = LabelEncoder(labels)\n",
    "encoder.transform(target=\"integer\")\n",
    "encoded_labels = encoder.encoded_labels\n",
    "\n",
    "analysis.get_distribution(encoded_labels)"
   ]
  },
  {
   "attachments": {},
   "cell_type": "markdown",
   "metadata": {},
   "source": [
    "Seprasi Data"
   ]
  },
  {
   "cell_type": "code",
   "execution_count": 7,
   "metadata": {},
   "outputs": [],
   "source": [
    "from sklearn.model_selection import train_test_split"
   ]
  },
  {
   "cell_type": "code",
   "execution_count": 8,
   "metadata": {},
   "outputs": [
    {
     "name": "stdout",
     "output_type": "stream",
     "text": [
      "> Train set:\n",
      "Shape: (2386, 2202)\n",
      "Distribution:\n",
      "\t(1, 866)\n",
      "\t(2, 619)\n",
      "\t(0, 901)\n",
      "\n",
      "> Test set:\n",
      "Shape: (1023, 2202)\n",
      "Distribution:\n",
      "\t(0, 391)\n",
      "\t(1, 387)\n",
      "\t(2, 245)\n"
     ]
    }
   ],
   "source": [
    "X_train, X_test, y_train, y_test = train_test_split(\n",
    "    vector_texts,\n",
    "    encoded_labels,\n",
    "    test_size = 0.3,\n",
    "    random_state = 42\n",
    ")\n",
    "\n",
    "print(\"> Train set:\")\n",
    "analysis.get_shape(X_train)\n",
    "analysis.get_distribution(y_train)\n",
    "print(\"\\n> Test set:\")\n",
    "analysis.get_shape(X_test)\n",
    "analysis.get_distribution(y_test)"
   ]
  },
  {
   "attachments": {},
   "cell_type": "markdown",
   "metadata": {},
   "source": [
    "***"
   ]
  },
  {
   "attachments": {},
   "cell_type": "markdown",
   "metadata": {},
   "source": [
    "### __1. Pemodelan SVM__"
   ]
  },
  {
   "cell_type": "markdown",
   "metadata": {},
   "source": [
    "Beralih ke:\n",
    "- [Daftar Isi](#daftar-isi)\n",
    "- [2. Pengukuran Performa (Pelatihan)](#2-pengukuran-performa-pelatihan)"
   ]
  },
  {
   "cell_type": "code",
   "execution_count": 9,
   "metadata": {},
   "outputs": [],
   "source": [
    "from sklearn.svm import SVC"
   ]
  },
  {
   "cell_type": "markdown",
   "metadata": {},
   "source": [
    "#### 1.1 Kernel Linear"
   ]
  },
  {
   "cell_type": "code",
   "execution_count": 10,
   "metadata": {},
   "outputs": [],
   "source": [
    "linear_svm = SVC(kernel=\"linear\")"
   ]
  },
  {
   "cell_type": "code",
   "execution_count": 11,
   "metadata": {},
   "outputs": [],
   "source": [
    "linear_params = {\n",
    "    \"C\": [\n",
    "        1.0, 10.0, 100.0, 1000.0, 10000.0,\n",
    "    ],\n",
    "}"
   ]
  },
  {
   "cell_type": "markdown",
   "metadata": {},
   "source": [
    "#### 1.2 Kernel RBF"
   ]
  },
  {
   "cell_type": "code",
   "execution_count": 18,
   "metadata": {},
   "outputs": [],
   "source": [
    "rbf_svm = SVC(kernel=\"rbf\")"
   ]
  },
  {
   "cell_type": "code",
   "execution_count": 19,
   "metadata": {},
   "outputs": [],
   "source": [
    "rbf_params = {\n",
    "    \"C\": [\n",
    "        1.0, 10.0, 100.0, 1000.0, 10000.0,\n",
    "    ],\n",
    "    \"gamma\": [\n",
    "        0.01, 0.1, 1.0,\n",
    "    ],\n",
    "}"
   ]
  },
  {
   "cell_type": "markdown",
   "metadata": {},
   "source": [
    "#### 1.3 Kernel Polinomial"
   ]
  },
  {
   "cell_type": "code",
   "execution_count": 23,
   "metadata": {},
   "outputs": [],
   "source": [
    "poly_svm = SVC(kernel=\"poly\")"
   ]
  },
  {
   "cell_type": "code",
   "execution_count": 24,
   "metadata": {},
   "outputs": [],
   "source": [
    "poly_params = {\n",
    "    \"C\": [\n",
    "        1.0, 10.0, 100.0, 1000.0, 10000.0,\n",
    "    ],\n",
    "    \"gamma\": [\n",
    "        0.01, 0.1, 1.0,\n",
    "    ],\n",
    "    \"degree\": [\n",
    "        3, 6, 9,\n",
    "    ]\n",
    "}"
   ]
  },
  {
   "attachments": {},
   "cell_type": "markdown",
   "metadata": {},
   "source": [
    "### __2. Pengukuran Performa (Pelatihan)__"
   ]
  },
  {
   "cell_type": "markdown",
   "metadata": {},
   "source": [
    "Beralih ke:\n",
    "- [1. Pemodelan SVM](#1-pemodelan-svm)\n",
    "- [2.1 Pengukuran Performa: SVM + BoW](#21-pengukuran-performa-svm--bow)"
   ]
  },
  {
   "cell_type": "code",
   "execution_count": 13,
   "metadata": {},
   "outputs": [],
   "source": [
    "from model.tuning import SVMGridSearchCV"
   ]
  },
  {
   "cell_type": "code",
   "execution_count": 14,
   "metadata": {},
   "outputs": [],
   "source": [
    "n_fold = 10\n",
    "scoring = [\"accuracy\", \"precision\", \"recall\", \"f1\",]\n",
    "random_state = 42\n",
    "dir = f\"data/result/train/\""
   ]
  },
  {
   "cell_type": "code",
   "execution_count": 31,
   "metadata": {},
   "outputs": [],
   "source": [
    "linear_train = SVMGridSearchCV(\n",
    "    model= linear_svm,\n",
    "    params= linear_params,\n",
    "    cv= n_fold,\n",
    "    scoring= scoring,\n",
    "    scoring_avg= \"macro\",\n",
    "    random_state = random_state,\n",
    ")"
   ]
  },
  {
   "cell_type": "code",
   "execution_count": 15,
   "metadata": {},
   "outputs": [],
   "source": [
    "rbf_train = SVMGridSearchCV(\n",
    "    model= rbf_svm,\n",
    "    params= rbf_params,\n",
    "    cv= n_fold,\n",
    "    scoring= scoring,\n",
    "    scoring_avg= \"macro\",\n",
    "    random_state = random_state,\n",
    ")"
   ]
  },
  {
   "cell_type": "code",
   "execution_count": 15,
   "metadata": {},
   "outputs": [],
   "source": [
    "poly_train = SVMGridSearchCV(\n",
    "    model= poly_svm,\n",
    "    params= poly_params,\n",
    "    cv= n_fold,\n",
    "    scoring= scoring,\n",
    "    scoring_avg= \"macro\",\n",
    "    random_state = random_state,\n",
    ")"
   ]
  },
  {
   "attachments": {},
   "cell_type": "markdown",
   "metadata": {},
   "source": [
    "#### 2.1 Pengukuran Performa: SVM + BOW\n",
    "Beralih ke:\n",
    "- [2. Pengukuran Performa (Pelatihan)](#2-pengukuran-performa-pelatihan)\n",
    "- [2.2 Pengukuran Performa: SVM + TF-IDF](#22-pengukuran-performa-svm--tf-idf)"
   ]
  },
  {
   "cell_type": "markdown",
   "metadata": {},
   "source": [
    "##### 2.1.1 Performa Pelatihan Linear-BoW"
   ]
  },
  {
   "cell_type": "code",
   "execution_count": 16,
   "metadata": {},
   "outputs": [
    {
     "name": "stdout",
     "output_type": "stream",
     "text": [
      "Number of folds: 5\n",
      "Total combination of parameters: 5\n"
     ]
    },
    {
     "name": "stdout",
     "output_type": "stream",
     "text": [
      "i=0|{'kernel': 'linear', 'C': 1.0}  {'mean_accuracy': 0.673, 'mean_precision': 0.663, 'mean_recall': 0.659, 'mean_f1': 0.655}\n",
      "i=1|{'kernel': 'linear', 'C': 10.0}  {'mean_accuracy': 0.676, 'mean_precision': 0.665, 'mean_recall': 0.664, 'mean_f1': 0.664}\n",
      "i=2|{'kernel': 'linear', 'C': 100.0}  {'mean_accuracy': 0.648, 'mean_precision': 0.637, 'mean_recall': 0.634, 'mean_f1': 0.635}\n",
      "i=3|{'kernel': 'linear', 'C': 1000.0}  {'mean_accuracy': 0.637, 'mean_precision': 0.627, 'mean_recall': 0.623, 'mean_f1': 0.624}\n",
      "i=4|{'kernel': 'linear', 'C': 10000.0}  {'mean_accuracy': 0.625, 'mean_precision': 0.616, 'mean_recall': 0.611, 'mean_f1': 0.612}\n"
     ]
    }
   ],
   "source": [
    "linear_train.fit(X_train, y_train) # k = 5"
   ]
  },
  {
   "cell_type": "code",
   "execution_count": 17,
   "metadata": {},
   "outputs": [
    {
     "name": "stdout",
     "output_type": "stream",
     "text": [
      "Best train (k=5) result of Linear-BoW:\n"
     ]
    },
    {
     "data": {
      "text/plain": [
       "[{'params': {'kernel': 'linear', 'C': 10.0},\n",
       "  'scores': {'mean_accuracy': 0.676,\n",
       "   'mean_precision': 0.665,\n",
       "   'mean_recall': 0.664,\n",
       "   'mean_f1': 0.664}}]"
      ]
     },
     "execution_count": 17,
     "metadata": {},
     "output_type": "execute_result"
    }
   ],
   "source": [
    "print(f\"Best train (k={n_fold}) result of Linear-BoW:\")\n",
    "linear_train.get_best_result(base_on=\"accuracy\")"
   ]
  },
  {
   "cell_type": "code",
   "execution_count": 21,
   "metadata": {},
   "outputs": [
    {
     "name": "stdout",
     "output_type": "stream",
     "text": [
      "Number of folds: 10\n",
      "Total combination of parameters: 5\n"
     ]
    },
    {
     "name": "stdout",
     "output_type": "stream",
     "text": [
      "i=0|{'kernel': 'linear', 'C': 1.0}  {'mean_accuracy': 0.685, 'mean_precision': 0.678, 'mean_recall': 0.673, 'mean_f1': 0.67}\n",
      "i=1|{'kernel': 'linear', 'C': 10.0}  {'mean_accuracy': 0.689, 'mean_precision': 0.68, 'mean_recall': 0.678, 'mean_f1': 0.677}\n",
      "i=2|{'kernel': 'linear', 'C': 100.0}  {'mean_accuracy': 0.654, 'mean_precision': 0.643, 'mean_recall': 0.64, 'mean_f1': 0.64}\n",
      "i=3|{'kernel': 'linear', 'C': 1000.0}  {'mean_accuracy': 0.645, 'mean_precision': 0.638, 'mean_recall': 0.632, 'mean_f1': 0.632}\n",
      "i=4|{'kernel': 'linear', 'C': 10000.0}  {'mean_accuracy': 0.629, 'mean_precision': 0.62, 'mean_recall': 0.615, 'mean_f1': 0.615}\n"
     ]
    }
   ],
   "source": [
    "linear_train.fit(X_train, y_train) # k = 10"
   ]
  },
  {
   "cell_type": "code",
   "execution_count": 23,
   "metadata": {},
   "outputs": [
    {
     "name": "stdout",
     "output_type": "stream",
     "text": [
      "Best train (k=10) result of Linear-BoW:\n"
     ]
    },
    {
     "data": {
      "text/plain": [
       "[{'params': {'kernel': 'linear', 'C': 10.0},\n",
       "  'scores': {'mean_accuracy': 0.689,\n",
       "   'mean_precision': 0.68,\n",
       "   'mean_recall': 0.678,\n",
       "   'mean_f1': 0.677}}]"
      ]
     },
     "execution_count": 23,
     "metadata": {},
     "output_type": "execute_result"
    }
   ],
   "source": [
    "print(f\"Best train (k={n_fold}) result of Linear-BoW:\")\n",
    "linear_train.get_best_result(base_on=\"accuracy\")"
   ]
  },
  {
   "cell_type": "code",
   "execution_count": 24,
   "metadata": {},
   "outputs": [],
   "source": [
    "# Save the result\n",
    "res_table = linear_train.get_table_result()\n",
    "res_best_table = linear_train.get_best_table_result(base_on=\"accuracy\")\n",
    "\n",
    "res_table.to_csv(dir+f\"train_k{n_fold}_linear_bow.csv\", index=False)\n",
    "res_best_table.to_csv(dir+f\"train_k{n_fold}_linear_bow[best].csv\", index=False)"
   ]
  },
  {
   "cell_type": "markdown",
   "metadata": {},
   "source": [
    "##### 2.1.2 Performa Pelatihan RBF-BoW"
   ]
  },
  {
   "cell_type": "code",
   "execution_count": 29,
   "metadata": {},
   "outputs": [
    {
     "name": "stdout",
     "output_type": "stream",
     "text": [
      "Number of folds: 5\n",
      "Total combination of parameters: 15\n"
     ]
    },
    {
     "name": "stdout",
     "output_type": "stream",
     "text": [
      "i=0|{'kernel': 'rbf', 'C': 1.0, 'gamma': 0.01}  {'mean_accuracy': 0.527, 'mean_precision': 0.593, 'mean_recall': 0.507, 'mean_f1': 0.471}\n",
      "i=1|{'kernel': 'rbf', 'C': 1.0, 'gamma': 0.1}  {'mean_accuracy': 0.642, 'mean_precision': 0.646, 'mean_recall': 0.621, 'mean_f1': 0.618}\n",
      "i=2|{'kernel': 'rbf', 'C': 1.0, 'gamma': 1.0}  {'mean_accuracy': 0.576, 'mean_precision': 0.615, 'mean_recall': 0.533, 'mean_f1': 0.513}\n",
      "i=3|{'kernel': 'rbf', 'C': 10.0, 'gamma': 0.01}  {'mean_accuracy': 0.657, 'mean_precision': 0.665, 'mean_recall': 0.641, 'mean_f1': 0.636}\n",
      "i=4|{'kernel': 'rbf', 'C': 10.0, 'gamma': 0.1}  {'mean_accuracy': 0.677, 'mean_precision': 0.666, 'mean_recall': 0.658, 'mean_f1': 0.659}\n",
      "i=5|{'kernel': 'rbf', 'C': 10.0, 'gamma': 1.0}  {'mean_accuracy': 0.583, 'mean_precision': 0.614, 'mean_recall': 0.54, 'mean_f1': 0.521}\n",
      "i=6|{'kernel': 'rbf', 'C': 100.0, 'gamma': 0.01}  {'mean_accuracy': 0.674, 'mean_precision': 0.663, 'mean_recall': 0.659, 'mean_f1': 0.658}\n",
      "i=7|{'kernel': 'rbf', 'C': 100.0, 'gamma': 0.1}  {'mean_accuracy': 0.669, 'mean_precision': 0.655, 'mean_recall': 0.648, 'mean_f1': 0.648}\n",
      "i=8|{'kernel': 'rbf', 'C': 100.0, 'gamma': 1.0}  {'mean_accuracy': 0.568, 'mean_precision': 0.592, 'mean_recall': 0.527, 'mean_f1': 0.51}\n",
      "i=9|{'kernel': 'rbf', 'C': 1000.0, 'gamma': 0.01}  {'mean_accuracy': 0.676, 'mean_precision': 0.662, 'mean_recall': 0.658, 'mean_f1': 0.659}\n",
      "i=10|{'kernel': 'rbf', 'C': 1000.0, 'gamma': 0.1}  {'mean_accuracy': 0.644, 'mean_precision': 0.632, 'mean_recall': 0.624, 'mean_f1': 0.625}\n",
      "i=11|{'kernel': 'rbf', 'C': 1000.0, 'gamma': 1.0}  {'mean_accuracy': 0.567, 'mean_precision': 0.596, 'mean_recall': 0.525, 'mean_f1': 0.507}\n",
      "i=12|{'kernel': 'rbf', 'C': 10000.0, 'gamma': 0.01}  {'mean_accuracy': 0.647, 'mean_precision': 0.636, 'mean_recall': 0.63, 'mean_f1': 0.631}\n",
      "i=13|{'kernel': 'rbf', 'C': 10000.0, 'gamma': 0.1}  {'mean_accuracy': 0.627, 'mean_precision': 0.616, 'mean_recall': 0.605, 'mean_f1': 0.605}\n",
      "i=14|{'kernel': 'rbf', 'C': 10000.0, 'gamma': 1.0}  {'mean_accuracy': 0.568, 'mean_precision': 0.598, 'mean_recall': 0.526, 'mean_f1': 0.508}\n"
     ]
    }
   ],
   "source": [
    "rbf_train.fit(X_train, y_train) # k = 5"
   ]
  },
  {
   "cell_type": "code",
   "execution_count": 30,
   "metadata": {},
   "outputs": [
    {
     "name": "stdout",
     "output_type": "stream",
     "text": [
      "Best train (k=5) result of RBF-BoW:\n"
     ]
    },
    {
     "data": {
      "text/plain": [
       "[{'params': {'kernel': 'rbf', 'C': 10.0, 'gamma': 0.1},\n",
       "  'scores': {'mean_accuracy': 0.677,\n",
       "   'mean_precision': 0.666,\n",
       "   'mean_recall': 0.658,\n",
       "   'mean_f1': 0.659}}]"
      ]
     },
     "execution_count": 30,
     "metadata": {},
     "output_type": "execute_result"
    }
   ],
   "source": [
    "print(f\"Best train (k={n_fold}) result of RBF-BoW:\")\n",
    "rbf_train.get_best_result(base_on=\"accuracy\")"
   ]
  },
  {
   "cell_type": "code",
   "execution_count": 34,
   "metadata": {},
   "outputs": [
    {
     "name": "stdout",
     "output_type": "stream",
     "text": [
      "Number of folds: 10\n",
      "Total combination of parameters: 15\n"
     ]
    },
    {
     "name": "stdout",
     "output_type": "stream",
     "text": [
      "i=0|{'kernel': 'rbf', 'C': 1.0, 'gamma': 0.01}  {'mean_accuracy': 0.544, 'mean_precision': 0.61, 'mean_recall': 0.523, 'mean_f1': 0.494}\n",
      "i=1|{'kernel': 'rbf', 'C': 1.0, 'gamma': 0.1}  {'mean_accuracy': 0.655, 'mean_precision': 0.659, 'mean_recall': 0.638, 'mean_f1': 0.636}\n",
      "i=2|{'kernel': 'rbf', 'C': 1.0, 'gamma': 1.0}  {'mean_accuracy': 0.579, 'mean_precision': 0.627, 'mean_recall': 0.537, 'mean_f1': 0.519}\n",
      "i=3|{'kernel': 'rbf', 'C': 10.0, 'gamma': 0.01}  {'mean_accuracy': 0.663, 'mean_precision': 0.67, 'mean_recall': 0.649, 'mean_f1': 0.644}\n",
      "i=4|{'kernel': 'rbf', 'C': 10.0, 'gamma': 0.1}  {'mean_accuracy': 0.691, 'mean_precision': 0.682, 'mean_recall': 0.674, 'mean_f1': 0.674}\n",
      "i=5|{'kernel': 'rbf', 'C': 10.0, 'gamma': 1.0}  {'mean_accuracy': 0.588, 'mean_precision': 0.625, 'mean_recall': 0.545, 'mean_f1': 0.527}\n",
      "i=6|{'kernel': 'rbf', 'C': 100.0, 'gamma': 0.01}  {'mean_accuracy': 0.689, 'mean_precision': 0.681, 'mean_recall': 0.675, 'mean_f1': 0.674}\n",
      "i=7|{'kernel': 'rbf', 'C': 100.0, 'gamma': 0.1}  {'mean_accuracy': 0.676, 'mean_precision': 0.665, 'mean_recall': 0.656, 'mean_f1': 0.657}\n",
      "i=8|{'kernel': 'rbf', 'C': 100.0, 'gamma': 1.0}  {'mean_accuracy': 0.579, 'mean_precision': 0.609, 'mean_recall': 0.537, 'mean_f1': 0.519}\n",
      "i=9|{'kernel': 'rbf', 'C': 1000.0, 'gamma': 0.01}  {'mean_accuracy': 0.676, 'mean_precision': 0.665, 'mean_recall': 0.66, 'mean_f1': 0.66}\n",
      "i=10|{'kernel': 'rbf', 'C': 1000.0, 'gamma': 0.1}  {'mean_accuracy': 0.638, 'mean_precision': 0.628, 'mean_recall': 0.619, 'mean_f1': 0.619}\n",
      "i=11|{'kernel': 'rbf', 'C': 1000.0, 'gamma': 1.0}  {'mean_accuracy': 0.577, 'mean_precision': 0.606, 'mean_recall': 0.534, 'mean_f1': 0.515}\n",
      "i=12|{'kernel': 'rbf', 'C': 10000.0, 'gamma': 0.01}  {'mean_accuracy': 0.645, 'mean_precision': 0.636, 'mean_recall': 0.627, 'mean_f1': 0.628}\n",
      "i=13|{'kernel': 'rbf', 'C': 10000.0, 'gamma': 0.1}  {'mean_accuracy': 0.632, 'mean_precision': 0.621, 'mean_recall': 0.609, 'mean_f1': 0.609}\n",
      "i=14|{'kernel': 'rbf', 'C': 10000.0, 'gamma': 1.0}  {'mean_accuracy': 0.576, 'mean_precision': 0.609, 'mean_recall': 0.534, 'mean_f1': 0.515}\n"
     ]
    }
   ],
   "source": [
    "rbf_train.fit(X_train, y_train) # k = 10"
   ]
  },
  {
   "cell_type": "code",
   "execution_count": 35,
   "metadata": {},
   "outputs": [
    {
     "name": "stdout",
     "output_type": "stream",
     "text": [
      "Best train (k=10) result of RBF-BoW:\n"
     ]
    },
    {
     "data": {
      "text/plain": [
       "[{'params': {'kernel': 'rbf', 'C': 10.0, 'gamma': 0.1},\n",
       "  'scores': {'mean_accuracy': 0.691,\n",
       "   'mean_precision': 0.682,\n",
       "   'mean_recall': 0.674,\n",
       "   'mean_f1': 0.674}}]"
      ]
     },
     "execution_count": 35,
     "metadata": {},
     "output_type": "execute_result"
    }
   ],
   "source": [
    "print(f\"Best train (k={n_fold}) result of RBF-BoW:\")\n",
    "rbf_train.get_best_result(base_on=\"accuracy\")"
   ]
  },
  {
   "cell_type": "code",
   "execution_count": 36,
   "metadata": {},
   "outputs": [],
   "source": [
    "# Save the result\n",
    "res_table = rbf_train.get_table_result()\n",
    "res_best_table = rbf_train.get_best_table_result(base_on=\"accuracy\")\n",
    "\n",
    "res_table.to_csv(dir+f\"train_k{n_fold}_rbf_bow.csv\", index=False)\n",
    "res_best_table.to_csv(dir+f\"train_k{n_fold}_rbf_bow[best].csv\", index=False)"
   ]
  },
  {
   "cell_type": "markdown",
   "metadata": {},
   "source": [
    "##### 2.1.3 Performa Pelatihan Polinomial-BoW"
   ]
  },
  {
   "cell_type": "code",
   "execution_count": 42,
   "metadata": {},
   "outputs": [
    {
     "name": "stdout",
     "output_type": "stream",
     "text": [
      "Number of folds: 5\n",
      "Total combination of parameters: 45\n"
     ]
    },
    {
     "name": "stdout",
     "output_type": "stream",
     "text": [
      "i=0|{'kernel': 'poly', 'C': 1.0, 'gamma': 0.01, 'degree': 3}  {'mean_accuracy': 0.365, 'mean_precision': 0.305, 'mean_recall': 0.336, 'mean_f1': 0.182}\n",
      "i=1|{'kernel': 'poly', 'C': 1.0, 'gamma': 0.01, 'degree': 6}  {'mean_accuracy': 0.363, 'mean_precision': 0.188, 'mean_recall': 0.334, 'mean_f1': 0.178}\n",
      "i=2|{'kernel': 'poly', 'C': 1.0, 'gamma': 0.01, 'degree': 9}  {'mean_accuracy': 0.363, 'mean_precision': 0.188, 'mean_recall': 0.334, 'mean_f1': 0.178}\n",
      "i=3|{'kernel': 'poly', 'C': 1.0, 'gamma': 0.1, 'degree': 3}  {'mean_accuracy': 0.368, 'mean_precision': 0.566, 'mean_recall': 0.338, 'mean_f1': 0.188}\n",
      "i=4|{'kernel': 'poly', 'C': 1.0, 'gamma': 0.1, 'degree': 6}  {'mean_accuracy': 0.364, 'mean_precision': 0.321, 'mean_recall': 0.334, 'mean_f1': 0.18}\n",
      "i=5|{'kernel': 'poly', 'C': 1.0, 'gamma': 0.1, 'degree': 9}  {'mean_accuracy': 0.364, 'mean_precision': 0.321, 'mean_recall': 0.334, 'mean_f1': 0.18}\n",
      "i=6|{'kernel': 'poly', 'C': 1.0, 'gamma': 1.0, 'degree': 3}  {'mean_accuracy': 0.491, 'mean_precision': 0.601, 'mean_recall': 0.469, 'mean_f1': 0.427}\n",
      "i=7|{'kernel': 'poly', 'C': 1.0, 'gamma': 1.0, 'degree': 6}  {'mean_accuracy': 0.412, 'mean_precision': 0.611, 'mean_recall': 0.388, 'mean_f1': 0.291}\n",
      "i=8|{'kernel': 'poly', 'C': 1.0, 'gamma': 1.0, 'degree': 9}  {'mean_accuracy': 0.405, 'mean_precision': 0.622, 'mean_recall': 0.38, 'mean_f1': 0.275}\n",
      "i=9|{'kernel': 'poly', 'C': 10.0, 'gamma': 0.01, 'degree': 3}  {'mean_accuracy': 0.365, 'mean_precision': 0.305, 'mean_recall': 0.336, 'mean_f1': 0.182}\n",
      "i=10|{'kernel': 'poly', 'C': 10.0, 'gamma': 0.01, 'degree': 6}  {'mean_accuracy': 0.363, 'mean_precision': 0.188, 'mean_recall': 0.334, 'mean_f1': 0.178}\n",
      "i=11|{'kernel': 'poly', 'C': 10.0, 'gamma': 0.01, 'degree': 9}  {'mean_accuracy': 0.363, 'mean_precision': 0.188, 'mean_recall': 0.334, 'mean_f1': 0.178}\n",
      "i=12|{'kernel': 'poly', 'C': 10.0, 'gamma': 0.1, 'degree': 3}  {'mean_accuracy': 0.383, 'mean_precision': 0.785, 'mean_recall': 0.357, 'mean_f1': 0.225}\n",
      "i=13|{'kernel': 'poly', 'C': 10.0, 'gamma': 0.1, 'degree': 6}  {'mean_accuracy': 0.368, 'mean_precision': 0.566, 'mean_recall': 0.338, 'mean_f1': 0.188}\n",
      "i=14|{'kernel': 'poly', 'C': 10.0, 'gamma': 0.1, 'degree': 9}  {'mean_accuracy': 0.364, 'mean_precision': 0.321, 'mean_recall': 0.334, 'mean_f1': 0.18}\n",
      "i=15|{'kernel': 'poly', 'C': 10.0, 'gamma': 1.0, 'degree': 3}  {'mean_accuracy': 0.56, 'mean_precision': 0.597, 'mean_recall': 0.541, 'mean_f1': 0.524}\n",
      "i=16|{'kernel': 'poly', 'C': 10.0, 'gamma': 1.0, 'degree': 6}  {'mean_accuracy': 0.426, 'mean_precision': 0.58, 'mean_recall': 0.402, 'mean_f1': 0.319}\n",
      "i=17|{'kernel': 'poly', 'C': 10.0, 'gamma': 1.0, 'degree': 9}  {'mean_accuracy': 0.406, 'mean_precision': 0.578, 'mean_recall': 0.381, 'mean_f1': 0.28}\n",
      "i=18|{'kernel': 'poly', 'C': 100.0, 'gamma': 0.01, 'degree': 3}  {'mean_accuracy': 0.365, 'mean_precision': 0.305, 'mean_recall': 0.336, 'mean_f1': 0.182}\n",
      "i=19|{'kernel': 'poly', 'C': 100.0, 'gamma': 0.01, 'degree': 6}  {'mean_accuracy': 0.363, 'mean_precision': 0.188, 'mean_recall': 0.334, 'mean_f1': 0.178}\n",
      "i=20|{'kernel': 'poly', 'C': 100.0, 'gamma': 0.01, 'degree': 9}  {'mean_accuracy': 0.363, 'mean_precision': 0.188, 'mean_recall': 0.334, 'mean_f1': 0.178}\n",
      "i=21|{'kernel': 'poly', 'C': 100.0, 'gamma': 0.1, 'degree': 3}  {'mean_accuracy': 0.405, 'mean_precision': 0.708, 'mean_recall': 0.379, 'mean_f1': 0.269}\n",
      "i=22|{'kernel': 'poly', 'C': 100.0, 'gamma': 0.1, 'degree': 6}  {'mean_accuracy': 0.373, 'mean_precision': 0.709, 'mean_recall': 0.344, 'mean_f1': 0.2}\n",
      "i=23|{'kernel': 'poly', 'C': 100.0, 'gamma': 0.1, 'degree': 9}  {'mean_accuracy': 0.368, 'mean_precision': 0.633, 'mean_recall': 0.339, 'mean_f1': 0.19}\n",
      "i=24|{'kernel': 'poly', 'C': 100.0, 'gamma': 1.0, 'degree': 3}  {'mean_accuracy': 0.593, 'mean_precision': 0.592, 'mean_recall': 0.576, 'mean_f1': 0.567}\n",
      "i=25|{'kernel': 'poly', 'C': 100.0, 'gamma': 1.0, 'degree': 6}  {'mean_accuracy': 0.464, 'mean_precision': 0.575, 'mean_recall': 0.444, 'mean_f1': 0.389}\n",
      "i=26|{'kernel': 'poly', 'C': 100.0, 'gamma': 1.0, 'degree': 9}  {'mean_accuracy': 0.419, 'mean_precision': 0.579, 'mean_recall': 0.396, 'mean_f1': 0.308}\n",
      "i=27|{'kernel': 'poly', 'C': 1000.0, 'gamma': 0.01, 'degree': 3}  {'mean_accuracy': 0.368, 'mean_precision': 0.566, 'mean_recall': 0.338, 'mean_f1': 0.188}\n",
      "i=28|{'kernel': 'poly', 'C': 1000.0, 'gamma': 0.01, 'degree': 6}  {'mean_accuracy': 0.363, 'mean_precision': 0.188, 'mean_recall': 0.334, 'mean_f1': 0.178}\n",
      "i=29|{'kernel': 'poly', 'C': 1000.0, 'gamma': 0.01, 'degree': 9}  {'mean_accuracy': 0.363, 'mean_precision': 0.188, 'mean_recall': 0.334, 'mean_f1': 0.178}\n",
      "i=30|{'kernel': 'poly', 'C': 1000.0, 'gamma': 0.1, 'degree': 3}  {'mean_accuracy': 0.491, 'mean_precision': 0.601, 'mean_recall': 0.469, 'mean_f1': 0.427}\n",
      "i=31|{'kernel': 'poly', 'C': 1000.0, 'gamma': 0.1, 'degree': 6}  {'mean_accuracy': 0.38, 'mean_precision': 0.782, 'mean_recall': 0.353, 'mean_f1': 0.218}\n",
      "i=32|{'kernel': 'poly', 'C': 1000.0, 'gamma': 0.1, 'degree': 9}  {'mean_accuracy': 0.369, 'mean_precision': 0.638, 'mean_recall': 0.34, 'mean_f1': 0.192}\n",
      "i=33|{'kernel': 'poly', 'C': 1000.0, 'gamma': 1.0, 'degree': 3}  {'mean_accuracy': 0.589, 'mean_precision': 0.575, 'mean_recall': 0.568, 'mean_f1': 0.561}\n",
      "i=34|{'kernel': 'poly', 'C': 1000.0, 'gamma': 1.0, 'degree': 6}  {'mean_accuracy': 0.53, 'mean_precision': 0.598, 'mean_recall': 0.511, 'mean_f1': 0.486}\n",
      "i=35|{'kernel': 'poly', 'C': 1000.0, 'gamma': 1.0, 'degree': 9}  {'mean_accuracy': 0.438, 'mean_precision': 0.557, 'mean_recall': 0.417, 'mean_f1': 0.346}\n",
      "i=36|{'kernel': 'poly', 'C': 10000.0, 'gamma': 0.01, 'degree': 3}  {'mean_accuracy': 0.383, 'mean_precision': 0.785, 'mean_recall': 0.357, 'mean_f1': 0.225}\n",
      "i=37|{'kernel': 'poly', 'C': 10000.0, 'gamma': 0.01, 'degree': 6}  {'mean_accuracy': 0.363, 'mean_precision': 0.188, 'mean_recall': 0.334, 'mean_f1': 0.178}\n",
      "i=38|{'kernel': 'poly', 'C': 10000.0, 'gamma': 0.01, 'degree': 9}  {'mean_accuracy': 0.363, 'mean_precision': 0.188, 'mean_recall': 0.334, 'mean_f1': 0.178}\n",
      "i=39|{'kernel': 'poly', 'C': 10000.0, 'gamma': 0.1, 'degree': 3}  {'mean_accuracy': 0.56, 'mean_precision': 0.597, 'mean_recall': 0.541, 'mean_f1': 0.524}\n",
      "i=40|{'kernel': 'poly', 'C': 10000.0, 'gamma': 0.1, 'degree': 6}  {'mean_accuracy': 0.385, 'mean_precision': 0.785, 'mean_recall': 0.359, 'mean_f1': 0.229}\n",
      "i=41|{'kernel': 'poly', 'C': 10000.0, 'gamma': 0.1, 'degree': 9}  {'mean_accuracy': 0.38, 'mean_precision': 0.782, 'mean_recall': 0.352, 'mean_f1': 0.217}\n",
      "i=42|{'kernel': 'poly', 'C': 10000.0, 'gamma': 1.0, 'degree': 3}  {'mean_accuracy': 0.579, 'mean_precision': 0.562, 'mean_recall': 0.56, 'mean_f1': 0.556}\n",
      "i=43|{'kernel': 'poly', 'C': 10000.0, 'gamma': 1.0, 'degree': 6}  {'mean_accuracy': 0.544, 'mean_precision': 0.574, 'mean_recall': 0.527, 'mean_f1': 0.508}\n",
      "i=44|{'kernel': 'poly', 'C': 10000.0, 'gamma': 1.0, 'degree': 9}  {'mean_accuracy': 0.467, 'mean_precision': 0.565, 'mean_recall': 0.446, 'mean_f1': 0.398}\n"
     ]
    }
   ],
   "source": [
    "poly_train.fit(X_train, y_train) # k = 5"
   ]
  },
  {
   "cell_type": "code",
   "execution_count": 43,
   "metadata": {},
   "outputs": [
    {
     "name": "stdout",
     "output_type": "stream",
     "text": [
      "Best train (k=5) result of Poly-BoW:\n"
     ]
    },
    {
     "data": {
      "text/plain": [
       "[{'params': {'kernel': 'poly', 'C': 100.0, 'gamma': 1.0, 'degree': 3},\n",
       "  'scores': {'mean_accuracy': 0.593,\n",
       "   'mean_precision': 0.592,\n",
       "   'mean_recall': 0.576,\n",
       "   'mean_f1': 0.567}}]"
      ]
     },
     "execution_count": 43,
     "metadata": {},
     "output_type": "execute_result"
    }
   ],
   "source": [
    "print(f\"Best train (k={n_fold}) result of Poly-BoW:\")\n",
    "poly_train.get_best_result(base_on=\"accuracy\")"
   ]
  },
  {
   "cell_type": "code",
   "execution_count": 17,
   "metadata": {},
   "outputs": [
    {
     "name": "stdout",
     "output_type": "stream",
     "text": [
      "Number of folds: 10\n",
      "Total combination of parameters: 45\n"
     ]
    },
    {
     "name": "stdout",
     "output_type": "stream",
     "text": [
      "i=0|{'kernel': 'poly', 'C': 1.0, 'gamma': 0.01, 'degree': 3}  {'mean_accuracy': 0.367, 'mean_precision': 0.271, 'mean_recall': 0.337, 'mean_f1': 0.186}\n",
      "i=1|{'kernel': 'poly', 'C': 1.0, 'gamma': 0.01, 'degree': 6}  {'mean_accuracy': 0.363, 'mean_precision': 0.154, 'mean_recall': 0.334, 'mean_f1': 0.178}\n",
      "i=2|{'kernel': 'poly', 'C': 1.0, 'gamma': 0.01, 'degree': 9}  {'mean_accuracy': 0.363, 'mean_precision': 0.154, 'mean_recall': 0.334, 'mean_f1': 0.178}\n",
      "i=3|{'kernel': 'poly', 'C': 1.0, 'gamma': 0.1, 'degree': 3}  {'mean_accuracy': 0.368, 'mean_precision': 0.405, 'mean_recall': 0.338, 'mean_f1': 0.188}\n",
      "i=4|{'kernel': 'poly', 'C': 1.0, 'gamma': 0.1, 'degree': 6}  {'mean_accuracy': 0.364, 'mean_precision': 0.221, 'mean_recall': 0.334, 'mean_f1': 0.18}\n",
      "i=5|{'kernel': 'poly', 'C': 1.0, 'gamma': 0.1, 'degree': 9}  {'mean_accuracy': 0.364, 'mean_precision': 0.221, 'mean_recall': 0.334, 'mean_f1': 0.18}\n",
      "i=6|{'kernel': 'poly', 'C': 1.0, 'gamma': 1.0, 'degree': 3}  {'mean_accuracy': 0.503, 'mean_precision': 0.604, 'mean_recall': 0.481, 'mean_f1': 0.442}\n",
      "i=7|{'kernel': 'poly', 'C': 1.0, 'gamma': 1.0, 'degree': 6}  {'mean_accuracy': 0.42, 'mean_precision': 0.617, 'mean_recall': 0.396, 'mean_f1': 0.304}\n",
      "i=8|{'kernel': 'poly', 'C': 1.0, 'gamma': 1.0, 'degree': 9}  {'mean_accuracy': 0.409, 'mean_precision': 0.644, 'mean_recall': 0.384, 'mean_f1': 0.283}\n",
      "i=9|{'kernel': 'poly', 'C': 10.0, 'gamma': 0.01, 'degree': 3}  {'mean_accuracy': 0.367, 'mean_precision': 0.271, 'mean_recall': 0.337, 'mean_f1': 0.186}\n",
      "i=10|{'kernel': 'poly', 'C': 10.0, 'gamma': 0.01, 'degree': 6}  {'mean_accuracy': 0.363, 'mean_precision': 0.154, 'mean_recall': 0.334, 'mean_f1': 0.178}\n",
      "i=11|{'kernel': 'poly', 'C': 10.0, 'gamma': 0.01, 'degree': 9}  {'mean_accuracy': 0.363, 'mean_precision': 0.154, 'mean_recall': 0.334, 'mean_f1': 0.178}\n",
      "i=12|{'kernel': 'poly', 'C': 10.0, 'gamma': 0.1, 'degree': 3}  {'mean_accuracy': 0.386, 'mean_precision': 0.751, 'mean_recall': 0.36, 'mean_f1': 0.232}\n",
      "i=13|{'kernel': 'poly', 'C': 10.0, 'gamma': 0.1, 'degree': 6}  {'mean_accuracy': 0.368, 'mean_precision': 0.405, 'mean_recall': 0.338, 'mean_f1': 0.188}\n",
      "i=14|{'kernel': 'poly', 'C': 10.0, 'gamma': 0.1, 'degree': 9}  {'mean_accuracy': 0.364, 'mean_precision': 0.221, 'mean_recall': 0.334, 'mean_f1': 0.18}\n",
      "i=15|{'kernel': 'poly', 'C': 10.0, 'gamma': 1.0, 'degree': 3}  {'mean_accuracy': 0.574, 'mean_precision': 0.611, 'mean_recall': 0.555, 'mean_f1': 0.541}\n",
      "i=16|{'kernel': 'poly', 'C': 10.0, 'gamma': 1.0, 'degree': 6}  {'mean_accuracy': 0.439, 'mean_precision': 0.603, 'mean_recall': 0.417, 'mean_f1': 0.343}\n",
      "i=17|{'kernel': 'poly', 'C': 10.0, 'gamma': 1.0, 'degree': 9}  {'mean_accuracy': 0.415, 'mean_precision': 0.618, 'mean_recall': 0.392, 'mean_f1': 0.296}\n",
      "i=18|{'kernel': 'poly', 'C': 100.0, 'gamma': 0.01, 'degree': 3}  {'mean_accuracy': 0.367, 'mean_precision': 0.271, 'mean_recall': 0.337, 'mean_f1': 0.186}\n",
      "i=19|{'kernel': 'poly', 'C': 100.0, 'gamma': 0.01, 'degree': 6}  {'mean_accuracy': 0.363, 'mean_precision': 0.154, 'mean_recall': 0.334, 'mean_f1': 0.178}\n",
      "i=20|{'kernel': 'poly', 'C': 100.0, 'gamma': 0.01, 'degree': 9}  {'mean_accuracy': 0.363, 'mean_precision': 0.154, 'mean_recall': 0.334, 'mean_f1': 0.178}\n",
      "i=21|{'kernel': 'poly', 'C': 100.0, 'gamma': 0.1, 'degree': 3}  {'mean_accuracy': 0.415, 'mean_precision': 0.691, 'mean_recall': 0.39, 'mean_f1': 0.288}\n",
      "i=22|{'kernel': 'poly', 'C': 100.0, 'gamma': 0.1, 'degree': 6}  {'mean_accuracy': 0.375, 'mean_precision': 0.639, 'mean_recall': 0.346, 'mean_f1': 0.204}\n",
      "i=23|{'kernel': 'poly', 'C': 100.0, 'gamma': 0.1, 'degree': 9}  {'mean_accuracy': 0.369, 'mean_precision': 0.505, 'mean_recall': 0.34, 'mean_f1': 0.192}\n",
      "i=24|{'kernel': 'poly', 'C': 100.0, 'gamma': 1.0, 'degree': 3}  {'mean_accuracy': 0.609, 'mean_precision': 0.605, 'mean_recall': 0.59, 'mean_f1': 0.582}\n",
      "i=25|{'kernel': 'poly', 'C': 100.0, 'gamma': 1.0, 'degree': 6}  {'mean_accuracy': 0.48, 'mean_precision': 0.59, 'mean_recall': 0.46, 'mean_f1': 0.411}\n",
      "i=26|{'kernel': 'poly', 'C': 100.0, 'gamma': 1.0, 'degree': 9}  {'mean_accuracy': 0.433, 'mean_precision': 0.615, 'mean_recall': 0.411, 'mean_f1': 0.332}\n",
      "i=27|{'kernel': 'poly', 'C': 1000.0, 'gamma': 0.01, 'degree': 3}  {'mean_accuracy': 0.368, 'mean_precision': 0.405, 'mean_recall': 0.338, 'mean_f1': 0.188}\n",
      "i=28|{'kernel': 'poly', 'C': 1000.0, 'gamma': 0.01, 'degree': 6}  {'mean_accuracy': 0.363, 'mean_precision': 0.154, 'mean_recall': 0.334, 'mean_f1': 0.178}\n",
      "i=29|{'kernel': 'poly', 'C': 1000.0, 'gamma': 0.01, 'degree': 9}  {'mean_accuracy': 0.363, 'mean_precision': 0.154, 'mean_recall': 0.334, 'mean_f1': 0.178}\n",
      "i=30|{'kernel': 'poly', 'C': 1000.0, 'gamma': 0.1, 'degree': 3}  {'mean_accuracy': 0.503, 'mean_precision': 0.604, 'mean_recall': 0.481, 'mean_f1': 0.442}\n",
      "i=31|{'kernel': 'poly', 'C': 1000.0, 'gamma': 0.1, 'degree': 6}  {'mean_accuracy': 0.383, 'mean_precision': 0.715, 'mean_recall': 0.356, 'mean_f1': 0.223}\n",
      "i=32|{'kernel': 'poly', 'C': 1000.0, 'gamma': 0.1, 'degree': 9}  {'mean_accuracy': 0.371, 'mean_precision': 0.539, 'mean_recall': 0.342, 'mean_f1': 0.196}\n",
      "i=33|{'kernel': 'poly', 'C': 1000.0, 'gamma': 1.0, 'degree': 3}  {'mean_accuracy': 0.606, 'mean_precision': 0.59, 'mean_recall': 0.585, 'mean_f1': 0.581}\n",
      "i=34|{'kernel': 'poly', 'C': 1000.0, 'gamma': 1.0, 'degree': 6}  {'mean_accuracy': 0.535, 'mean_precision': 0.585, 'mean_recall': 0.514, 'mean_f1': 0.491}\n",
      "i=35|{'kernel': 'poly', 'C': 1000.0, 'gamma': 1.0, 'degree': 9}  {'mean_accuracy': 0.454, 'mean_precision': 0.59, 'mean_recall': 0.434, 'mean_f1': 0.37}\n",
      "i=36|{'kernel': 'poly', 'C': 10000.0, 'gamma': 0.01, 'degree': 3}  {'mean_accuracy': 0.386, 'mean_precision': 0.751, 'mean_recall': 0.36, 'mean_f1': 0.232}\n",
      "i=37|{'kernel': 'poly', 'C': 10000.0, 'gamma': 0.01, 'degree': 6}  {'mean_accuracy': 0.363, 'mean_precision': 0.154, 'mean_recall': 0.334, 'mean_f1': 0.178}\n",
      "i=38|{'kernel': 'poly', 'C': 10000.0, 'gamma': 0.01, 'degree': 9}  {'mean_accuracy': 0.363, 'mean_precision': 0.154, 'mean_recall': 0.334, 'mean_f1': 0.178}\n",
      "i=39|{'kernel': 'poly', 'C': 10000.0, 'gamma': 0.1, 'degree': 3}  {'mean_accuracy': 0.574, 'mean_precision': 0.611, 'mean_recall': 0.555, 'mean_f1': 0.541}\n",
      "i=40|{'kernel': 'poly', 'C': 10000.0, 'gamma': 0.1, 'degree': 6}  {'mean_accuracy': 0.389, 'mean_precision': 0.743, 'mean_recall': 0.363, 'mean_f1': 0.238}\n",
      "i=41|{'kernel': 'poly', 'C': 10000.0, 'gamma': 0.1, 'degree': 9}  {'mean_accuracy': 0.382, 'mean_precision': 0.715, 'mean_recall': 0.355, 'mean_f1': 0.222}\n",
      "i=42|{'kernel': 'poly', 'C': 10000.0, 'gamma': 1.0, 'degree': 3}  {'mean_accuracy': 0.583, 'mean_precision': 0.563, 'mean_recall': 0.563, 'mean_f1': 0.561}\n",
      "i=43|{'kernel': 'poly', 'C': 10000.0, 'gamma': 1.0, 'degree': 6}  {'mean_accuracy': 0.554, 'mean_precision': 0.576, 'mean_recall': 0.535, 'mean_f1': 0.519}\n",
      "i=44|{'kernel': 'poly', 'C': 10000.0, 'gamma': 1.0, 'degree': 9}  {'mean_accuracy': 0.486, 'mean_precision': 0.584, 'mean_recall': 0.466, 'mean_f1': 0.424}\n"
     ]
    }
   ],
   "source": [
    "poly_train.fit(X_train, y_train) # k = 10"
   ]
  },
  {
   "cell_type": "code",
   "execution_count": 18,
   "metadata": {},
   "outputs": [
    {
     "name": "stdout",
     "output_type": "stream",
     "text": [
      "Best train (k=10) result of Poly-BoW:\n"
     ]
    },
    {
     "data": {
      "text/plain": [
       "[{'params': {'kernel': 'poly', 'C': 100.0, 'gamma': 1.0, 'degree': 3},\n",
       "  'scores': {'mean_accuracy': 0.609,\n",
       "   'mean_precision': 0.605,\n",
       "   'mean_recall': 0.59,\n",
       "   'mean_f1': 0.582}}]"
      ]
     },
     "execution_count": 18,
     "metadata": {},
     "output_type": "execute_result"
    }
   ],
   "source": [
    "print(f\"Best train (k={n_fold}) result of Poly-BoW:\")\n",
    "poly_train.get_best_result(base_on=\"accuracy\")"
   ]
  },
  {
   "cell_type": "code",
   "execution_count": 19,
   "metadata": {},
   "outputs": [],
   "source": [
    "# Save the result\n",
    "res_table = poly_train.get_table_result()\n",
    "res_best_table = poly_train.get_best_table_result()\n",
    "\n",
    "res_table.to_csv(dir+f\"train_k{n_fold}_poly_bow.csv\", index=False)\n",
    "res_best_table.to_csv(dir+f\"train_k{n_fold}_poly_bow[best].csv\", index=False)"
   ]
  },
  {
   "attachments": {},
   "cell_type": "markdown",
   "metadata": {},
   "source": [
    "#### 2.2 Pengukuran Performa: SVM + TF-IDF\n",
    "Beralih ke:\n",
    "- [2.1 Pengukuran Performa: SVM + BoW](#21-pengukuran-performa-svm--bow)\n",
    "- [3. Pengujian](#3-pengujian)"
   ]
  },
  {
   "cell_type": "markdown",
   "metadata": {},
   "source": [
    "##### 2.2.1 Performa Pelatihan Linear-TFIDF"
   ]
  },
  {
   "cell_type": "code",
   "execution_count": 27,
   "metadata": {},
   "outputs": [
    {
     "name": "stdout",
     "output_type": "stream",
     "text": [
      "Number of folds: 5\n",
      "Total combination of parameters: 5\n"
     ]
    },
    {
     "name": "stdout",
     "output_type": "stream",
     "text": [
      "i=0|{'kernel': 'linear', 'C': 1.0}  {'mean_accuracy': 0.698, 'mean_precision': 0.687, 'mean_recall': 0.685, 'mean_f1': 0.686}\n",
      "i=1|{'kernel': 'linear', 'C': 10.0}  {'mean_accuracy': 0.676, 'mean_precision': 0.668, 'mean_recall': 0.663, 'mean_f1': 0.665}\n",
      "i=2|{'kernel': 'linear', 'C': 100.0}  {'mean_accuracy': 0.651, 'mean_precision': 0.643, 'mean_recall': 0.638, 'mean_f1': 0.639}\n",
      "i=3|{'kernel': 'linear', 'C': 1000.0}  {'mean_accuracy': 0.627, 'mean_precision': 0.621, 'mean_recall': 0.614, 'mean_f1': 0.615}\n",
      "i=4|{'kernel': 'linear', 'C': 10000.0}  {'mean_accuracy': 0.604, 'mean_precision': 0.606, 'mean_recall': 0.592, 'mean_f1': 0.593}\n"
     ]
    }
   ],
   "source": [
    "linear_train.fit(X_train, y_train) # k = 5"
   ]
  },
  {
   "cell_type": "code",
   "execution_count": 28,
   "metadata": {},
   "outputs": [
    {
     "name": "stdout",
     "output_type": "stream",
     "text": [
      "Best train (k=5) result of Linear-TFIDF:\n"
     ]
    },
    {
     "data": {
      "text/plain": [
       "[{'params': {'kernel': 'poly', 'C': 100.0, 'gamma': 1.0, 'degree': 3},\n",
       "  'scores': {'mean_accuracy': 0.609,\n",
       "   'mean_precision': 0.605,\n",
       "   'mean_recall': 0.59,\n",
       "   'mean_f1': 0.582}}]"
      ]
     },
     "execution_count": 28,
     "metadata": {},
     "output_type": "execute_result"
    }
   ],
   "source": [
    "print(f\"Best train (k={n_fold}) result of Linear-TFIDF:\")\n",
    "poly_train.get_best_result(base_on=\"accuracy\")"
   ]
  },
  {
   "cell_type": "code",
   "execution_count": 32,
   "metadata": {},
   "outputs": [
    {
     "name": "stdout",
     "output_type": "stream",
     "text": [
      "Number of folds: 10\n",
      "Total combination of parameters: 5\n"
     ]
    },
    {
     "name": "stdout",
     "output_type": "stream",
     "text": [
      "i=0|{'kernel': 'linear', 'C': 1.0}  {'mean_accuracy': 0.721, 'mean_precision': 0.713, 'mean_recall': 0.711, 'mean_f1': 0.71}\n",
      "i=1|{'kernel': 'linear', 'C': 10.0}  {'mean_accuracy': 0.686, 'mean_precision': 0.679, 'mean_recall': 0.673, 'mean_f1': 0.673}\n",
      "i=2|{'kernel': 'linear', 'C': 100.0}  {'mean_accuracy': 0.647, 'mean_precision': 0.639, 'mean_recall': 0.633, 'mean_f1': 0.633}\n",
      "i=3|{'kernel': 'linear', 'C': 1000.0}  {'mean_accuracy': 0.648, 'mean_precision': 0.639, 'mean_recall': 0.632, 'mean_f1': 0.633}\n",
      "i=4|{'kernel': 'linear', 'C': 10000.0}  {'mean_accuracy': 0.638, 'mean_precision': 0.634, 'mean_recall': 0.623, 'mean_f1': 0.623}\n"
     ]
    }
   ],
   "source": [
    "linear_train.fit(X_train, y_train) # k = 10"
   ]
  },
  {
   "cell_type": "code",
   "execution_count": 33,
   "metadata": {},
   "outputs": [
    {
     "name": "stdout",
     "output_type": "stream",
     "text": [
      "Best train (k=10) result of Linear-TFIDF:\n"
     ]
    },
    {
     "data": {
      "text/plain": [
       "[{'params': {'kernel': 'poly', 'C': 100.0, 'gamma': 1.0, 'degree': 3},\n",
       "  'scores': {'mean_accuracy': 0.609,\n",
       "   'mean_precision': 0.605,\n",
       "   'mean_recall': 0.59,\n",
       "   'mean_f1': 0.582}}]"
      ]
     },
     "execution_count": 33,
     "metadata": {},
     "output_type": "execute_result"
    }
   ],
   "source": [
    "print(f\"Best train (k={n_fold}) result of Linear-TFIDF:\")\n",
    "poly_train.get_best_result(base_on=\"accuracy\")"
   ]
  },
  {
   "cell_type": "code",
   "execution_count": 34,
   "metadata": {},
   "outputs": [],
   "source": [
    "# Save the result\n",
    "res_table = linear_train.get_table_result()\n",
    "res_best_table = linear_train.get_best_table_result(base_on=\"accuracy\")\n",
    "\n",
    "res_table.to_csv(dir+f\"train_k{n_fold}_linear_tfidf.csv\", index=False)\n",
    "res_best_table.to_csv(dir+f\"train_k{n_fold}_linear_tfidf[best].csv\", index=False)"
   ]
  },
  {
   "cell_type": "markdown",
   "metadata": {},
   "source": [
    "##### 2.2.2 Performa Pelatihan RBF-TFIDF"
   ]
  },
  {
   "cell_type": "code",
   "execution_count": 41,
   "metadata": {},
   "outputs": [
    {
     "name": "stdout",
     "output_type": "stream",
     "text": [
      "Number of folds: 5\n",
      "Total combination of parameters: 15\n"
     ]
    },
    {
     "name": "stdout",
     "output_type": "stream",
     "text": [
      "i=0|{'kernel': 'rbf', 'C': 1.0, 'gamma': 0.01}  {'mean_accuracy': 0.47, 'mean_precision': 0.662, 'mean_recall': 0.476, 'mean_f1': 0.407}\n",
      "i=1|{'kernel': 'rbf', 'C': 1.0, 'gamma': 0.1}  {'mean_accuracy': 0.673, 'mean_precision': 0.677, 'mean_recall': 0.667, 'mean_f1': 0.667}\n",
      "i=2|{'kernel': 'rbf', 'C': 1.0, 'gamma': 1.0}  {'mean_accuracy': 0.709, 'mean_precision': 0.717, 'mean_recall': 0.683, 'mean_f1': 0.686}\n",
      "i=3|{'kernel': 'rbf', 'C': 10.0, 'gamma': 0.01}  {'mean_accuracy': 0.68, 'mean_precision': 0.68, 'mean_recall': 0.676, 'mean_f1': 0.674}\n",
      "i=4|{'kernel': 'rbf', 'C': 10.0, 'gamma': 0.1}  {'mean_accuracy': 0.704, 'mean_precision': 0.695, 'mean_recall': 0.688, 'mean_f1': 0.69}\n",
      "i=5|{'kernel': 'rbf', 'C': 10.0, 'gamma': 1.0}  {'mean_accuracy': 0.711, 'mean_precision': 0.71, 'mean_recall': 0.69, 'mean_f1': 0.693}\n",
      "i=6|{'kernel': 'rbf', 'C': 100.0, 'gamma': 0.01}  {'mean_accuracy': 0.7, 'mean_precision': 0.69, 'mean_recall': 0.685, 'mean_f1': 0.686}\n",
      "i=7|{'kernel': 'rbf', 'C': 100.0, 'gamma': 0.1}  {'mean_accuracy': 0.679, 'mean_precision': 0.671, 'mean_recall': 0.665, 'mean_f1': 0.667}\n",
      "i=8|{'kernel': 'rbf', 'C': 100.0, 'gamma': 1.0}  {'mean_accuracy': 0.712, 'mean_precision': 0.711, 'mean_recall': 0.691, 'mean_f1': 0.694}\n",
      "i=9|{'kernel': 'rbf', 'C': 1000.0, 'gamma': 0.01}  {'mean_accuracy': 0.669, 'mean_precision': 0.661, 'mean_recall': 0.655, 'mean_f1': 0.656}\n",
      "i=10|{'kernel': 'rbf', 'C': 1000.0, 'gamma': 0.1}  {'mean_accuracy': 0.677, 'mean_precision': 0.669, 'mean_recall': 0.663, 'mean_f1': 0.664}\n",
      "i=11|{'kernel': 'rbf', 'C': 1000.0, 'gamma': 1.0}  {'mean_accuracy': 0.711, 'mean_precision': 0.71, 'mean_recall': 0.69, 'mean_f1': 0.693}\n",
      "i=12|{'kernel': 'rbf', 'C': 10000.0, 'gamma': 0.01}  {'mean_accuracy': 0.657, 'mean_precision': 0.648, 'mean_recall': 0.642, 'mean_f1': 0.644}\n",
      "i=13|{'kernel': 'rbf', 'C': 10000.0, 'gamma': 0.1}  {'mean_accuracy': 0.672, 'mean_precision': 0.663, 'mean_recall': 0.657, 'mean_f1': 0.659}\n",
      "i=14|{'kernel': 'rbf', 'C': 10000.0, 'gamma': 1.0}  {'mean_accuracy': 0.711, 'mean_precision': 0.71, 'mean_recall': 0.69, 'mean_f1': 0.693}\n"
     ]
    }
   ],
   "source": [
    "rbf_train.fit(X_train, y_train) # k = 5"
   ]
  },
  {
   "cell_type": "code",
   "execution_count": 42,
   "metadata": {},
   "outputs": [
    {
     "name": "stdout",
     "output_type": "stream",
     "text": [
      "Best train (k=5) result of RBF-TFIDF:\n"
     ]
    },
    {
     "data": {
      "text/plain": [
       "[{'params': {'kernel': 'rbf', 'C': 100.0, 'gamma': 1.0},\n",
       "  'scores': {'mean_accuracy': 0.712,\n",
       "   'mean_precision': 0.711,\n",
       "   'mean_recall': 0.691,\n",
       "   'mean_f1': 0.694}}]"
      ]
     },
     "execution_count": 42,
     "metadata": {},
     "output_type": "execute_result"
    }
   ],
   "source": [
    "print(f\"Best train (k={n_fold}) result of RBF-TFIDF:\")\n",
    "rbf_train.get_best_result(base_on=\"accuracy\")"
   ]
  },
  {
   "cell_type": "code",
   "execution_count": 16,
   "metadata": {},
   "outputs": [
    {
     "name": "stdout",
     "output_type": "stream",
     "text": [
      "Number of folds: 10\n",
      "Total combination of parameters: 15\n"
     ]
    },
    {
     "name": "stdout",
     "output_type": "stream",
     "text": [
      "i=0|{'kernel': 'rbf', 'C': 1.0, 'gamma': 0.01}  {'mean_accuracy': 0.499, 'mean_precision': 0.663, 'mean_recall': 0.511, 'mean_f1': 0.444}\n",
      "i=1|{'kernel': 'rbf', 'C': 1.0, 'gamma': 0.1}  {'mean_accuracy': 0.693, 'mean_precision': 0.692, 'mean_recall': 0.688, 'mean_f1': 0.686}\n",
      "i=2|{'kernel': 'rbf', 'C': 1.0, 'gamma': 1.0}  {'mean_accuracy': 0.725, 'mean_precision': 0.736, 'mean_recall': 0.701, 'mean_f1': 0.704}\n",
      "i=3|{'kernel': 'rbf', 'C': 10.0, 'gamma': 0.01}  {'mean_accuracy': 0.697, 'mean_precision': 0.694, 'mean_recall': 0.695, 'mean_f1': 0.691}\n",
      "i=4|{'kernel': 'rbf', 'C': 10.0, 'gamma': 0.1}  {'mean_accuracy': 0.719, 'mean_precision': 0.711, 'mean_recall': 0.705, 'mean_f1': 0.706}\n",
      "i=5|{'kernel': 'rbf', 'C': 10.0, 'gamma': 1.0}  {'mean_accuracy': 0.731, 'mean_precision': 0.728, 'mean_recall': 0.712, 'mean_f1': 0.714}\n",
      "i=6|{'kernel': 'rbf', 'C': 100.0, 'gamma': 0.01}  {'mean_accuracy': 0.713, 'mean_precision': 0.704, 'mean_recall': 0.699, 'mean_f1': 0.7}\n",
      "i=7|{'kernel': 'rbf', 'C': 100.0, 'gamma': 0.1}  {'mean_accuracy': 0.689, 'mean_precision': 0.682, 'mean_recall': 0.676, 'mean_f1': 0.677}\n",
      "i=8|{'kernel': 'rbf', 'C': 100.0, 'gamma': 1.0}  {'mean_accuracy': 0.73, 'mean_precision': 0.727, 'mean_recall': 0.711, 'mean_f1': 0.713}\n",
      "i=9|{'kernel': 'rbf', 'C': 1000.0, 'gamma': 0.01}  {'mean_accuracy': 0.672, 'mean_precision': 0.665, 'mean_recall': 0.658, 'mean_f1': 0.659}\n",
      "i=10|{'kernel': 'rbf', 'C': 1000.0, 'gamma': 0.1}  {'mean_accuracy': 0.684, 'mean_precision': 0.676, 'mean_recall': 0.671, 'mean_f1': 0.672}\n",
      "i=11|{'kernel': 'rbf', 'C': 1000.0, 'gamma': 1.0}  {'mean_accuracy': 0.729, 'mean_precision': 0.726, 'mean_recall': 0.709, 'mean_f1': 0.712}\n",
      "i=12|{'kernel': 'rbf', 'C': 10000.0, 'gamma': 0.01}  {'mean_accuracy': 0.656, 'mean_precision': 0.647, 'mean_recall': 0.641, 'mean_f1': 0.642}\n",
      "i=13|{'kernel': 'rbf', 'C': 10000.0, 'gamma': 0.1}  {'mean_accuracy': 0.68, 'mean_precision': 0.672, 'mean_recall': 0.667, 'mean_f1': 0.668}\n",
      "i=14|{'kernel': 'rbf', 'C': 10000.0, 'gamma': 1.0}  {'mean_accuracy': 0.726, 'mean_precision': 0.723, 'mean_recall': 0.706, 'mean_f1': 0.708}\n"
     ]
    }
   ],
   "source": [
    "rbf_train.fit(X_train, y_train) # k = 10"
   ]
  },
  {
   "cell_type": "code",
   "execution_count": 17,
   "metadata": {},
   "outputs": [
    {
     "name": "stdout",
     "output_type": "stream",
     "text": [
      "Best train (k=10) result of RBF-TFIDF:\n"
     ]
    },
    {
     "data": {
      "text/plain": [
       "[{'params': {'kernel': 'rbf', 'C': 10.0, 'gamma': 1.0},\n",
       "  'scores': {'mean_accuracy': 0.731,\n",
       "   'mean_precision': 0.728,\n",
       "   'mean_recall': 0.712,\n",
       "   'mean_f1': 0.714}}]"
      ]
     },
     "execution_count": 17,
     "metadata": {},
     "output_type": "execute_result"
    }
   ],
   "source": [
    "print(f\"Best train (k={n_fold}) result of RBF-TFIDF:\")\n",
    "rbf_train.get_best_result(base_on=\"accuracy\")"
   ]
  },
  {
   "cell_type": "code",
   "execution_count": 18,
   "metadata": {},
   "outputs": [],
   "source": [
    "# Save the result\n",
    "res_table = rbf_train.get_table_result()\n",
    "res_best_table = rbf_train.get_best_table_result(base_on=\"accuracy\")\n",
    "\n",
    "res_table.to_csv(dir+f\"train_k{n_fold}_rbf_tfidf.csv\", index=False)\n",
    "res_best_table.to_csv(dir+f\"train_k{n_fold}_rbf_tfidf[best].csv\", index=False)"
   ]
  },
  {
   "cell_type": "markdown",
   "metadata": {},
   "source": [
    "##### 2.2.3 Performa Pelatihan Polinomial-TFIDF"
   ]
  },
  {
   "cell_type": "code",
   "execution_count": 23,
   "metadata": {},
   "outputs": [
    {
     "name": "stdout",
     "output_type": "stream",
     "text": [
      "Number of folds: 5\n",
      "Total combination of parameters: 45\n"
     ]
    },
    {
     "name": "stdout",
     "output_type": "stream",
     "text": [
      "i=0|{'kernel': 'poly', 'C': 1.0, 'gamma': 0.01, 'degree': 3}  {'mean_accuracy': 0.432, 'mean_precision': 0.758, 'mean_recall': 0.388, 'mean_f1': 0.291}\n",
      "i=1|{'kernel': 'poly', 'C': 1.0, 'gamma': 0.01, 'degree': 6}  {'mean_accuracy': 0.43, 'mean_precision': 0.771, 'mean_recall': 0.386, 'mean_f1': 0.286}\n",
      "i=2|{'kernel': 'poly', 'C': 1.0, 'gamma': 0.01, 'degree': 9}  {'mean_accuracy': 0.553, 'mean_precision': 0.559, 'mean_recall': 0.538, 'mean_f1': 0.534}\n",
      "i=3|{'kernel': 'poly', 'C': 1.0, 'gamma': 0.1, 'degree': 3}  {'mean_accuracy': 0.432, 'mean_precision': 0.758, 'mean_recall': 0.388, 'mean_f1': 0.291}\n",
      "i=4|{'kernel': 'poly', 'C': 1.0, 'gamma': 0.1, 'degree': 6}  {'mean_accuracy': 0.43, 'mean_precision': 0.771, 'mean_recall': 0.386, 'mean_f1': 0.286}\n",
      "i=5|{'kernel': 'poly', 'C': 1.0, 'gamma': 0.1, 'degree': 9}  {'mean_accuracy': 0.43, 'mean_precision': 0.771, 'mean_recall': 0.386, 'mean_f1': 0.286}\n",
      "i=6|{'kernel': 'poly', 'C': 1.0, 'gamma': 1.0, 'degree': 3}  {'mean_accuracy': 0.568, 'mean_precision': 0.654, 'mean_recall': 0.529, 'mean_f1': 0.512}\n",
      "i=7|{'kernel': 'poly', 'C': 1.0, 'gamma': 1.0, 'degree': 6}  {'mean_accuracy': 0.49, 'mean_precision': 0.69, 'mean_recall': 0.444, 'mean_f1': 0.385}\n",
      "i=8|{'kernel': 'poly', 'C': 1.0, 'gamma': 1.0, 'degree': 9}  {'mean_accuracy': 0.479, 'mean_precision': 0.716, 'mean_recall': 0.433, 'mean_f1': 0.368}\n",
      "i=9|{'kernel': 'poly', 'C': 10.0, 'gamma': 0.01, 'degree': 3}  {'mean_accuracy': 0.432, 'mean_precision': 0.758, 'mean_recall': 0.388, 'mean_f1': 0.291}\n",
      "i=10|{'kernel': 'poly', 'C': 10.0, 'gamma': 0.01, 'degree': 6}  {'mean_accuracy': 0.43, 'mean_precision': 0.771, 'mean_recall': 0.386, 'mean_f1': 0.286}\n",
      "i=11|{'kernel': 'poly', 'C': 10.0, 'gamma': 0.01, 'degree': 9}  {'mean_accuracy': 0.553, 'mean_precision': 0.559, 'mean_recall': 0.538, 'mean_f1': 0.534}\n",
      "i=12|{'kernel': 'poly', 'C': 10.0, 'gamma': 0.1, 'degree': 3}  {'mean_accuracy': 0.432, 'mean_precision': 0.758, 'mean_recall': 0.388, 'mean_f1': 0.291}\n",
      "i=13|{'kernel': 'poly', 'C': 10.0, 'gamma': 0.1, 'degree': 6}  {'mean_accuracy': 0.43, 'mean_precision': 0.771, 'mean_recall': 0.386, 'mean_f1': 0.286}\n",
      "i=14|{'kernel': 'poly', 'C': 10.0, 'gamma': 0.1, 'degree': 9}  {'mean_accuracy': 0.43, 'mean_precision': 0.771, 'mean_recall': 0.386, 'mean_f1': 0.286}\n",
      "i=15|{'kernel': 'poly', 'C': 10.0, 'gamma': 1.0, 'degree': 3}  {'mean_accuracy': 0.578, 'mean_precision': 0.626, 'mean_recall': 0.595, 'mean_f1': 0.58}\n",
      "i=16|{'kernel': 'poly', 'C': 10.0, 'gamma': 1.0, 'degree': 6}  {'mean_accuracy': 0.359, 'mean_precision': 0.681, 'mean_recall': 0.423, 'mean_f1': 0.303}\n",
      "i=17|{'kernel': 'poly', 'C': 10.0, 'gamma': 1.0, 'degree': 9}  {'mean_accuracy': 0.35, 'mean_precision': 0.705, 'mean_recall': 0.415, 'mean_f1': 0.288}\n",
      "i=18|{'kernel': 'poly', 'C': 100.0, 'gamma': 0.01, 'degree': 3}  {'mean_accuracy': 0.432, 'mean_precision': 0.758, 'mean_recall': 0.388, 'mean_f1': 0.291}\n",
      "i=19|{'kernel': 'poly', 'C': 100.0, 'gamma': 0.01, 'degree': 6}  {'mean_accuracy': 0.43, 'mean_precision': 0.771, 'mean_recall': 0.386, 'mean_f1': 0.286}\n",
      "i=20|{'kernel': 'poly', 'C': 100.0, 'gamma': 0.01, 'degree': 9}  {'mean_accuracy': 0.43, 'mean_precision': 0.771, 'mean_recall': 0.385, 'mean_f1': 0.283}\n",
      "i=21|{'kernel': 'poly', 'C': 100.0, 'gamma': 0.1, 'degree': 3}  {'mean_accuracy': 0.441, 'mean_precision': 0.762, 'mean_recall': 0.397, 'mean_f1': 0.305}\n",
      "i=22|{'kernel': 'poly', 'C': 100.0, 'gamma': 0.1, 'degree': 6}  {'mean_accuracy': 0.43, 'mean_precision': 0.771, 'mean_recall': 0.386, 'mean_f1': 0.286}\n",
      "i=23|{'kernel': 'poly', 'C': 100.0, 'gamma': 0.1, 'degree': 9}  {'mean_accuracy': 0.43, 'mean_precision': 0.771, 'mean_recall': 0.386, 'mean_f1': 0.286}\n",
      "i=24|{'kernel': 'poly', 'C': 100.0, 'gamma': 1.0, 'degree': 3}  {'mean_accuracy': 0.578, 'mean_precision': 0.627, 'mean_recall': 0.595, 'mean_f1': 0.58}\n",
      "i=25|{'kernel': 'poly', 'C': 100.0, 'gamma': 1.0, 'degree': 6}  {'mean_accuracy': 0.36, 'mean_precision': 0.679, 'mean_recall': 0.423, 'mean_f1': 0.303}\n",
      "i=26|{'kernel': 'poly', 'C': 100.0, 'gamma': 1.0, 'degree': 9}  {'mean_accuracy': 0.351, 'mean_precision': 0.703, 'mean_recall': 0.416, 'mean_f1': 0.288}\n",
      "i=27|{'kernel': 'poly', 'C': 1000.0, 'gamma': 0.01, 'degree': 3}  {'mean_accuracy': 0.432, 'mean_precision': 0.758, 'mean_recall': 0.388, 'mean_f1': 0.291}\n",
      "i=28|{'kernel': 'poly', 'C': 1000.0, 'gamma': 0.01, 'degree': 6}  {'mean_accuracy': 0.43, 'mean_precision': 0.771, 'mean_recall': 0.386, 'mean_f1': 0.286}\n",
      "i=29|{'kernel': 'poly', 'C': 1000.0, 'gamma': 0.01, 'degree': 9}  {'mean_accuracy': 0.431, 'mean_precision': 0.771, 'mean_recall': 0.387, 'mean_f1': 0.288}\n",
      "i=30|{'kernel': 'poly', 'C': 1000.0, 'gamma': 0.1, 'degree': 3}  {'mean_accuracy': 0.568, 'mean_precision': 0.654, 'mean_recall': 0.529, 'mean_f1': 0.512}\n",
      "i=31|{'kernel': 'poly', 'C': 1000.0, 'gamma': 0.1, 'degree': 6}  {'mean_accuracy': 0.43, 'mean_precision': 0.771, 'mean_recall': 0.386, 'mean_f1': 0.286}\n",
      "i=32|{'kernel': 'poly', 'C': 1000.0, 'gamma': 0.1, 'degree': 9}  {'mean_accuracy': 0.43, 'mean_precision': 0.771, 'mean_recall': 0.386, 'mean_f1': 0.286}\n",
      "i=33|{'kernel': 'poly', 'C': 1000.0, 'gamma': 1.0, 'degree': 3}  {'mean_accuracy': 0.577, 'mean_precision': 0.626, 'mean_recall': 0.594, 'mean_f1': 0.579}\n",
      "i=34|{'kernel': 'poly', 'C': 1000.0, 'gamma': 1.0, 'degree': 6}  {'mean_accuracy': 0.36, 'mean_precision': 0.679, 'mean_recall': 0.423, 'mean_f1': 0.303}\n",
      "i=35|{'kernel': 'poly', 'C': 1000.0, 'gamma': 1.0, 'degree': 9}  {'mean_accuracy': 0.351, 'mean_precision': 0.703, 'mean_recall': 0.416, 'mean_f1': 0.288}\n",
      "i=36|{'kernel': 'poly', 'C': 10000.0, 'gamma': 0.01, 'degree': 3}  {'mean_accuracy': 0.432, 'mean_precision': 0.758, 'mean_recall': 0.388, 'mean_f1': 0.291}\n",
      "i=37|{'kernel': 'poly', 'C': 10000.0, 'gamma': 0.01, 'degree': 6}  {'mean_accuracy': 0.43, 'mean_precision': 0.771, 'mean_recall': 0.386, 'mean_f1': 0.286}\n",
      "i=38|{'kernel': 'poly', 'C': 10000.0, 'gamma': 0.01, 'degree': 9}  {'mean_accuracy': 0.43, 'mean_precision': 0.771, 'mean_recall': 0.386, 'mean_f1': 0.286}\n",
      "i=39|{'kernel': 'poly', 'C': 10000.0, 'gamma': 0.1, 'degree': 3}  {'mean_accuracy': 0.578, 'mean_precision': 0.626, 'mean_recall': 0.595, 'mean_f1': 0.58}\n",
      "i=40|{'kernel': 'poly', 'C': 10000.0, 'gamma': 0.1, 'degree': 6}  {'mean_accuracy': 0.43, 'mean_precision': 0.771, 'mean_recall': 0.386, 'mean_f1': 0.286}\n",
      "i=41|{'kernel': 'poly', 'C': 10000.0, 'gamma': 0.1, 'degree': 9}  {'mean_accuracy': 0.43, 'mean_precision': 0.771, 'mean_recall': 0.386, 'mean_f1': 0.286}\n",
      "i=42|{'kernel': 'poly', 'C': 10000.0, 'gamma': 1.0, 'degree': 3}  {'mean_accuracy': 0.577, 'mean_precision': 0.626, 'mean_recall': 0.594, 'mean_f1': 0.579}\n",
      "i=43|{'kernel': 'poly', 'C': 10000.0, 'gamma': 1.0, 'degree': 6}  {'mean_accuracy': 0.36, 'mean_precision': 0.679, 'mean_recall': 0.423, 'mean_f1': 0.303}\n",
      "i=44|{'kernel': 'poly', 'C': 10000.0, 'gamma': 1.0, 'degree': 9}  {'mean_accuracy': 0.351, 'mean_precision': 0.703, 'mean_recall': 0.416, 'mean_f1': 0.288}\n"
     ]
    }
   ],
   "source": [
    "poly_train.fit(X_train, y_train) # k = 5"
   ]
  },
  {
   "cell_type": "code",
   "execution_count": 24,
   "metadata": {},
   "outputs": [
    {
     "name": "stdout",
     "output_type": "stream",
     "text": [
      "Best train (k=5) result of Poly-TFIDF:\n"
     ]
    },
    {
     "data": {
      "text/plain": [
       "[{'params': {'kernel': 'poly', 'C': 10.0, 'gamma': 1.0, 'degree': 3},\n",
       "  'scores': {'mean_accuracy': 0.578,\n",
       "   'mean_precision': 0.626,\n",
       "   'mean_recall': 0.595,\n",
       "   'mean_f1': 0.58}}]"
      ]
     },
     "execution_count": 24,
     "metadata": {},
     "output_type": "execute_result"
    }
   ],
   "source": [
    "print(f\"Best train (k={n_fold}) result of Poly-TFIDF:\")\n",
    "poly_train.get_best_result(base_on=\"accuracy\")"
   ]
  },
  {
   "cell_type": "code",
   "execution_count": 16,
   "metadata": {},
   "outputs": [
    {
     "name": "stdout",
     "output_type": "stream",
     "text": [
      "Number of folds: 10\n",
      "Total combination of parameters: 45\n"
     ]
    },
    {
     "name": "stdout",
     "output_type": "stream",
     "text": [
      "i=0|{'kernel': 'poly', 'C': 1.0, 'gamma': 0.01, 'degree': 3}  {'mean_accuracy': 0.429, 'mean_precision': 0.725, 'mean_recall': 0.384, 'mean_f1': 0.283}\n",
      "i=1|{'kernel': 'poly', 'C': 1.0, 'gamma': 0.01, 'degree': 6}  {'mean_accuracy': 0.429, 'mean_precision': 0.681, 'mean_recall': 0.384, 'mean_f1': 0.281}\n",
      "i=2|{'kernel': 'poly', 'C': 1.0, 'gamma': 0.01, 'degree': 9}  {'mean_accuracy': 0.556, 'mean_precision': 0.562, 'mean_recall': 0.54, 'mean_f1': 0.536}\n",
      "i=3|{'kernel': 'poly', 'C': 1.0, 'gamma': 0.1, 'degree': 3}  {'mean_accuracy': 0.429, 'mean_precision': 0.725, 'mean_recall': 0.384, 'mean_f1': 0.283}\n",
      "i=4|{'kernel': 'poly', 'C': 1.0, 'gamma': 0.1, 'degree': 6}  {'mean_accuracy': 0.429, 'mean_precision': 0.681, 'mean_recall': 0.384, 'mean_f1': 0.281}\n",
      "i=5|{'kernel': 'poly', 'C': 1.0, 'gamma': 0.1, 'degree': 9}  {'mean_accuracy': 0.429, 'mean_precision': 0.681, 'mean_recall': 0.384, 'mean_f1': 0.282}\n",
      "i=6|{'kernel': 'poly', 'C': 1.0, 'gamma': 1.0, 'degree': 3}  {'mean_accuracy': 0.579, 'mean_precision': 0.66, 'mean_recall': 0.541, 'mean_f1': 0.527}\n",
      "i=7|{'kernel': 'poly', 'C': 1.0, 'gamma': 1.0, 'degree': 6}  {'mean_accuracy': 0.494, 'mean_precision': 0.684, 'mean_recall': 0.449, 'mean_f1': 0.392}\n",
      "i=8|{'kernel': 'poly', 'C': 1.0, 'gamma': 1.0, 'degree': 9}  {'mean_accuracy': 0.483, 'mean_precision': 0.703, 'mean_recall': 0.437, 'mean_f1': 0.374}\n",
      "i=9|{'kernel': 'poly', 'C': 10.0, 'gamma': 0.01, 'degree': 3}  {'mean_accuracy': 0.429, 'mean_precision': 0.725, 'mean_recall': 0.384, 'mean_f1': 0.283}\n",
      "i=10|{'kernel': 'poly', 'C': 10.0, 'gamma': 0.01, 'degree': 6}  {'mean_accuracy': 0.429, 'mean_precision': 0.681, 'mean_recall': 0.384, 'mean_f1': 0.281}\n",
      "i=11|{'kernel': 'poly', 'C': 10.0, 'gamma': 0.01, 'degree': 9}  {'mean_accuracy': 0.556, 'mean_precision': 0.562, 'mean_recall': 0.54, 'mean_f1': 0.536}\n",
      "i=12|{'kernel': 'poly', 'C': 10.0, 'gamma': 0.1, 'degree': 3}  {'mean_accuracy': 0.429, 'mean_precision': 0.725, 'mean_recall': 0.384, 'mean_f1': 0.283}\n",
      "i=13|{'kernel': 'poly', 'C': 10.0, 'gamma': 0.1, 'degree': 6}  {'mean_accuracy': 0.429, 'mean_precision': 0.681, 'mean_recall': 0.384, 'mean_f1': 0.281}\n",
      "i=14|{'kernel': 'poly', 'C': 10.0, 'gamma': 0.1, 'degree': 9}  {'mean_accuracy': 0.429, 'mean_precision': 0.681, 'mean_recall': 0.384, 'mean_f1': 0.282}\n",
      "i=15|{'kernel': 'poly', 'C': 10.0, 'gamma': 1.0, 'degree': 3}  {'mean_accuracy': 0.593, 'mean_precision': 0.636, 'mean_recall': 0.607, 'mean_f1': 0.594}\n",
      "i=16|{'kernel': 'poly', 'C': 10.0, 'gamma': 1.0, 'degree': 6}  {'mean_accuracy': 0.367, 'mean_precision': 0.664, 'mean_recall': 0.43, 'mean_f1': 0.314}\n",
      "i=17|{'kernel': 'poly', 'C': 10.0, 'gamma': 1.0, 'degree': 9}  {'mean_accuracy': 0.353, 'mean_precision': 0.681, 'mean_recall': 0.418, 'mean_f1': 0.292}\n",
      "i=18|{'kernel': 'poly', 'C': 100.0, 'gamma': 0.01, 'degree': 3}  {'mean_accuracy': 0.429, 'mean_precision': 0.725, 'mean_recall': 0.384, 'mean_f1': 0.283}\n",
      "i=19|{'kernel': 'poly', 'C': 100.0, 'gamma': 0.01, 'degree': 6}  {'mean_accuracy': 0.429, 'mean_precision': 0.681, 'mean_recall': 0.384, 'mean_f1': 0.281}\n",
      "i=20|{'kernel': 'poly', 'C': 100.0, 'gamma': 0.01, 'degree': 9}  {'mean_accuracy': 0.428, 'mean_precision': 0.681, 'mean_recall': 0.383, 'mean_f1': 0.279}\n",
      "i=21|{'kernel': 'poly', 'C': 100.0, 'gamma': 0.1, 'degree': 3}  {'mean_accuracy': 0.443, 'mean_precision': 0.73, 'mean_recall': 0.397, 'mean_f1': 0.306}\n",
      "i=22|{'kernel': 'poly', 'C': 100.0, 'gamma': 0.1, 'degree': 6}  {'mean_accuracy': 0.429, 'mean_precision': 0.681, 'mean_recall': 0.384, 'mean_f1': 0.281}\n",
      "i=23|{'kernel': 'poly', 'C': 100.0, 'gamma': 0.1, 'degree': 9}  {'mean_accuracy': 0.429, 'mean_precision': 0.681, 'mean_recall': 0.384, 'mean_f1': 0.282}\n",
      "i=24|{'kernel': 'poly', 'C': 100.0, 'gamma': 1.0, 'degree': 3}  {'mean_accuracy': 0.593, 'mean_precision': 0.635, 'mean_recall': 0.607, 'mean_f1': 0.593}\n",
      "i=25|{'kernel': 'poly', 'C': 100.0, 'gamma': 1.0, 'degree': 6}  {'mean_accuracy': 0.366, 'mean_precision': 0.662, 'mean_recall': 0.429, 'mean_f1': 0.313}\n",
      "i=26|{'kernel': 'poly', 'C': 100.0, 'gamma': 1.0, 'degree': 9}  {'mean_accuracy': 0.353, 'mean_precision': 0.681, 'mean_recall': 0.418, 'mean_f1': 0.292}\n",
      "i=27|{'kernel': 'poly', 'C': 1000.0, 'gamma': 0.01, 'degree': 3}  {'mean_accuracy': 0.429, 'mean_precision': 0.725, 'mean_recall': 0.384, 'mean_f1': 0.283}\n",
      "i=28|{'kernel': 'poly', 'C': 1000.0, 'gamma': 0.01, 'degree': 6}  {'mean_accuracy': 0.429, 'mean_precision': 0.681, 'mean_recall': 0.384, 'mean_f1': 0.281}\n",
      "i=29|{'kernel': 'poly', 'C': 1000.0, 'gamma': 0.01, 'degree': 9}  {'mean_accuracy': 0.429, 'mean_precision': 0.681, 'mean_recall': 0.384, 'mean_f1': 0.282}\n",
      "i=30|{'kernel': 'poly', 'C': 1000.0, 'gamma': 0.1, 'degree': 3}  {'mean_accuracy': 0.579, 'mean_precision': 0.66, 'mean_recall': 0.541, 'mean_f1': 0.527}\n",
      "i=31|{'kernel': 'poly', 'C': 1000.0, 'gamma': 0.1, 'degree': 6}  {'mean_accuracy': 0.429, 'mean_precision': 0.681, 'mean_recall': 0.384, 'mean_f1': 0.281}\n",
      "i=32|{'kernel': 'poly', 'C': 1000.0, 'gamma': 0.1, 'degree': 9}  {'mean_accuracy': 0.429, 'mean_precision': 0.681, 'mean_recall': 0.384, 'mean_f1': 0.282}\n",
      "i=33|{'kernel': 'poly', 'C': 1000.0, 'gamma': 1.0, 'degree': 3}  {'mean_accuracy': 0.592, 'mean_precision': 0.635, 'mean_recall': 0.607, 'mean_f1': 0.593}\n",
      "i=34|{'kernel': 'poly', 'C': 1000.0, 'gamma': 1.0, 'degree': 6}  {'mean_accuracy': 0.366, 'mean_precision': 0.662, 'mean_recall': 0.429, 'mean_f1': 0.313}\n",
      "i=35|{'kernel': 'poly', 'C': 1000.0, 'gamma': 1.0, 'degree': 9}  {'mean_accuracy': 0.353, 'mean_precision': 0.681, 'mean_recall': 0.418, 'mean_f1': 0.292}\n",
      "i=36|{'kernel': 'poly', 'C': 10000.0, 'gamma': 0.01, 'degree': 3}  {'mean_accuracy': 0.429, 'mean_precision': 0.725, 'mean_recall': 0.384, 'mean_f1': 0.283}\n",
      "i=37|{'kernel': 'poly', 'C': 10000.0, 'gamma': 0.01, 'degree': 6}  {'mean_accuracy': 0.429, 'mean_precision': 0.681, 'mean_recall': 0.384, 'mean_f1': 0.281}\n",
      "i=38|{'kernel': 'poly', 'C': 10000.0, 'gamma': 0.01, 'degree': 9}  {'mean_accuracy': 0.429, 'mean_precision': 0.681, 'mean_recall': 0.384, 'mean_f1': 0.282}\n",
      "i=39|{'kernel': 'poly', 'C': 10000.0, 'gamma': 0.1, 'degree': 3}  {'mean_accuracy': 0.593, 'mean_precision': 0.636, 'mean_recall': 0.607, 'mean_f1': 0.594}\n",
      "i=40|{'kernel': 'poly', 'C': 10000.0, 'gamma': 0.1, 'degree': 6}  {'mean_accuracy': 0.429, 'mean_precision': 0.681, 'mean_recall': 0.384, 'mean_f1': 0.281}\n",
      "i=41|{'kernel': 'poly', 'C': 10000.0, 'gamma': 0.1, 'degree': 9}  {'mean_accuracy': 0.429, 'mean_precision': 0.681, 'mean_recall': 0.384, 'mean_f1': 0.282}\n",
      "i=42|{'kernel': 'poly', 'C': 10000.0, 'gamma': 1.0, 'degree': 3}  {'mean_accuracy': 0.592, 'mean_precision': 0.635, 'mean_recall': 0.606, 'mean_f1': 0.592}\n",
      "i=43|{'kernel': 'poly', 'C': 10000.0, 'gamma': 1.0, 'degree': 6}  {'mean_accuracy': 0.366, 'mean_precision': 0.662, 'mean_recall': 0.429, 'mean_f1': 0.313}\n",
      "i=44|{'kernel': 'poly', 'C': 10000.0, 'gamma': 1.0, 'degree': 9}  {'mean_accuracy': 0.353, 'mean_precision': 0.681, 'mean_recall': 0.418, 'mean_f1': 0.292}\n"
     ]
    }
   ],
   "source": [
    "poly_train.fit(X_train, y_train) # k = 10"
   ]
  },
  {
   "cell_type": "code",
   "execution_count": 17,
   "metadata": {},
   "outputs": [
    {
     "name": "stdout",
     "output_type": "stream",
     "text": [
      "Best train (k=10) result of Poly-TFIDF:\n"
     ]
    },
    {
     "data": {
      "text/plain": [
       "[{'params': {'kernel': 'poly', 'C': 10.0, 'gamma': 1.0, 'degree': 3},\n",
       "  'scores': {'mean_accuracy': 0.593,\n",
       "   'mean_precision': 0.636,\n",
       "   'mean_recall': 0.607,\n",
       "   'mean_f1': 0.594}}]"
      ]
     },
     "execution_count": 17,
     "metadata": {},
     "output_type": "execute_result"
    }
   ],
   "source": [
    "print(f\"Best train (k={n_fold}) result of Poly-TFIDF:\")\n",
    "poly_train.get_best_result(base_on=\"accuracy\")"
   ]
  },
  {
   "cell_type": "code",
   "execution_count": 18,
   "metadata": {},
   "outputs": [],
   "source": [
    "# Save the result\n",
    "res_table = poly_train.get_table_result()\n",
    "res_best_table = poly_train.get_best_table_result(base_on=\"accuracy\")\n",
    "\n",
    "res_table.to_csv(dir+f\"train_k{n_fold}_poly_tfidf.csv\", index=False)\n",
    "res_best_table.to_csv(dir+f\"train_k{n_fold}_poly_tfidf[best].csv\", index=False)"
   ]
  },
  {
   "cell_type": "markdown",
   "metadata": {},
   "source": [
    "***"
   ]
  },
  {
   "cell_type": "markdown",
   "metadata": {},
   "source": [
    "### __3. Pengujian__"
   ]
  },
  {
   "cell_type": "markdown",
   "metadata": {},
   "source": [
    "Beralih ke:\n",
    "- [2.2 Pengukuran Performa: SVM + TF-IDF](#22-pengukuran-performa-svm--tf-idf)\n",
    "- [Daftar Isi](#daftar-isi)"
   ]
  },
  {
   "cell_type": "markdown",
   "metadata": {},
   "source": [
    "#### 3.1 Pengujian SVM + BOW"
   ]
  },
  {
   "cell_type": "code",
   "execution_count": 13,
   "metadata": {},
   "outputs": [],
   "source": [
    "from model.testing import SVMGridTester"
   ]
  },
  {
   "cell_type": "code",
   "execution_count": 14,
   "metadata": {},
   "outputs": [],
   "source": [
    "scoring = [\"accuracy\", \"precision\", \"recall\", \"f1\",]\n",
    "random_state = 42\n",
    "dir = \"data/result/test/\""
   ]
  },
  {
   "cell_type": "markdown",
   "metadata": {},
   "source": [
    "##### 3.1.1 Pengujian Linear-BoW"
   ]
  },
  {
   "cell_type": "code",
   "execution_count": 15,
   "metadata": {},
   "outputs": [
    {
     "name": "stdout",
     "output_type": "stream",
     "text": [
      "Total combination of parameters: 5\n"
     ]
    },
    {
     "name": "stdout",
     "output_type": "stream",
     "text": [
      "i=0|{'kernel': 'linear', 'C': 1.0}  {'accuracy': 0.708, 'precision': 0.696, 'recall': 0.693, 'f1': 0.692}\n",
      "i=1|{'kernel': 'linear', 'C': 10.0}  {'accuracy': 0.716, 'precision': 0.699, 'recall': 0.699, 'f1': 0.699}\n",
      "i=2|{'kernel': 'linear', 'C': 100.0}  {'accuracy': 0.682, 'precision': 0.669, 'recall': 0.669, 'f1': 0.668}\n",
      "i=3|{'kernel': 'linear', 'C': 1000.0}  {'accuracy': 0.673, 'precision': 0.662, 'recall': 0.657, 'f1': 0.658}\n",
      "i=4|{'kernel': 'linear', 'C': 10000.0}  {'accuracy': 0.66, 'precision': 0.649, 'recall': 0.643, 'f1': 0.644}\n"
     ]
    }
   ],
   "source": [
    "linear_test = SVMGridTester(\n",
    "    model = linear_svm,\n",
    "    params = linear_params,\n",
    "    scoring = scoring,\n",
    "    scoring_avg = \"macro\",\n",
    "    random_state = random_state\n",
    ")\n",
    "\n",
    "linear_test.fit_predict(\n",
    "    X_train,\n",
    "    X_test,\n",
    "    y_train,\n",
    "    y_test,\n",
    ")"
   ]
  },
  {
   "cell_type": "code",
   "execution_count": 16,
   "metadata": {},
   "outputs": [
    {
     "name": "stdout",
     "output_type": "stream",
     "text": [
      "Best test result of Linear-BoW:\n"
     ]
    },
    {
     "data": {
      "text/plain": [
       "[{'params': {'kernel': 'linear', 'C': 10.0},\n",
       "  'scores': {'accuracy': 0.716,\n",
       "   'precision': 0.699,\n",
       "   'recall': 0.699,\n",
       "   'f1': 0.699},\n",
       "  'cm': array([[292,  54,  45],\n",
       "         [ 33, 298,  56],\n",
       "         [ 63,  40, 142]], dtype=int64)}]"
      ]
     },
     "execution_count": 16,
     "metadata": {},
     "output_type": "execute_result"
    }
   ],
   "source": [
    "print(\"Best test result of Linear-BoW:\")\n",
    "res_best = linear_test.get_best_result(base_on=\"accuracy\")\n",
    "res_best"
   ]
  },
  {
   "cell_type": "code",
   "execution_count": 17,
   "metadata": {},
   "outputs": [],
   "source": [
    "# Save the result\n",
    "res_table = linear_test.get_table_result()\n",
    "res_best_table = linear_test.get_best_table_result(base_on=\"accuracy\")\n",
    "res_best_cm_table = pandas.DataFrame(res_best[0][\"cm\"])\n",
    "\n",
    "res_table.to_csv(dir+\"test_linear_bow.csv\", index=False)\n",
    "res_best_table.to_csv(dir+\"test_linear_bow[best].csv\", index=False)\n",
    "res_best_cm_table.to_csv(dir+\"test_linear_bow[best-cm].csv\")"
   ]
  },
  {
   "cell_type": "markdown",
   "metadata": {},
   "source": [
    "##### 3.1.2 Pengujian RBF-BoW"
   ]
  },
  {
   "cell_type": "code",
   "execution_count": 20,
   "metadata": {},
   "outputs": [
    {
     "name": "stdout",
     "output_type": "stream",
     "text": [
      "Total combination of parameters: 15\n"
     ]
    },
    {
     "name": "stdout",
     "output_type": "stream",
     "text": [
      "i=0|{'kernel': 'rbf', 'C': 1.0, 'gamma': 0.01}  {'accuracy': 0.563, 'precision': 0.616, 'recall': 0.541, 'f1': 0.521}\n",
      "i=1|{'kernel': 'rbf', 'C': 1.0, 'gamma': 0.1}  {'accuracy': 0.65, 'precision': 0.646, 'recall': 0.624, 'f1': 0.625}\n",
      "i=2|{'kernel': 'rbf', 'C': 1.0, 'gamma': 1.0}  {'accuracy': 0.601, 'precision': 0.665, 'recall': 0.551, 'f1': 0.54}\n",
      "i=3|{'kernel': 'rbf', 'C': 10.0, 'gamma': 0.01}  {'accuracy': 0.67, 'precision': 0.672, 'recall': 0.648, 'f1': 0.648}\n",
      "i=4|{'kernel': 'rbf', 'C': 10.0, 'gamma': 0.1}  {'accuracy': 0.707, 'precision': 0.695, 'recall': 0.685, 'f1': 0.688}\n",
      "i=5|{'kernel': 'rbf', 'C': 10.0, 'gamma': 1.0}  {'accuracy': 0.621, 'precision': 0.668, 'recall': 0.572, 'f1': 0.566}\n",
      "i=6|{'kernel': 'rbf', 'C': 100.0, 'gamma': 0.01}  {'accuracy': 0.715, 'precision': 0.703, 'recall': 0.7, 'f1': 0.701}\n",
      "i=7|{'kernel': 'rbf', 'C': 100.0, 'gamma': 0.1}  {'accuracy': 0.708, 'precision': 0.692, 'recall': 0.686, 'f1': 0.688}\n",
      "i=8|{'kernel': 'rbf', 'C': 100.0, 'gamma': 1.0}  {'accuracy': 0.609, 'precision': 0.664, 'recall': 0.564, 'f1': 0.559}\n",
      "i=9|{'kernel': 'rbf', 'C': 1000.0, 'gamma': 0.01}  {'accuracy': 0.72, 'precision': 0.707, 'recall': 0.703, 'f1': 0.704}\n",
      "i=10|{'kernel': 'rbf', 'C': 1000.0, 'gamma': 0.1}  {'accuracy': 0.681, 'precision': 0.671, 'recall': 0.657, 'f1': 0.66}\n",
      "i=11|{'kernel': 'rbf', 'C': 1000.0, 'gamma': 1.0}  {'accuracy': 0.603, 'precision': 0.649, 'recall': 0.558, 'f1': 0.552}\n",
      "i=12|{'kernel': 'rbf', 'C': 10000.0, 'gamma': 0.01}  {'accuracy': 0.682, 'precision': 0.675, 'recall': 0.664, 'f1': 0.667}\n",
      "i=13|{'kernel': 'rbf', 'C': 10000.0, 'gamma': 0.1}  {'accuracy': 0.657, 'precision': 0.648, 'recall': 0.628, 'f1': 0.631}\n",
      "i=14|{'kernel': 'rbf', 'C': 10000.0, 'gamma': 1.0}  {'accuracy': 0.598, 'precision': 0.643, 'recall': 0.552, 'f1': 0.545}\n"
     ]
    }
   ],
   "source": [
    "rbf_test = SVMGridTester(\n",
    "    model = rbf_svm,\n",
    "    params = rbf_params,\n",
    "    scoring = scoring,\n",
    "    scoring_avg = \"macro\",\n",
    "    random_state = random_state\n",
    ")\n",
    "\n",
    "rbf_test.fit_predict(\n",
    "    X_train,\n",
    "    X_test,\n",
    "    y_train,\n",
    "    y_test,\n",
    ")"
   ]
  },
  {
   "cell_type": "code",
   "execution_count": 21,
   "metadata": {},
   "outputs": [
    {
     "name": "stdout",
     "output_type": "stream",
     "text": [
      "Best test result of RBF-BoW:\n"
     ]
    },
    {
     "data": {
      "text/plain": [
       "[{'params': {'kernel': 'rbf', 'C': 1000.0, 'gamma': 0.01},\n",
       "  'scores': {'accuracy': 0.72,\n",
       "   'precision': 0.707,\n",
       "   'recall': 0.703,\n",
       "   'f1': 0.704},\n",
       "  'cm': array([[303,  51,  37],\n",
       "         [ 45, 293,  49],\n",
       "         [ 67,  37, 141]], dtype=int64)}]"
      ]
     },
     "execution_count": 21,
     "metadata": {},
     "output_type": "execute_result"
    }
   ],
   "source": [
    "print(\"Best test result of RBF-BoW:\")\n",
    "res_best = rbf_test.get_best_result(base_on=\"accuracy\")\n",
    "res_best"
   ]
  },
  {
   "cell_type": "code",
   "execution_count": 22,
   "metadata": {},
   "outputs": [],
   "source": [
    "# Save the result\n",
    "res_table = rbf_test.get_table_result()\n",
    "res_best_table = rbf_test.get_best_table_result(base_on=\"accuracy\")\n",
    "res_best_cm_table = pandas.DataFrame(res_best[0][\"cm\"])\n",
    "\n",
    "res_table.to_csv(dir+\"test_rbf_bow.csv\", index=False)\n",
    "res_best_table.to_csv(dir+\"test_rbf_bow[best].csv\", index=False)\n",
    "res_best_cm_table.to_csv(dir+\"test_rbf_bow[best-cm].csv\")"
   ]
  },
  {
   "cell_type": "markdown",
   "metadata": {},
   "source": [
    "##### 3.1.3 Pengujian Polinomial-BoW"
   ]
  },
  {
   "cell_type": "code",
   "execution_count": 25,
   "metadata": {},
   "outputs": [
    {
     "name": "stdout",
     "output_type": "stream",
     "text": [
      "Total combination of parameters: 45\n"
     ]
    },
    {
     "name": "stdout",
     "output_type": "stream",
     "text": [
      "i=0|{'kernel': 'poly', 'C': 1.0, 'gamma': 0.01, 'degree': 3}  {'accuracy': 0.382, 'precision': 0.46, 'recall': 0.339, 'f1': 0.194}\n",
      "i=1|{'kernel': 'poly', 'C': 1.0, 'gamma': 0.01, 'degree': 6}  {'accuracy': 0.378, 'precision': 0.126, 'recall': 0.333, 'f1': 0.183}\n",
      "i=2|{'kernel': 'poly', 'C': 1.0, 'gamma': 0.01, 'degree': 9}  {'accuracy': 0.378, 'precision': 0.126, 'recall': 0.333, 'f1': 0.183}\n",
      "i=3|{'kernel': 'poly', 'C': 1.0, 'gamma': 0.1, 'degree': 3}  {'accuracy': 0.384, 'precision': 0.46, 'recall': 0.341, 'f1': 0.2}\n",
      "i=4|{'kernel': 'poly', 'C': 1.0, 'gamma': 0.1, 'degree': 6}  {'accuracy': 0.378, 'precision': 0.126, 'recall': 0.333, 'f1': 0.183}\n",
      "i=5|{'kernel': 'poly', 'C': 1.0, 'gamma': 0.1, 'degree': 9}  {'accuracy': 0.378, 'precision': 0.126, 'recall': 0.333, 'f1': 0.183}\n",
      "i=6|{'kernel': 'poly', 'C': 1.0, 'gamma': 1.0, 'degree': 3}  {'accuracy': 0.514, 'precision': 0.587, 'recall': 0.478, 'f1': 0.448}\n",
      "i=7|{'kernel': 'poly', 'C': 1.0, 'gamma': 1.0, 'degree': 6}  {'accuracy': 0.449, 'precision': 0.643, 'recall': 0.415, 'f1': 0.339}\n",
      "i=8|{'kernel': 'poly', 'C': 1.0, 'gamma': 1.0, 'degree': 9}  {'accuracy': 0.432, 'precision': 0.631, 'recall': 0.397, 'f1': 0.309}\n",
      "i=9|{'kernel': 'poly', 'C': 10.0, 'gamma': 0.01, 'degree': 3}  {'accuracy': 0.382, 'precision': 0.46, 'recall': 0.339, 'f1': 0.194}\n",
      "i=10|{'kernel': 'poly', 'C': 10.0, 'gamma': 0.01, 'degree': 6}  {'accuracy': 0.378, 'precision': 0.126, 'recall': 0.333, 'f1': 0.183}\n",
      "i=11|{'kernel': 'poly', 'C': 10.0, 'gamma': 0.01, 'degree': 9}  {'accuracy': 0.378, 'precision': 0.126, 'recall': 0.333, 'f1': 0.183}\n",
      "i=12|{'kernel': 'poly', 'C': 10.0, 'gamma': 0.1, 'degree': 3}  {'accuracy': 0.4, 'precision': 0.796, 'recall': 0.361, 'f1': 0.238}\n",
      "i=13|{'kernel': 'poly', 'C': 10.0, 'gamma': 0.1, 'degree': 6}  {'accuracy': 0.384, 'precision': 0.46, 'recall': 0.341, 'f1': 0.2}\n",
      "i=14|{'kernel': 'poly', 'C': 10.0, 'gamma': 0.1, 'degree': 9}  {'accuracy': 0.384, 'precision': 0.46, 'recall': 0.341, 'f1': 0.2}\n",
      "i=15|{'kernel': 'poly', 'C': 10.0, 'gamma': 1.0, 'degree': 3}  {'accuracy': 0.598, 'precision': 0.62, 'recall': 0.568, 'f1': 0.562}\n",
      "i=16|{'kernel': 'poly', 'C': 10.0, 'gamma': 1.0, 'degree': 6}  {'accuracy': 0.468, 'precision': 0.608, 'recall': 0.433, 'f1': 0.373}\n",
      "i=17|{'kernel': 'poly', 'C': 10.0, 'gamma': 1.0, 'degree': 9}  {'accuracy': 0.442, 'precision': 0.625, 'recall': 0.407, 'f1': 0.328}\n",
      "i=18|{'kernel': 'poly', 'C': 100.0, 'gamma': 0.01, 'degree': 3}  {'accuracy': 0.382, 'precision': 0.46, 'recall': 0.339, 'f1': 0.194}\n",
      "i=19|{'kernel': 'poly', 'C': 100.0, 'gamma': 0.01, 'degree': 6}  {'accuracy': 0.378, 'precision': 0.126, 'recall': 0.333, 'f1': 0.183}\n",
      "i=20|{'kernel': 'poly', 'C': 100.0, 'gamma': 0.01, 'degree': 9}  {'accuracy': 0.378, 'precision': 0.126, 'recall': 0.333, 'f1': 0.183}\n",
      "i=21|{'kernel': 'poly', 'C': 100.0, 'gamma': 0.1, 'degree': 3}  {'accuracy': 0.435, 'precision': 0.7, 'recall': 0.4, 'f1': 0.314}\n",
      "i=22|{'kernel': 'poly', 'C': 100.0, 'gamma': 0.1, 'degree': 6}  {'accuracy': 0.393, 'precision': 0.795, 'recall': 0.352, 'f1': 0.221}\n",
      "i=23|{'kernel': 'poly', 'C': 100.0, 'gamma': 0.1, 'degree': 9}  {'accuracy': 0.384, 'precision': 0.46, 'recall': 0.341, 'f1': 0.2}\n",
      "i=24|{'kernel': 'poly', 'C': 100.0, 'gamma': 1.0, 'degree': 3}  {'accuracy': 0.64, 'precision': 0.635, 'recall': 0.616, 'f1': 0.616}\n",
      "i=25|{'kernel': 'poly', 'C': 100.0, 'gamma': 1.0, 'degree': 6}  {'accuracy': 0.507, 'precision': 0.619, 'recall': 0.473, 'f1': 0.437}\n",
      "i=26|{'kernel': 'poly', 'C': 100.0, 'gamma': 1.0, 'degree': 9}  {'accuracy': 0.464, 'precision': 0.616, 'recall': 0.43, 'f1': 0.37}\n",
      "i=27|{'kernel': 'poly', 'C': 1000.0, 'gamma': 0.01, 'degree': 3}  {'accuracy': 0.384, 'precision': 0.46, 'recall': 0.341, 'f1': 0.2}\n",
      "i=28|{'kernel': 'poly', 'C': 1000.0, 'gamma': 0.01, 'degree': 6}  {'accuracy': 0.378, 'precision': 0.126, 'recall': 0.333, 'f1': 0.183}\n",
      "i=29|{'kernel': 'poly', 'C': 1000.0, 'gamma': 0.01, 'degree': 9}  {'accuracy': 0.378, 'precision': 0.126, 'recall': 0.333, 'f1': 0.183}\n",
      "i=30|{'kernel': 'poly', 'C': 1000.0, 'gamma': 0.1, 'degree': 3}  {'accuracy': 0.514, 'precision': 0.587, 'recall': 0.478, 'f1': 0.448}\n",
      "i=31|{'kernel': 'poly', 'C': 1000.0, 'gamma': 0.1, 'degree': 6}  {'accuracy': 0.397, 'precision': 0.748, 'recall': 0.356, 'f1': 0.229}\n",
      "i=32|{'kernel': 'poly', 'C': 1000.0, 'gamma': 0.1, 'degree': 9}  {'accuracy': 0.389, 'precision': 0.461, 'recall': 0.348, 'f1': 0.213}\n",
      "i=33|{'kernel': 'poly', 'C': 1000.0, 'gamma': 1.0, 'degree': 3}  {'accuracy': 0.623, 'precision': 0.612, 'recall': 0.599, 'f1': 0.6}\n",
      "i=34|{'kernel': 'poly', 'C': 1000.0, 'gamma': 1.0, 'degree': 6}  {'accuracy': 0.572, 'precision': 0.62, 'recall': 0.538, 'f1': 0.525}\n",
      "i=35|{'kernel': 'poly', 'C': 1000.0, 'gamma': 1.0, 'degree': 9}  {'accuracy': 0.484, 'precision': 0.615, 'recall': 0.449, 'f1': 0.401}\n",
      "i=36|{'kernel': 'poly', 'C': 10000.0, 'gamma': 0.01, 'degree': 3}  {'accuracy': 0.4, 'precision': 0.796, 'recall': 0.361, 'f1': 0.238}\n",
      "i=37|{'kernel': 'poly', 'C': 10000.0, 'gamma': 0.01, 'degree': 6}  {'accuracy': 0.378, 'precision': 0.126, 'recall': 0.333, 'f1': 0.183}\n",
      "i=38|{'kernel': 'poly', 'C': 10000.0, 'gamma': 0.01, 'degree': 9}  {'accuracy': 0.378, 'precision': 0.126, 'recall': 0.333, 'f1': 0.183}\n",
      "i=39|{'kernel': 'poly', 'C': 10000.0, 'gamma': 0.1, 'degree': 3}  {'accuracy': 0.598, 'precision': 0.62, 'recall': 0.568, 'f1': 0.562}\n",
      "i=40|{'kernel': 'poly', 'C': 10000.0, 'gamma': 0.1, 'degree': 6}  {'accuracy': 0.402, 'precision': 0.729, 'recall': 0.362, 'f1': 0.241}\n",
      "i=41|{'kernel': 'poly', 'C': 10000.0, 'gamma': 0.1, 'degree': 9}  {'accuracy': 0.395, 'precision': 0.795, 'recall': 0.354, 'f1': 0.226}\n",
      "i=42|{'kernel': 'poly', 'C': 10000.0, 'gamma': 1.0, 'degree': 3}  {'accuracy': 0.593, 'precision': 0.573, 'recall': 0.569, 'f1': 0.569}\n",
      "i=43|{'kernel': 'poly', 'C': 10000.0, 'gamma': 1.0, 'degree': 6}  {'accuracy': 0.591, 'precision': 0.611, 'recall': 0.564, 'f1': 0.556}\n",
      "i=44|{'kernel': 'poly', 'C': 10000.0, 'gamma': 1.0, 'degree': 9}  {'accuracy': 0.517, 'precision': 0.618, 'recall': 0.48, 'f1': 0.449}\n"
     ]
    }
   ],
   "source": [
    "poly_test = SVMGridTester(\n",
    "    model = poly_svm,\n",
    "    params = poly_params,\n",
    "    scoring = scoring,\n",
    "    scoring_avg = \"macro\",\n",
    "    random_state = random_state\n",
    ")\n",
    "\n",
    "poly_test.fit_predict(\n",
    "    X_train,\n",
    "    X_test,\n",
    "    y_train,\n",
    "    y_test,\n",
    ")"
   ]
  },
  {
   "cell_type": "code",
   "execution_count": 26,
   "metadata": {},
   "outputs": [
    {
     "name": "stdout",
     "output_type": "stream",
     "text": [
      "Best test result of Poly-BoW:\n"
     ]
    },
    {
     "data": {
      "text/plain": [
       "[{'params': {'kernel': 'poly', 'C': 100.0, 'gamma': 1.0, 'degree': 3},\n",
       "  'scores': {'accuracy': 0.64,\n",
       "   'precision': 0.635,\n",
       "   'recall': 0.616,\n",
       "   'f1': 0.616},\n",
       "  'cm': array([[227, 124,  40],\n",
       "         [ 35, 320,  32],\n",
       "         [ 77,  60, 108]], dtype=int64)}]"
      ]
     },
     "execution_count": 26,
     "metadata": {},
     "output_type": "execute_result"
    }
   ],
   "source": [
    "print(\"Best test result of Poly-BoW:\")\n",
    "res_best = poly_test.get_best_result(base_on=\"accuracy\")\n",
    "res_best"
   ]
  },
  {
   "cell_type": "code",
   "execution_count": 27,
   "metadata": {},
   "outputs": [],
   "source": [
    "# Save the result\n",
    "res_table = poly_test.get_table_result()\n",
    "res_best_table = poly_test.get_best_table_result(base_on=\"accuracy\")\n",
    "res_best_cm_table = pandas.DataFrame(res_best[0][\"cm\"])\n",
    "\n",
    "res_table.to_csv(dir+\"test_poly_bow.csv\", index=False)\n",
    "res_best_table.to_csv(dir+\"test_poly_bow[best].csv\", index=False)\n",
    "res_best_cm_table.to_csv(dir+\"test_poly_bow[best-cm].csv\")"
   ]
  },
  {
   "cell_type": "markdown",
   "metadata": {},
   "source": [
    "#### 3.2 Pengujian SVM + TF-IDF"
   ]
  },
  {
   "cell_type": "markdown",
   "metadata": {},
   "source": [
    "##### 3.2.1 Pengujian Linear-TFIDF"
   ]
  },
  {
   "cell_type": "code",
   "execution_count": 15,
   "metadata": {},
   "outputs": [
    {
     "name": "stdout",
     "output_type": "stream",
     "text": [
      "Total combination of parameters: 5\n"
     ]
    },
    {
     "name": "stdout",
     "output_type": "stream",
     "text": [
      "i=0|{'kernel': 'linear', 'C': 1.0}  {'accuracy': 0.741, 'precision': 0.729, 'recall': 0.726, 'f1': 0.727}\n",
      "i=1|{'kernel': 'linear', 'C': 10.0}  {'accuracy': 0.719, 'precision': 0.71, 'recall': 0.706, 'f1': 0.708}\n",
      "i=2|{'kernel': 'linear', 'C': 100.0}  {'accuracy': 0.697, 'precision': 0.688, 'recall': 0.683, 'f1': 0.685}\n",
      "i=3|{'kernel': 'linear', 'C': 1000.0}  {'accuracy': 0.697, 'precision': 0.688, 'recall': 0.684, 'f1': 0.686}\n",
      "i=4|{'kernel': 'linear', 'C': 10000.0}  {'accuracy': 0.693, 'precision': 0.686, 'recall': 0.681, 'f1': 0.683}\n"
     ]
    }
   ],
   "source": [
    "linear_test = SVMGridTester(\n",
    "    model = linear_svm,\n",
    "    params = linear_params,\n",
    "    scoring = scoring,\n",
    "    scoring_avg = \"macro\",\n",
    "    random_state = random_state\n",
    ")\n",
    "\n",
    "linear_test.fit_predict(\n",
    "    X_train,\n",
    "    X_test,\n",
    "    y_train,\n",
    "    y_test,\n",
    ")"
   ]
  },
  {
   "cell_type": "code",
   "execution_count": 16,
   "metadata": {},
   "outputs": [
    {
     "name": "stdout",
     "output_type": "stream",
     "text": [
      "Best test result of Linear-TFIDF:\n"
     ]
    },
    {
     "data": {
      "text/plain": [
       "[{'params': {'kernel': 'linear', 'C': 1.0},\n",
       "  'scores': {'accuracy': 0.741,\n",
       "   'precision': 0.729,\n",
       "   'recall': 0.726,\n",
       "   'f1': 0.727},\n",
       "  'cm': array([[308,  37,  46],\n",
       "         [ 47, 299,  41],\n",
       "         [ 63,  31, 151]], dtype=int64)}]"
      ]
     },
     "execution_count": 16,
     "metadata": {},
     "output_type": "execute_result"
    }
   ],
   "source": [
    "print(\"Best test result of Linear-TFIDF:\")\n",
    "res_best = linear_test.get_best_result(base_on=\"accuracy\")\n",
    "res_best"
   ]
  },
  {
   "cell_type": "code",
   "execution_count": 17,
   "metadata": {},
   "outputs": [],
   "source": [
    "# Save the result\n",
    "res_table = linear_test.get_table_result()\n",
    "res_best_table = linear_test.get_best_table_result(base_on=\"accuracy\")\n",
    "res_best_cm_table = pandas.DataFrame(res_best[0][\"cm\"])\n",
    "\n",
    "res_table.to_csv(dir+\"test_linear_tfidf.csv\", index=False)\n",
    "res_best_table.to_csv(dir+\"test_linear_tfidf[best].csv\", index=False)\n",
    "res_best_cm_table.to_csv(dir+\"test_linear_tfidf[best-cm].csv\")"
   ]
  },
  {
   "cell_type": "markdown",
   "metadata": {},
   "source": [
    "##### 3.2.2 Pengujian RBF-TFIDF"
   ]
  },
  {
   "cell_type": "code",
   "execution_count": 20,
   "metadata": {},
   "outputs": [
    {
     "name": "stdout",
     "output_type": "stream",
     "text": [
      "Total combination of parameters: 15\n"
     ]
    },
    {
     "name": "stdout",
     "output_type": "stream",
     "text": [
      "i=0|{'kernel': 'rbf', 'C': 1.0, 'gamma': 0.01}  {'accuracy': 0.505, 'precision': 0.643, 'recall': 0.515, 'f1': 0.442}\n",
      "i=1|{'kernel': 'rbf', 'C': 1.0, 'gamma': 0.1}  {'accuracy': 0.686, 'precision': 0.679, 'recall': 0.679, 'f1': 0.676}\n",
      "i=2|{'kernel': 'rbf', 'C': 1.0, 'gamma': 1.0}  {'accuracy': 0.724, 'precision': 0.721, 'recall': 0.692, 'f1': 0.697}\n",
      "i=3|{'kernel': 'rbf', 'C': 10.0, 'gamma': 0.01}  {'accuracy': 0.703, 'precision': 0.693, 'recall': 0.697, 'f1': 0.692}\n",
      "i=4|{'kernel': 'rbf', 'C': 10.0, 'gamma': 0.1}  {'accuracy': 0.741, 'precision': 0.73, 'recall': 0.722, 'f1': 0.725}\n",
      "i=5|{'kernel': 'rbf', 'C': 10.0, 'gamma': 1.0}  {'accuracy': 0.731, 'precision': 0.724, 'recall': 0.704, 'f1': 0.709}\n",
      "i=6|{'kernel': 'rbf', 'C': 100.0, 'gamma': 0.01}  {'accuracy': 0.736, 'precision': 0.724, 'recall': 0.718, 'f1': 0.72}\n",
      "i=7|{'kernel': 'rbf', 'C': 100.0, 'gamma': 0.1}  {'accuracy': 0.721, 'precision': 0.71, 'recall': 0.706, 'f1': 0.708}\n",
      "i=8|{'kernel': 'rbf', 'C': 100.0, 'gamma': 1.0}  {'accuracy': 0.736, 'precision': 0.729, 'recall': 0.709, 'f1': 0.713}\n",
      "i=9|{'kernel': 'rbf', 'C': 1000.0, 'gamma': 0.01}  {'accuracy': 0.716, 'precision': 0.705, 'recall': 0.7, 'f1': 0.702}\n",
      "i=10|{'kernel': 'rbf', 'C': 1000.0, 'gamma': 0.1}  {'accuracy': 0.718, 'precision': 0.708, 'recall': 0.704, 'f1': 0.706}\n",
      "i=11|{'kernel': 'rbf', 'C': 1000.0, 'gamma': 1.0}  {'accuracy': 0.736, 'precision': 0.729, 'recall': 0.709, 'f1': 0.713}\n",
      "i=12|{'kernel': 'rbf', 'C': 10000.0, 'gamma': 0.01}  {'accuracy': 0.71, 'precision': 0.701, 'recall': 0.698, 'f1': 0.699}\n",
      "i=13|{'kernel': 'rbf', 'C': 10000.0, 'gamma': 0.1}  {'accuracy': 0.718, 'precision': 0.708, 'recall': 0.704, 'f1': 0.706}\n",
      "i=14|{'kernel': 'rbf', 'C': 10000.0, 'gamma': 1.0}  {'accuracy': 0.736, 'precision': 0.729, 'recall': 0.709, 'f1': 0.713}\n"
     ]
    }
   ],
   "source": [
    "rbf_test = SVMGridTester(\n",
    "    model = rbf_svm,\n",
    "    params = rbf_params,\n",
    "    scoring = scoring,\n",
    "    scoring_avg = \"macro\",\n",
    "    random_state = random_state\n",
    ")\n",
    "\n",
    "rbf_test.fit_predict(\n",
    "    X_train,\n",
    "    X_test,\n",
    "    y_train,\n",
    "    y_test,\n",
    ")"
   ]
  },
  {
   "cell_type": "code",
   "execution_count": 21,
   "metadata": {},
   "outputs": [
    {
     "name": "stdout",
     "output_type": "stream",
     "text": [
      "Best test result of RBF-TFIDF:\n"
     ]
    },
    {
     "data": {
      "text/plain": [
       "[{'params': {'kernel': 'rbf', 'C': 10.0, 'gamma': 0.1},\n",
       "  'scores': {'accuracy': 0.741,\n",
       "   'precision': 0.73,\n",
       "   'recall': 0.722,\n",
       "   'f1': 0.725},\n",
       "  'cm': array([[315,  38,  38],\n",
       "         [ 50, 299,  38],\n",
       "         [ 68,  33, 144]], dtype=int64)}]"
      ]
     },
     "execution_count": 21,
     "metadata": {},
     "output_type": "execute_result"
    }
   ],
   "source": [
    "print(\"Best test result of RBF-TFIDF:\")\n",
    "res_best = rbf_test.get_best_result(base_on=\"accuracy\")\n",
    "res_best"
   ]
  },
  {
   "cell_type": "code",
   "execution_count": 22,
   "metadata": {},
   "outputs": [],
   "source": [
    "# Save the result\n",
    "res_table = rbf_test.get_table_result()\n",
    "res_best_table = rbf_test.get_best_table_result(base_on=\"accuracy\")\n",
    "res_best_cm_table = pandas.DataFrame(res_best[0][\"cm\"])\n",
    "\n",
    "res_table.to_csv(dir+\"test_rbf_tfidf.csv\", index=False)\n",
    "res_best_table.to_csv(dir+\"test_rbf_tfidf[best].csv\", index=False)\n",
    "res_best_cm_table.to_csv(dir+\"test_rbf_tfidf[best-cm].csv\")"
   ]
  },
  {
   "cell_type": "markdown",
   "metadata": {},
   "source": [
    "##### 3.2.3 Pengujian Polinomial-TFIDF"
   ]
  },
  {
   "cell_type": "code",
   "execution_count": 25,
   "metadata": {},
   "outputs": [
    {
     "name": "stdout",
     "output_type": "stream",
     "text": [
      "Total combination of parameters: 45\n"
     ]
    },
    {
     "name": "stdout",
     "output_type": "stream",
     "text": [
      "i=0|{'kernel': 'poly', 'C': 1.0, 'gamma': 0.01, 'degree': 3}  {'accuracy': 0.433, 'precision': 0.792, 'recall': 0.385, 'f1': 0.287}\n",
      "i=1|{'kernel': 'poly', 'C': 1.0, 'gamma': 0.01, 'degree': 6}  {'accuracy': 0.429, 'precision': 0.792, 'recall': 0.38, 'f1': 0.277}\n",
      "i=2|{'kernel': 'poly', 'C': 1.0, 'gamma': 0.01, 'degree': 9}  {'accuracy': 0.582, 'precision': 0.583, 'recall': 0.553, 'f1': 0.55}\n",
      "i=3|{'kernel': 'poly', 'C': 1.0, 'gamma': 0.1, 'degree': 3}  {'accuracy': 0.433, 'precision': 0.792, 'recall': 0.385, 'f1': 0.287}\n",
      "i=4|{'kernel': 'poly', 'C': 1.0, 'gamma': 0.1, 'degree': 6}  {'accuracy': 0.429, 'precision': 0.792, 'recall': 0.38, 'f1': 0.277}\n",
      "i=5|{'kernel': 'poly', 'C': 1.0, 'gamma': 0.1, 'degree': 9}  {'accuracy': 0.429, 'precision': 0.792, 'recall': 0.38, 'f1': 0.277}\n",
      "i=6|{'kernel': 'poly', 'C': 1.0, 'gamma': 1.0, 'degree': 3}  {'accuracy': 0.597, 'precision': 0.696, 'recall': 0.553, 'f1': 0.544}\n",
      "i=7|{'kernel': 'poly', 'C': 1.0, 'gamma': 1.0, 'degree': 6}  {'accuracy': 0.515, 'precision': 0.742, 'recall': 0.463, 'f1': 0.417}\n",
      "i=8|{'kernel': 'poly', 'C': 1.0, 'gamma': 1.0, 'degree': 9}  {'accuracy': 0.498, 'precision': 0.769, 'recall': 0.447, 'f1': 0.392}\n",
      "i=9|{'kernel': 'poly', 'C': 10.0, 'gamma': 0.01, 'degree': 3}  {'accuracy': 0.433, 'precision': 0.792, 'recall': 0.385, 'f1': 0.287}\n",
      "i=10|{'kernel': 'poly', 'C': 10.0, 'gamma': 0.01, 'degree': 6}  {'accuracy': 0.429, 'precision': 0.792, 'recall': 0.38, 'f1': 0.277}\n",
      "i=11|{'kernel': 'poly', 'C': 10.0, 'gamma': 0.01, 'degree': 9}  {'accuracy': 0.582, 'precision': 0.583, 'recall': 0.553, 'f1': 0.55}\n",
      "i=12|{'kernel': 'poly', 'C': 10.0, 'gamma': 0.1, 'degree': 3}  {'accuracy': 0.433, 'precision': 0.792, 'recall': 0.385, 'f1': 0.287}\n",
      "i=13|{'kernel': 'poly', 'C': 10.0, 'gamma': 0.1, 'degree': 6}  {'accuracy': 0.429, 'precision': 0.792, 'recall': 0.38, 'f1': 0.277}\n",
      "i=14|{'kernel': 'poly', 'C': 10.0, 'gamma': 0.1, 'degree': 9}  {'accuracy': 0.429, 'precision': 0.792, 'recall': 0.38, 'f1': 0.277}\n",
      "i=15|{'kernel': 'poly', 'C': 10.0, 'gamma': 1.0, 'degree': 3}  {'accuracy': 0.62, 'precision': 0.643, 'recall': 0.63, 'f1': 0.616}\n",
      "i=16|{'kernel': 'poly', 'C': 10.0, 'gamma': 1.0, 'degree': 6}  {'accuracy': 0.348, 'precision': 0.675, 'recall': 0.428, 'f1': 0.298}\n",
      "i=17|{'kernel': 'poly', 'C': 10.0, 'gamma': 1.0, 'degree': 9}  {'accuracy': 0.327, 'precision': 0.709, 'recall': 0.41, 'f1': 0.269}\n",
      "i=18|{'kernel': 'poly', 'C': 100.0, 'gamma': 0.01, 'degree': 3}  {'accuracy': 0.433, 'precision': 0.792, 'recall': 0.385, 'f1': 0.287}\n",
      "i=19|{'kernel': 'poly', 'C': 100.0, 'gamma': 0.01, 'degree': 6}  {'accuracy': 0.429, 'precision': 0.792, 'recall': 0.38, 'f1': 0.277}\n",
      "i=20|{'kernel': 'poly', 'C': 100.0, 'gamma': 0.01, 'degree': 9}  {'accuracy': 0.428, 'precision': 0.792, 'recall': 0.378, 'f1': 0.274}\n",
      "i=21|{'kernel': 'poly', 'C': 100.0, 'gamma': 0.1, 'degree': 3}  {'accuracy': 0.444, 'precision': 0.796, 'recall': 0.395, 'f1': 0.304}\n",
      "i=22|{'kernel': 'poly', 'C': 100.0, 'gamma': 0.1, 'degree': 6}  {'accuracy': 0.429, 'precision': 0.792, 'recall': 0.38, 'f1': 0.277}\n",
      "i=23|{'kernel': 'poly', 'C': 100.0, 'gamma': 0.1, 'degree': 9}  {'accuracy': 0.429, 'precision': 0.792, 'recall': 0.38, 'f1': 0.277}\n",
      "i=24|{'kernel': 'poly', 'C': 100.0, 'gamma': 1.0, 'degree': 3}  {'accuracy': 0.62, 'precision': 0.643, 'recall': 0.63, 'f1': 0.616}\n",
      "i=25|{'kernel': 'poly', 'C': 100.0, 'gamma': 1.0, 'degree': 6}  {'accuracy': 0.35, 'precision': 0.688, 'recall': 0.43, 'f1': 0.3}\n",
      "i=26|{'kernel': 'poly', 'C': 100.0, 'gamma': 1.0, 'degree': 9}  {'accuracy': 0.329, 'precision': 0.706, 'recall': 0.412, 'f1': 0.272}\n",
      "i=27|{'kernel': 'poly', 'C': 1000.0, 'gamma': 0.01, 'degree': 3}  {'accuracy': 0.433, 'precision': 0.792, 'recall': 0.385, 'f1': 0.287}\n",
      "i=28|{'kernel': 'poly', 'C': 1000.0, 'gamma': 0.01, 'degree': 6}  {'accuracy': 0.429, 'precision': 0.792, 'recall': 0.38, 'f1': 0.277}\n",
      "i=29|{'kernel': 'poly', 'C': 1000.0, 'gamma': 0.01, 'degree': 9}  {'accuracy': 0.429, 'precision': 0.792, 'recall': 0.38, 'f1': 0.277}\n",
      "i=30|{'kernel': 'poly', 'C': 1000.0, 'gamma': 0.1, 'degree': 3}  {'accuracy': 0.597, 'precision': 0.696, 'recall': 0.553, 'f1': 0.544}\n",
      "i=31|{'kernel': 'poly', 'C': 1000.0, 'gamma': 0.1, 'degree': 6}  {'accuracy': 0.429, 'precision': 0.792, 'recall': 0.38, 'f1': 0.277}\n",
      "i=32|{'kernel': 'poly', 'C': 1000.0, 'gamma': 0.1, 'degree': 9}  {'accuracy': 0.429, 'precision': 0.792, 'recall': 0.38, 'f1': 0.277}\n",
      "i=33|{'kernel': 'poly', 'C': 1000.0, 'gamma': 1.0, 'degree': 3}  {'accuracy': 0.62, 'precision': 0.643, 'recall': 0.63, 'f1': 0.616}\n",
      "i=34|{'kernel': 'poly', 'C': 1000.0, 'gamma': 1.0, 'degree': 6}  {'accuracy': 0.35, 'precision': 0.688, 'recall': 0.43, 'f1': 0.3}\n",
      "i=35|{'kernel': 'poly', 'C': 1000.0, 'gamma': 1.0, 'degree': 9}  {'accuracy': 0.329, 'precision': 0.706, 'recall': 0.412, 'f1': 0.272}\n",
      "i=36|{'kernel': 'poly', 'C': 10000.0, 'gamma': 0.01, 'degree': 3}  {'accuracy': 0.433, 'precision': 0.792, 'recall': 0.385, 'f1': 0.287}\n",
      "i=37|{'kernel': 'poly', 'C': 10000.0, 'gamma': 0.01, 'degree': 6}  {'accuracy': 0.429, 'precision': 0.792, 'recall': 0.38, 'f1': 0.277}\n",
      "i=38|{'kernel': 'poly', 'C': 10000.0, 'gamma': 0.01, 'degree': 9}  {'accuracy': 0.429, 'precision': 0.792, 'recall': 0.38, 'f1': 0.277}\n",
      "i=39|{'kernel': 'poly', 'C': 10000.0, 'gamma': 0.1, 'degree': 3}  {'accuracy': 0.62, 'precision': 0.643, 'recall': 0.63, 'f1': 0.616}\n",
      "i=40|{'kernel': 'poly', 'C': 10000.0, 'gamma': 0.1, 'degree': 6}  {'accuracy': 0.429, 'precision': 0.792, 'recall': 0.38, 'f1': 0.277}\n",
      "i=41|{'kernel': 'poly', 'C': 10000.0, 'gamma': 0.1, 'degree': 9}  {'accuracy': 0.429, 'precision': 0.792, 'recall': 0.38, 'f1': 0.277}\n",
      "i=42|{'kernel': 'poly', 'C': 10000.0, 'gamma': 1.0, 'degree': 3}  {'accuracy': 0.62, 'precision': 0.643, 'recall': 0.63, 'f1': 0.616}\n",
      "i=43|{'kernel': 'poly', 'C': 10000.0, 'gamma': 1.0, 'degree': 6}  {'accuracy': 0.35, 'precision': 0.688, 'recall': 0.43, 'f1': 0.3}\n",
      "i=44|{'kernel': 'poly', 'C': 10000.0, 'gamma': 1.0, 'degree': 9}  {'accuracy': 0.329, 'precision': 0.706, 'recall': 0.412, 'f1': 0.272}\n"
     ]
    }
   ],
   "source": [
    "poly_test = SVMGridTester(\n",
    "    model = poly_svm,\n",
    "    params = poly_params,\n",
    "    scoring = scoring,\n",
    "    scoring_avg = \"macro\",\n",
    "    random_state = random_state\n",
    ")\n",
    "\n",
    "poly_test.fit_predict(\n",
    "    X_train,\n",
    "    X_test,\n",
    "    y_train,\n",
    "    y_test,\n",
    ")"
   ]
  },
  {
   "cell_type": "code",
   "execution_count": 26,
   "metadata": {},
   "outputs": [
    {
     "name": "stdout",
     "output_type": "stream",
     "text": [
      "Best test result of Poly-TFIDF:\n"
     ]
    },
    {
     "data": {
      "text/plain": [
       "[{'params': {'kernel': 'poly', 'C': 10.0, 'gamma': 1.0, 'degree': 3},\n",
       "  'scores': {'accuracy': 0.62,\n",
       "   'precision': 0.643,\n",
       "   'recall': 0.63,\n",
       "   'f1': 0.616},\n",
       "  'cm': array([[257,  32, 102],\n",
       "         [ 57, 204, 126],\n",
       "         [ 50,  22, 173]], dtype=int64)}]"
      ]
     },
     "execution_count": 26,
     "metadata": {},
     "output_type": "execute_result"
    }
   ],
   "source": [
    "print(\"Best test result of Poly-TFIDF:\")\n",
    "res_best = poly_test.get_best_result(base_on=\"accuracy\")\n",
    "res_best"
   ]
  },
  {
   "cell_type": "code",
   "execution_count": 27,
   "metadata": {},
   "outputs": [],
   "source": [
    "# Save the result\n",
    "res_table = poly_test.get_table_result()\n",
    "res_best_table = poly_test.get_best_table_result()\n",
    "res_best_cm_table = pandas.DataFrame(res_best[0][\"cm\"])\n",
    "\n",
    "res_table.to_csv(dir+\"test_poly_tfidf.csv\", index=False)\n",
    "res_best_table.to_csv(dir+\"test_poly_tfidf[best].csv\", index=False)\n",
    "res_best_cm_table.to_csv(dir+\"test_poly_tfidf[best-cm].csv\")"
   ]
  }
 ],
 "metadata": {
  "kernelspec": {
   "display_name": "nlpenv",
   "language": "python",
   "name": "python3"
  },
  "language_info": {
   "codemirror_mode": {
    "name": "ipython",
    "version": 3
   },
   "file_extension": ".py",
   "mimetype": "text/x-python",
   "name": "python",
   "nbconvert_exporter": "python",
   "pygments_lexer": "ipython3",
   "version": "3.9.18"
  },
  "orig_nbformat": 4
 },
 "nbformat": 4,
 "nbformat_minor": 2
}
