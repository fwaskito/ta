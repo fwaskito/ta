{
 "cells": [
  {
   "attachments": {},
   "cell_type": "markdown",
   "metadata": {},
   "source": [
    "#### Daftar Isi:\n",
    "- [5.1 Pemodelan Tahap 1](#51-pemodelan-svm-tahap-1)\n",
    "- [6.1 Pengukuran Performa Tahap 1](#61-pengukuran-performa-tahap-1)\n",
    "    - [6.1.1 Pengukuran Performa Tahap 1: SVM + BOW](#611-pengukuran-performa-tahap-1-svm--bow)\n",
    "    - [6.1.2 Pengukuran Performa Tahap 1: SVM + TF-IDF](#612-pengukuran-performa-tahap-1-svm--tf-idf)\n",
    "- [5.2 Pemodelan Tahap 2](#52-pemodelan-svm-tahap-2)\n",
    "- [6.2 Pengukuran Performa Tahap 2](#62-pengukuran-performa-tahap-2)"
   ]
  },
  {
   "attachments": {},
   "cell_type": "markdown",
   "metadata": {},
   "source": [
    "***"
   ]
  },
  {
   "cell_type": "code",
   "execution_count": 1,
   "metadata": {},
   "outputs": [
    {
     "name": "stdout",
     "output_type": "stream",
     "text": [
      "Author: F. Waskito\n",
      "\n",
      "Last updated: Thu Jun 08 2023 13:05:09\n",
      "\n",
      "Python implementation: CPython\n",
      "Python version       : 3.9.16\n",
      "IPython version      : 8.12.0\n",
      "\n"
     ]
    },
    {
     "name": "stderr",
     "output_type": "stream",
     "text": [
      "Intel(R) Extension for Scikit-learn* enabled (https://github.com/intel/scikit-learn-intelex)\n"
     ]
    }
   ],
   "source": [
    "from IPython.core.interactiveshell import InteractiveShell\n",
    "import sklearnex\n",
    "\n",
    "InteractiveShell.ast_node_interactivity = \"all\"\n",
    "sklearnex.patch_sklearn()\n",
    "\n",
    "%load_ext watermark\n",
    "%watermark -a \"F. Waskito\" -n -t -u -v"
   ]
  },
  {
   "cell_type": "code",
   "execution_count": 2,
   "metadata": {},
   "outputs": [
    {
     "name": "stdout",
     "output_type": "stream",
     "text": [
      "Shape: (3409,)\n",
      "Distribution:\n",
      "\t('positive', 864)\n",
      "\t('neutral', 1253)\n",
      "\t('negative', 1292)\n"
     ]
    }
   ],
   "source": [
    "import pandas\n",
    "from collection import analysis\n",
    "\n",
    "path = \"data/tweet/depresi_or_bipolar_tweets_id_01-10.csv\"\n",
    "tweets_table = pandas.read_csv(path)\n",
    "texts = tweets_table.loc[:, \"Text\"].copy().to_list()\n",
    "labels = tweets_table.loc[:, \"Sentiment\"].copy().to_list()\n",
    "\n",
    "analysis.get_shape(texts)\n",
    "analysis.get_distribution(labels)"
   ]
  },
  {
   "attachments": {},
   "cell_type": "markdown",
   "metadata": {},
   "source": [
    "Prapemrosesan"
   ]
  },
  {
   "cell_type": "code",
   "execution_count": 3,
   "metadata": {},
   "outputs": [
    {
     "name": "stderr",
     "output_type": "stream",
     "text": [
      "100%|██████████| 3409/3409 [11:09<00:00,  5.09it/s]\n"
     ]
    }
   ],
   "source": [
    "import time\n",
    "from tqdm import tqdm\n",
    "from preprocess.preprocessing import TextPreprocessor\n",
    "\n",
    "preprocessor = TextPreprocessor()\n",
    "for i, text in enumerate(tqdm(texts)):\n",
    "    text = preprocessor.clean(text)\n",
    "    text = preprocessor.standardize(text)\n",
    "    tokens = preprocessor.tokenize(text)\n",
    "    tokens = preprocessor.filter(tokens)\n",
    "    texts[i] = preprocessor.stem(tokens)\n",
    "    time.sleep(0.001)"
   ]
  },
  {
   "attachments": {},
   "cell_type": "markdown",
   "metadata": {},
   "source": [
    "Ekstraksi Fitur"
   ]
  },
  {
   "cell_type": "code",
   "execution_count": 4,
   "metadata": {},
   "outputs": [],
   "source": [
    "from preprocess.feature.extraction import TextVectorizer"
   ]
  },
  {
   "cell_type": "code",
   "execution_count": 5,
   "metadata": {},
   "outputs": [
    {
     "name": "stdout",
     "output_type": "stream",
     "text": [
      "Shape: (3409, 2205)\n"
     ]
    }
   ],
   "source": [
    "# BOW\n",
    "extractor = TextVectorizer(texts)\n",
    "extractor.transform(target=\"bow\", min_df=2, norm=True)\n",
    "vector_texts = extractor.vectors\n",
    "\n",
    "analysis.get_shape(vector_texts)"
   ]
  },
  {
   "cell_type": "code",
   "execution_count": 5,
   "metadata": {},
   "outputs": [
    {
     "name": "stdout",
     "output_type": "stream",
     "text": [
      "Shape: (3409, 2205)\n"
     ]
    }
   ],
   "source": [
    "# TF-IDF\n",
    "extractor = TextVectorizer(texts)\n",
    "extractor.transform(target=\"tfidf\", min_df=2, norm=True)\n",
    "vector_texts = extractor.vectors\n",
    "\n",
    "analysis.get_shape(vector_texts)"
   ]
  },
  {
   "attachments": {},
   "cell_type": "markdown",
   "metadata": {},
   "source": [
    "Transformasi Label"
   ]
  },
  {
   "cell_type": "code",
   "execution_count": 6,
   "metadata": {},
   "outputs": [],
   "source": [
    "from preprocess.encoding import LabelEncoder"
   ]
  },
  {
   "cell_type": "code",
   "execution_count": 7,
   "metadata": {},
   "outputs": [
    {
     "name": "stdout",
     "output_type": "stream",
     "text": [
      "Distribution:\n",
      "\t(2, 864)\n",
      "\t(1, 1253)\n",
      "\t(0, 1292)\n"
     ]
    }
   ],
   "source": [
    "encoder = LabelEncoder(labels)\n",
    "encoder.transform(target=\"integer\")\n",
    "encoded_labels = encoder.encoded_labels\n",
    "\n",
    "analysis.get_distribution(encoded_labels)"
   ]
  },
  {
   "attachments": {},
   "cell_type": "markdown",
   "metadata": {},
   "source": [
    "Seprasi Data"
   ]
  },
  {
   "cell_type": "code",
   "execution_count": 8,
   "metadata": {},
   "outputs": [],
   "source": [
    "from sklearn.model_selection import train_test_split"
   ]
  },
  {
   "cell_type": "code",
   "execution_count": 9,
   "metadata": {},
   "outputs": [
    {
     "name": "stdout",
     "output_type": "stream",
     "text": [
      "> Train set:\n",
      "Shape: (2386, 2205)\n",
      "Distribution:\n",
      "\t(1, 866)\n",
      "\t(2, 619)\n",
      "\t(0, 901)\n",
      "\n",
      "> Test set:\n",
      "Shape: (1023, 2205)\n",
      "Distribution:\n",
      "\t(0, 391)\n",
      "\t(1, 387)\n",
      "\t(2, 245)\n"
     ]
    }
   ],
   "source": [
    "X_train, X_test, y_train, y_test = train_test_split(\n",
    "    vector_texts,\n",
    "    encoded_labels,\n",
    "    test_size = 0.3,\n",
    "    random_state = 42\n",
    ")\n",
    "\n",
    "print(\"> Train set:\")\n",
    "analysis.get_shape(X_train)\n",
    "analysis.get_distribution(y_train)\n",
    "print(\"\\n> Test set:\")\n",
    "analysis.get_shape(X_test)\n",
    "analysis.get_distribution(y_test)"
   ]
  },
  {
   "attachments": {},
   "cell_type": "markdown",
   "metadata": {},
   "source": [
    "***"
   ]
  },
  {
   "attachments": {},
   "cell_type": "markdown",
   "metadata": {},
   "source": [
    "### 5.1 Pemodelan SVM Tahap 1"
   ]
  },
  {
   "cell_type": "code",
   "execution_count": 10,
   "metadata": {},
   "outputs": [],
   "source": [
    "from sklearn.svm import SVC"
   ]
  },
  {
   "cell_type": "code",
   "execution_count": 26,
   "metadata": {},
   "outputs": [],
   "source": [
    "c = 10.0\n",
    "gamma = 1.0\n",
    "degree = 9"
   ]
  },
  {
   "cell_type": "code",
   "execution_count": 321,
   "metadata": {},
   "outputs": [],
   "source": [
    "linear_svm = SVC(kernel=\"linear\", C=c)"
   ]
  },
  {
   "cell_type": "code",
   "execution_count": 386,
   "metadata": {},
   "outputs": [],
   "source": [
    "rbf_svm = SVC(kernel=\"rbf\",C=c, gamma=gamma)"
   ]
  },
  {
   "cell_type": "code",
   "execution_count": 27,
   "metadata": {},
   "outputs": [],
   "source": [
    "poly_svm = SVC(kernel=\"poly\", C=c, gamma=gamma, degree=degree)"
   ]
  },
  {
   "attachments": {},
   "cell_type": "markdown",
   "metadata": {},
   "source": [
    "### 6.1 Pengukuran Performa Tahap 1"
   ]
  },
  {
   "attachments": {},
   "cell_type": "markdown",
   "metadata": {},
   "source": [
    "Beralih ke:\n",
    "- [5.1 Pemodelan SVM Tahap 1](#51-pemodelan-svm-tahap-1)\n",
    "- [6.1.1 Pengukuran Performa Tahap 1: SVM + BOW](#611-pengukuran-performa-tahap-1-svm--bow)\n",
    "- [6.1.2 Pengukuran Performa Tahap 1: SVM + TF-IDF](#612-pengukuran-performa-tahap-1-svm--tf-idf)"
   ]
  },
  {
   "cell_type": "code",
   "execution_count": 14,
   "metadata": {},
   "outputs": [],
   "source": [
    "from validation.cross import ImbalancedCV"
   ]
  },
  {
   "cell_type": "code",
   "execution_count": 28,
   "metadata": {},
   "outputs": [],
   "source": [
    "n_fold = 5\n",
    "scoring = [\"accuracy\", \"precision\", \"recall\", \"f1\",]\n",
    "random_state = 42"
   ]
  },
  {
   "cell_type": "code",
   "execution_count": 324,
   "metadata": {},
   "outputs": [
    {
     "name": "stderr",
     "output_type": "stream",
     "text": [
      "CV: 100%|██████████| 5/5 [00:16<00:00,  3.36s/it]\n"
     ]
    }
   ],
   "source": [
    "linear_perform = ImbalancedCV(\n",
    "    model = linear_svm,\n",
    "    n_fold = n_fold,\n",
    "    scoring = scoring,\n",
    "    scoring_avg = \"macro\",\n",
    "    random_state = random_state,\n",
    ")\n",
    "\n",
    "linear_perform.validate(X_train, y_train)"
   ]
  },
  {
   "cell_type": "code",
   "execution_count": 388,
   "metadata": {},
   "outputs": [
    {
     "name": "stderr",
     "output_type": "stream",
     "text": [
      "CV: 100%|██████████| 5/5 [00:17<00:00,  3.51s/it]\n"
     ]
    }
   ],
   "source": [
    "rbf_perform = ImbalancedCV(\n",
    "    model = rbf_svm,\n",
    "    n_fold = n_fold,\n",
    "    scoring = scoring,\n",
    "    scoring_avg = \"macro\",\n",
    "    random_state = random_state,\n",
    ")\n",
    "\n",
    "rbf_perform.validate(X_train, y_train)"
   ]
  },
  {
   "cell_type": "code",
   "execution_count": 29,
   "metadata": {},
   "outputs": [
    {
     "name": "stderr",
     "output_type": "stream",
     "text": [
      "CV: 100%|██████████| 5/5 [00:16<00:00,  3.32s/it]\n"
     ]
    }
   ],
   "source": [
    "poly_perform = ImbalancedCV(\n",
    "    model = poly_svm,\n",
    "    n_fold = n_fold,\n",
    "    scoring = scoring,\n",
    "    scoring_avg = \"macro\",\n",
    "    random_state = random_state,\n",
    ")\n",
    "\n",
    "poly_perform.validate(X_train, y_train)"
   ]
  },
  {
   "attachments": {},
   "cell_type": "markdown",
   "metadata": {},
   "source": [
    "#### __6.1.1 Pengukuran Performa Tahap 1: SVM + BOW__"
   ]
  },
  {
   "attachments": {},
   "cell_type": "markdown",
   "metadata": {},
   "source": [
    "Beralih ke:\n",
    "- [6.1.1.2 Performa SVM-RBF](#6112-performa-svm-rbf)\n",
    "- [6.1.1.3 Performa SVM-Polinomial](#6113-performa-svm-polinomial)\n",
    "- [6.1.2 Pengukuran Performa Tahap 1: SVM + TF-IDF](#612-pengukuran-performa-tahap-1-svm--tf-idf)"
   ]
  },
  {
   "attachments": {},
   "cell_type": "markdown",
   "metadata": {},
   "source": [
    "##### 6.1.1.1 Performa SVM-Linier"
   ]
  },
  {
   "cell_type": "code",
   "execution_count": 22,
   "metadata": {},
   "outputs": [
    {
     "data": {
      "text/plain": [
       "{'mean_accuracy': 0.672,\n",
       " 'mean_precision': 0.662,\n",
       " 'mean_recall': 0.657,\n",
       " 'mean_f1': 0.654}"
      ]
     },
     "execution_count": 22,
     "metadata": {},
     "output_type": "execute_result"
    }
   ],
   "source": [
    "linear_perform.get_score() # C= 1.0"
   ]
  },
  {
   "cell_type": "code",
   "execution_count": 33,
   "metadata": {},
   "outputs": [
    {
     "data": {
      "text/plain": [
       "{'mean_accuracy': 0.679,\n",
       " 'mean_precision': 0.667,\n",
       " 'mean_recall': 0.665,\n",
       " 'mean_f1': 0.665}"
      ]
     },
     "execution_count": 33,
     "metadata": {},
     "output_type": "execute_result"
    }
   ],
   "source": [
    "linear_perform.get_score() # C= 10.0"
   ]
  },
  {
   "cell_type": "code",
   "execution_count": 43,
   "metadata": {},
   "outputs": [
    {
     "data": {
      "text/plain": [
       "{'mean_accuracy': 0.653,\n",
       " 'mean_precision': 0.641,\n",
       " 'mean_recall': 0.639,\n",
       " 'mean_f1': 0.639}"
      ]
     },
     "execution_count": 43,
     "metadata": {},
     "output_type": "execute_result"
    }
   ],
   "source": [
    "linear_perform.get_score() # C= 100.0"
   ]
  },
  {
   "cell_type": "code",
   "execution_count": 53,
   "metadata": {},
   "outputs": [
    {
     "data": {
      "text/plain": [
       "{'mean_accuracy': 0.642,\n",
       " 'mean_precision': 0.632,\n",
       " 'mean_recall': 0.629,\n",
       " 'mean_f1': 0.63}"
      ]
     },
     "execution_count": 53,
     "metadata": {},
     "output_type": "execute_result"
    }
   ],
   "source": [
    "linear_perform.get_score() # C= 1000.0"
   ]
  },
  {
   "cell_type": "code",
   "execution_count": 64,
   "metadata": {},
   "outputs": [
    {
     "data": {
      "text/plain": [
       "{'mean_accuracy': 0.636,\n",
       " 'mean_precision': 0.627,\n",
       " 'mean_recall': 0.623,\n",
       " 'mean_f1': 0.623}"
      ]
     },
     "execution_count": 64,
     "metadata": {},
     "output_type": "execute_result"
    }
   ],
   "source": [
    "linear_perform.get_score() # C= 10000.0"
   ]
  },
  {
   "attachments": {},
   "cell_type": "markdown",
   "metadata": {},
   "source": [
    "##### 6.1.1.2 Performa SVM-RBF"
   ]
  },
  {
   "cell_type": "code",
   "execution_count": 23,
   "metadata": {},
   "outputs": [
    {
     "data": {
      "text/plain": [
       "{'mean_accuracy': 0.531,\n",
       " 'mean_precision': 0.596,\n",
       " 'mean_recall': 0.511,\n",
       " 'mean_f1': 0.476}"
      ]
     },
     "execution_count": 23,
     "metadata": {},
     "output_type": "execute_result"
    }
   ],
   "source": [
    "rbf_perform.get_score() # C= 1.0; gamma= 0.01"
   ]
  },
  {
   "cell_type": "code",
   "execution_count": 34,
   "metadata": {},
   "outputs": [
    {
     "data": {
      "text/plain": [
       "{'mean_accuracy': 0.666,\n",
       " 'mean_precision': 0.673,\n",
       " 'mean_recall': 0.649,\n",
       " 'mean_f1': 0.645}"
      ]
     },
     "execution_count": 34,
     "metadata": {},
     "output_type": "execute_result"
    }
   ],
   "source": [
    "rbf_perform.get_score() # C= 10.0; gamma= 0.01"
   ]
  },
  {
   "cell_type": "code",
   "execution_count": 44,
   "metadata": {},
   "outputs": [
    {
     "data": {
      "text/plain": [
       "{'mean_accuracy': 0.676,\n",
       " 'mean_precision': 0.664,\n",
       " 'mean_recall': 0.66,\n",
       " 'mean_f1': 0.659}"
      ]
     },
     "execution_count": 44,
     "metadata": {},
     "output_type": "execute_result"
    }
   ],
   "source": [
    "rbf_perform.get_score() # C= 100.0; gamma= 0.01"
   ]
  },
  {
   "cell_type": "code",
   "execution_count": 54,
   "metadata": {},
   "outputs": [
    {
     "data": {
      "text/plain": [
       "{'mean_accuracy': 0.679,\n",
       " 'mean_precision': 0.666,\n",
       " 'mean_recall': 0.66,\n",
       " 'mean_f1': 0.661}"
      ]
     },
     "execution_count": 54,
     "metadata": {},
     "output_type": "execute_result"
    }
   ],
   "source": [
    "rbf_perform.get_score() # C= 1000.0; gamma= 0.01"
   ]
  },
  {
   "cell_type": "code",
   "execution_count": 65,
   "metadata": {},
   "outputs": [
    {
     "data": {
      "text/plain": [
       "{'mean_accuracy': 0.647,\n",
       " 'mean_precision': 0.636,\n",
       " 'mean_recall': 0.631,\n",
       " 'mean_f1': 0.632}"
      ]
     },
     "execution_count": 65,
     "metadata": {},
     "output_type": "execute_result"
    }
   ],
   "source": [
    "rbf_perform.get_score() # C= 10,000.0; gamma= 0.01"
   ]
  },
  {
   "cell_type": "code",
   "execution_count": 74,
   "metadata": {},
   "outputs": [
    {
     "data": {
      "text/plain": [
       "{'mean_accuracy': 0.648,\n",
       " 'mean_precision': 0.651,\n",
       " 'mean_recall': 0.627,\n",
       " 'mean_f1': 0.625}"
      ]
     },
     "execution_count": 74,
     "metadata": {},
     "output_type": "execute_result"
    }
   ],
   "source": [
    "rbf_perform.get_score() # C= 1.0; gamma= 0.1"
   ]
  },
  {
   "cell_type": "code",
   "execution_count": 81,
   "metadata": {},
   "outputs": [
    {
     "data": {
      "text/plain": [
       "{'mean_accuracy': 0.68,\n",
       " 'mean_precision': 0.669,\n",
       " 'mean_recall': 0.661,\n",
       " 'mean_f1': 0.661}"
      ]
     },
     "execution_count": 81,
     "metadata": {},
     "output_type": "execute_result"
    }
   ],
   "source": [
    "rbf_perform.get_score() # C= 10.0; gamma= 0.1"
   ]
  },
  {
   "cell_type": "code",
   "execution_count": 88,
   "metadata": {},
   "outputs": [
    {
     "data": {
      "text/plain": [
       "{'mean_accuracy': 0.678,\n",
       " 'mean_precision': 0.665,\n",
       " 'mean_recall': 0.658,\n",
       " 'mean_f1': 0.658}"
      ]
     },
     "execution_count": 88,
     "metadata": {},
     "output_type": "execute_result"
    }
   ],
   "source": [
    "rbf_perform.get_score() # C= 100.0; gamma= 0.1"
   ]
  },
  {
   "cell_type": "code",
   "execution_count": 95,
   "metadata": {},
   "outputs": [
    {
     "data": {
      "text/plain": [
       "{'mean_accuracy': 0.647,\n",
       " 'mean_precision': 0.636,\n",
       " 'mean_recall': 0.627,\n",
       " 'mean_f1': 0.628}"
      ]
     },
     "execution_count": 95,
     "metadata": {},
     "output_type": "execute_result"
    }
   ],
   "source": [
    "rbf_perform.get_score() # C= 1000.0; gamma= 0.1"
   ]
  },
  {
   "cell_type": "code",
   "execution_count": 102,
   "metadata": {},
   "outputs": [
    {
     "data": {
      "text/plain": [
       "{'mean_accuracy': 0.625,\n",
       " 'mean_precision': 0.613,\n",
       " 'mean_recall': 0.603,\n",
       " 'mean_f1': 0.603}"
      ]
     },
     "execution_count": 102,
     "metadata": {},
     "output_type": "execute_result"
    }
   ],
   "source": [
    "rbf_perform.get_score() # C= 10,000.0; gamma= 0.1"
   ]
  },
  {
   "cell_type": "code",
   "execution_count": 109,
   "metadata": {},
   "outputs": [
    {
     "data": {
      "text/plain": [
       "{'mean_accuracy': 0.575,\n",
       " 'mean_precision': 0.612,\n",
       " 'mean_recall': 0.531,\n",
       " 'mean_f1': 0.509}"
      ]
     },
     "execution_count": 109,
     "metadata": {},
     "output_type": "execute_result"
    }
   ],
   "source": [
    "rbf_perform.get_score() # C= 1.0; gamma= 1.0"
   ]
  },
  {
   "cell_type": "code",
   "execution_count": 116,
   "metadata": {},
   "outputs": [
    {
     "data": {
      "text/plain": [
       "{'mean_accuracy': 0.581,\n",
       " 'mean_precision': 0.608,\n",
       " 'mean_recall': 0.538,\n",
       " 'mean_f1': 0.518}"
      ]
     },
     "execution_count": 116,
     "metadata": {},
     "output_type": "execute_result"
    }
   ],
   "source": [
    "rbf_perform.get_score() # C= 10.0; gamma= 1.0"
   ]
  },
  {
   "cell_type": "code",
   "execution_count": 123,
   "metadata": {},
   "outputs": [
    {
     "data": {
      "text/plain": [
       "{'mean_accuracy': 0.572,\n",
       " 'mean_precision': 0.597,\n",
       " 'mean_recall': 0.53,\n",
       " 'mean_f1': 0.513}"
      ]
     },
     "execution_count": 123,
     "metadata": {},
     "output_type": "execute_result"
    }
   ],
   "source": [
    "rbf_perform.get_score() # C= 100.0; gamma= 1.0"
   ]
  },
  {
   "cell_type": "code",
   "execution_count": 130,
   "metadata": {},
   "outputs": [
    {
     "data": {
      "text/plain": [
       "{'mean_accuracy': 0.57,\n",
       " 'mean_precision': 0.601,\n",
       " 'mean_recall': 0.528,\n",
       " 'mean_f1': 0.511}"
      ]
     },
     "execution_count": 130,
     "metadata": {},
     "output_type": "execute_result"
    }
   ],
   "source": [
    "rbf_perform.get_score() # C= 1000.0; gamma= 1.0"
   ]
  },
  {
   "cell_type": "code",
   "execution_count": 137,
   "metadata": {},
   "outputs": [
    {
     "data": {
      "text/plain": [
       "{'mean_accuracy': 0.57,\n",
       " 'mean_precision': 0.601,\n",
       " 'mean_recall': 0.528,\n",
       " 'mean_f1': 0.51}"
      ]
     },
     "execution_count": 137,
     "metadata": {},
     "output_type": "execute_result"
    }
   ],
   "source": [
    "rbf_perform.get_score() # C= 10,000.0; gamma= 1.0"
   ]
  },
  {
   "attachments": {},
   "cell_type": "markdown",
   "metadata": {},
   "source": [
    "##### 6.1.1.3 Performa SVM-Polinomial"
   ]
  },
  {
   "cell_type": "code",
   "execution_count": 24,
   "metadata": {},
   "outputs": [
    {
     "data": {
      "text/plain": [
       "{'mean_accuracy': 0.365,\n",
       " 'mean_precision': 0.305,\n",
       " 'mean_recall': 0.336,\n",
       " 'mean_f1': 0.182}"
      ]
     },
     "execution_count": 24,
     "metadata": {},
     "output_type": "execute_result"
    }
   ],
   "source": [
    "poly_perform.get_score() # C= 1.0; gamma= 0.01; degree= 3"
   ]
  },
  {
   "cell_type": "code",
   "execution_count": 35,
   "metadata": {},
   "outputs": [
    {
     "data": {
      "text/plain": [
       "{'mean_accuracy': 0.365,\n",
       " 'mean_precision': 0.305,\n",
       " 'mean_recall': 0.336,\n",
       " 'mean_f1': 0.182}"
      ]
     },
     "execution_count": 35,
     "metadata": {},
     "output_type": "execute_result"
    }
   ],
   "source": [
    "poly_perform.get_score() # C= 10.0; gamma= 0.01; degree= 3"
   ]
  },
  {
   "cell_type": "code",
   "execution_count": 45,
   "metadata": {},
   "outputs": [
    {
     "data": {
      "text/plain": [
       "{'mean_accuracy': 0.365,\n",
       " 'mean_precision': 0.305,\n",
       " 'mean_recall': 0.336,\n",
       " 'mean_f1': 0.182}"
      ]
     },
     "execution_count": 45,
     "metadata": {},
     "output_type": "execute_result"
    }
   ],
   "source": [
    "poly_perform.get_score() # C= 100.0; gamma= 0.01; degree= 3"
   ]
  },
  {
   "cell_type": "code",
   "execution_count": 55,
   "metadata": {},
   "outputs": [
    {
     "data": {
      "text/plain": [
       "{'mean_accuracy': 0.368,\n",
       " 'mean_precision': 0.566,\n",
       " 'mean_recall': 0.338,\n",
       " 'mean_f1': 0.188}"
      ]
     },
     "execution_count": 55,
     "metadata": {},
     "output_type": "execute_result"
    }
   ],
   "source": [
    "poly_perform.get_score() # C= 1000.0; gamma= 0.01; degree= 3"
   ]
  },
  {
   "cell_type": "code",
   "execution_count": 66,
   "metadata": {},
   "outputs": [
    {
     "data": {
      "text/plain": [
       "{'mean_accuracy': 0.383,\n",
       " 'mean_precision': 0.785,\n",
       " 'mean_recall': 0.357,\n",
       " 'mean_f1': 0.225}"
      ]
     },
     "execution_count": 66,
     "metadata": {},
     "output_type": "execute_result"
    }
   ],
   "source": [
    "poly_perform.get_score() # C= 10,000.0; gamma= 0.01; degree= 3"
   ]
  },
  {
   "cell_type": "code",
   "execution_count": 75,
   "metadata": {},
   "outputs": [
    {
     "data": {
      "text/plain": [
       "{'mean_accuracy': 0.368,\n",
       " 'mean_precision': 0.566,\n",
       " 'mean_recall': 0.338,\n",
       " 'mean_f1': 0.188}"
      ]
     },
     "execution_count": 75,
     "metadata": {},
     "output_type": "execute_result"
    }
   ],
   "source": [
    "poly_perform.get_score() # C= 1.0; gamma= 0.1; degree= 3"
   ]
  },
  {
   "cell_type": "code",
   "execution_count": 82,
   "metadata": {},
   "outputs": [
    {
     "data": {
      "text/plain": [
       "{'mean_accuracy': 0.383,\n",
       " 'mean_precision': 0.785,\n",
       " 'mean_recall': 0.357,\n",
       " 'mean_f1': 0.225}"
      ]
     },
     "execution_count": 82,
     "metadata": {},
     "output_type": "execute_result"
    }
   ],
   "source": [
    "poly_perform.get_score() # C= 10.0; gamma= 0.1; degree= 3"
   ]
  },
  {
   "cell_type": "code",
   "execution_count": 89,
   "metadata": {},
   "outputs": [
    {
     "data": {
      "text/plain": [
       "{'mean_accuracy': 0.405,\n",
       " 'mean_precision': 0.706,\n",
       " 'mean_recall': 0.379,\n",
       " 'mean_f1': 0.269}"
      ]
     },
     "execution_count": 89,
     "metadata": {},
     "output_type": "execute_result"
    }
   ],
   "source": [
    "poly_perform.get_score() # C= 100.0; gamma= 0.1; degree= 3"
   ]
  },
  {
   "cell_type": "code",
   "execution_count": 96,
   "metadata": {},
   "outputs": [
    {
     "data": {
      "text/plain": [
       "{'mean_accuracy': 0.495,\n",
       " 'mean_precision': 0.606,\n",
       " 'mean_recall': 0.473,\n",
       " 'mean_f1': 0.432}"
      ]
     },
     "execution_count": 96,
     "metadata": {},
     "output_type": "execute_result"
    }
   ],
   "source": [
    "poly_perform.get_score() # C= 1000.0; gamma= 0.1; degree= 3"
   ]
  },
  {
   "cell_type": "code",
   "execution_count": 103,
   "metadata": {},
   "outputs": [
    {
     "data": {
      "text/plain": [
       "{'mean_accuracy': 0.565,\n",
       " 'mean_precision': 0.602,\n",
       " 'mean_recall': 0.546,\n",
       " 'mean_f1': 0.53}"
      ]
     },
     "execution_count": 103,
     "metadata": {},
     "output_type": "execute_result"
    }
   ],
   "source": [
    "poly_perform.get_score() # C= 10,000.0; gamma= 0.1; degree= 3"
   ]
  },
  {
   "cell_type": "code",
   "execution_count": 110,
   "metadata": {},
   "outputs": [
    {
     "data": {
      "text/plain": [
       "{'mean_accuracy': 0.495,\n",
       " 'mean_precision': 0.606,\n",
       " 'mean_recall': 0.473,\n",
       " 'mean_f1': 0.432}"
      ]
     },
     "execution_count": 110,
     "metadata": {},
     "output_type": "execute_result"
    }
   ],
   "source": [
    "poly_perform.get_score() # C= 1.0; gamma= 1.0; degree= 3"
   ]
  },
  {
   "cell_type": "code",
   "execution_count": 117,
   "metadata": {},
   "outputs": [
    {
     "data": {
      "text/plain": [
       "{'mean_accuracy': 0.565,\n",
       " 'mean_precision': 0.602,\n",
       " 'mean_recall': 0.546,\n",
       " 'mean_f1': 0.53}"
      ]
     },
     "execution_count": 117,
     "metadata": {},
     "output_type": "execute_result"
    }
   ],
   "source": [
    "poly_perform.get_score() # C= 10.0; gamma= 1.0; degree= 3"
   ]
  },
  {
   "cell_type": "code",
   "execution_count": 124,
   "metadata": {},
   "outputs": [
    {
     "data": {
      "text/plain": [
       "{'mean_accuracy': 0.599,\n",
       " 'mean_precision': 0.597,\n",
       " 'mean_recall': 0.579,\n",
       " 'mean_f1': 0.57}"
      ]
     },
     "execution_count": 124,
     "metadata": {},
     "output_type": "execute_result"
    }
   ],
   "source": [
    "poly_perform.get_score() # C= 100.0; gamma= 1.0; degree= 3"
   ]
  },
  {
   "cell_type": "code",
   "execution_count": 131,
   "metadata": {},
   "outputs": [
    {
     "data": {
      "text/plain": [
       "{'mean_accuracy': 0.595,\n",
       " 'mean_precision': 0.582,\n",
       " 'mean_recall': 0.573,\n",
       " 'mean_f1': 0.567}"
      ]
     },
     "execution_count": 131,
     "metadata": {},
     "output_type": "execute_result"
    }
   ],
   "source": [
    "poly_perform.get_score() # C= 1000.0; gamma= 1.0; degree= 3"
   ]
  },
  {
   "cell_type": "code",
   "execution_count": 138,
   "metadata": {},
   "outputs": [
    {
     "data": {
      "text/plain": [
       "{'mean_accuracy': 0.577,\n",
       " 'mean_precision': 0.559,\n",
       " 'mean_recall': 0.558,\n",
       " 'mean_f1': 0.554}"
      ]
     },
     "execution_count": 138,
     "metadata": {},
     "output_type": "execute_result"
    }
   ],
   "source": [
    "poly_perform.get_score() # C= 10,000.0; gamma= 1.0; degree= 3"
   ]
  },
  {
   "cell_type": "code",
   "execution_count": 142,
   "metadata": {},
   "outputs": [
    {
     "data": {
      "text/plain": [
       "{'mean_accuracy': 0.363,\n",
       " 'mean_precision': 0.188,\n",
       " 'mean_recall': 0.334,\n",
       " 'mean_f1': 0.178}"
      ]
     },
     "execution_count": 142,
     "metadata": {},
     "output_type": "execute_result"
    }
   ],
   "source": [
    "poly_perform.get_score() # C= 1.0; gamma= 0.01; degree= 6"
   ]
  },
  {
   "cell_type": "code",
   "execution_count": 146,
   "metadata": {},
   "outputs": [
    {
     "data": {
      "text/plain": [
       "{'mean_accuracy': 0.363,\n",
       " 'mean_precision': 0.188,\n",
       " 'mean_recall': 0.334,\n",
       " 'mean_f1': 0.178}"
      ]
     },
     "execution_count": 146,
     "metadata": {},
     "output_type": "execute_result"
    }
   ],
   "source": [
    "poly_perform.get_score() # C= 10.0; gamma= 0.01; degree= 6"
   ]
  },
  {
   "cell_type": "code",
   "execution_count": 150,
   "metadata": {},
   "outputs": [
    {
     "data": {
      "text/plain": [
       "{'mean_accuracy': 0.363,\n",
       " 'mean_precision': 0.188,\n",
       " 'mean_recall': 0.334,\n",
       " 'mean_f1': 0.178}"
      ]
     },
     "execution_count": 150,
     "metadata": {},
     "output_type": "execute_result"
    }
   ],
   "source": [
    "poly_perform.get_score() # C= 100.0; gamma= 0.01; degree= 6"
   ]
  },
  {
   "cell_type": "code",
   "execution_count": 154,
   "metadata": {},
   "outputs": [
    {
     "data": {
      "text/plain": [
       "{'mean_accuracy': 0.363,\n",
       " 'mean_precision': 0.188,\n",
       " 'mean_recall': 0.334,\n",
       " 'mean_f1': 0.178}"
      ]
     },
     "execution_count": 154,
     "metadata": {},
     "output_type": "execute_result"
    }
   ],
   "source": [
    "poly_perform.get_score() # C= 1000.0; gamma= 0.01; degree= 6"
   ]
  },
  {
   "cell_type": "code",
   "execution_count": 158,
   "metadata": {},
   "outputs": [
    {
     "data": {
      "text/plain": [
       "{'mean_accuracy': 0.363,\n",
       " 'mean_precision': 0.188,\n",
       " 'mean_recall': 0.334,\n",
       " 'mean_f1': 0.178}"
      ]
     },
     "execution_count": 158,
     "metadata": {},
     "output_type": "execute_result"
    }
   ],
   "source": [
    "poly_perform.get_score() # C= 10,000.0; gamma= 0.01; degree= 6"
   ]
  },
  {
   "cell_type": "code",
   "execution_count": 162,
   "metadata": {},
   "outputs": [
    {
     "data": {
      "text/plain": [
       "{'mean_accuracy': 0.364,\n",
       " 'mean_precision': 0.321,\n",
       " 'mean_recall': 0.334,\n",
       " 'mean_f1': 0.18}"
      ]
     },
     "execution_count": 162,
     "metadata": {},
     "output_type": "execute_result"
    }
   ],
   "source": [
    "poly_perform.get_score() # C= 1.0; gamma= 0.1; degree= 6"
   ]
  },
  {
   "cell_type": "code",
   "execution_count": 166,
   "metadata": {},
   "outputs": [
    {
     "data": {
      "text/plain": [
       "{'mean_accuracy': 0.368,\n",
       " 'mean_precision': 0.566,\n",
       " 'mean_recall': 0.338,\n",
       " 'mean_f1': 0.188}"
      ]
     },
     "execution_count": 166,
     "metadata": {},
     "output_type": "execute_result"
    }
   ],
   "source": [
    "poly_perform.get_score() # C= 10.0; gamma= 0.1; degree= 6"
   ]
  },
  {
   "cell_type": "code",
   "execution_count": 170,
   "metadata": {},
   "outputs": [
    {
     "data": {
      "text/plain": [
       "{'mean_accuracy': 0.373,\n",
       " 'mean_precision': 0.709,\n",
       " 'mean_recall': 0.344,\n",
       " 'mean_f1': 0.2}"
      ]
     },
     "execution_count": 170,
     "metadata": {},
     "output_type": "execute_result"
    }
   ],
   "source": [
    "poly_perform.get_score() # C= 100.0; gamma= 0.1; degree= 6"
   ]
  },
  {
   "cell_type": "code",
   "execution_count": 174,
   "metadata": {},
   "outputs": [
    {
     "data": {
      "text/plain": [
       "{'mean_accuracy': 0.38,\n",
       " 'mean_precision': 0.782,\n",
       " 'mean_recall': 0.353,\n",
       " 'mean_f1': 0.218}"
      ]
     },
     "execution_count": 174,
     "metadata": {},
     "output_type": "execute_result"
    }
   ],
   "source": [
    "poly_perform.get_score() # C= 1000.0; gamma= 0.1; degree= 6"
   ]
  },
  {
   "cell_type": "code",
   "execution_count": 178,
   "metadata": {},
   "outputs": [
    {
     "data": {
      "text/plain": [
       "{'mean_accuracy': 0.385,\n",
       " 'mean_precision': 0.785,\n",
       " 'mean_recall': 0.359,\n",
       " 'mean_f1': 0.229}"
      ]
     },
     "execution_count": 178,
     "metadata": {},
     "output_type": "execute_result"
    }
   ],
   "source": [
    "poly_perform.get_score() # C= 10,000.0; gamma= 0.1; degree= 6"
   ]
  },
  {
   "cell_type": "code",
   "execution_count": 182,
   "metadata": {},
   "outputs": [
    {
     "data": {
      "text/plain": [
       "{'mean_accuracy': 0.412,\n",
       " 'mean_precision': 0.619,\n",
       " 'mean_recall': 0.388,\n",
       " 'mean_f1': 0.29}"
      ]
     },
     "execution_count": 182,
     "metadata": {},
     "output_type": "execute_result"
    }
   ],
   "source": [
    "poly_perform.get_score() # C= 1.0; gamma= 1.0; degree= 6"
   ]
  },
  {
   "cell_type": "code",
   "execution_count": 186,
   "metadata": {},
   "outputs": [
    {
     "data": {
      "text/plain": [
       "{'mean_accuracy': 0.429,\n",
       " 'mean_precision': 0.596,\n",
       " 'mean_recall': 0.404,\n",
       " 'mean_f1': 0.322}"
      ]
     },
     "execution_count": 186,
     "metadata": {},
     "output_type": "execute_result"
    }
   ],
   "source": [
    "poly_perform.get_score() # C= 10.0; gamma= 1.0; degree= 6"
   ]
  },
  {
   "cell_type": "code",
   "execution_count": 190,
   "metadata": {},
   "outputs": [
    {
     "data": {
      "text/plain": [
       "{'mean_accuracy': 0.463,\n",
       " 'mean_precision': 0.574,\n",
       " 'mean_recall': 0.443,\n",
       " 'mean_f1': 0.387}"
      ]
     },
     "execution_count": 190,
     "metadata": {},
     "output_type": "execute_result"
    }
   ],
   "source": [
    "poly_perform.get_score() # C= 100.0; gamma= 1.0; degree= 6"
   ]
  },
  {
   "cell_type": "code",
   "execution_count": 194,
   "metadata": {},
   "outputs": [
    {
     "data": {
      "text/plain": [
       "{'mean_accuracy': 0.524,\n",
       " 'mean_precision': 0.59,\n",
       " 'mean_recall': 0.504,\n",
       " 'mean_f1': 0.477}"
      ]
     },
     "execution_count": 194,
     "metadata": {},
     "output_type": "execute_result"
    }
   ],
   "source": [
    "poly_perform.get_score() # C= 1000.0; gamma= 1.0; degree= 6"
   ]
  },
  {
   "cell_type": "code",
   "execution_count": 198,
   "metadata": {},
   "outputs": [
    {
     "data": {
      "text/plain": [
       "{'mean_accuracy': 0.546,\n",
       " 'mean_precision': 0.582,\n",
       " 'mean_recall': 0.528,\n",
       " 'mean_f1': 0.509}"
      ]
     },
     "execution_count": 198,
     "metadata": {},
     "output_type": "execute_result"
    }
   ],
   "source": [
    "poly_perform.get_score() # C= 10,000.0; gamma= 1.0; degree= 6"
   ]
  },
  {
   "cell_type": "code",
   "execution_count": 209,
   "metadata": {},
   "outputs": [
    {
     "data": {
      "text/plain": [
       "{'mean_accuracy': 0.363,\n",
       " 'mean_precision': 0.188,\n",
       " 'mean_recall': 0.334,\n",
       " 'mean_f1': 0.178}"
      ]
     },
     "execution_count": 209,
     "metadata": {},
     "output_type": "execute_result"
    }
   ],
   "source": [
    "poly_perform.get_score() # C= 1.0; gamma= 0.01; degree= 9"
   ]
  },
  {
   "cell_type": "code",
   "execution_count": 213,
   "metadata": {},
   "outputs": [
    {
     "data": {
      "text/plain": [
       "{'mean_accuracy': 0.363,\n",
       " 'mean_precision': 0.188,\n",
       " 'mean_recall': 0.334,\n",
       " 'mean_f1': 0.178}"
      ]
     },
     "execution_count": 213,
     "metadata": {},
     "output_type": "execute_result"
    }
   ],
   "source": [
    "poly_perform.get_score() # C= 10.0; gamma= 0.01; degree= 9"
   ]
  },
  {
   "cell_type": "code",
   "execution_count": 217,
   "metadata": {},
   "outputs": [
    {
     "data": {
      "text/plain": [
       "{'mean_accuracy': 0.363,\n",
       " 'mean_precision': 0.188,\n",
       " 'mean_recall': 0.334,\n",
       " 'mean_f1': 0.178}"
      ]
     },
     "execution_count": 217,
     "metadata": {},
     "output_type": "execute_result"
    }
   ],
   "source": [
    "poly_perform.get_score() # C= 100.0; gamma= 0.01; degree= 9"
   ]
  },
  {
   "cell_type": "code",
   "execution_count": 221,
   "metadata": {},
   "outputs": [
    {
     "data": {
      "text/plain": [
       "{'mean_accuracy': 0.363,\n",
       " 'mean_precision': 0.188,\n",
       " 'mean_recall': 0.334,\n",
       " 'mean_f1': 0.178}"
      ]
     },
     "execution_count": 221,
     "metadata": {},
     "output_type": "execute_result"
    }
   ],
   "source": [
    "poly_perform.get_score() # C= 1000.0; gamma= 0.01; degree= 9"
   ]
  },
  {
   "cell_type": "code",
   "execution_count": 225,
   "metadata": {},
   "outputs": [
    {
     "data": {
      "text/plain": [
       "{'mean_accuracy': 0.363,\n",
       " 'mean_precision': 0.188,\n",
       " 'mean_recall': 0.334,\n",
       " 'mean_f1': 0.178}"
      ]
     },
     "execution_count": 225,
     "metadata": {},
     "output_type": "execute_result"
    }
   ],
   "source": [
    "poly_perform.get_score() # C= 10,000.0; gamma= 0.01; degree= 9"
   ]
  },
  {
   "cell_type": "code",
   "execution_count": 229,
   "metadata": {},
   "outputs": [
    {
     "data": {
      "text/plain": [
       "{'mean_accuracy': 0.364,\n",
       " 'mean_precision': 0.321,\n",
       " 'mean_recall': 0.334,\n",
       " 'mean_f1': 0.18}"
      ]
     },
     "execution_count": 229,
     "metadata": {},
     "output_type": "execute_result"
    }
   ],
   "source": [
    "poly_perform.get_score() # C= 1.0; gamma= 0.1; degree= 9"
   ]
  },
  {
   "cell_type": "code",
   "execution_count": 233,
   "metadata": {},
   "outputs": [
    {
     "data": {
      "text/plain": [
       "{'mean_accuracy': 0.364,\n",
       " 'mean_precision': 0.321,\n",
       " 'mean_recall': 0.334,\n",
       " 'mean_f1': 0.18}"
      ]
     },
     "execution_count": 233,
     "metadata": {},
     "output_type": "execute_result"
    }
   ],
   "source": [
    "poly_perform.get_score() # C= 10.0; gamma= 0.1; degree= 9"
   ]
  },
  {
   "cell_type": "code",
   "execution_count": 237,
   "metadata": {},
   "outputs": [
    {
     "data": {
      "text/plain": [
       "{'mean_accuracy': 0.368,\n",
       " 'mean_precision': 0.633,\n",
       " 'mean_recall': 0.339,\n",
       " 'mean_f1': 0.19}"
      ]
     },
     "execution_count": 237,
     "metadata": {},
     "output_type": "execute_result"
    }
   ],
   "source": [
    "poly_perform.get_score() # C= 100.0; gamma= 0.1; degree= 9"
   ]
  },
  {
   "cell_type": "code",
   "execution_count": 241,
   "metadata": {},
   "outputs": [
    {
     "data": {
      "text/plain": [
       "{'mean_accuracy': 0.369,\n",
       " 'mean_precision': 0.638,\n",
       " 'mean_recall': 0.34,\n",
       " 'mean_f1': 0.192}"
      ]
     },
     "execution_count": 241,
     "metadata": {},
     "output_type": "execute_result"
    }
   ],
   "source": [
    "poly_perform.get_score() # C= 1000.0; gamma= 0.1; degree= 9"
   ]
  },
  {
   "cell_type": "code",
   "execution_count": 245,
   "metadata": {},
   "outputs": [
    {
     "data": {
      "text/plain": [
       "{'mean_accuracy': 0.38,\n",
       " 'mean_precision': 0.782,\n",
       " 'mean_recall': 0.352,\n",
       " 'mean_f1': 0.217}"
      ]
     },
     "execution_count": 245,
     "metadata": {},
     "output_type": "execute_result"
    }
   ],
   "source": [
    "poly_perform.get_score() # C= 10,000.0; gamma= 0.1; degree= 9"
   ]
  },
  {
   "cell_type": "code",
   "execution_count": 249,
   "metadata": {},
   "outputs": [
    {
     "data": {
      "text/plain": [
       "{'mean_accuracy': 0.404,\n",
       " 'mean_precision': 0.622,\n",
       " 'mean_recall': 0.379,\n",
       " 'mean_f1': 0.274}"
      ]
     },
     "execution_count": 249,
     "metadata": {},
     "output_type": "execute_result"
    }
   ],
   "source": [
    "poly_perform.get_score() # C= 1.0; gamma= 1.0; degree= 9"
   ]
  },
  {
   "cell_type": "code",
   "execution_count": 253,
   "metadata": {},
   "outputs": [
    {
     "data": {
      "text/plain": [
       "{'mean_accuracy': 0.406,\n",
       " 'mean_precision': 0.578,\n",
       " 'mean_recall': 0.382,\n",
       " 'mean_f1': 0.281}"
      ]
     },
     "execution_count": 253,
     "metadata": {},
     "output_type": "execute_result"
    }
   ],
   "source": [
    "poly_perform.get_score() # C= 10.0; gamma= 1.0; degree= 9"
   ]
  },
  {
   "cell_type": "code",
   "execution_count": 257,
   "metadata": {},
   "outputs": [
    {
     "data": {
      "text/plain": [
       "{'mean_accuracy': 0.42,\n",
       " 'mean_precision': 0.587,\n",
       " 'mean_recall': 0.396,\n",
       " 'mean_f1': 0.307}"
      ]
     },
     "execution_count": 257,
     "metadata": {},
     "output_type": "execute_result"
    }
   ],
   "source": [
    "poly_perform.get_score() # C= 100.0; gamma= 1.0; degree= 9"
   ]
  },
  {
   "cell_type": "code",
   "execution_count": 261,
   "metadata": {},
   "outputs": [
    {
     "data": {
      "text/plain": [
       "{'mean_accuracy': 0.441,\n",
       " 'mean_precision': 0.564,\n",
       " 'mean_recall': 0.42,\n",
       " 'mean_f1': 0.35}"
      ]
     },
     "execution_count": 261,
     "metadata": {},
     "output_type": "execute_result"
    }
   ],
   "source": [
    "poly_perform.get_score() # C= 1000.0; gamma= 1.0; degree= 9"
   ]
  },
  {
   "cell_type": "code",
   "execution_count": 265,
   "metadata": {},
   "outputs": [
    {
     "data": {
      "text/plain": [
       "{'mean_accuracy': 0.47,\n",
       " 'mean_precision': 0.561,\n",
       " 'mean_recall': 0.448,\n",
       " 'mean_f1': 0.399}"
      ]
     },
     "execution_count": 265,
     "metadata": {},
     "output_type": "execute_result"
    }
   ],
   "source": [
    "poly_perform.get_score() # C= 10,000.0; gamma= 1.0; degree= 9"
   ]
  },
  {
   "attachments": {},
   "cell_type": "markdown",
   "metadata": {},
   "source": [
    "Beralih ke:\n",
    "- [5.1 Pemodealn SVM Tahap 1](#51-pemodelan-svm-tahap-1)"
   ]
  },
  {
   "attachments": {},
   "cell_type": "markdown",
   "metadata": {},
   "source": [
    "#### __6.1.2 Pengukuran Performa Tahap 1: SVM + TF-IDF__"
   ]
  },
  {
   "attachments": {},
   "cell_type": "markdown",
   "metadata": {},
   "source": [
    "Beralih ke:\n",
    "- [6.1.2.2 Performa SVM RBF](#6122-performa-svm-rbf)\n",
    "- [6.1.2.3 Performa SVM-Polinomial](#6123-performa-svm-polinomial)"
   ]
  },
  {
   "attachments": {},
   "cell_type": "markdown",
   "metadata": {},
   "source": [
    "##### 6.1.2.1 Performa SVM-Linier"
   ]
  },
  {
   "cell_type": "code",
   "execution_count": 277,
   "metadata": {},
   "outputs": [
    {
     "data": {
      "text/plain": [
       "{'mean_accuracy': 0.696,\n",
       " 'mean_precision': 0.685,\n",
       " 'mean_recall': 0.682,\n",
       " 'mean_f1': 0.683}"
      ]
     },
     "execution_count": 277,
     "metadata": {},
     "output_type": "execute_result"
    }
   ],
   "source": [
    "linear_perform.get_score() # C= 1.0"
   ]
  },
  {
   "cell_type": "code",
   "execution_count": 287,
   "metadata": {},
   "outputs": [
    {
     "data": {
      "text/plain": [
       "{'mean_accuracy': 0.676,\n",
       " 'mean_precision': 0.666,\n",
       " 'mean_recall': 0.662,\n",
       " 'mean_f1': 0.663}"
      ]
     },
     "execution_count": 287,
     "metadata": {},
     "output_type": "execute_result"
    }
   ],
   "source": [
    "linear_perform.get_score() # C= 10.0"
   ]
  },
  {
   "cell_type": "code",
   "execution_count": 297,
   "metadata": {},
   "outputs": [
    {
     "data": {
      "text/plain": [
       "{'mean_accuracy': 0.659,\n",
       " 'mean_precision': 0.651,\n",
       " 'mean_recall': 0.643,\n",
       " 'mean_f1': 0.645}"
      ]
     },
     "execution_count": 297,
     "metadata": {},
     "output_type": "execute_result"
    }
   ],
   "source": [
    "linear_perform.get_score() # C= 100.0"
   ]
  },
  {
   "cell_type": "code",
   "execution_count": 307,
   "metadata": {},
   "outputs": [
    {
     "data": {
      "text/plain": [
       "{'mean_accuracy': 0.653,\n",
       " 'mean_precision': 0.641,\n",
       " 'mean_recall': 0.636,\n",
       " 'mean_f1': 0.636}"
      ]
     },
     "execution_count": 307,
     "metadata": {},
     "output_type": "execute_result"
    }
   ],
   "source": [
    "linear_perform.get_score() # C= 1000.0"
   ]
  },
  {
   "cell_type": "code",
   "execution_count": 317,
   "metadata": {},
   "outputs": [
    {
     "data": {
      "text/plain": [
       "{'mean_accuracy': 0.632,\n",
       " 'mean_precision': 0.627,\n",
       " 'mean_recall': 0.618,\n",
       " 'mean_f1': 0.618}"
      ]
     },
     "execution_count": 317,
     "metadata": {},
     "output_type": "execute_result"
    }
   ],
   "source": [
    "linear_perform.get_score() # C= 10,000.0"
   ]
  },
  {
   "attachments": {},
   "cell_type": "markdown",
   "metadata": {},
   "source": [
    "##### 6.1.2.2 Performa SVM-RBF"
   ]
  },
  {
   "cell_type": "code",
   "execution_count": 278,
   "metadata": {},
   "outputs": [
    {
     "data": {
      "text/plain": [
       "{'mean_accuracy': 0.467,\n",
       " 'mean_precision': 0.657,\n",
       " 'mean_recall': 0.476,\n",
       " 'mean_f1': 0.408}"
      ]
     },
     "execution_count": 278,
     "metadata": {},
     "output_type": "execute_result"
    }
   ],
   "source": [
    "rbf_perform.get_score() # C= 1.0; gamma= 0.01"
   ]
  },
  {
   "cell_type": "code",
   "execution_count": 288,
   "metadata": {},
   "outputs": [
    {
     "data": {
      "text/plain": [
       "{'mean_accuracy': 0.68,\n",
       " 'mean_precision': 0.676,\n",
       " 'mean_recall': 0.674,\n",
       " 'mean_f1': 0.673}"
      ]
     },
     "execution_count": 288,
     "metadata": {},
     "output_type": "execute_result"
    }
   ],
   "source": [
    "rbf_perform.get_score() # C= 10.0; gamma= 0.01"
   ]
  },
  {
   "cell_type": "code",
   "execution_count": 298,
   "metadata": {},
   "outputs": [
    {
     "data": {
      "text/plain": [
       "{'mean_accuracy': 0.698,\n",
       " 'mean_precision': 0.687,\n",
       " 'mean_recall': 0.683,\n",
       " 'mean_f1': 0.684}"
      ]
     },
     "execution_count": 298,
     "metadata": {},
     "output_type": "execute_result"
    }
   ],
   "source": [
    "rbf_perform.get_score() # C= 100.0; gamma= 0.01"
   ]
  },
  {
   "cell_type": "code",
   "execution_count": 308,
   "metadata": {},
   "outputs": [
    {
     "data": {
      "text/plain": [
       "{'mean_accuracy': 0.668,\n",
       " 'mean_precision': 0.66,\n",
       " 'mean_recall': 0.654,\n",
       " 'mean_f1': 0.655}"
      ]
     },
     "execution_count": 308,
     "metadata": {},
     "output_type": "execute_result"
    }
   ],
   "source": [
    "rbf_perform.get_score() # C= 1000.0; gamma= 0.01"
   ]
  },
  {
   "cell_type": "code",
   "execution_count": 318,
   "metadata": {},
   "outputs": [
    {
     "data": {
      "text/plain": [
       "{'mean_accuracy': 0.658,\n",
       " 'mean_precision': 0.648,\n",
       " 'mean_recall': 0.642,\n",
       " 'mean_f1': 0.643}"
      ]
     },
     "execution_count": 318,
     "metadata": {},
     "output_type": "execute_result"
    }
   ],
   "source": [
    "rbf_perform.get_score() # C= 10,000.0; gamma= 0.01"
   ]
  },
  {
   "cell_type": "code",
   "execution_count": 327,
   "metadata": {},
   "outputs": [
    {
     "data": {
      "text/plain": [
       "{'mean_accuracy': 0.675,\n",
       " 'mean_precision': 0.678,\n",
       " 'mean_recall': 0.668,\n",
       " 'mean_f1': 0.668}"
      ]
     },
     "execution_count": 327,
     "metadata": {},
     "output_type": "execute_result"
    }
   ],
   "source": [
    "rbf_perform.get_score() # C= 1.0; gamma= 0.1"
   ]
  },
  {
   "cell_type": "code",
   "execution_count": 334,
   "metadata": {},
   "outputs": [
    {
     "data": {
      "text/plain": [
       "{'mean_accuracy': 0.701,\n",
       " 'mean_precision': 0.691,\n",
       " 'mean_recall': 0.686,\n",
       " 'mean_f1': 0.687}"
      ]
     },
     "execution_count": 334,
     "metadata": {},
     "output_type": "execute_result"
    }
   ],
   "source": [
    "rbf_perform.get_score() # C= 10.0; gamma= 0.1"
   ]
  },
  {
   "cell_type": "code",
   "execution_count": 341,
   "metadata": {},
   "outputs": [
    {
     "data": {
      "text/plain": [
       "{'mean_accuracy': 0.684,\n",
       " 'mean_precision': 0.675,\n",
       " 'mean_recall': 0.67,\n",
       " 'mean_f1': 0.671}"
      ]
     },
     "execution_count": 341,
     "metadata": {},
     "output_type": "execute_result"
    }
   ],
   "source": [
    "rbf_perform.get_score() # C= 100.0; gamma= 0.1"
   ]
  },
  {
   "cell_type": "code",
   "execution_count": 348,
   "metadata": {},
   "outputs": [
    {
     "data": {
      "text/plain": [
       "{'mean_accuracy': 0.671,\n",
       " 'mean_precision': 0.662,\n",
       " 'mean_recall': 0.657,\n",
       " 'mean_f1': 0.658}"
      ]
     },
     "execution_count": 348,
     "metadata": {},
     "output_type": "execute_result"
    }
   ],
   "source": [
    "rbf_perform.get_score() # C= 1000.0; gamma= 0.1"
   ]
  },
  {
   "cell_type": "code",
   "execution_count": 355,
   "metadata": {},
   "outputs": [
    {
     "data": {
      "text/plain": [
       "{'mean_accuracy': 0.67,\n",
       " 'mean_precision': 0.661,\n",
       " 'mean_recall': 0.655,\n",
       " 'mean_f1': 0.656}"
      ]
     },
     "execution_count": 355,
     "metadata": {},
     "output_type": "execute_result"
    }
   ],
   "source": [
    "rbf_perform.get_score() # C= 10,000.0; gamma= 0.1"
   ]
  },
  {
   "cell_type": "code",
   "execution_count": 362,
   "metadata": {},
   "outputs": [
    {
     "data": {
      "text/plain": [
       "{'mean_accuracy': 0.701,\n",
       " 'mean_precision': 0.708,\n",
       " 'mean_recall': 0.674,\n",
       " 'mean_f1': 0.676}"
      ]
     },
     "execution_count": 362,
     "metadata": {},
     "output_type": "execute_result"
    }
   ],
   "source": [
    "rbf_perform.get_score() # C= 1.0; gamma= 1.0"
   ]
  },
  {
   "cell_type": "code",
   "execution_count": 369,
   "metadata": {},
   "outputs": [
    {
     "data": {
      "text/plain": [
       "{'mean_accuracy': 0.714,\n",
       " 'mean_precision': 0.711,\n",
       " 'mean_recall': 0.692,\n",
       " 'mean_f1': 0.695}"
      ]
     },
     "execution_count": 369,
     "metadata": {},
     "output_type": "execute_result"
    }
   ],
   "source": [
    "rbf_perform.get_score() # C= 10.0; gamma= 1.0"
   ]
  },
  {
   "cell_type": "code",
   "execution_count": 376,
   "metadata": {},
   "outputs": [
    {
     "data": {
      "text/plain": [
       "{'mean_accuracy': 0.713,\n",
       " 'mean_precision': 0.711,\n",
       " 'mean_recall': 0.691,\n",
       " 'mean_f1': 0.694}"
      ]
     },
     "execution_count": 376,
     "metadata": {},
     "output_type": "execute_result"
    }
   ],
   "source": [
    "rbf_perform.get_score() # C= 100.0; gamma= 1.0"
   ]
  },
  {
   "cell_type": "code",
   "execution_count": 383,
   "metadata": {},
   "outputs": [
    {
     "data": {
      "text/plain": [
       "{'mean_accuracy': 0.711,\n",
       " 'mean_precision': 0.709,\n",
       " 'mean_recall': 0.69,\n",
       " 'mean_f1': 0.692}"
      ]
     },
     "execution_count": 383,
     "metadata": {},
     "output_type": "execute_result"
    }
   ],
   "source": [
    "rbf_perform.get_score() # C= 1000.0; gamma= 1.0"
   ]
  },
  {
   "cell_type": "code",
   "execution_count": 390,
   "metadata": {},
   "outputs": [
    {
     "data": {
      "text/plain": [
       "{'mean_accuracy': 0.711,\n",
       " 'mean_precision': 0.709,\n",
       " 'mean_recall': 0.69,\n",
       " 'mean_f1': 0.692}"
      ]
     },
     "execution_count": 390,
     "metadata": {},
     "output_type": "execute_result"
    }
   ],
   "source": [
    "rbf_perform.get_score() # C= 10,000.0; gamma= 1.0"
   ]
  },
  {
   "attachments": {},
   "cell_type": "markdown",
   "metadata": {},
   "source": [
    "##### 6.1.2.3 Performa SVM-Polinomial"
   ]
  },
  {
   "cell_type": "code",
   "execution_count": 279,
   "metadata": {},
   "outputs": [
    {
     "data": {
      "text/plain": [
       "{'mean_accuracy': 0.43,\n",
       " 'mean_precision': 0.766,\n",
       " 'mean_recall': 0.387,\n",
       " 'mean_f1': 0.288}"
      ]
     },
     "execution_count": 279,
     "metadata": {},
     "output_type": "execute_result"
    }
   ],
   "source": [
    "poly_perform.get_score() # C= 1.0; gamma= 0.01; degree= 3"
   ]
  },
  {
   "cell_type": "code",
   "execution_count": 289,
   "metadata": {},
   "outputs": [
    {
     "data": {
      "text/plain": [
       "{'mean_accuracy': 0.43,\n",
       " 'mean_precision': 0.766,\n",
       " 'mean_recall': 0.387,\n",
       " 'mean_f1': 0.288}"
      ]
     },
     "execution_count": 289,
     "metadata": {},
     "output_type": "execute_result"
    }
   ],
   "source": [
    "poly_perform.get_score() # C= 10.0; gamma= 0.01; degree= 3"
   ]
  },
  {
   "cell_type": "code",
   "execution_count": 299,
   "metadata": {},
   "outputs": [
    {
     "data": {
      "text/plain": [
       "{'mean_accuracy': 0.43,\n",
       " 'mean_precision': 0.766,\n",
       " 'mean_recall': 0.387,\n",
       " 'mean_f1': 0.288}"
      ]
     },
     "execution_count": 299,
     "metadata": {},
     "output_type": "execute_result"
    }
   ],
   "source": [
    "poly_perform.get_score() # C= 100.0; gamma= 0.01; degree= 3"
   ]
  },
  {
   "cell_type": "code",
   "execution_count": 309,
   "metadata": {},
   "outputs": [
    {
     "data": {
      "text/plain": [
       "{'mean_accuracy': 0.43,\n",
       " 'mean_precision': 0.766,\n",
       " 'mean_recall': 0.387,\n",
       " 'mean_f1': 0.288}"
      ]
     },
     "execution_count": 309,
     "metadata": {},
     "output_type": "execute_result"
    }
   ],
   "source": [
    "poly_perform.get_score() # C= 1000.0; gamma= 0.01; degree= 3"
   ]
  },
  {
   "cell_type": "code",
   "execution_count": 319,
   "metadata": {},
   "outputs": [
    {
     "data": {
      "text/plain": [
       "{'mean_accuracy': 0.43,\n",
       " 'mean_precision': 0.766,\n",
       " 'mean_recall': 0.387,\n",
       " 'mean_f1': 0.288}"
      ]
     },
     "execution_count": 319,
     "metadata": {},
     "output_type": "execute_result"
    }
   ],
   "source": [
    "poly_perform.get_score() # C= 10,000.0; gamma= 0.01; degree= 3"
   ]
  },
  {
   "cell_type": "code",
   "execution_count": 328,
   "metadata": {},
   "outputs": [
    {
     "data": {
      "text/plain": [
       "{'mean_accuracy': 0.43,\n",
       " 'mean_precision': 0.766,\n",
       " 'mean_recall': 0.387,\n",
       " 'mean_f1': 0.288}"
      ]
     },
     "execution_count": 328,
     "metadata": {},
     "output_type": "execute_result"
    }
   ],
   "source": [
    "poly_perform.get_score() # C= 1.0; gamma= 0.1; degree= 3"
   ]
  },
  {
   "cell_type": "code",
   "execution_count": 335,
   "metadata": {},
   "outputs": [
    {
     "data": {
      "text/plain": [
       "{'mean_accuracy': 0.43,\n",
       " 'mean_precision': 0.766,\n",
       " 'mean_recall': 0.387,\n",
       " 'mean_f1': 0.288}"
      ]
     },
     "execution_count": 335,
     "metadata": {},
     "output_type": "execute_result"
    }
   ],
   "source": [
    "poly_perform.get_score() # C= 10.0; gamma= 0.1; degree= 3"
   ]
  },
  {
   "cell_type": "code",
   "execution_count": 342,
   "metadata": {},
   "outputs": [
    {
     "data": {
      "text/plain": [
       "{'mean_accuracy': 0.44,\n",
       " 'mean_precision': 0.769,\n",
       " 'mean_recall': 0.395,\n",
       " 'mean_f1': 0.302}"
      ]
     },
     "execution_count": 342,
     "metadata": {},
     "output_type": "execute_result"
    }
   ],
   "source": [
    "poly_perform.get_score() # C= 100.0; gamma= 0.1; degree= 3"
   ]
  },
  {
   "cell_type": "code",
   "execution_count": 349,
   "metadata": {},
   "outputs": [
    {
     "data": {
      "text/plain": [
       "{'mean_accuracy': 0.567,\n",
       " 'mean_precision': 0.652,\n",
       " 'mean_recall': 0.528,\n",
       " 'mean_f1': 0.511}"
      ]
     },
     "execution_count": 349,
     "metadata": {},
     "output_type": "execute_result"
    }
   ],
   "source": [
    "poly_perform.get_score() # C= 1000.0; gamma= 0.1; degree= 3"
   ]
  },
  {
   "cell_type": "code",
   "execution_count": 356,
   "metadata": {},
   "outputs": [
    {
     "data": {
      "text/plain": [
       "{'mean_accuracy': 0.575,\n",
       " 'mean_precision': 0.625,\n",
       " 'mean_recall': 0.592,\n",
       " 'mean_f1': 0.578}"
      ]
     },
     "execution_count": 356,
     "metadata": {},
     "output_type": "execute_result"
    }
   ],
   "source": [
    "poly_perform.get_score() # C= 10,000.0; gamma= 0.1; degree= 3"
   ]
  },
  {
   "cell_type": "code",
   "execution_count": 363,
   "metadata": {},
   "outputs": [
    {
     "data": {
      "text/plain": [
       "{'mean_accuracy': 0.567,\n",
       " 'mean_precision': 0.652,\n",
       " 'mean_recall': 0.528,\n",
       " 'mean_f1': 0.511}"
      ]
     },
     "execution_count": 363,
     "metadata": {},
     "output_type": "execute_result"
    }
   ],
   "source": [
    "poly_perform.get_score() # C= 1.0; gamma= 1.0; degree= 3"
   ]
  },
  {
   "cell_type": "code",
   "execution_count": 370,
   "metadata": {},
   "outputs": [
    {
     "data": {
      "text/plain": [
       "{'mean_accuracy': 0.575,\n",
       " 'mean_precision': 0.625,\n",
       " 'mean_recall': 0.592,\n",
       " 'mean_f1': 0.578}"
      ]
     },
     "execution_count": 370,
     "metadata": {},
     "output_type": "execute_result"
    }
   ],
   "source": [
    "poly_perform.get_score() # C= 10.0; gamma= 1.0; degree= 3"
   ]
  },
  {
   "cell_type": "code",
   "execution_count": 377,
   "metadata": {},
   "outputs": [
    {
     "data": {
      "text/plain": [
       "{'mean_accuracy': 0.576,\n",
       " 'mean_precision': 0.625,\n",
       " 'mean_recall': 0.593,\n",
       " 'mean_f1': 0.578}"
      ]
     },
     "execution_count": 377,
     "metadata": {},
     "output_type": "execute_result"
    }
   ],
   "source": [
    "poly_perform.get_score() # C= 100.0; gamma= 1.0; degree= 3"
   ]
  },
  {
   "cell_type": "code",
   "execution_count": 384,
   "metadata": {},
   "outputs": [
    {
     "data": {
      "text/plain": [
       "{'mean_accuracy': 0.575,\n",
       " 'mean_precision': 0.626,\n",
       " 'mean_recall': 0.592,\n",
       " 'mean_f1': 0.577}"
      ]
     },
     "execution_count": 384,
     "metadata": {},
     "output_type": "execute_result"
    }
   ],
   "source": [
    "poly_perform.get_score() # C= 1000.0; gamma= 1.0; degree= 3"
   ]
  },
  {
   "cell_type": "code",
   "execution_count": 391,
   "metadata": {},
   "outputs": [
    {
     "data": {
      "text/plain": [
       "{'mean_accuracy': 0.575,\n",
       " 'mean_precision': 0.626,\n",
       " 'mean_recall': 0.592,\n",
       " 'mean_f1': 0.577}"
      ]
     },
     "execution_count": 391,
     "metadata": {},
     "output_type": "execute_result"
    }
   ],
   "source": [
    "poly_perform.get_score() # C= 10,000.0; gamma= 1.0; degree= 3"
   ]
  },
  {
   "cell_type": "code",
   "execution_count": 395,
   "metadata": {},
   "outputs": [
    {
     "data": {
      "text/plain": [
       "{'mean_accuracy': 0.428,\n",
       " 'mean_precision': 0.773,\n",
       " 'mean_recall': 0.384,\n",
       " 'mean_f1': 0.281}"
      ]
     },
     "execution_count": 395,
     "metadata": {},
     "output_type": "execute_result"
    }
   ],
   "source": [
    "poly_perform.get_score() # C= 1.0; gamma= 0.01; degree= 6"
   ]
  },
  {
   "cell_type": "code",
   "execution_count": 399,
   "metadata": {},
   "outputs": [
    {
     "data": {
      "text/plain": [
       "{'mean_accuracy': 0.428,\n",
       " 'mean_precision': 0.773,\n",
       " 'mean_recall': 0.384,\n",
       " 'mean_f1': 0.281}"
      ]
     },
     "execution_count": 399,
     "metadata": {},
     "output_type": "execute_result"
    }
   ],
   "source": [
    "poly_perform.get_score() # C= 10.0; gamma= 0.01; degree= 6"
   ]
  },
  {
   "cell_type": "code",
   "execution_count": 403,
   "metadata": {},
   "outputs": [
    {
     "data": {
      "text/plain": [
       "{'mean_accuracy': 0.428,\n",
       " 'mean_precision': 0.773,\n",
       " 'mean_recall': 0.384,\n",
       " 'mean_f1': 0.281}"
      ]
     },
     "execution_count": 403,
     "metadata": {},
     "output_type": "execute_result"
    }
   ],
   "source": [
    "poly_perform.get_score() # C= 100.0; gamma= 0.01; degree= 6"
   ]
  },
  {
   "cell_type": "code",
   "execution_count": 407,
   "metadata": {},
   "outputs": [
    {
     "data": {
      "text/plain": [
       "{'mean_accuracy': 0.428,\n",
       " 'mean_precision': 0.773,\n",
       " 'mean_recall': 0.384,\n",
       " 'mean_f1': 0.281}"
      ]
     },
     "execution_count": 407,
     "metadata": {},
     "output_type": "execute_result"
    }
   ],
   "source": [
    "poly_perform.get_score() # C= 1000.0; gamma= 0.01; degree= 6"
   ]
  },
  {
   "cell_type": "code",
   "execution_count": 411,
   "metadata": {},
   "outputs": [
    {
     "data": {
      "text/plain": [
       "{'mean_accuracy': 0.428,\n",
       " 'mean_precision': 0.773,\n",
       " 'mean_recall': 0.384,\n",
       " 'mean_f1': 0.281}"
      ]
     },
     "execution_count": 411,
     "metadata": {},
     "output_type": "execute_result"
    }
   ],
   "source": [
    "poly_perform.get_score() # C= 10,000.0; gamma= 0.01; degree= 6"
   ]
  },
  {
   "cell_type": "code",
   "execution_count": 415,
   "metadata": {},
   "outputs": [
    {
     "data": {
      "text/plain": [
       "{'mean_accuracy': 0.428,\n",
       " 'mean_precision': 0.773,\n",
       " 'mean_recall': 0.384,\n",
       " 'mean_f1': 0.281}"
      ]
     },
     "execution_count": 415,
     "metadata": {},
     "output_type": "execute_result"
    }
   ],
   "source": [
    "poly_perform.get_score() # C= 1.0; gamma= 0.1; degree= 6"
   ]
  },
  {
   "cell_type": "code",
   "execution_count": 419,
   "metadata": {},
   "outputs": [
    {
     "data": {
      "text/plain": [
       "{'mean_accuracy': 0.428,\n",
       " 'mean_precision': 0.773,\n",
       " 'mean_recall': 0.384,\n",
       " 'mean_f1': 0.281}"
      ]
     },
     "execution_count": 419,
     "metadata": {},
     "output_type": "execute_result"
    }
   ],
   "source": [
    "poly_perform.get_score() # C= 10.0; gamma= 0.1; degree= 6"
   ]
  },
  {
   "cell_type": "code",
   "execution_count": 423,
   "metadata": {},
   "outputs": [
    {
     "data": {
      "text/plain": [
       "{'mean_accuracy': 0.428,\n",
       " 'mean_precision': 0.773,\n",
       " 'mean_recall': 0.384,\n",
       " 'mean_f1': 0.281}"
      ]
     },
     "execution_count": 423,
     "metadata": {},
     "output_type": "execute_result"
    }
   ],
   "source": [
    "poly_perform.get_score() # C= 100.0; gamma= 0.1; degree= 6"
   ]
  },
  {
   "cell_type": "code",
   "execution_count": 427,
   "metadata": {},
   "outputs": [
    {
     "data": {
      "text/plain": [
       "{'mean_accuracy': 0.428,\n",
       " 'mean_precision': 0.773,\n",
       " 'mean_recall': 0.384,\n",
       " 'mean_f1': 0.281}"
      ]
     },
     "execution_count": 427,
     "metadata": {},
     "output_type": "execute_result"
    }
   ],
   "source": [
    "poly_perform.get_score() # C= 1000.0; gamma= 0.1; degree= 6"
   ]
  },
  {
   "cell_type": "code",
   "execution_count": 431,
   "metadata": {},
   "outputs": [
    {
     "data": {
      "text/plain": [
       "{'mean_accuracy': 0.428,\n",
       " 'mean_precision': 0.773,\n",
       " 'mean_recall': 0.384,\n",
       " 'mean_f1': 0.281}"
      ]
     },
     "execution_count": 431,
     "metadata": {},
     "output_type": "execute_result"
    }
   ],
   "source": [
    "poly_perform.get_score() # C= 10,000.0; gamma= 0.1; degree= 6"
   ]
  },
  {
   "cell_type": "code",
   "execution_count": 435,
   "metadata": {},
   "outputs": [
    {
     "data": {
      "text/plain": [
       "{'mean_accuracy': 0.491,\n",
       " 'mean_precision': 0.7,\n",
       " 'mean_recall': 0.445,\n",
       " 'mean_f1': 0.386}"
      ]
     },
     "execution_count": 435,
     "metadata": {},
     "output_type": "execute_result"
    }
   ],
   "source": [
    "poly_perform.get_score() # C= 1.0; gamma= 1.0; degree= 6"
   ]
  },
  {
   "cell_type": "code",
   "execution_count": 439,
   "metadata": {},
   "outputs": [
    {
     "data": {
      "text/plain": [
       "{'mean_accuracy': 0.358,\n",
       " 'mean_precision': 0.69,\n",
       " 'mean_recall': 0.422,\n",
       " 'mean_f1': 0.301}"
      ]
     },
     "execution_count": 439,
     "metadata": {},
     "output_type": "execute_result"
    }
   ],
   "source": [
    "poly_perform.get_score() # C= 10.0; gamma= 1.0; degree= 6"
   ]
  },
  {
   "cell_type": "code",
   "execution_count": 443,
   "metadata": {},
   "outputs": [
    {
     "data": {
      "text/plain": [
       "{'mean_accuracy': 0.358,\n",
       " 'mean_precision': 0.69,\n",
       " 'mean_recall': 0.422,\n",
       " 'mean_f1': 0.301}"
      ]
     },
     "execution_count": 443,
     "metadata": {},
     "output_type": "execute_result"
    }
   ],
   "source": [
    "poly_perform.get_score() # C= 100.0; gamma= 1.0; degree= 6"
   ]
  },
  {
   "cell_type": "code",
   "execution_count": 447,
   "metadata": {},
   "outputs": [
    {
     "data": {
      "text/plain": [
       "{'mean_accuracy': 0.358,\n",
       " 'mean_precision': 0.69,\n",
       " 'mean_recall': 0.422,\n",
       " 'mean_f1': 0.301}"
      ]
     },
     "execution_count": 447,
     "metadata": {},
     "output_type": "execute_result"
    }
   ],
   "source": [
    "poly_perform.get_score() # C= 1000.0; gamma= 1.0; degree= 6"
   ]
  },
  {
   "cell_type": "code",
   "execution_count": 451,
   "metadata": {},
   "outputs": [
    {
     "data": {
      "text/plain": [
       "{'mean_accuracy': 0.358,\n",
       " 'mean_precision': 0.69,\n",
       " 'mean_recall': 0.422,\n",
       " 'mean_f1': 0.301}"
      ]
     },
     "execution_count": 451,
     "metadata": {},
     "output_type": "execute_result"
    }
   ],
   "source": [
    "poly_perform.get_score() # C= 10,000.0; gamma= 1.0; degree= 6"
   ]
  },
  {
   "cell_type": "code",
   "execution_count": 456,
   "metadata": {},
   "outputs": [
    {
     "data": {
      "text/plain": [
       "{'mean_accuracy': 0.55,\n",
       " 'mean_precision': 0.559,\n",
       " 'mean_recall': 0.535,\n",
       " 'mean_f1': 0.531}"
      ]
     },
     "execution_count": 456,
     "metadata": {},
     "output_type": "execute_result"
    }
   ],
   "source": [
    "poly_perform.get_score() # C= 1.0; gamma= 0.01; degree= 9"
   ]
  },
  {
   "cell_type": "code",
   "execution_count": 460,
   "metadata": {},
   "outputs": [
    {
     "data": {
      "text/plain": [
       "{'mean_accuracy': 0.55,\n",
       " 'mean_precision': 0.559,\n",
       " 'mean_recall': 0.535,\n",
       " 'mean_f1': 0.531}"
      ]
     },
     "execution_count": 460,
     "metadata": {},
     "output_type": "execute_result"
    }
   ],
   "source": [
    "poly_perform.get_score() # C= 10.0; gamma= 0.01; degree= 9"
   ]
  },
  {
   "cell_type": "code",
   "execution_count": 465,
   "metadata": {},
   "outputs": [
    {
     "data": {
      "text/plain": [
       "{'mean_accuracy': 0.428,\n",
       " 'mean_precision': 0.773,\n",
       " 'mean_recall': 0.383,\n",
       " 'mean_f1': 0.28}"
      ]
     },
     "execution_count": 465,
     "metadata": {},
     "output_type": "execute_result"
    }
   ],
   "source": [
    "poly_perform.get_score() # C= 100.0; gamma= 0.01; degree= 9"
   ]
  },
  {
   "cell_type": "code",
   "execution_count": 469,
   "metadata": {},
   "outputs": [
    {
     "data": {
      "text/plain": [
       "{'mean_accuracy': 0.429,\n",
       " 'mean_precision': 0.774,\n",
       " 'mean_recall': 0.385,\n",
       " 'mean_f1': 0.283}"
      ]
     },
     "execution_count": 469,
     "metadata": {},
     "output_type": "execute_result"
    }
   ],
   "source": [
    "poly_perform.get_score() # C= 1000.0; gamma= 0.01; degree= 9"
   ]
  },
  {
   "cell_type": "code",
   "execution_count": 473,
   "metadata": {},
   "outputs": [
    {
     "data": {
      "text/plain": [
       "{'mean_accuracy': 0.429,\n",
       " 'mean_precision': 0.774,\n",
       " 'mean_recall': 0.385,\n",
       " 'mean_f1': 0.283}"
      ]
     },
     "execution_count": 473,
     "metadata": {},
     "output_type": "execute_result"
    }
   ],
   "source": [
    "poly_perform.get_score() # C= 10,000.0; gamma= 0.01; degree= 9"
   ]
  },
  {
   "cell_type": "code",
   "execution_count": 477,
   "metadata": {},
   "outputs": [
    {
     "data": {
      "text/plain": [
       "{'mean_accuracy': 0.429,\n",
       " 'mean_precision': 0.774,\n",
       " 'mean_recall': 0.385,\n",
       " 'mean_f1': 0.283}"
      ]
     },
     "execution_count": 477,
     "metadata": {},
     "output_type": "execute_result"
    }
   ],
   "source": [
    "poly_perform.get_score() # C= 1.0; gamma= 0.1; degree= 9"
   ]
  },
  {
   "cell_type": "code",
   "execution_count": 481,
   "metadata": {},
   "outputs": [
    {
     "data": {
      "text/plain": [
       "{'mean_accuracy': 0.429,\n",
       " 'mean_precision': 0.774,\n",
       " 'mean_recall': 0.385,\n",
       " 'mean_f1': 0.283}"
      ]
     },
     "execution_count": 481,
     "metadata": {},
     "output_type": "execute_result"
    }
   ],
   "source": [
    "poly_perform.get_score() # C= 10.0; gamma= 0.1; degree= 9"
   ]
  },
  {
   "cell_type": "code",
   "execution_count": 485,
   "metadata": {},
   "outputs": [
    {
     "data": {
      "text/plain": [
       "{'mean_accuracy': 0.429,\n",
       " 'mean_precision': 0.774,\n",
       " 'mean_recall': 0.385,\n",
       " 'mean_f1': 0.283}"
      ]
     },
     "execution_count": 485,
     "metadata": {},
     "output_type": "execute_result"
    }
   ],
   "source": [
    "poly_perform.get_score() # C= 100.0; gamma= 0.1; degree= 9"
   ]
  },
  {
   "cell_type": "code",
   "execution_count": 489,
   "metadata": {},
   "outputs": [
    {
     "data": {
      "text/plain": [
       "{'mean_accuracy': 0.429,\n",
       " 'mean_precision': 0.774,\n",
       " 'mean_recall': 0.385,\n",
       " 'mean_f1': 0.283}"
      ]
     },
     "execution_count": 489,
     "metadata": {},
     "output_type": "execute_result"
    }
   ],
   "source": [
    "poly_perform.get_score() # C= 1000.0; gamma= 0.1; degree= 9"
   ]
  },
  {
   "cell_type": "code",
   "execution_count": 493,
   "metadata": {},
   "outputs": [
    {
     "data": {
      "text/plain": [
       "{'mean_accuracy': 0.429,\n",
       " 'mean_precision': 0.774,\n",
       " 'mean_recall': 0.385,\n",
       " 'mean_f1': 0.283}"
      ]
     },
     "execution_count": 493,
     "metadata": {},
     "output_type": "execute_result"
    }
   ],
   "source": [
    "poly_perform.get_score() # C= 10,000.0; gamma= 0.1; degree= 9"
   ]
  },
  {
   "cell_type": "code",
   "execution_count": 497,
   "metadata": {},
   "outputs": [
    {
     "data": {
      "text/plain": [
       "{'mean_accuracy': 0.478,\n",
       " 'mean_precision': 0.723,\n",
       " 'mean_recall': 0.432,\n",
       " 'mean_f1': 0.365}"
      ]
     },
     "execution_count": 497,
     "metadata": {},
     "output_type": "execute_result"
    }
   ],
   "source": [
    "poly_perform.get_score() # C= 1.0; gamma= 1.0; degree= 9"
   ]
  },
  {
   "cell_type": "code",
   "execution_count": 501,
   "metadata": {},
   "outputs": [
    {
     "data": {
      "text/plain": [
       "{'mean_accuracy': 0.348,\n",
       " 'mean_precision': 0.721,\n",
       " 'mean_recall': 0.414,\n",
       " 'mean_f1': 0.285}"
      ]
     },
     "execution_count": 501,
     "metadata": {},
     "output_type": "execute_result"
    }
   ],
   "source": [
    "poly_perform.get_score() # C= 10.0; gamma= 1.0; degree= 9"
   ]
  },
  {
   "cell_type": "code",
   "execution_count": 17,
   "metadata": {},
   "outputs": [
    {
     "data": {
      "text/plain": [
       "{'mean_accuracy': 0.349,\n",
       " 'mean_precision': 0.719,\n",
       " 'mean_recall': 0.414,\n",
       " 'mean_f1': 0.285}"
      ]
     },
     "execution_count": 17,
     "metadata": {},
     "output_type": "execute_result"
    }
   ],
   "source": [
    "poly_perform.get_score() # C= 100.0; gamma= 1.0; degree= 9"
   ]
  },
  {
   "cell_type": "code",
   "execution_count": 21,
   "metadata": {},
   "outputs": [
    {
     "data": {
      "text/plain": [
       "{'mean_accuracy': 0.349,\n",
       " 'mean_precision': 0.719,\n",
       " 'mean_recall': 0.414,\n",
       " 'mean_f1': 0.285}"
      ]
     },
     "execution_count": 21,
     "metadata": {},
     "output_type": "execute_result"
    }
   ],
   "source": [
    "poly_perform.get_score() # C= 1000.0; gamma= 1.0; degree= 9"
   ]
  },
  {
   "cell_type": "code",
   "execution_count": 25,
   "metadata": {},
   "outputs": [
    {
     "data": {
      "text/plain": [
       "{'mean_accuracy': 0.349,\n",
       " 'mean_precision': 0.719,\n",
       " 'mean_recall': 0.414,\n",
       " 'mean_f1': 0.285}"
      ]
     },
     "execution_count": 25,
     "metadata": {},
     "output_type": "execute_result"
    }
   ],
   "source": [
    "poly_perform.get_score() # C= 10,000.0; gamma= 1.0; degree= 9"
   ]
  },
  {
   "attachments": {},
   "cell_type": "markdown",
   "metadata": {},
   "source": [
    "Brealih ke:\n",
    "- [5.1 Pemodelan SVM Tahap 1](#51-pemodelan-svm-tahap-1)"
   ]
  },
  {
   "attachments": {},
   "cell_type": "markdown",
   "metadata": {},
   "source": [
    "***"
   ]
  },
  {
   "attachments": {},
   "cell_type": "markdown",
   "metadata": {},
   "source": [
    "### 5.2 Pemodelan SVM Tahap 2"
   ]
  },
  {
   "attachments": {},
   "cell_type": "markdown",
   "metadata": {},
   "source": [
    "### 6.2 Pengukuran Performa Tahap 2"
   ]
  },
  {
   "attachments": {},
   "cell_type": "markdown",
   "metadata": {},
   "source": [
    "#### __6.2.1 Pengukuran Performa SVM + BOW__"
   ]
  },
  {
   "attachments": {},
   "cell_type": "markdown",
   "metadata": {},
   "source": [
    "#### __6.2.2 Pengukuran Performa SVM + TF-IDF__"
   ]
  }
 ],
 "metadata": {
  "kernelspec": {
   "display_name": "nlpenv",
   "language": "python",
   "name": "python3"
  },
  "language_info": {
   "codemirror_mode": {
    "name": "ipython",
    "version": 3
   },
   "file_extension": ".py",
   "mimetype": "text/x-python",
   "name": "python",
   "nbconvert_exporter": "python",
   "pygments_lexer": "ipython3",
   "version": "3.9.16"
  },
  "orig_nbformat": 4
 },
 "nbformat": 4,
 "nbformat_minor": 2
}
