{
 "cells": [
  {
   "attachments": {},
   "cell_type": "markdown",
   "metadata": {},
   "source": [
    "#### Daftar Isi:\n",
    "- [1. Pemodelan Tahap 1](#1-pemodelan-svm-tahap-1)\n",
    "- [2. Pengukuran Performa Tahap 1](#2-pengukuran-performa-tahap-1)\n",
    "- [3. Pemodelan Tahap 2](#3-pemodelan-svm-tahap-2)\n",
    "- [4. Pengukuran Performa Tahap 2](#4-pengukuran-performa-tahap-2)\n",
    "- [5. Pengujian](#5-pengujian)"
   ]
  },
  {
   "attachments": {},
   "cell_type": "markdown",
   "metadata": {},
   "source": [
    "***"
   ]
  },
  {
   "cell_type": "code",
   "execution_count": 1,
   "metadata": {},
   "outputs": [
    {
     "name": "stdout",
     "output_type": "stream",
     "text": [
      "Author: F. Waskito\n",
      "\n",
      "Last updated: Wed Nov 29 2023 23:30:13\n",
      "\n",
      "Python implementation: CPython\n",
      "Python version       : 3.9.18\n",
      "IPython version      : 8.15.0\n",
      "\n"
     ]
    },
    {
     "name": "stderr",
     "output_type": "stream",
     "text": [
      "Intel(R) Extension for Scikit-learn* enabled (https://github.com/intel/scikit-learn-intelex)\n"
     ]
    }
   ],
   "source": [
    "from IPython.core.interactiveshell import InteractiveShell\n",
    "import sklearnex\n",
    "\n",
    "InteractiveShell.ast_node_interactivity = \"all\"\n",
    "sklearnex.patch_sklearn()\n",
    "\n",
    "%load_ext watermark\n",
    "%watermark -a \"F. Waskito\" -n -t -u -v"
   ]
  },
  {
   "cell_type": "code",
   "execution_count": 2,
   "metadata": {},
   "outputs": [
    {
     "name": "stdout",
     "output_type": "stream",
     "text": [
      "Shape: (3409,)\n",
      "Distribution:\n",
      "\t('positive', 864)\n",
      "\t('neutral', 1253)\n",
      "\t('negative', 1292)\n"
     ]
    }
   ],
   "source": [
    "import pandas\n",
    "from collection import analysis\n",
    "\n",
    "path = \"data/tweet/depresi_or_bipolar_tweets_id_01-10.csv\"\n",
    "tweets_table = pandas.read_csv(path)\n",
    "texts = tweets_table.loc[:, \"Text\"].copy().to_list()\n",
    "labels = tweets_table.loc[:, \"Sentiment\"].copy().to_list()\n",
    "\n",
    "analysis.get_shape(texts)\n",
    "analysis.get_distribution(labels)"
   ]
  },
  {
   "attachments": {},
   "cell_type": "markdown",
   "metadata": {},
   "source": [
    "Prapemrosesan"
   ]
  },
  {
   "cell_type": "code",
   "execution_count": 3,
   "metadata": {},
   "outputs": [
    {
     "name": "stderr",
     "output_type": "stream",
     "text": [
      "100%|██████████| 3409/3409 [12:16<00:00,  4.63it/s]\n"
     ]
    }
   ],
   "source": [
    "import time\n",
    "from tqdm import tqdm\n",
    "from preprocess.preprocessing import TextPreprocessor\n",
    "\n",
    "preprocessor = TextPreprocessor()\n",
    "for i, text in enumerate(tqdm(texts)):\n",
    "    text = preprocessor.clean(text)\n",
    "    text = preprocessor.standardize(text)\n",
    "    tokens = preprocessor.tokenize(text)\n",
    "    tokens = preprocessor.filter(tokens)\n",
    "    texts[i] = preprocessor.stem(tokens)\n",
    "    time.sleep(0.001)"
   ]
  },
  {
   "attachments": {},
   "cell_type": "markdown",
   "metadata": {},
   "source": [
    "Ekstraksi Fitur"
   ]
  },
  {
   "cell_type": "code",
   "execution_count": 4,
   "metadata": {},
   "outputs": [],
   "source": [
    "from preprocess.feature.extraction import TextVectorizer"
   ]
  },
  {
   "cell_type": "code",
   "execution_count": 35,
   "metadata": {},
   "outputs": [
    {
     "name": "stdout",
     "output_type": "stream",
     "text": [
      "Shape: (3409, 2202)\n"
     ]
    }
   ],
   "source": [
    "# BOW\n",
    "extractor = TextVectorizer(texts)\n",
    "extractor.transform(target=\"bow\", min_df=2, norm=True)\n",
    "vector_texts = extractor.vectors\n",
    "\n",
    "analysis.get_shape(vector_texts)"
   ]
  },
  {
   "cell_type": "code",
   "execution_count": 5,
   "metadata": {},
   "outputs": [
    {
     "name": "stdout",
     "output_type": "stream",
     "text": [
      "Shape: (3409, 2202)\n"
     ]
    }
   ],
   "source": [
    "# TF-IDF\n",
    "extractor = TextVectorizer(texts)\n",
    "extractor.transform(target=\"tfidf\", min_df=2, norm=True)\n",
    "vector_texts = extractor.vectors\n",
    "\n",
    "analysis.get_shape(vector_texts)"
   ]
  },
  {
   "attachments": {},
   "cell_type": "markdown",
   "metadata": {},
   "source": [
    "Transformasi Label"
   ]
  },
  {
   "cell_type": "code",
   "execution_count": 6,
   "metadata": {},
   "outputs": [],
   "source": [
    "from preprocess.encoding import LabelEncoder"
   ]
  },
  {
   "cell_type": "code",
   "execution_count": 7,
   "metadata": {},
   "outputs": [
    {
     "name": "stdout",
     "output_type": "stream",
     "text": [
      "Distribution:\n",
      "\t(2, 864)\n",
      "\t(1, 1253)\n",
      "\t(0, 1292)\n"
     ]
    }
   ],
   "source": [
    "encoder = LabelEncoder(labels)\n",
    "encoder.transform(target=\"integer\")\n",
    "encoded_labels = encoder.encoded_labels\n",
    "\n",
    "analysis.get_distribution(encoded_labels)"
   ]
  },
  {
   "attachments": {},
   "cell_type": "markdown",
   "metadata": {},
   "source": [
    "Seprasi Data"
   ]
  },
  {
   "cell_type": "code",
   "execution_count": 8,
   "metadata": {},
   "outputs": [],
   "source": [
    "from sklearn.model_selection import train_test_split"
   ]
  },
  {
   "cell_type": "code",
   "execution_count": 9,
   "metadata": {},
   "outputs": [
    {
     "name": "stdout",
     "output_type": "stream",
     "text": [
      "> Train set:\n",
      "Shape: (2386, 2202)\n",
      "Distribution:\n",
      "\t(1, 866)\n",
      "\t(2, 619)\n",
      "\t(0, 901)\n",
      "\n",
      "> Test set:\n",
      "Shape: (1023, 2202)\n",
      "Distribution:\n",
      "\t(0, 391)\n",
      "\t(1, 387)\n",
      "\t(2, 245)\n"
     ]
    }
   ],
   "source": [
    "X_train, X_test, y_train, y_test = train_test_split(\n",
    "    vector_texts,\n",
    "    encoded_labels,\n",
    "    test_size = 0.3,\n",
    "    random_state = 42\n",
    ")\n",
    "\n",
    "print(\"> Train set:\")\n",
    "analysis.get_shape(X_train)\n",
    "analysis.get_distribution(y_train)\n",
    "print(\"\\n> Test set:\")\n",
    "analysis.get_shape(X_test)\n",
    "analysis.get_distribution(y_test)"
   ]
  },
  {
   "attachments": {},
   "cell_type": "markdown",
   "metadata": {},
   "source": [
    "***"
   ]
  },
  {
   "attachments": {},
   "cell_type": "markdown",
   "metadata": {},
   "source": [
    "### __1. Pemodelan SVM Tahap 1__"
   ]
  },
  {
   "cell_type": "markdown",
   "metadata": {},
   "source": [
    "Beralih ke:\n",
    "- [Daftar Isi](#daftar-isi)\n",
    "- [2. Pengukuran Performa Tahap 1](#2-pengukuran-performa-tahap-1)"
   ]
  },
  {
   "cell_type": "code",
   "execution_count": 10,
   "metadata": {},
   "outputs": [],
   "source": [
    "from sklearn.svm import SVC"
   ]
  },
  {
   "cell_type": "code",
   "execution_count": 11,
   "metadata": {},
   "outputs": [],
   "source": [
    "c = 100.0\n",
    "gamma = 1.0\n",
    "degree = 9"
   ]
  },
  {
   "cell_type": "code",
   "execution_count": 321,
   "metadata": {},
   "outputs": [],
   "source": [
    "linear_svm = SVC(kernel=\"linear\", C=c)"
   ]
  },
  {
   "cell_type": "code",
   "execution_count": 12,
   "metadata": {},
   "outputs": [],
   "source": [
    "rbf_svm = SVC(kernel=\"rbf\", C=c, gamma=gamma)"
   ]
  },
  {
   "cell_type": "code",
   "execution_count": 27,
   "metadata": {},
   "outputs": [],
   "source": [
    "poly_svm = SVC(kernel=\"poly\", C=c, gamma=gamma, degree=degree)"
   ]
  },
  {
   "attachments": {},
   "cell_type": "markdown",
   "metadata": {},
   "source": [
    "### __2. Pengukuran Performa Tahap 1__"
   ]
  },
  {
   "attachments": {},
   "cell_type": "markdown",
   "metadata": {},
   "source": [
    "Beralih ke:\n",
    "- [1. Pemodelan SVM Tahap 1](#1-pemodelan-svm-tahap-1)\n",
    "- [3. Pemodelan SVM Tahap 2](#3-pemodelan-svm-tahap-2)"
   ]
  },
  {
   "cell_type": "code",
   "execution_count": 13,
   "metadata": {},
   "outputs": [],
   "source": [
    "from validation.cross import ImbalancedCV"
   ]
  },
  {
   "cell_type": "code",
   "execution_count": 14,
   "metadata": {},
   "outputs": [],
   "source": [
    "n_fold = 5\n",
    "scoring = [\"accuracy\", \"precision\", \"recall\", \"f1\",]\n",
    "random_state = 42"
   ]
  },
  {
   "cell_type": "code",
   "execution_count": 324,
   "metadata": {},
   "outputs": [
    {
     "name": "stderr",
     "output_type": "stream",
     "text": [
      "CV: 100%|██████████| 5/5 [00:16<00:00,  3.36s/it]\n"
     ]
    }
   ],
   "source": [
    "linear_perform = ImbalancedCV(\n",
    "    model = linear_svm,\n",
    "    n_fold = n_fold,\n",
    "    scoring = scoring,\n",
    "    scoring_avg = \"macro\",\n",
    "    random_state = random_state,\n",
    ")\n",
    "\n",
    "linear_perform.validate(X_train, y_train)"
   ]
  },
  {
   "cell_type": "code",
   "execution_count": 16,
   "metadata": {},
   "outputs": [
    {
     "name": "stderr",
     "output_type": "stream",
     "text": [
      "CV: 100%|██████████| 5/5 [00:19<00:00,  3.97s/it]\n"
     ]
    }
   ],
   "source": [
    "rbf_perform = ImbalancedCV(\n",
    "    model = rbf_svm,\n",
    "    n_fold = n_fold,\n",
    "    scoring = scoring,\n",
    "    scoring_avg = \"macro\",\n",
    "    random_state = random_state,\n",
    ")\n",
    "\n",
    "rbf_perform.validate(X_train, y_train)"
   ]
  },
  {
   "cell_type": "code",
   "execution_count": 29,
   "metadata": {},
   "outputs": [
    {
     "name": "stderr",
     "output_type": "stream",
     "text": [
      "CV: 100%|██████████| 5/5 [00:16<00:00,  3.32s/it]\n"
     ]
    }
   ],
   "source": [
    "poly_perform = ImbalancedCV(\n",
    "    model = poly_svm,\n",
    "    n_fold = n_fold,\n",
    "    scoring = scoring,\n",
    "    scoring_avg = \"macro\",\n",
    "    random_state = random_state,\n",
    ")\n",
    "\n",
    "poly_perform.validate(X_train, y_train)"
   ]
  },
  {
   "attachments": {},
   "cell_type": "markdown",
   "metadata": {},
   "source": [
    "#### 2.1 Pengukuran Performa Tahap 1: SVM + BOW"
   ]
  },
  {
   "attachments": {},
   "cell_type": "markdown",
   "metadata": {},
   "source": [
    "##### 2.1.1 Performa SVM-Linier"
   ]
  },
  {
   "cell_type": "code",
   "execution_count": 22,
   "metadata": {},
   "outputs": [
    {
     "data": {
      "text/plain": [
       "{'mean_accuracy': 0.672,\n",
       " 'mean_precision': 0.662,\n",
       " 'mean_recall': 0.657,\n",
       " 'mean_f1': 0.654}"
      ]
     },
     "execution_count": 22,
     "metadata": {},
     "output_type": "execute_result"
    }
   ],
   "source": [
    "linear_perform.get_score() # C= 1.0"
   ]
  },
  {
   "cell_type": "code",
   "execution_count": 33,
   "metadata": {},
   "outputs": [
    {
     "data": {
      "text/plain": [
       "{'mean_accuracy': 0.679,\n",
       " 'mean_precision': 0.667,\n",
       " 'mean_recall': 0.665,\n",
       " 'mean_f1': 0.665}"
      ]
     },
     "execution_count": 33,
     "metadata": {},
     "output_type": "execute_result"
    }
   ],
   "source": [
    "linear_perform.get_score() # C= 10.0"
   ]
  },
  {
   "cell_type": "code",
   "execution_count": 43,
   "metadata": {},
   "outputs": [
    {
     "data": {
      "text/plain": [
       "{'mean_accuracy': 0.653,\n",
       " 'mean_precision': 0.641,\n",
       " 'mean_recall': 0.639,\n",
       " 'mean_f1': 0.639}"
      ]
     },
     "execution_count": 43,
     "metadata": {},
     "output_type": "execute_result"
    }
   ],
   "source": [
    "linear_perform.get_score() # C= 100.0"
   ]
  },
  {
   "cell_type": "code",
   "execution_count": 53,
   "metadata": {},
   "outputs": [
    {
     "data": {
      "text/plain": [
       "{'mean_accuracy': 0.642,\n",
       " 'mean_precision': 0.632,\n",
       " 'mean_recall': 0.629,\n",
       " 'mean_f1': 0.63}"
      ]
     },
     "execution_count": 53,
     "metadata": {},
     "output_type": "execute_result"
    }
   ],
   "source": [
    "linear_perform.get_score() # C= 1000.0"
   ]
  },
  {
   "cell_type": "code",
   "execution_count": 64,
   "metadata": {},
   "outputs": [
    {
     "data": {
      "text/plain": [
       "{'mean_accuracy': 0.636,\n",
       " 'mean_precision': 0.627,\n",
       " 'mean_recall': 0.623,\n",
       " 'mean_f1': 0.623}"
      ]
     },
     "execution_count": 64,
     "metadata": {},
     "output_type": "execute_result"
    }
   ],
   "source": [
    "linear_perform.get_score() # C= 10000.0"
   ]
  },
  {
   "attachments": {},
   "cell_type": "markdown",
   "metadata": {},
   "source": [
    "##### 2.1.2 Performa SVM-RBF"
   ]
  },
  {
   "cell_type": "code",
   "execution_count": 23,
   "metadata": {},
   "outputs": [
    {
     "data": {
      "text/plain": [
       "{'mean_accuracy': 0.531,\n",
       " 'mean_precision': 0.596,\n",
       " 'mean_recall': 0.511,\n",
       " 'mean_f1': 0.476}"
      ]
     },
     "execution_count": 23,
     "metadata": {},
     "output_type": "execute_result"
    }
   ],
   "source": [
    "rbf_perform.get_score() # C= 1.0; gamma= 0.01"
   ]
  },
  {
   "cell_type": "code",
   "execution_count": 34,
   "metadata": {},
   "outputs": [
    {
     "data": {
      "text/plain": [
       "{'mean_accuracy': 0.666,\n",
       " 'mean_precision': 0.673,\n",
       " 'mean_recall': 0.649,\n",
       " 'mean_f1': 0.645}"
      ]
     },
     "execution_count": 34,
     "metadata": {},
     "output_type": "execute_result"
    }
   ],
   "source": [
    "rbf_perform.get_score() # C= 10.0; gamma= 0.01"
   ]
  },
  {
   "cell_type": "code",
   "execution_count": 44,
   "metadata": {},
   "outputs": [
    {
     "data": {
      "text/plain": [
       "{'mean_accuracy': 0.676,\n",
       " 'mean_precision': 0.664,\n",
       " 'mean_recall': 0.66,\n",
       " 'mean_f1': 0.659}"
      ]
     },
     "execution_count": 44,
     "metadata": {},
     "output_type": "execute_result"
    }
   ],
   "source": [
    "rbf_perform.get_score() # C= 100.0; gamma= 0.01"
   ]
  },
  {
   "cell_type": "code",
   "execution_count": 54,
   "metadata": {},
   "outputs": [
    {
     "data": {
      "text/plain": [
       "{'mean_accuracy': 0.679,\n",
       " 'mean_precision': 0.666,\n",
       " 'mean_recall': 0.66,\n",
       " 'mean_f1': 0.661}"
      ]
     },
     "execution_count": 54,
     "metadata": {},
     "output_type": "execute_result"
    }
   ],
   "source": [
    "rbf_perform.get_score() # C= 1000.0; gamma= 0.01"
   ]
  },
  {
   "cell_type": "code",
   "execution_count": 65,
   "metadata": {},
   "outputs": [
    {
     "data": {
      "text/plain": [
       "{'mean_accuracy': 0.647,\n",
       " 'mean_precision': 0.636,\n",
       " 'mean_recall': 0.631,\n",
       " 'mean_f1': 0.632}"
      ]
     },
     "execution_count": 65,
     "metadata": {},
     "output_type": "execute_result"
    }
   ],
   "source": [
    "rbf_perform.get_score() # C= 10,000.0; gamma= 0.01"
   ]
  },
  {
   "cell_type": "code",
   "execution_count": 74,
   "metadata": {},
   "outputs": [
    {
     "data": {
      "text/plain": [
       "{'mean_accuracy': 0.648,\n",
       " 'mean_precision': 0.651,\n",
       " 'mean_recall': 0.627,\n",
       " 'mean_f1': 0.625}"
      ]
     },
     "execution_count": 74,
     "metadata": {},
     "output_type": "execute_result"
    }
   ],
   "source": [
    "rbf_perform.get_score() # C= 1.0; gamma= 0.1"
   ]
  },
  {
   "cell_type": "code",
   "execution_count": 81,
   "metadata": {},
   "outputs": [
    {
     "data": {
      "text/plain": [
       "{'mean_accuracy': 0.68,\n",
       " 'mean_precision': 0.669,\n",
       " 'mean_recall': 0.661,\n",
       " 'mean_f1': 0.661}"
      ]
     },
     "execution_count": 81,
     "metadata": {},
     "output_type": "execute_result"
    }
   ],
   "source": [
    "rbf_perform.get_score() # C= 10.0; gamma= 0.1"
   ]
  },
  {
   "cell_type": "code",
   "execution_count": 88,
   "metadata": {},
   "outputs": [
    {
     "data": {
      "text/plain": [
       "{'mean_accuracy': 0.678,\n",
       " 'mean_precision': 0.665,\n",
       " 'mean_recall': 0.658,\n",
       " 'mean_f1': 0.658}"
      ]
     },
     "execution_count": 88,
     "metadata": {},
     "output_type": "execute_result"
    }
   ],
   "source": [
    "rbf_perform.get_score() # C= 100.0; gamma= 0.1"
   ]
  },
  {
   "cell_type": "code",
   "execution_count": 95,
   "metadata": {},
   "outputs": [
    {
     "data": {
      "text/plain": [
       "{'mean_accuracy': 0.647,\n",
       " 'mean_precision': 0.636,\n",
       " 'mean_recall': 0.627,\n",
       " 'mean_f1': 0.628}"
      ]
     },
     "execution_count": 95,
     "metadata": {},
     "output_type": "execute_result"
    }
   ],
   "source": [
    "rbf_perform.get_score() # C= 1000.0; gamma= 0.1"
   ]
  },
  {
   "cell_type": "code",
   "execution_count": 102,
   "metadata": {},
   "outputs": [
    {
     "data": {
      "text/plain": [
       "{'mean_accuracy': 0.625,\n",
       " 'mean_precision': 0.613,\n",
       " 'mean_recall': 0.603,\n",
       " 'mean_f1': 0.603}"
      ]
     },
     "execution_count": 102,
     "metadata": {},
     "output_type": "execute_result"
    }
   ],
   "source": [
    "rbf_perform.get_score() # C= 10,000.0; gamma= 0.1"
   ]
  },
  {
   "cell_type": "code",
   "execution_count": 109,
   "metadata": {},
   "outputs": [
    {
     "data": {
      "text/plain": [
       "{'mean_accuracy': 0.575,\n",
       " 'mean_precision': 0.612,\n",
       " 'mean_recall': 0.531,\n",
       " 'mean_f1': 0.509}"
      ]
     },
     "execution_count": 109,
     "metadata": {},
     "output_type": "execute_result"
    }
   ],
   "source": [
    "rbf_perform.get_score() # C= 1.0; gamma= 1.0"
   ]
  },
  {
   "cell_type": "code",
   "execution_count": 116,
   "metadata": {},
   "outputs": [
    {
     "data": {
      "text/plain": [
       "{'mean_accuracy': 0.581,\n",
       " 'mean_precision': 0.608,\n",
       " 'mean_recall': 0.538,\n",
       " 'mean_f1': 0.518}"
      ]
     },
     "execution_count": 116,
     "metadata": {},
     "output_type": "execute_result"
    }
   ],
   "source": [
    "rbf_perform.get_score() # C= 10.0; gamma= 1.0"
   ]
  },
  {
   "cell_type": "code",
   "execution_count": 123,
   "metadata": {},
   "outputs": [
    {
     "data": {
      "text/plain": [
       "{'mean_accuracy': 0.572,\n",
       " 'mean_precision': 0.597,\n",
       " 'mean_recall': 0.53,\n",
       " 'mean_f1': 0.513}"
      ]
     },
     "execution_count": 123,
     "metadata": {},
     "output_type": "execute_result"
    }
   ],
   "source": [
    "rbf_perform.get_score() # C= 100.0; gamma= 1.0"
   ]
  },
  {
   "cell_type": "code",
   "execution_count": 130,
   "metadata": {},
   "outputs": [
    {
     "data": {
      "text/plain": [
       "{'mean_accuracy': 0.57,\n",
       " 'mean_precision': 0.601,\n",
       " 'mean_recall': 0.528,\n",
       " 'mean_f1': 0.511}"
      ]
     },
     "execution_count": 130,
     "metadata": {},
     "output_type": "execute_result"
    }
   ],
   "source": [
    "rbf_perform.get_score() # C= 1000.0; gamma= 1.0"
   ]
  },
  {
   "cell_type": "code",
   "execution_count": 137,
   "metadata": {},
   "outputs": [
    {
     "data": {
      "text/plain": [
       "{'mean_accuracy': 0.57,\n",
       " 'mean_precision': 0.601,\n",
       " 'mean_recall': 0.528,\n",
       " 'mean_f1': 0.51}"
      ]
     },
     "execution_count": 137,
     "metadata": {},
     "output_type": "execute_result"
    }
   ],
   "source": [
    "rbf_perform.get_score() # C= 10,000.0; gamma= 1.0"
   ]
  },
  {
   "attachments": {},
   "cell_type": "markdown",
   "metadata": {},
   "source": [
    "##### 2.1.3 Performa SVM-Polinomial"
   ]
  },
  {
   "cell_type": "code",
   "execution_count": 24,
   "metadata": {},
   "outputs": [
    {
     "data": {
      "text/plain": [
       "{'mean_accuracy': 0.365,\n",
       " 'mean_precision': 0.305,\n",
       " 'mean_recall': 0.336,\n",
       " 'mean_f1': 0.182}"
      ]
     },
     "execution_count": 24,
     "metadata": {},
     "output_type": "execute_result"
    }
   ],
   "source": [
    "poly_perform.get_score() # C= 1.0; gamma= 0.01; degree= 3"
   ]
  },
  {
   "cell_type": "code",
   "execution_count": 35,
   "metadata": {},
   "outputs": [
    {
     "data": {
      "text/plain": [
       "{'mean_accuracy': 0.365,\n",
       " 'mean_precision': 0.305,\n",
       " 'mean_recall': 0.336,\n",
       " 'mean_f1': 0.182}"
      ]
     },
     "execution_count": 35,
     "metadata": {},
     "output_type": "execute_result"
    }
   ],
   "source": [
    "poly_perform.get_score() # C= 10.0; gamma= 0.01; degree= 3"
   ]
  },
  {
   "cell_type": "code",
   "execution_count": 45,
   "metadata": {},
   "outputs": [
    {
     "data": {
      "text/plain": [
       "{'mean_accuracy': 0.365,\n",
       " 'mean_precision': 0.305,\n",
       " 'mean_recall': 0.336,\n",
       " 'mean_f1': 0.182}"
      ]
     },
     "execution_count": 45,
     "metadata": {},
     "output_type": "execute_result"
    }
   ],
   "source": [
    "poly_perform.get_score() # C= 100.0; gamma= 0.01; degree= 3"
   ]
  },
  {
   "cell_type": "code",
   "execution_count": 55,
   "metadata": {},
   "outputs": [
    {
     "data": {
      "text/plain": [
       "{'mean_accuracy': 0.368,\n",
       " 'mean_precision': 0.566,\n",
       " 'mean_recall': 0.338,\n",
       " 'mean_f1': 0.188}"
      ]
     },
     "execution_count": 55,
     "metadata": {},
     "output_type": "execute_result"
    }
   ],
   "source": [
    "poly_perform.get_score() # C= 1000.0; gamma= 0.01; degree= 3"
   ]
  },
  {
   "cell_type": "code",
   "execution_count": 66,
   "metadata": {},
   "outputs": [
    {
     "data": {
      "text/plain": [
       "{'mean_accuracy': 0.383,\n",
       " 'mean_precision': 0.785,\n",
       " 'mean_recall': 0.357,\n",
       " 'mean_f1': 0.225}"
      ]
     },
     "execution_count": 66,
     "metadata": {},
     "output_type": "execute_result"
    }
   ],
   "source": [
    "poly_perform.get_score() # C= 10,000.0; gamma= 0.01; degree= 3"
   ]
  },
  {
   "cell_type": "code",
   "execution_count": 75,
   "metadata": {},
   "outputs": [
    {
     "data": {
      "text/plain": [
       "{'mean_accuracy': 0.368,\n",
       " 'mean_precision': 0.566,\n",
       " 'mean_recall': 0.338,\n",
       " 'mean_f1': 0.188}"
      ]
     },
     "execution_count": 75,
     "metadata": {},
     "output_type": "execute_result"
    }
   ],
   "source": [
    "poly_perform.get_score() # C= 1.0; gamma= 0.1; degree= 3"
   ]
  },
  {
   "cell_type": "code",
   "execution_count": 82,
   "metadata": {},
   "outputs": [
    {
     "data": {
      "text/plain": [
       "{'mean_accuracy': 0.383,\n",
       " 'mean_precision': 0.785,\n",
       " 'mean_recall': 0.357,\n",
       " 'mean_f1': 0.225}"
      ]
     },
     "execution_count": 82,
     "metadata": {},
     "output_type": "execute_result"
    }
   ],
   "source": [
    "poly_perform.get_score() # C= 10.0; gamma= 0.1; degree= 3"
   ]
  },
  {
   "cell_type": "code",
   "execution_count": 89,
   "metadata": {},
   "outputs": [
    {
     "data": {
      "text/plain": [
       "{'mean_accuracy': 0.405,\n",
       " 'mean_precision': 0.706,\n",
       " 'mean_recall': 0.379,\n",
       " 'mean_f1': 0.269}"
      ]
     },
     "execution_count": 89,
     "metadata": {},
     "output_type": "execute_result"
    }
   ],
   "source": [
    "poly_perform.get_score() # C= 100.0; gamma= 0.1; degree= 3"
   ]
  },
  {
   "cell_type": "code",
   "execution_count": 96,
   "metadata": {},
   "outputs": [
    {
     "data": {
      "text/plain": [
       "{'mean_accuracy': 0.495,\n",
       " 'mean_precision': 0.606,\n",
       " 'mean_recall': 0.473,\n",
       " 'mean_f1': 0.432}"
      ]
     },
     "execution_count": 96,
     "metadata": {},
     "output_type": "execute_result"
    }
   ],
   "source": [
    "poly_perform.get_score() # C= 1000.0; gamma= 0.1; degree= 3"
   ]
  },
  {
   "cell_type": "code",
   "execution_count": 103,
   "metadata": {},
   "outputs": [
    {
     "data": {
      "text/plain": [
       "{'mean_accuracy': 0.565,\n",
       " 'mean_precision': 0.602,\n",
       " 'mean_recall': 0.546,\n",
       " 'mean_f1': 0.53}"
      ]
     },
     "execution_count": 103,
     "metadata": {},
     "output_type": "execute_result"
    }
   ],
   "source": [
    "poly_perform.get_score() # C= 10,000.0; gamma= 0.1; degree= 3"
   ]
  },
  {
   "cell_type": "code",
   "execution_count": 110,
   "metadata": {},
   "outputs": [
    {
     "data": {
      "text/plain": [
       "{'mean_accuracy': 0.495,\n",
       " 'mean_precision': 0.606,\n",
       " 'mean_recall': 0.473,\n",
       " 'mean_f1': 0.432}"
      ]
     },
     "execution_count": 110,
     "metadata": {},
     "output_type": "execute_result"
    }
   ],
   "source": [
    "poly_perform.get_score() # C= 1.0; gamma= 1.0; degree= 3"
   ]
  },
  {
   "cell_type": "code",
   "execution_count": 117,
   "metadata": {},
   "outputs": [
    {
     "data": {
      "text/plain": [
       "{'mean_accuracy': 0.565,\n",
       " 'mean_precision': 0.602,\n",
       " 'mean_recall': 0.546,\n",
       " 'mean_f1': 0.53}"
      ]
     },
     "execution_count": 117,
     "metadata": {},
     "output_type": "execute_result"
    }
   ],
   "source": [
    "poly_perform.get_score() # C= 10.0; gamma= 1.0; degree= 3"
   ]
  },
  {
   "cell_type": "code",
   "execution_count": 124,
   "metadata": {},
   "outputs": [
    {
     "data": {
      "text/plain": [
       "{'mean_accuracy': 0.599,\n",
       " 'mean_precision': 0.597,\n",
       " 'mean_recall': 0.579,\n",
       " 'mean_f1': 0.57}"
      ]
     },
     "execution_count": 124,
     "metadata": {},
     "output_type": "execute_result"
    }
   ],
   "source": [
    "poly_perform.get_score() # C= 100.0; gamma= 1.0; degree= 3"
   ]
  },
  {
   "cell_type": "code",
   "execution_count": 131,
   "metadata": {},
   "outputs": [
    {
     "data": {
      "text/plain": [
       "{'mean_accuracy': 0.595,\n",
       " 'mean_precision': 0.582,\n",
       " 'mean_recall': 0.573,\n",
       " 'mean_f1': 0.567}"
      ]
     },
     "execution_count": 131,
     "metadata": {},
     "output_type": "execute_result"
    }
   ],
   "source": [
    "poly_perform.get_score() # C= 1000.0; gamma= 1.0; degree= 3"
   ]
  },
  {
   "cell_type": "code",
   "execution_count": 138,
   "metadata": {},
   "outputs": [
    {
     "data": {
      "text/plain": [
       "{'mean_accuracy': 0.577,\n",
       " 'mean_precision': 0.559,\n",
       " 'mean_recall': 0.558,\n",
       " 'mean_f1': 0.554}"
      ]
     },
     "execution_count": 138,
     "metadata": {},
     "output_type": "execute_result"
    }
   ],
   "source": [
    "poly_perform.get_score() # C= 10,000.0; gamma= 1.0; degree= 3"
   ]
  },
  {
   "cell_type": "code",
   "execution_count": 142,
   "metadata": {},
   "outputs": [
    {
     "data": {
      "text/plain": [
       "{'mean_accuracy': 0.363,\n",
       " 'mean_precision': 0.188,\n",
       " 'mean_recall': 0.334,\n",
       " 'mean_f1': 0.178}"
      ]
     },
     "execution_count": 142,
     "metadata": {},
     "output_type": "execute_result"
    }
   ],
   "source": [
    "poly_perform.get_score() # C= 1.0; gamma= 0.01; degree= 6"
   ]
  },
  {
   "cell_type": "code",
   "execution_count": 146,
   "metadata": {},
   "outputs": [
    {
     "data": {
      "text/plain": [
       "{'mean_accuracy': 0.363,\n",
       " 'mean_precision': 0.188,\n",
       " 'mean_recall': 0.334,\n",
       " 'mean_f1': 0.178}"
      ]
     },
     "execution_count": 146,
     "metadata": {},
     "output_type": "execute_result"
    }
   ],
   "source": [
    "poly_perform.get_score() # C= 10.0; gamma= 0.01; degree= 6"
   ]
  },
  {
   "cell_type": "code",
   "execution_count": 150,
   "metadata": {},
   "outputs": [
    {
     "data": {
      "text/plain": [
       "{'mean_accuracy': 0.363,\n",
       " 'mean_precision': 0.188,\n",
       " 'mean_recall': 0.334,\n",
       " 'mean_f1': 0.178}"
      ]
     },
     "execution_count": 150,
     "metadata": {},
     "output_type": "execute_result"
    }
   ],
   "source": [
    "poly_perform.get_score() # C= 100.0; gamma= 0.01; degree= 6"
   ]
  },
  {
   "cell_type": "code",
   "execution_count": 154,
   "metadata": {},
   "outputs": [
    {
     "data": {
      "text/plain": [
       "{'mean_accuracy': 0.363,\n",
       " 'mean_precision': 0.188,\n",
       " 'mean_recall': 0.334,\n",
       " 'mean_f1': 0.178}"
      ]
     },
     "execution_count": 154,
     "metadata": {},
     "output_type": "execute_result"
    }
   ],
   "source": [
    "poly_perform.get_score() # C= 1000.0; gamma= 0.01; degree= 6"
   ]
  },
  {
   "cell_type": "code",
   "execution_count": 158,
   "metadata": {},
   "outputs": [
    {
     "data": {
      "text/plain": [
       "{'mean_accuracy': 0.363,\n",
       " 'mean_precision': 0.188,\n",
       " 'mean_recall': 0.334,\n",
       " 'mean_f1': 0.178}"
      ]
     },
     "execution_count": 158,
     "metadata": {},
     "output_type": "execute_result"
    }
   ],
   "source": [
    "poly_perform.get_score() # C= 10,000.0; gamma= 0.01; degree= 6"
   ]
  },
  {
   "cell_type": "code",
   "execution_count": 162,
   "metadata": {},
   "outputs": [
    {
     "data": {
      "text/plain": [
       "{'mean_accuracy': 0.364,\n",
       " 'mean_precision': 0.321,\n",
       " 'mean_recall': 0.334,\n",
       " 'mean_f1': 0.18}"
      ]
     },
     "execution_count": 162,
     "metadata": {},
     "output_type": "execute_result"
    }
   ],
   "source": [
    "poly_perform.get_score() # C= 1.0; gamma= 0.1; degree= 6"
   ]
  },
  {
   "cell_type": "code",
   "execution_count": 166,
   "metadata": {},
   "outputs": [
    {
     "data": {
      "text/plain": [
       "{'mean_accuracy': 0.368,\n",
       " 'mean_precision': 0.566,\n",
       " 'mean_recall': 0.338,\n",
       " 'mean_f1': 0.188}"
      ]
     },
     "execution_count": 166,
     "metadata": {},
     "output_type": "execute_result"
    }
   ],
   "source": [
    "poly_perform.get_score() # C= 10.0; gamma= 0.1; degree= 6"
   ]
  },
  {
   "cell_type": "code",
   "execution_count": 170,
   "metadata": {},
   "outputs": [
    {
     "data": {
      "text/plain": [
       "{'mean_accuracy': 0.373,\n",
       " 'mean_precision': 0.709,\n",
       " 'mean_recall': 0.344,\n",
       " 'mean_f1': 0.2}"
      ]
     },
     "execution_count": 170,
     "metadata": {},
     "output_type": "execute_result"
    }
   ],
   "source": [
    "poly_perform.get_score() # C= 100.0; gamma= 0.1; degree= 6"
   ]
  },
  {
   "cell_type": "code",
   "execution_count": 174,
   "metadata": {},
   "outputs": [
    {
     "data": {
      "text/plain": [
       "{'mean_accuracy': 0.38,\n",
       " 'mean_precision': 0.782,\n",
       " 'mean_recall': 0.353,\n",
       " 'mean_f1': 0.218}"
      ]
     },
     "execution_count": 174,
     "metadata": {},
     "output_type": "execute_result"
    }
   ],
   "source": [
    "poly_perform.get_score() # C= 1000.0; gamma= 0.1; degree= 6"
   ]
  },
  {
   "cell_type": "code",
   "execution_count": 178,
   "metadata": {},
   "outputs": [
    {
     "data": {
      "text/plain": [
       "{'mean_accuracy': 0.385,\n",
       " 'mean_precision': 0.785,\n",
       " 'mean_recall': 0.359,\n",
       " 'mean_f1': 0.229}"
      ]
     },
     "execution_count": 178,
     "metadata": {},
     "output_type": "execute_result"
    }
   ],
   "source": [
    "poly_perform.get_score() # C= 10,000.0; gamma= 0.1; degree= 6"
   ]
  },
  {
   "cell_type": "code",
   "execution_count": 182,
   "metadata": {},
   "outputs": [
    {
     "data": {
      "text/plain": [
       "{'mean_accuracy': 0.412,\n",
       " 'mean_precision': 0.619,\n",
       " 'mean_recall': 0.388,\n",
       " 'mean_f1': 0.29}"
      ]
     },
     "execution_count": 182,
     "metadata": {},
     "output_type": "execute_result"
    }
   ],
   "source": [
    "poly_perform.get_score() # C= 1.0; gamma= 1.0; degree= 6"
   ]
  },
  {
   "cell_type": "code",
   "execution_count": 186,
   "metadata": {},
   "outputs": [
    {
     "data": {
      "text/plain": [
       "{'mean_accuracy': 0.429,\n",
       " 'mean_precision': 0.596,\n",
       " 'mean_recall': 0.404,\n",
       " 'mean_f1': 0.322}"
      ]
     },
     "execution_count": 186,
     "metadata": {},
     "output_type": "execute_result"
    }
   ],
   "source": [
    "poly_perform.get_score() # C= 10.0; gamma= 1.0; degree= 6"
   ]
  },
  {
   "cell_type": "code",
   "execution_count": 190,
   "metadata": {},
   "outputs": [
    {
     "data": {
      "text/plain": [
       "{'mean_accuracy': 0.463,\n",
       " 'mean_precision': 0.574,\n",
       " 'mean_recall': 0.443,\n",
       " 'mean_f1': 0.387}"
      ]
     },
     "execution_count": 190,
     "metadata": {},
     "output_type": "execute_result"
    }
   ],
   "source": [
    "poly_perform.get_score() # C= 100.0; gamma= 1.0; degree= 6"
   ]
  },
  {
   "cell_type": "code",
   "execution_count": 194,
   "metadata": {},
   "outputs": [
    {
     "data": {
      "text/plain": [
       "{'mean_accuracy': 0.524,\n",
       " 'mean_precision': 0.59,\n",
       " 'mean_recall': 0.504,\n",
       " 'mean_f1': 0.477}"
      ]
     },
     "execution_count": 194,
     "metadata": {},
     "output_type": "execute_result"
    }
   ],
   "source": [
    "poly_perform.get_score() # C= 1000.0; gamma= 1.0; degree= 6"
   ]
  },
  {
   "cell_type": "code",
   "execution_count": 198,
   "metadata": {},
   "outputs": [
    {
     "data": {
      "text/plain": [
       "{'mean_accuracy': 0.546,\n",
       " 'mean_precision': 0.582,\n",
       " 'mean_recall': 0.528,\n",
       " 'mean_f1': 0.509}"
      ]
     },
     "execution_count": 198,
     "metadata": {},
     "output_type": "execute_result"
    }
   ],
   "source": [
    "poly_perform.get_score() # C= 10,000.0; gamma= 1.0; degree= 6"
   ]
  },
  {
   "cell_type": "code",
   "execution_count": 209,
   "metadata": {},
   "outputs": [
    {
     "data": {
      "text/plain": [
       "{'mean_accuracy': 0.363,\n",
       " 'mean_precision': 0.188,\n",
       " 'mean_recall': 0.334,\n",
       " 'mean_f1': 0.178}"
      ]
     },
     "execution_count": 209,
     "metadata": {},
     "output_type": "execute_result"
    }
   ],
   "source": [
    "poly_perform.get_score() # C= 1.0; gamma= 0.01; degree= 9"
   ]
  },
  {
   "cell_type": "code",
   "execution_count": 213,
   "metadata": {},
   "outputs": [
    {
     "data": {
      "text/plain": [
       "{'mean_accuracy': 0.363,\n",
       " 'mean_precision': 0.188,\n",
       " 'mean_recall': 0.334,\n",
       " 'mean_f1': 0.178}"
      ]
     },
     "execution_count": 213,
     "metadata": {},
     "output_type": "execute_result"
    }
   ],
   "source": [
    "poly_perform.get_score() # C= 10.0; gamma= 0.01; degree= 9"
   ]
  },
  {
   "cell_type": "code",
   "execution_count": 217,
   "metadata": {},
   "outputs": [
    {
     "data": {
      "text/plain": [
       "{'mean_accuracy': 0.363,\n",
       " 'mean_precision': 0.188,\n",
       " 'mean_recall': 0.334,\n",
       " 'mean_f1': 0.178}"
      ]
     },
     "execution_count": 217,
     "metadata": {},
     "output_type": "execute_result"
    }
   ],
   "source": [
    "poly_perform.get_score() # C= 100.0; gamma= 0.01; degree= 9"
   ]
  },
  {
   "cell_type": "code",
   "execution_count": 221,
   "metadata": {},
   "outputs": [
    {
     "data": {
      "text/plain": [
       "{'mean_accuracy': 0.363,\n",
       " 'mean_precision': 0.188,\n",
       " 'mean_recall': 0.334,\n",
       " 'mean_f1': 0.178}"
      ]
     },
     "execution_count": 221,
     "metadata": {},
     "output_type": "execute_result"
    }
   ],
   "source": [
    "poly_perform.get_score() # C= 1000.0; gamma= 0.01; degree= 9"
   ]
  },
  {
   "cell_type": "code",
   "execution_count": 225,
   "metadata": {},
   "outputs": [
    {
     "data": {
      "text/plain": [
       "{'mean_accuracy': 0.363,\n",
       " 'mean_precision': 0.188,\n",
       " 'mean_recall': 0.334,\n",
       " 'mean_f1': 0.178}"
      ]
     },
     "execution_count": 225,
     "metadata": {},
     "output_type": "execute_result"
    }
   ],
   "source": [
    "poly_perform.get_score() # C= 10,000.0; gamma= 0.01; degree= 9"
   ]
  },
  {
   "cell_type": "code",
   "execution_count": 229,
   "metadata": {},
   "outputs": [
    {
     "data": {
      "text/plain": [
       "{'mean_accuracy': 0.364,\n",
       " 'mean_precision': 0.321,\n",
       " 'mean_recall': 0.334,\n",
       " 'mean_f1': 0.18}"
      ]
     },
     "execution_count": 229,
     "metadata": {},
     "output_type": "execute_result"
    }
   ],
   "source": [
    "poly_perform.get_score() # C= 1.0; gamma= 0.1; degree= 9"
   ]
  },
  {
   "cell_type": "code",
   "execution_count": 233,
   "metadata": {},
   "outputs": [
    {
     "data": {
      "text/plain": [
       "{'mean_accuracy': 0.364,\n",
       " 'mean_precision': 0.321,\n",
       " 'mean_recall': 0.334,\n",
       " 'mean_f1': 0.18}"
      ]
     },
     "execution_count": 233,
     "metadata": {},
     "output_type": "execute_result"
    }
   ],
   "source": [
    "poly_perform.get_score() # C= 10.0; gamma= 0.1; degree= 9"
   ]
  },
  {
   "cell_type": "code",
   "execution_count": 237,
   "metadata": {},
   "outputs": [
    {
     "data": {
      "text/plain": [
       "{'mean_accuracy': 0.368,\n",
       " 'mean_precision': 0.633,\n",
       " 'mean_recall': 0.339,\n",
       " 'mean_f1': 0.19}"
      ]
     },
     "execution_count": 237,
     "metadata": {},
     "output_type": "execute_result"
    }
   ],
   "source": [
    "poly_perform.get_score() # C= 100.0; gamma= 0.1; degree= 9"
   ]
  },
  {
   "cell_type": "code",
   "execution_count": 241,
   "metadata": {},
   "outputs": [
    {
     "data": {
      "text/plain": [
       "{'mean_accuracy': 0.369,\n",
       " 'mean_precision': 0.638,\n",
       " 'mean_recall': 0.34,\n",
       " 'mean_f1': 0.192}"
      ]
     },
     "execution_count": 241,
     "metadata": {},
     "output_type": "execute_result"
    }
   ],
   "source": [
    "poly_perform.get_score() # C= 1000.0; gamma= 0.1; degree= 9"
   ]
  },
  {
   "cell_type": "code",
   "execution_count": 245,
   "metadata": {},
   "outputs": [
    {
     "data": {
      "text/plain": [
       "{'mean_accuracy': 0.38,\n",
       " 'mean_precision': 0.782,\n",
       " 'mean_recall': 0.352,\n",
       " 'mean_f1': 0.217}"
      ]
     },
     "execution_count": 245,
     "metadata": {},
     "output_type": "execute_result"
    }
   ],
   "source": [
    "poly_perform.get_score() # C= 10,000.0; gamma= 0.1; degree= 9"
   ]
  },
  {
   "cell_type": "code",
   "execution_count": 249,
   "metadata": {},
   "outputs": [
    {
     "data": {
      "text/plain": [
       "{'mean_accuracy': 0.404,\n",
       " 'mean_precision': 0.622,\n",
       " 'mean_recall': 0.379,\n",
       " 'mean_f1': 0.274}"
      ]
     },
     "execution_count": 249,
     "metadata": {},
     "output_type": "execute_result"
    }
   ],
   "source": [
    "poly_perform.get_score() # C= 1.0; gamma= 1.0; degree= 9"
   ]
  },
  {
   "cell_type": "code",
   "execution_count": 253,
   "metadata": {},
   "outputs": [
    {
     "data": {
      "text/plain": [
       "{'mean_accuracy': 0.406,\n",
       " 'mean_precision': 0.578,\n",
       " 'mean_recall': 0.382,\n",
       " 'mean_f1': 0.281}"
      ]
     },
     "execution_count": 253,
     "metadata": {},
     "output_type": "execute_result"
    }
   ],
   "source": [
    "poly_perform.get_score() # C= 10.0; gamma= 1.0; degree= 9"
   ]
  },
  {
   "cell_type": "code",
   "execution_count": 257,
   "metadata": {},
   "outputs": [
    {
     "data": {
      "text/plain": [
       "{'mean_accuracy': 0.42,\n",
       " 'mean_precision': 0.587,\n",
       " 'mean_recall': 0.396,\n",
       " 'mean_f1': 0.307}"
      ]
     },
     "execution_count": 257,
     "metadata": {},
     "output_type": "execute_result"
    }
   ],
   "source": [
    "poly_perform.get_score() # C= 100.0; gamma= 1.0; degree= 9"
   ]
  },
  {
   "cell_type": "code",
   "execution_count": 261,
   "metadata": {},
   "outputs": [
    {
     "data": {
      "text/plain": [
       "{'mean_accuracy': 0.441,\n",
       " 'mean_precision': 0.564,\n",
       " 'mean_recall': 0.42,\n",
       " 'mean_f1': 0.35}"
      ]
     },
     "execution_count": 261,
     "metadata": {},
     "output_type": "execute_result"
    }
   ],
   "source": [
    "poly_perform.get_score() # C= 1000.0; gamma= 1.0; degree= 9"
   ]
  },
  {
   "cell_type": "code",
   "execution_count": 265,
   "metadata": {},
   "outputs": [
    {
     "data": {
      "text/plain": [
       "{'mean_accuracy': 0.47,\n",
       " 'mean_precision': 0.561,\n",
       " 'mean_recall': 0.448,\n",
       " 'mean_f1': 0.399}"
      ]
     },
     "execution_count": 265,
     "metadata": {},
     "output_type": "execute_result"
    }
   ],
   "source": [
    "poly_perform.get_score() # C= 10,000.0; gamma= 1.0; degree= 9"
   ]
  },
  {
   "attachments": {},
   "cell_type": "markdown",
   "metadata": {},
   "source": [
    "#### 2.2 Pengukuran Performa Tahap 1: SVM + TF-IDF"
   ]
  },
  {
   "attachments": {},
   "cell_type": "markdown",
   "metadata": {},
   "source": [
    "##### 2.2.1 Performa SVM-Linier"
   ]
  },
  {
   "cell_type": "code",
   "execution_count": 277,
   "metadata": {},
   "outputs": [
    {
     "data": {
      "text/plain": [
       "{'mean_accuracy': 0.696,\n",
       " 'mean_precision': 0.685,\n",
       " 'mean_recall': 0.682,\n",
       " 'mean_f1': 0.683}"
      ]
     },
     "execution_count": 277,
     "metadata": {},
     "output_type": "execute_result"
    }
   ],
   "source": [
    "linear_perform.get_score() # C= 1.0"
   ]
  },
  {
   "cell_type": "code",
   "execution_count": 287,
   "metadata": {},
   "outputs": [
    {
     "data": {
      "text/plain": [
       "{'mean_accuracy': 0.676,\n",
       " 'mean_precision': 0.666,\n",
       " 'mean_recall': 0.662,\n",
       " 'mean_f1': 0.663}"
      ]
     },
     "execution_count": 287,
     "metadata": {},
     "output_type": "execute_result"
    }
   ],
   "source": [
    "linear_perform.get_score() # C= 10.0"
   ]
  },
  {
   "cell_type": "code",
   "execution_count": 297,
   "metadata": {},
   "outputs": [
    {
     "data": {
      "text/plain": [
       "{'mean_accuracy': 0.659,\n",
       " 'mean_precision': 0.651,\n",
       " 'mean_recall': 0.643,\n",
       " 'mean_f1': 0.645}"
      ]
     },
     "execution_count": 297,
     "metadata": {},
     "output_type": "execute_result"
    }
   ],
   "source": [
    "linear_perform.get_score() # C= 100.0"
   ]
  },
  {
   "cell_type": "code",
   "execution_count": 307,
   "metadata": {},
   "outputs": [
    {
     "data": {
      "text/plain": [
       "{'mean_accuracy': 0.653,\n",
       " 'mean_precision': 0.641,\n",
       " 'mean_recall': 0.636,\n",
       " 'mean_f1': 0.636}"
      ]
     },
     "execution_count": 307,
     "metadata": {},
     "output_type": "execute_result"
    }
   ],
   "source": [
    "linear_perform.get_score() # C= 1000.0"
   ]
  },
  {
   "cell_type": "code",
   "execution_count": 317,
   "metadata": {},
   "outputs": [
    {
     "data": {
      "text/plain": [
       "{'mean_accuracy': 0.632,\n",
       " 'mean_precision': 0.627,\n",
       " 'mean_recall': 0.618,\n",
       " 'mean_f1': 0.618}"
      ]
     },
     "execution_count": 317,
     "metadata": {},
     "output_type": "execute_result"
    }
   ],
   "source": [
    "linear_perform.get_score() # C= 10,000.0"
   ]
  },
  {
   "attachments": {},
   "cell_type": "markdown",
   "metadata": {},
   "source": [
    "##### 2.2.2 Performa SVM-RBF"
   ]
  },
  {
   "cell_type": "code",
   "execution_count": 278,
   "metadata": {},
   "outputs": [
    {
     "data": {
      "text/plain": [
       "{'mean_accuracy': 0.467,\n",
       " 'mean_precision': 0.657,\n",
       " 'mean_recall': 0.476,\n",
       " 'mean_f1': 0.408}"
      ]
     },
     "execution_count": 278,
     "metadata": {},
     "output_type": "execute_result"
    }
   ],
   "source": [
    "rbf_perform.get_score() # C= 1.0; gamma= 0.01"
   ]
  },
  {
   "cell_type": "code",
   "execution_count": 288,
   "metadata": {},
   "outputs": [
    {
     "data": {
      "text/plain": [
       "{'mean_accuracy': 0.68,\n",
       " 'mean_precision': 0.676,\n",
       " 'mean_recall': 0.674,\n",
       " 'mean_f1': 0.673}"
      ]
     },
     "execution_count": 288,
     "metadata": {},
     "output_type": "execute_result"
    }
   ],
   "source": [
    "rbf_perform.get_score() # C= 10.0; gamma= 0.01"
   ]
  },
  {
   "cell_type": "code",
   "execution_count": 298,
   "metadata": {},
   "outputs": [
    {
     "data": {
      "text/plain": [
       "{'mean_accuracy': 0.698,\n",
       " 'mean_precision': 0.687,\n",
       " 'mean_recall': 0.683,\n",
       " 'mean_f1': 0.684}"
      ]
     },
     "execution_count": 298,
     "metadata": {},
     "output_type": "execute_result"
    }
   ],
   "source": [
    "rbf_perform.get_score() # C= 100.0; gamma= 0.01"
   ]
  },
  {
   "cell_type": "code",
   "execution_count": 308,
   "metadata": {},
   "outputs": [
    {
     "data": {
      "text/plain": [
       "{'mean_accuracy': 0.668,\n",
       " 'mean_precision': 0.66,\n",
       " 'mean_recall': 0.654,\n",
       " 'mean_f1': 0.655}"
      ]
     },
     "execution_count": 308,
     "metadata": {},
     "output_type": "execute_result"
    }
   ],
   "source": [
    "rbf_perform.get_score() # C= 1000.0; gamma= 0.01"
   ]
  },
  {
   "cell_type": "code",
   "execution_count": 318,
   "metadata": {},
   "outputs": [
    {
     "data": {
      "text/plain": [
       "{'mean_accuracy': 0.658,\n",
       " 'mean_precision': 0.648,\n",
       " 'mean_recall': 0.642,\n",
       " 'mean_f1': 0.643}"
      ]
     },
     "execution_count": 318,
     "metadata": {},
     "output_type": "execute_result"
    }
   ],
   "source": [
    "rbf_perform.get_score() # C= 10,000.0; gamma= 0.01"
   ]
  },
  {
   "cell_type": "code",
   "execution_count": 327,
   "metadata": {},
   "outputs": [
    {
     "data": {
      "text/plain": [
       "{'mean_accuracy': 0.675,\n",
       " 'mean_precision': 0.678,\n",
       " 'mean_recall': 0.668,\n",
       " 'mean_f1': 0.668}"
      ]
     },
     "execution_count": 327,
     "metadata": {},
     "output_type": "execute_result"
    }
   ],
   "source": [
    "rbf_perform.get_score() # C= 1.0; gamma= 0.1"
   ]
  },
  {
   "cell_type": "code",
   "execution_count": 334,
   "metadata": {},
   "outputs": [
    {
     "data": {
      "text/plain": [
       "{'mean_accuracy': 0.701,\n",
       " 'mean_precision': 0.691,\n",
       " 'mean_recall': 0.686,\n",
       " 'mean_f1': 0.687}"
      ]
     },
     "execution_count": 334,
     "metadata": {},
     "output_type": "execute_result"
    }
   ],
   "source": [
    "rbf_perform.get_score() # C= 10.0; gamma= 0.1"
   ]
  },
  {
   "cell_type": "code",
   "execution_count": 341,
   "metadata": {},
   "outputs": [
    {
     "data": {
      "text/plain": [
       "{'mean_accuracy': 0.684,\n",
       " 'mean_precision': 0.675,\n",
       " 'mean_recall': 0.67,\n",
       " 'mean_f1': 0.671}"
      ]
     },
     "execution_count": 341,
     "metadata": {},
     "output_type": "execute_result"
    }
   ],
   "source": [
    "rbf_perform.get_score() # C= 100.0; gamma= 0.1"
   ]
  },
  {
   "cell_type": "code",
   "execution_count": 348,
   "metadata": {},
   "outputs": [
    {
     "data": {
      "text/plain": [
       "{'mean_accuracy': 0.671,\n",
       " 'mean_precision': 0.662,\n",
       " 'mean_recall': 0.657,\n",
       " 'mean_f1': 0.658}"
      ]
     },
     "execution_count": 348,
     "metadata": {},
     "output_type": "execute_result"
    }
   ],
   "source": [
    "rbf_perform.get_score() # C= 1000.0; gamma= 0.1"
   ]
  },
  {
   "cell_type": "code",
   "execution_count": 355,
   "metadata": {},
   "outputs": [
    {
     "data": {
      "text/plain": [
       "{'mean_accuracy': 0.67,\n",
       " 'mean_precision': 0.661,\n",
       " 'mean_recall': 0.655,\n",
       " 'mean_f1': 0.656}"
      ]
     },
     "execution_count": 355,
     "metadata": {},
     "output_type": "execute_result"
    }
   ],
   "source": [
    "rbf_perform.get_score() # C= 10,000.0; gamma= 0.1"
   ]
  },
  {
   "cell_type": "code",
   "execution_count": 362,
   "metadata": {},
   "outputs": [
    {
     "data": {
      "text/plain": [
       "{'mean_accuracy': 0.701,\n",
       " 'mean_precision': 0.708,\n",
       " 'mean_recall': 0.674,\n",
       " 'mean_f1': 0.676}"
      ]
     },
     "execution_count": 362,
     "metadata": {},
     "output_type": "execute_result"
    }
   ],
   "source": [
    "rbf_perform.get_score() # C= 1.0; gamma= 1.0"
   ]
  },
  {
   "cell_type": "code",
   "execution_count": 18,
   "metadata": {},
   "outputs": [
    {
     "data": {
      "text/plain": [
       "{'mean_accuracy': 0.71,\n",
       " 'mean_precision': 0.71,\n",
       " 'mean_recall': 0.69,\n",
       " 'mean_f1': 0.693}"
      ]
     },
     "execution_count": 18,
     "metadata": {},
     "output_type": "execute_result"
    }
   ],
   "source": [
    "rbf_perform.get_score() # C= 10.0; gamma= 1.0"
   ]
  },
  {
   "cell_type": "code",
   "execution_count": 17,
   "metadata": {},
   "outputs": [
    {
     "data": {
      "text/plain": [
       "{'mean_accuracy': 0.712,\n",
       " 'mean_precision': 0.711,\n",
       " 'mean_recall': 0.691,\n",
       " 'mean_f1': 0.694}"
      ]
     },
     "execution_count": 17,
     "metadata": {},
     "output_type": "execute_result"
    }
   ],
   "source": [
    "rbf_perform.get_score() # C= 100.0; gamma= 1.0"
   ]
  },
  {
   "cell_type": "code",
   "execution_count": 383,
   "metadata": {},
   "outputs": [
    {
     "data": {
      "text/plain": [
       "{'mean_accuracy': 0.711,\n",
       " 'mean_precision': 0.709,\n",
       " 'mean_recall': 0.69,\n",
       " 'mean_f1': 0.692}"
      ]
     },
     "execution_count": 383,
     "metadata": {},
     "output_type": "execute_result"
    }
   ],
   "source": [
    "rbf_perform.get_score() # C= 1000.0; gamma= 1.0"
   ]
  },
  {
   "cell_type": "code",
   "execution_count": 390,
   "metadata": {},
   "outputs": [
    {
     "data": {
      "text/plain": [
       "{'mean_accuracy': 0.711,\n",
       " 'mean_precision': 0.709,\n",
       " 'mean_recall': 0.69,\n",
       " 'mean_f1': 0.692}"
      ]
     },
     "execution_count": 390,
     "metadata": {},
     "output_type": "execute_result"
    }
   ],
   "source": [
    "rbf_perform.get_score() # C= 10,000.0; gamma= 1.0"
   ]
  },
  {
   "attachments": {},
   "cell_type": "markdown",
   "metadata": {},
   "source": [
    "##### 2.2.3 Performa SVM-Polinomial"
   ]
  },
  {
   "cell_type": "code",
   "execution_count": 279,
   "metadata": {},
   "outputs": [
    {
     "data": {
      "text/plain": [
       "{'mean_accuracy': 0.43,\n",
       " 'mean_precision': 0.766,\n",
       " 'mean_recall': 0.387,\n",
       " 'mean_f1': 0.288}"
      ]
     },
     "execution_count": 279,
     "metadata": {},
     "output_type": "execute_result"
    }
   ],
   "source": [
    "poly_perform.get_score() # C= 1.0; gamma= 0.01; degree= 3"
   ]
  },
  {
   "cell_type": "code",
   "execution_count": 289,
   "metadata": {},
   "outputs": [
    {
     "data": {
      "text/plain": [
       "{'mean_accuracy': 0.43,\n",
       " 'mean_precision': 0.766,\n",
       " 'mean_recall': 0.387,\n",
       " 'mean_f1': 0.288}"
      ]
     },
     "execution_count": 289,
     "metadata": {},
     "output_type": "execute_result"
    }
   ],
   "source": [
    "poly_perform.get_score() # C= 10.0; gamma= 0.01; degree= 3"
   ]
  },
  {
   "cell_type": "code",
   "execution_count": 299,
   "metadata": {},
   "outputs": [
    {
     "data": {
      "text/plain": [
       "{'mean_accuracy': 0.43,\n",
       " 'mean_precision': 0.766,\n",
       " 'mean_recall': 0.387,\n",
       " 'mean_f1': 0.288}"
      ]
     },
     "execution_count": 299,
     "metadata": {},
     "output_type": "execute_result"
    }
   ],
   "source": [
    "poly_perform.get_score() # C= 100.0; gamma= 0.01; degree= 3"
   ]
  },
  {
   "cell_type": "code",
   "execution_count": 309,
   "metadata": {},
   "outputs": [
    {
     "data": {
      "text/plain": [
       "{'mean_accuracy': 0.43,\n",
       " 'mean_precision': 0.766,\n",
       " 'mean_recall': 0.387,\n",
       " 'mean_f1': 0.288}"
      ]
     },
     "execution_count": 309,
     "metadata": {},
     "output_type": "execute_result"
    }
   ],
   "source": [
    "poly_perform.get_score() # C= 1000.0; gamma= 0.01; degree= 3"
   ]
  },
  {
   "cell_type": "code",
   "execution_count": 319,
   "metadata": {},
   "outputs": [
    {
     "data": {
      "text/plain": [
       "{'mean_accuracy': 0.43,\n",
       " 'mean_precision': 0.766,\n",
       " 'mean_recall': 0.387,\n",
       " 'mean_f1': 0.288}"
      ]
     },
     "execution_count": 319,
     "metadata": {},
     "output_type": "execute_result"
    }
   ],
   "source": [
    "poly_perform.get_score() # C= 10,000.0; gamma= 0.01; degree= 3"
   ]
  },
  {
   "cell_type": "code",
   "execution_count": 328,
   "metadata": {},
   "outputs": [
    {
     "data": {
      "text/plain": [
       "{'mean_accuracy': 0.43,\n",
       " 'mean_precision': 0.766,\n",
       " 'mean_recall': 0.387,\n",
       " 'mean_f1': 0.288}"
      ]
     },
     "execution_count": 328,
     "metadata": {},
     "output_type": "execute_result"
    }
   ],
   "source": [
    "poly_perform.get_score() # C= 1.0; gamma= 0.1; degree= 3"
   ]
  },
  {
   "cell_type": "code",
   "execution_count": 335,
   "metadata": {},
   "outputs": [
    {
     "data": {
      "text/plain": [
       "{'mean_accuracy': 0.43,\n",
       " 'mean_precision': 0.766,\n",
       " 'mean_recall': 0.387,\n",
       " 'mean_f1': 0.288}"
      ]
     },
     "execution_count": 335,
     "metadata": {},
     "output_type": "execute_result"
    }
   ],
   "source": [
    "poly_perform.get_score() # C= 10.0; gamma= 0.1; degree= 3"
   ]
  },
  {
   "cell_type": "code",
   "execution_count": 342,
   "metadata": {},
   "outputs": [
    {
     "data": {
      "text/plain": [
       "{'mean_accuracy': 0.44,\n",
       " 'mean_precision': 0.769,\n",
       " 'mean_recall': 0.395,\n",
       " 'mean_f1': 0.302}"
      ]
     },
     "execution_count": 342,
     "metadata": {},
     "output_type": "execute_result"
    }
   ],
   "source": [
    "poly_perform.get_score() # C= 100.0; gamma= 0.1; degree= 3"
   ]
  },
  {
   "cell_type": "code",
   "execution_count": 349,
   "metadata": {},
   "outputs": [
    {
     "data": {
      "text/plain": [
       "{'mean_accuracy': 0.567,\n",
       " 'mean_precision': 0.652,\n",
       " 'mean_recall': 0.528,\n",
       " 'mean_f1': 0.511}"
      ]
     },
     "execution_count": 349,
     "metadata": {},
     "output_type": "execute_result"
    }
   ],
   "source": [
    "poly_perform.get_score() # C= 1000.0; gamma= 0.1; degree= 3"
   ]
  },
  {
   "cell_type": "code",
   "execution_count": 356,
   "metadata": {},
   "outputs": [
    {
     "data": {
      "text/plain": [
       "{'mean_accuracy': 0.575,\n",
       " 'mean_precision': 0.625,\n",
       " 'mean_recall': 0.592,\n",
       " 'mean_f1': 0.578}"
      ]
     },
     "execution_count": 356,
     "metadata": {},
     "output_type": "execute_result"
    }
   ],
   "source": [
    "poly_perform.get_score() # C= 10,000.0; gamma= 0.1; degree= 3"
   ]
  },
  {
   "cell_type": "code",
   "execution_count": 363,
   "metadata": {},
   "outputs": [
    {
     "data": {
      "text/plain": [
       "{'mean_accuracy': 0.567,\n",
       " 'mean_precision': 0.652,\n",
       " 'mean_recall': 0.528,\n",
       " 'mean_f1': 0.511}"
      ]
     },
     "execution_count": 363,
     "metadata": {},
     "output_type": "execute_result"
    }
   ],
   "source": [
    "poly_perform.get_score() # C= 1.0; gamma= 1.0; degree= 3"
   ]
  },
  {
   "cell_type": "code",
   "execution_count": 370,
   "metadata": {},
   "outputs": [
    {
     "data": {
      "text/plain": [
       "{'mean_accuracy': 0.575,\n",
       " 'mean_precision': 0.625,\n",
       " 'mean_recall': 0.592,\n",
       " 'mean_f1': 0.578}"
      ]
     },
     "execution_count": 370,
     "metadata": {},
     "output_type": "execute_result"
    }
   ],
   "source": [
    "poly_perform.get_score() # C= 10.0; gamma= 1.0; degree= 3"
   ]
  },
  {
   "cell_type": "code",
   "execution_count": 377,
   "metadata": {},
   "outputs": [
    {
     "data": {
      "text/plain": [
       "{'mean_accuracy': 0.576,\n",
       " 'mean_precision': 0.625,\n",
       " 'mean_recall': 0.593,\n",
       " 'mean_f1': 0.578}"
      ]
     },
     "execution_count": 377,
     "metadata": {},
     "output_type": "execute_result"
    }
   ],
   "source": [
    "poly_perform.get_score() # C= 100.0; gamma= 1.0; degree= 3"
   ]
  },
  {
   "cell_type": "code",
   "execution_count": 384,
   "metadata": {},
   "outputs": [
    {
     "data": {
      "text/plain": [
       "{'mean_accuracy': 0.575,\n",
       " 'mean_precision': 0.626,\n",
       " 'mean_recall': 0.592,\n",
       " 'mean_f1': 0.577}"
      ]
     },
     "execution_count": 384,
     "metadata": {},
     "output_type": "execute_result"
    }
   ],
   "source": [
    "poly_perform.get_score() # C= 1000.0; gamma= 1.0; degree= 3"
   ]
  },
  {
   "cell_type": "code",
   "execution_count": 391,
   "metadata": {},
   "outputs": [
    {
     "data": {
      "text/plain": [
       "{'mean_accuracy': 0.575,\n",
       " 'mean_precision': 0.626,\n",
       " 'mean_recall': 0.592,\n",
       " 'mean_f1': 0.577}"
      ]
     },
     "execution_count": 391,
     "metadata": {},
     "output_type": "execute_result"
    }
   ],
   "source": [
    "poly_perform.get_score() # C= 10,000.0; gamma= 1.0; degree= 3"
   ]
  },
  {
   "cell_type": "code",
   "execution_count": 395,
   "metadata": {},
   "outputs": [
    {
     "data": {
      "text/plain": [
       "{'mean_accuracy': 0.428,\n",
       " 'mean_precision': 0.773,\n",
       " 'mean_recall': 0.384,\n",
       " 'mean_f1': 0.281}"
      ]
     },
     "execution_count": 395,
     "metadata": {},
     "output_type": "execute_result"
    }
   ],
   "source": [
    "poly_perform.get_score() # C= 1.0; gamma= 0.01; degree= 6"
   ]
  },
  {
   "cell_type": "code",
   "execution_count": 399,
   "metadata": {},
   "outputs": [
    {
     "data": {
      "text/plain": [
       "{'mean_accuracy': 0.428,\n",
       " 'mean_precision': 0.773,\n",
       " 'mean_recall': 0.384,\n",
       " 'mean_f1': 0.281}"
      ]
     },
     "execution_count": 399,
     "metadata": {},
     "output_type": "execute_result"
    }
   ],
   "source": [
    "poly_perform.get_score() # C= 10.0; gamma= 0.01; degree= 6"
   ]
  },
  {
   "cell_type": "code",
   "execution_count": 403,
   "metadata": {},
   "outputs": [
    {
     "data": {
      "text/plain": [
       "{'mean_accuracy': 0.428,\n",
       " 'mean_precision': 0.773,\n",
       " 'mean_recall': 0.384,\n",
       " 'mean_f1': 0.281}"
      ]
     },
     "execution_count": 403,
     "metadata": {},
     "output_type": "execute_result"
    }
   ],
   "source": [
    "poly_perform.get_score() # C= 100.0; gamma= 0.01; degree= 6"
   ]
  },
  {
   "cell_type": "code",
   "execution_count": 407,
   "metadata": {},
   "outputs": [
    {
     "data": {
      "text/plain": [
       "{'mean_accuracy': 0.428,\n",
       " 'mean_precision': 0.773,\n",
       " 'mean_recall': 0.384,\n",
       " 'mean_f1': 0.281}"
      ]
     },
     "execution_count": 407,
     "metadata": {},
     "output_type": "execute_result"
    }
   ],
   "source": [
    "poly_perform.get_score() # C= 1000.0; gamma= 0.01; degree= 6"
   ]
  },
  {
   "cell_type": "code",
   "execution_count": 411,
   "metadata": {},
   "outputs": [
    {
     "data": {
      "text/plain": [
       "{'mean_accuracy': 0.428,\n",
       " 'mean_precision': 0.773,\n",
       " 'mean_recall': 0.384,\n",
       " 'mean_f1': 0.281}"
      ]
     },
     "execution_count": 411,
     "metadata": {},
     "output_type": "execute_result"
    }
   ],
   "source": [
    "poly_perform.get_score() # C= 10,000.0; gamma= 0.01; degree= 6"
   ]
  },
  {
   "cell_type": "code",
   "execution_count": 415,
   "metadata": {},
   "outputs": [
    {
     "data": {
      "text/plain": [
       "{'mean_accuracy': 0.428,\n",
       " 'mean_precision': 0.773,\n",
       " 'mean_recall': 0.384,\n",
       " 'mean_f1': 0.281}"
      ]
     },
     "execution_count": 415,
     "metadata": {},
     "output_type": "execute_result"
    }
   ],
   "source": [
    "poly_perform.get_score() # C= 1.0; gamma= 0.1; degree= 6"
   ]
  },
  {
   "cell_type": "code",
   "execution_count": 419,
   "metadata": {},
   "outputs": [
    {
     "data": {
      "text/plain": [
       "{'mean_accuracy': 0.428,\n",
       " 'mean_precision': 0.773,\n",
       " 'mean_recall': 0.384,\n",
       " 'mean_f1': 0.281}"
      ]
     },
     "execution_count": 419,
     "metadata": {},
     "output_type": "execute_result"
    }
   ],
   "source": [
    "poly_perform.get_score() # C= 10.0; gamma= 0.1; degree= 6"
   ]
  },
  {
   "cell_type": "code",
   "execution_count": 423,
   "metadata": {},
   "outputs": [
    {
     "data": {
      "text/plain": [
       "{'mean_accuracy': 0.428,\n",
       " 'mean_precision': 0.773,\n",
       " 'mean_recall': 0.384,\n",
       " 'mean_f1': 0.281}"
      ]
     },
     "execution_count": 423,
     "metadata": {},
     "output_type": "execute_result"
    }
   ],
   "source": [
    "poly_perform.get_score() # C= 100.0; gamma= 0.1; degree= 6"
   ]
  },
  {
   "cell_type": "code",
   "execution_count": 427,
   "metadata": {},
   "outputs": [
    {
     "data": {
      "text/plain": [
       "{'mean_accuracy': 0.428,\n",
       " 'mean_precision': 0.773,\n",
       " 'mean_recall': 0.384,\n",
       " 'mean_f1': 0.281}"
      ]
     },
     "execution_count": 427,
     "metadata": {},
     "output_type": "execute_result"
    }
   ],
   "source": [
    "poly_perform.get_score() # C= 1000.0; gamma= 0.1; degree= 6"
   ]
  },
  {
   "cell_type": "code",
   "execution_count": 431,
   "metadata": {},
   "outputs": [
    {
     "data": {
      "text/plain": [
       "{'mean_accuracy': 0.428,\n",
       " 'mean_precision': 0.773,\n",
       " 'mean_recall': 0.384,\n",
       " 'mean_f1': 0.281}"
      ]
     },
     "execution_count": 431,
     "metadata": {},
     "output_type": "execute_result"
    }
   ],
   "source": [
    "poly_perform.get_score() # C= 10,000.0; gamma= 0.1; degree= 6"
   ]
  },
  {
   "cell_type": "code",
   "execution_count": 435,
   "metadata": {},
   "outputs": [
    {
     "data": {
      "text/plain": [
       "{'mean_accuracy': 0.491,\n",
       " 'mean_precision': 0.7,\n",
       " 'mean_recall': 0.445,\n",
       " 'mean_f1': 0.386}"
      ]
     },
     "execution_count": 435,
     "metadata": {},
     "output_type": "execute_result"
    }
   ],
   "source": [
    "poly_perform.get_score() # C= 1.0; gamma= 1.0; degree= 6"
   ]
  },
  {
   "cell_type": "code",
   "execution_count": 439,
   "metadata": {},
   "outputs": [
    {
     "data": {
      "text/plain": [
       "{'mean_accuracy': 0.358,\n",
       " 'mean_precision': 0.69,\n",
       " 'mean_recall': 0.422,\n",
       " 'mean_f1': 0.301}"
      ]
     },
     "execution_count": 439,
     "metadata": {},
     "output_type": "execute_result"
    }
   ],
   "source": [
    "poly_perform.get_score() # C= 10.0; gamma= 1.0; degree= 6"
   ]
  },
  {
   "cell_type": "code",
   "execution_count": 443,
   "metadata": {},
   "outputs": [
    {
     "data": {
      "text/plain": [
       "{'mean_accuracy': 0.358,\n",
       " 'mean_precision': 0.69,\n",
       " 'mean_recall': 0.422,\n",
       " 'mean_f1': 0.301}"
      ]
     },
     "execution_count": 443,
     "metadata": {},
     "output_type": "execute_result"
    }
   ],
   "source": [
    "poly_perform.get_score() # C= 100.0; gamma= 1.0; degree= 6"
   ]
  },
  {
   "cell_type": "code",
   "execution_count": 447,
   "metadata": {},
   "outputs": [
    {
     "data": {
      "text/plain": [
       "{'mean_accuracy': 0.358,\n",
       " 'mean_precision': 0.69,\n",
       " 'mean_recall': 0.422,\n",
       " 'mean_f1': 0.301}"
      ]
     },
     "execution_count": 447,
     "metadata": {},
     "output_type": "execute_result"
    }
   ],
   "source": [
    "poly_perform.get_score() # C= 1000.0; gamma= 1.0; degree= 6"
   ]
  },
  {
   "cell_type": "code",
   "execution_count": 451,
   "metadata": {},
   "outputs": [
    {
     "data": {
      "text/plain": [
       "{'mean_accuracy': 0.358,\n",
       " 'mean_precision': 0.69,\n",
       " 'mean_recall': 0.422,\n",
       " 'mean_f1': 0.301}"
      ]
     },
     "execution_count": 451,
     "metadata": {},
     "output_type": "execute_result"
    }
   ],
   "source": [
    "poly_perform.get_score() # C= 10,000.0; gamma= 1.0; degree= 6"
   ]
  },
  {
   "cell_type": "code",
   "execution_count": 456,
   "metadata": {},
   "outputs": [
    {
     "data": {
      "text/plain": [
       "{'mean_accuracy': 0.55,\n",
       " 'mean_precision': 0.559,\n",
       " 'mean_recall': 0.535,\n",
       " 'mean_f1': 0.531}"
      ]
     },
     "execution_count": 456,
     "metadata": {},
     "output_type": "execute_result"
    }
   ],
   "source": [
    "poly_perform.get_score() # C= 1.0; gamma= 0.01; degree= 9"
   ]
  },
  {
   "cell_type": "code",
   "execution_count": 460,
   "metadata": {},
   "outputs": [
    {
     "data": {
      "text/plain": [
       "{'mean_accuracy': 0.55,\n",
       " 'mean_precision': 0.559,\n",
       " 'mean_recall': 0.535,\n",
       " 'mean_f1': 0.531}"
      ]
     },
     "execution_count": 460,
     "metadata": {},
     "output_type": "execute_result"
    }
   ],
   "source": [
    "poly_perform.get_score() # C= 10.0; gamma= 0.01; degree= 9"
   ]
  },
  {
   "cell_type": "code",
   "execution_count": 465,
   "metadata": {},
   "outputs": [
    {
     "data": {
      "text/plain": [
       "{'mean_accuracy': 0.428,\n",
       " 'mean_precision': 0.773,\n",
       " 'mean_recall': 0.383,\n",
       " 'mean_f1': 0.28}"
      ]
     },
     "execution_count": 465,
     "metadata": {},
     "output_type": "execute_result"
    }
   ],
   "source": [
    "poly_perform.get_score() # C= 100.0; gamma= 0.01; degree= 9"
   ]
  },
  {
   "cell_type": "code",
   "execution_count": 469,
   "metadata": {},
   "outputs": [
    {
     "data": {
      "text/plain": [
       "{'mean_accuracy': 0.429,\n",
       " 'mean_precision': 0.774,\n",
       " 'mean_recall': 0.385,\n",
       " 'mean_f1': 0.283}"
      ]
     },
     "execution_count": 469,
     "metadata": {},
     "output_type": "execute_result"
    }
   ],
   "source": [
    "poly_perform.get_score() # C= 1000.0; gamma= 0.01; degree= 9"
   ]
  },
  {
   "cell_type": "code",
   "execution_count": 473,
   "metadata": {},
   "outputs": [
    {
     "data": {
      "text/plain": [
       "{'mean_accuracy': 0.429,\n",
       " 'mean_precision': 0.774,\n",
       " 'mean_recall': 0.385,\n",
       " 'mean_f1': 0.283}"
      ]
     },
     "execution_count": 473,
     "metadata": {},
     "output_type": "execute_result"
    }
   ],
   "source": [
    "poly_perform.get_score() # C= 10,000.0; gamma= 0.01; degree= 9"
   ]
  },
  {
   "cell_type": "code",
   "execution_count": 477,
   "metadata": {},
   "outputs": [
    {
     "data": {
      "text/plain": [
       "{'mean_accuracy': 0.429,\n",
       " 'mean_precision': 0.774,\n",
       " 'mean_recall': 0.385,\n",
       " 'mean_f1': 0.283}"
      ]
     },
     "execution_count": 477,
     "metadata": {},
     "output_type": "execute_result"
    }
   ],
   "source": [
    "poly_perform.get_score() # C= 1.0; gamma= 0.1; degree= 9"
   ]
  },
  {
   "cell_type": "code",
   "execution_count": 481,
   "metadata": {},
   "outputs": [
    {
     "data": {
      "text/plain": [
       "{'mean_accuracy': 0.429,\n",
       " 'mean_precision': 0.774,\n",
       " 'mean_recall': 0.385,\n",
       " 'mean_f1': 0.283}"
      ]
     },
     "execution_count": 481,
     "metadata": {},
     "output_type": "execute_result"
    }
   ],
   "source": [
    "poly_perform.get_score() # C= 10.0; gamma= 0.1; degree= 9"
   ]
  },
  {
   "cell_type": "code",
   "execution_count": 485,
   "metadata": {},
   "outputs": [
    {
     "data": {
      "text/plain": [
       "{'mean_accuracy': 0.429,\n",
       " 'mean_precision': 0.774,\n",
       " 'mean_recall': 0.385,\n",
       " 'mean_f1': 0.283}"
      ]
     },
     "execution_count": 485,
     "metadata": {},
     "output_type": "execute_result"
    }
   ],
   "source": [
    "poly_perform.get_score() # C= 100.0; gamma= 0.1; degree= 9"
   ]
  },
  {
   "cell_type": "code",
   "execution_count": 489,
   "metadata": {},
   "outputs": [
    {
     "data": {
      "text/plain": [
       "{'mean_accuracy': 0.429,\n",
       " 'mean_precision': 0.774,\n",
       " 'mean_recall': 0.385,\n",
       " 'mean_f1': 0.283}"
      ]
     },
     "execution_count": 489,
     "metadata": {},
     "output_type": "execute_result"
    }
   ],
   "source": [
    "poly_perform.get_score() # C= 1000.0; gamma= 0.1; degree= 9"
   ]
  },
  {
   "cell_type": "code",
   "execution_count": 493,
   "metadata": {},
   "outputs": [
    {
     "data": {
      "text/plain": [
       "{'mean_accuracy': 0.429,\n",
       " 'mean_precision': 0.774,\n",
       " 'mean_recall': 0.385,\n",
       " 'mean_f1': 0.283}"
      ]
     },
     "execution_count": 493,
     "metadata": {},
     "output_type": "execute_result"
    }
   ],
   "source": [
    "poly_perform.get_score() # C= 10,000.0; gamma= 0.1; degree= 9"
   ]
  },
  {
   "cell_type": "code",
   "execution_count": 497,
   "metadata": {},
   "outputs": [
    {
     "data": {
      "text/plain": [
       "{'mean_accuracy': 0.478,\n",
       " 'mean_precision': 0.723,\n",
       " 'mean_recall': 0.432,\n",
       " 'mean_f1': 0.365}"
      ]
     },
     "execution_count": 497,
     "metadata": {},
     "output_type": "execute_result"
    }
   ],
   "source": [
    "poly_perform.get_score() # C= 1.0; gamma= 1.0; degree= 9"
   ]
  },
  {
   "cell_type": "code",
   "execution_count": 501,
   "metadata": {},
   "outputs": [
    {
     "data": {
      "text/plain": [
       "{'mean_accuracy': 0.348,\n",
       " 'mean_precision': 0.721,\n",
       " 'mean_recall': 0.414,\n",
       " 'mean_f1': 0.285}"
      ]
     },
     "execution_count": 501,
     "metadata": {},
     "output_type": "execute_result"
    }
   ],
   "source": [
    "poly_perform.get_score() # C= 10.0; gamma= 1.0; degree= 9"
   ]
  },
  {
   "cell_type": "code",
   "execution_count": 17,
   "metadata": {},
   "outputs": [
    {
     "data": {
      "text/plain": [
       "{'mean_accuracy': 0.349,\n",
       " 'mean_precision': 0.719,\n",
       " 'mean_recall': 0.414,\n",
       " 'mean_f1': 0.285}"
      ]
     },
     "execution_count": 17,
     "metadata": {},
     "output_type": "execute_result"
    }
   ],
   "source": [
    "poly_perform.get_score() # C= 100.0; gamma= 1.0; degree= 9"
   ]
  },
  {
   "cell_type": "code",
   "execution_count": 21,
   "metadata": {},
   "outputs": [
    {
     "data": {
      "text/plain": [
       "{'mean_accuracy': 0.349,\n",
       " 'mean_precision': 0.719,\n",
       " 'mean_recall': 0.414,\n",
       " 'mean_f1': 0.285}"
      ]
     },
     "execution_count": 21,
     "metadata": {},
     "output_type": "execute_result"
    }
   ],
   "source": [
    "poly_perform.get_score() # C= 1000.0; gamma= 1.0; degree= 9"
   ]
  },
  {
   "cell_type": "code",
   "execution_count": 25,
   "metadata": {},
   "outputs": [
    {
     "data": {
      "text/plain": [
       "{'mean_accuracy': 0.349,\n",
       " 'mean_precision': 0.719,\n",
       " 'mean_recall': 0.414,\n",
       " 'mean_f1': 0.285}"
      ]
     },
     "execution_count": 25,
     "metadata": {},
     "output_type": "execute_result"
    }
   ],
   "source": [
    "poly_perform.get_score() # C= 10,000.0; gamma= 1.0; degree= 9"
   ]
  },
  {
   "attachments": {},
   "cell_type": "markdown",
   "metadata": {},
   "source": [
    "***"
   ]
  },
  {
   "attachments": {},
   "cell_type": "markdown",
   "metadata": {},
   "source": [
    "### __3. Pemodelan SVM Tahap 2__"
   ]
  },
  {
   "cell_type": "markdown",
   "metadata": {},
   "source": [
    "Beralih ke:\n",
    "- [2. Pengukuran Performa Tahap 1](#2-pengukuran-performa-tahap-1)\n",
    "- [4. Pengukuran Performa Tahap 2](#4-pengukuran-performa-tahap-2)"
   ]
  },
  {
   "cell_type": "code",
   "execution_count": 10,
   "metadata": {},
   "outputs": [],
   "source": [
    "from sklearn.svm import SVC"
   ]
  },
  {
   "cell_type": "code",
   "execution_count": 38,
   "metadata": {},
   "outputs": [],
   "source": [
    "linear_svm = SVC(kernel=\"linear\")"
   ]
  },
  {
   "cell_type": "code",
   "execution_count": 39,
   "metadata": {},
   "outputs": [],
   "source": [
    "linear_params = {\n",
    "    \"C\": [\n",
    "        1.0, 2.0, 3.0, 4.0, 5.0, 6.0, 7.0, 8.0, 9.0, 10.0,\n",
    "    ],\n",
    "}"
   ]
  },
  {
   "cell_type": "code",
   "execution_count": 11,
   "metadata": {},
   "outputs": [],
   "source": [
    "rbf_svm = SVC(kernel=\"rbf\")"
   ]
  },
  {
   "cell_type": "code",
   "execution_count": 12,
   "metadata": {},
   "outputs": [],
   "source": [
    "rbf_params = {\n",
    "    \"C\": [\n",
    "        10, 20, 40, 80, 160, 320, 640, 1000,\n",
    "    ],\n",
    "    \"gamma\": [\n",
    "        0.01, 0.02, 0.04, 0.08, 0.16, 0.32, 0.64, 1.0,\n",
    "    ],\n",
    "}"
   ]
  },
  {
   "cell_type": "code",
   "execution_count": 27,
   "metadata": {},
   "outputs": [],
   "source": [
    "poly_svm = SVC(kernel=\"poly\")"
   ]
  },
  {
   "cell_type": "code",
   "execution_count": 28,
   "metadata": {},
   "outputs": [],
   "source": [
    "poly_params = {\n",
    "    \"C\": [\n",
    "        10, 30, 90, 270, 810, 2430, 7290, 10000,\n",
    "    ],\n",
    "    \"degree\": [\n",
    "        3,\n",
    "    ],\n",
    "    \"gamma\": [\n",
    "        0.1, 0.2, 0.3, 0.4, 0.5, 0.6, 0.7, 0.8, 0.9, 1.0,\n",
    "    ]\n",
    "}"
   ]
  },
  {
   "attachments": {},
   "cell_type": "markdown",
   "metadata": {},
   "source": [
    "### __4. Pengukuran Performa Tahap 2__"
   ]
  },
  {
   "cell_type": "markdown",
   "metadata": {},
   "source": [
    "Beralih ke:\n",
    "- [3. Pemodelan Tahap 2](#3-pemodelan-svm-tahap-2)\n",
    "- [5. Pengujian](#5-pengujian)"
   ]
  },
  {
   "cell_type": "code",
   "execution_count": 13,
   "metadata": {},
   "outputs": [],
   "source": [
    "from model.tuning import SVMGridSearchCV"
   ]
  },
  {
   "cell_type": "code",
   "execution_count": 40,
   "metadata": {},
   "outputs": [],
   "source": [
    "n_fold = 5\n",
    "scoring = [\"accuracy\", \"precision\", \"recall\", \"f1\",]\n",
    "random_state = 42"
   ]
  },
  {
   "cell_type": "code",
   "execution_count": 41,
   "metadata": {},
   "outputs": [],
   "source": [
    "linear_perform = SVMGridSearchCV(\n",
    "    model= linear_svm,\n",
    "    params= linear_params,\n",
    "    cv= n_fold,\n",
    "    scoring= scoring,\n",
    "    scoring_avg= \"macro\",\n",
    ")\n",
    "linear_perform.random_state = random_state"
   ]
  },
  {
   "cell_type": "code",
   "execution_count": 15,
   "metadata": {},
   "outputs": [],
   "source": [
    "rbf_perform = SVMGridSearchCV(\n",
    "    model= rbf_svm,\n",
    "    params= rbf_params,\n",
    "    cv= n_fold,\n",
    "    scoring= scoring,\n",
    "    scoring_avg= \"macro\",\n",
    ")\n",
    "rbf_perform.random_state = random_state"
   ]
  },
  {
   "cell_type": "code",
   "execution_count": 29,
   "metadata": {},
   "outputs": [],
   "source": [
    "poly_perform = SVMGridSearchCV(\n",
    "    model= poly_svm,\n",
    "    params= poly_params,\n",
    "    cv= n_fold,\n",
    "    scoring= scoring,\n",
    "    scoring_avg= \"macro\",\n",
    ")\n",
    "poly_perform.random_state = random_state"
   ]
  },
  {
   "attachments": {},
   "cell_type": "markdown",
   "metadata": {},
   "source": [
    "#### 4.1 Pengukuran Performa Tahap 2: SVM + BOW"
   ]
  },
  {
   "cell_type": "markdown",
   "metadata": {},
   "source": [
    "##### 4.1.1 Performa SVM-Linear"
   ]
  },
  {
   "cell_type": "code",
   "execution_count": 42,
   "metadata": {},
   "outputs": [
    {
     "name": "stdout",
     "output_type": "stream",
     "text": [
      "Total combination of parameters: 10\n"
     ]
    },
    {
     "name": "stdout",
     "output_type": "stream",
     "text": [
      "i=0|{'kernel': 'linear', 'C': 1.0}  {'mean_accuracy': 0.673, 'mean_precision': 0.663, 'mean_recall': 0.659, 'mean_f1': 0.655}\n",
      "i=1|{'kernel': 'linear', 'C': 2.0}  {'mean_accuracy': 0.676, 'mean_precision': 0.666, 'mean_recall': 0.663, 'mean_f1': 0.661}\n",
      "i=2|{'kernel': 'linear', 'C': 3.0}  {'mean_accuracy': 0.671, 'mean_precision': 0.661, 'mean_recall': 0.66, 'mean_f1': 0.658}\n",
      "i=3|{'kernel': 'linear', 'C': 4.0}  {'mean_accuracy': 0.676, 'mean_precision': 0.666, 'mean_recall': 0.665, 'mean_f1': 0.664}\n",
      "i=4|{'kernel': 'linear', 'C': 5.0}  {'mean_accuracy': 0.676, 'mean_precision': 0.665, 'mean_recall': 0.664, 'mean_f1': 0.663}\n",
      "i=5|{'kernel': 'linear', 'C': 6.0}  {'mean_accuracy': 0.675, 'mean_precision': 0.664, 'mean_recall': 0.664, 'mean_f1': 0.663}\n",
      "i=6|{'kernel': 'linear', 'C': 7.0}  {'mean_accuracy': 0.678, 'mean_precision': 0.666, 'mean_recall': 0.666, 'mean_f1': 0.665}\n",
      "i=7|{'kernel': 'linear', 'C': 8.0}  {'mean_accuracy': 0.678, 'mean_precision': 0.666, 'mean_recall': 0.666, 'mean_f1': 0.665}\n",
      "i=8|{'kernel': 'linear', 'C': 9.0}  {'mean_accuracy': 0.678, 'mean_precision': 0.666, 'mean_recall': 0.666, 'mean_f1': 0.665}\n",
      "i=9|{'kernel': 'linear', 'C': 10.0}  {'mean_accuracy': 0.676, 'mean_precision': 0.665, 'mean_recall': 0.664, 'mean_f1': 0.664}\n"
     ]
    }
   ],
   "source": [
    "linear_perform.fit(X_train, y_train)"
   ]
  },
  {
   "cell_type": "code",
   "execution_count": 45,
   "metadata": {},
   "outputs": [
    {
     "name": "stdout",
     "output_type": "stream",
     "text": [
      "Best and worst results of Linear-SVM (base on accuracy):\n"
     ]
    },
    {
     "data": {
      "text/plain": [
       "[{'params': {'kernel': 'linear', 'C': 7.0},\n",
       "  'scores': {'mean_accuracy': 0.678,\n",
       "   'mean_precision': 0.666,\n",
       "   'mean_recall': 0.666,\n",
       "   'mean_f1': 0.665}}]"
      ]
     },
     "execution_count": 45,
     "metadata": {},
     "output_type": "execute_result"
    },
    {
     "data": {
      "text/plain": [
       "[{'params': {'kernel': 'linear', 'C': 3.0},\n",
       "  'scores': {'mean_accuracy': 0.671,\n",
       "   'mean_precision': 0.661,\n",
       "   'mean_recall': 0.66,\n",
       "   'mean_f1': 0.658}}]"
      ]
     },
     "execution_count": 45,
     "metadata": {},
     "output_type": "execute_result"
    }
   ],
   "source": [
    "print(\"Best and worst results of Linear-SVM (base on accuracy):\")\n",
    "linear_perform.get_best_result(base_on=\"accuracy\")\n",
    "linear_perform.get_worst_result(base_on=\"accuracy\")"
   ]
  },
  {
   "cell_type": "code",
   "execution_count": 17,
   "metadata": {},
   "outputs": [],
   "source": [
    "result_sequen = linear_perform.get_sequential_result()\n",
    "result_table = pandas.DataFrame(result_sequen)\n",
    "path = f\"data/result/train_result_linear_bow.csv\"\n",
    "result_table.to_csv(path, index=False)"
   ]
  },
  {
   "cell_type": "markdown",
   "metadata": {},
   "source": [
    "##### 4.1.2 Performa SVM-RBF"
   ]
  },
  {
   "cell_type": "code",
   "execution_count": 16,
   "metadata": {},
   "outputs": [
    {
     "name": "stdout",
     "output_type": "stream",
     "text": [
      "Total combination of parameters: 64\n"
     ]
    },
    {
     "name": "stdout",
     "output_type": "stream",
     "text": [
      "i=0|{'kernel': 'rbf', 'C': 10, 'gamma': 0.01}  {'mean_accuracy': 0.657, 'mean_precision': 0.665, 'mean_recall': 0.641, 'mean_f1': 0.636}\n",
      "i=1|{'kernel': 'rbf', 'C': 10, 'gamma': 0.02}  {'mean_accuracy': 0.668, 'mean_precision': 0.665, 'mean_recall': 0.653, 'mean_f1': 0.65}\n",
      "i=2|{'kernel': 'rbf', 'C': 10, 'gamma': 0.04}  {'mean_accuracy': 0.676, 'mean_precision': 0.665, 'mean_recall': 0.659, 'mean_f1': 0.657}\n",
      "i=3|{'kernel': 'rbf', 'C': 10, 'gamma': 0.08}  {'mean_accuracy': 0.673, 'mean_precision': 0.661, 'mean_recall': 0.654, 'mean_f1': 0.654}\n",
      "i=4|{'kernel': 'rbf', 'C': 10, 'gamma': 0.16}  {'mean_accuracy': 0.675, 'mean_precision': 0.665, 'mean_recall': 0.654, 'mean_f1': 0.655}\n",
      "i=5|{'kernel': 'rbf', 'C': 10, 'gamma': 0.32}  {'mean_accuracy': 0.661, 'mean_precision': 0.654, 'mean_recall': 0.632, 'mean_f1': 0.631}\n",
      "i=6|{'kernel': 'rbf', 'C': 10, 'gamma': 0.64}  {'mean_accuracy': 0.619, 'mean_precision': 0.628, 'mean_recall': 0.58, 'mean_f1': 0.57}\n",
      "i=7|{'kernel': 'rbf', 'C': 10, 'gamma': 1.0}  {'mean_accuracy': 0.583, 'mean_precision': 0.614, 'mean_recall': 0.54, 'mean_f1': 0.521}\n",
      "i=8|{'kernel': 'rbf', 'C': 20, 'gamma': 0.01}  {'mean_accuracy': 0.67, 'mean_precision': 0.667, 'mean_recall': 0.654, 'mean_f1': 0.651}\n",
      "i=9|{'kernel': 'rbf', 'C': 20, 'gamma': 0.02}  {'mean_accuracy': 0.676, 'mean_precision': 0.665, 'mean_recall': 0.659, 'mean_f1': 0.658}\n",
      "i=10|{'kernel': 'rbf', 'C': 20, 'gamma': 0.04}  {'mean_accuracy': 0.672, 'mean_precision': 0.661, 'mean_recall': 0.655, 'mean_f1': 0.654}\n",
      "i=11|{'kernel': 'rbf', 'C': 20, 'gamma': 0.08}  {'mean_accuracy': 0.677, 'mean_precision': 0.666, 'mean_recall': 0.658, 'mean_f1': 0.659}\n",
      "i=12|{'kernel': 'rbf', 'C': 20, 'gamma': 0.16}  {'mean_accuracy': 0.675, 'mean_precision': 0.663, 'mean_recall': 0.654, 'mean_f1': 0.654}\n",
      "i=13|{'kernel': 'rbf', 'C': 20, 'gamma': 0.32}  {'mean_accuracy': 0.658, 'mean_precision': 0.65, 'mean_recall': 0.63, 'mean_f1': 0.63}\n",
      "i=14|{'kernel': 'rbf', 'C': 20, 'gamma': 0.64}  {'mean_accuracy': 0.616, 'mean_precision': 0.627, 'mean_recall': 0.577, 'mean_f1': 0.568}\n",
      "i=15|{'kernel': 'rbf', 'C': 20, 'gamma': 1.0}  {'mean_accuracy': 0.575, 'mean_precision': 0.603, 'mean_recall': 0.533, 'mean_f1': 0.516}\n",
      "i=16|{'kernel': 'rbf', 'C': 40, 'gamma': 0.01}  {'mean_accuracy': 0.677, 'mean_precision': 0.667, 'mean_recall': 0.66, 'mean_f1': 0.658}\n",
      "i=17|{'kernel': 'rbf', 'C': 40, 'gamma': 0.02}  {'mean_accuracy': 0.673, 'mean_precision': 0.661, 'mean_recall': 0.656, 'mean_f1': 0.656}\n",
      "i=18|{'kernel': 'rbf', 'C': 40, 'gamma': 0.04}  {'mean_accuracy': 0.679, 'mean_precision': 0.668, 'mean_recall': 0.663, 'mean_f1': 0.664}\n",
      "i=19|{'kernel': 'rbf', 'C': 40, 'gamma': 0.08}  {'mean_accuracy': 0.681, 'mean_precision': 0.669, 'mean_recall': 0.663, 'mean_f1': 0.663}\n",
      "i=20|{'kernel': 'rbf', 'C': 40, 'gamma': 0.16}  {'mean_accuracy': 0.668, 'mean_precision': 0.656, 'mean_recall': 0.645, 'mean_f1': 0.646}\n",
      "i=21|{'kernel': 'rbf', 'C': 40, 'gamma': 0.32}  {'mean_accuracy': 0.648, 'mean_precision': 0.639, 'mean_recall': 0.621, 'mean_f1': 0.62}\n",
      "i=22|{'kernel': 'rbf', 'C': 40, 'gamma': 0.64}  {'mean_accuracy': 0.604, 'mean_precision': 0.611, 'mean_recall': 0.567, 'mean_f1': 0.558}\n",
      "i=23|{'kernel': 'rbf', 'C': 40, 'gamma': 1.0}  {'mean_accuracy': 0.571, 'mean_precision': 0.598, 'mean_recall': 0.529, 'mean_f1': 0.511}\n",
      "i=24|{'kernel': 'rbf', 'C': 80, 'gamma': 0.01}  {'mean_accuracy': 0.676, 'mean_precision': 0.664, 'mean_recall': 0.66, 'mean_f1': 0.659}\n",
      "i=25|{'kernel': 'rbf', 'C': 80, 'gamma': 0.02}  {'mean_accuracy': 0.681, 'mean_precision': 0.67, 'mean_recall': 0.666, 'mean_f1': 0.666}\n",
      "i=26|{'kernel': 'rbf', 'C': 80, 'gamma': 0.04}  {'mean_accuracy': 0.683, 'mean_precision': 0.671, 'mean_recall': 0.666, 'mean_f1': 0.667}\n",
      "i=27|{'kernel': 'rbf', 'C': 80, 'gamma': 0.08}  {'mean_accuracy': 0.672, 'mean_precision': 0.658, 'mean_recall': 0.652, 'mean_f1': 0.653}\n",
      "i=28|{'kernel': 'rbf', 'C': 80, 'gamma': 0.16}  {'mean_accuracy': 0.668, 'mean_precision': 0.656, 'mean_recall': 0.646, 'mean_f1': 0.646}\n",
      "i=29|{'kernel': 'rbf', 'C': 80, 'gamma': 0.32}  {'mean_accuracy': 0.644, 'mean_precision': 0.636, 'mean_recall': 0.618, 'mean_f1': 0.618}\n",
      "i=30|{'kernel': 'rbf', 'C': 80, 'gamma': 0.64}  {'mean_accuracy': 0.596, 'mean_precision': 0.602, 'mean_recall': 0.559, 'mean_f1': 0.55}\n",
      "i=31|{'kernel': 'rbf', 'C': 80, 'gamma': 1.0}  {'mean_accuracy': 0.57, 'mean_precision': 0.594, 'mean_recall': 0.528, 'mean_f1': 0.511}\n",
      "i=32|{'kernel': 'rbf', 'C': 160, 'gamma': 0.01}  {'mean_accuracy': 0.684, 'mean_precision': 0.674, 'mean_recall': 0.67, 'mean_f1': 0.67}\n",
      "i=33|{'kernel': 'rbf', 'C': 160, 'gamma': 0.02}  {'mean_accuracy': 0.685, 'mean_precision': 0.673, 'mean_recall': 0.669, 'mean_f1': 0.67}\n",
      "i=34|{'kernel': 'rbf', 'C': 160, 'gamma': 0.04}  {'mean_accuracy': 0.676, 'mean_precision': 0.662, 'mean_recall': 0.657, 'mean_f1': 0.658}\n",
      "i=35|{'kernel': 'rbf', 'C': 160, 'gamma': 0.08}  {'mean_accuracy': 0.668, 'mean_precision': 0.655, 'mean_recall': 0.648, 'mean_f1': 0.649}\n",
      "i=36|{'kernel': 'rbf', 'C': 160, 'gamma': 0.16}  {'mean_accuracy': 0.656, 'mean_precision': 0.645, 'mean_recall': 0.634, 'mean_f1': 0.635}\n",
      "i=37|{'kernel': 'rbf', 'C': 160, 'gamma': 0.32}  {'mean_accuracy': 0.638, 'mean_precision': 0.632, 'mean_recall': 0.614, 'mean_f1': 0.615}\n",
      "i=38|{'kernel': 'rbf', 'C': 160, 'gamma': 0.64}  {'mean_accuracy': 0.596, 'mean_precision': 0.6, 'mean_recall': 0.559, 'mean_f1': 0.55}\n",
      "i=39|{'kernel': 'rbf', 'C': 160, 'gamma': 1.0}  {'mean_accuracy': 0.568, 'mean_precision': 0.594, 'mean_recall': 0.526, 'mean_f1': 0.509}\n",
      "i=40|{'kernel': 'rbf', 'C': 320, 'gamma': 0.01}  {'mean_accuracy': 0.684, 'mean_precision': 0.672, 'mean_recall': 0.669, 'mean_f1': 0.669}\n",
      "i=41|{'kernel': 'rbf', 'C': 320, 'gamma': 0.02}  {'mean_accuracy': 0.679, 'mean_precision': 0.668, 'mean_recall': 0.662, 'mean_f1': 0.663}\n",
      "i=42|{'kernel': 'rbf', 'C': 320, 'gamma': 0.04}  {'mean_accuracy': 0.671, 'mean_precision': 0.657, 'mean_recall': 0.652, 'mean_f1': 0.653}\n",
      "i=43|{'kernel': 'rbf', 'C': 320, 'gamma': 0.08}  {'mean_accuracy': 0.659, 'mean_precision': 0.647, 'mean_recall': 0.64, 'mean_f1': 0.641}\n",
      "i=44|{'kernel': 'rbf', 'C': 320, 'gamma': 0.16}  {'mean_accuracy': 0.652, 'mean_precision': 0.641, 'mean_recall': 0.631, 'mean_f1': 0.632}\n",
      "i=45|{'kernel': 'rbf', 'C': 320, 'gamma': 0.32}  {'mean_accuracy': 0.635, 'mean_precision': 0.626, 'mean_recall': 0.609, 'mean_f1': 0.61}\n",
      "i=46|{'kernel': 'rbf', 'C': 320, 'gamma': 0.64}  {'mean_accuracy': 0.596, 'mean_precision': 0.599, 'mean_recall': 0.558, 'mean_f1': 0.549}\n",
      "i=47|{'kernel': 'rbf', 'C': 320, 'gamma': 1.0}  {'mean_accuracy': 0.566, 'mean_precision': 0.592, 'mean_recall': 0.524, 'mean_f1': 0.506}\n",
      "i=48|{'kernel': 'rbf', 'C': 640, 'gamma': 0.01}  {'mean_accuracy': 0.679, 'mean_precision': 0.667, 'mean_recall': 0.663, 'mean_f1': 0.664}\n",
      "i=49|{'kernel': 'rbf', 'C': 640, 'gamma': 0.02}  {'mean_accuracy': 0.671, 'mean_precision': 0.659, 'mean_recall': 0.654, 'mean_f1': 0.655}\n",
      "i=50|{'kernel': 'rbf', 'C': 640, 'gamma': 0.04}  {'mean_accuracy': 0.657, 'mean_precision': 0.646, 'mean_recall': 0.64, 'mean_f1': 0.641}\n",
      "i=51|{'kernel': 'rbf', 'C': 640, 'gamma': 0.08}  {'mean_accuracy': 0.653, 'mean_precision': 0.641, 'mean_recall': 0.635, 'mean_f1': 0.636}\n",
      "i=52|{'kernel': 'rbf', 'C': 640, 'gamma': 0.16}  {'mean_accuracy': 0.645, 'mean_precision': 0.634, 'mean_recall': 0.624, 'mean_f1': 0.625}\n",
      "i=53|{'kernel': 'rbf', 'C': 640, 'gamma': 0.32}  {'mean_accuracy': 0.632, 'mean_precision': 0.622, 'mean_recall': 0.605, 'mean_f1': 0.605}\n",
      "i=54|{'kernel': 'rbf', 'C': 640, 'gamma': 0.64}  {'mean_accuracy': 0.594, 'mean_precision': 0.598, 'mean_recall': 0.557, 'mean_f1': 0.547}\n",
      "i=55|{'kernel': 'rbf', 'C': 640, 'gamma': 1.0}  {'mean_accuracy': 0.567, 'mean_precision': 0.595, 'mean_recall': 0.525, 'mean_f1': 0.508}\n",
      "i=56|{'kernel': 'rbf', 'C': 1000, 'gamma': 0.01}  {'mean_accuracy': 0.676, 'mean_precision': 0.662, 'mean_recall': 0.658, 'mean_f1': 0.659}\n",
      "i=57|{'kernel': 'rbf', 'C': 1000, 'gamma': 0.02}  {'mean_accuracy': 0.663, 'mean_precision': 0.652, 'mean_recall': 0.646, 'mean_f1': 0.647}\n",
      "i=58|{'kernel': 'rbf', 'C': 1000, 'gamma': 0.04}  {'mean_accuracy': 0.651, 'mean_precision': 0.641, 'mean_recall': 0.635, 'mean_f1': 0.635}\n",
      "i=59|{'kernel': 'rbf', 'C': 1000, 'gamma': 0.08}  {'mean_accuracy': 0.65, 'mean_precision': 0.64, 'mean_recall': 0.632, 'mean_f1': 0.633}\n",
      "i=60|{'kernel': 'rbf', 'C': 1000, 'gamma': 0.16}  {'mean_accuracy': 0.644, 'mean_precision': 0.633, 'mean_recall': 0.623, 'mean_f1': 0.623}\n",
      "i=61|{'kernel': 'rbf', 'C': 1000, 'gamma': 0.32}  {'mean_accuracy': 0.625, 'mean_precision': 0.615, 'mean_recall': 0.598, 'mean_f1': 0.597}\n",
      "i=62|{'kernel': 'rbf', 'C': 1000, 'gamma': 0.64}  {'mean_accuracy': 0.595, 'mean_precision': 0.6, 'mean_recall': 0.557, 'mean_f1': 0.547}\n",
      "i=63|{'kernel': 'rbf', 'C': 1000, 'gamma': 1.0}  {'mean_accuracy': 0.567, 'mean_precision': 0.596, 'mean_recall': 0.525, 'mean_f1': 0.507}\n"
     ]
    }
   ],
   "source": [
    "rbf_perform.fit(X_train, y_train)"
   ]
  },
  {
   "cell_type": "code",
   "execution_count": 17,
   "metadata": {},
   "outputs": [
    {
     "name": "stdout",
     "output_type": "stream",
     "text": [
      "Best and worst results of RBF-SVM (base on accuracy):\n"
     ]
    },
    {
     "data": {
      "text/plain": [
       "[{'params': {'kernel': 'rbf', 'C': 160, 'gamma': 0.02},\n",
       "  'scores': {'mean_accuracy': 0.685,\n",
       "   'mean_precision': 0.673,\n",
       "   'mean_recall': 0.669,\n",
       "   'mean_f1': 0.67}}]"
      ]
     },
     "execution_count": 17,
     "metadata": {},
     "output_type": "execute_result"
    },
    {
     "data": {
      "text/plain": [
       "[{'params': {'kernel': 'rbf', 'C': 320, 'gamma': 1.0},\n",
       "  'scores': {'mean_accuracy': 0.566,\n",
       "   'mean_precision': 0.592,\n",
       "   'mean_recall': 0.524,\n",
       "   'mean_f1': 0.506}}]"
      ]
     },
     "execution_count": 17,
     "metadata": {},
     "output_type": "execute_result"
    }
   ],
   "source": [
    "print(\"Best and worst results of RBF-SVM (base on accuracy):\")\n",
    "rbf_perform.get_best_result(base_on=\"accuracy\")\n",
    "rbf_perform.get_worst_result(base_on=\"accuracy\")"
   ]
  },
  {
   "cell_type": "code",
   "execution_count": 18,
   "metadata": {},
   "outputs": [],
   "source": [
    "result_sequen = rbf_perform.get_sequential_result()\n",
    "result_table = pandas.DataFrame(result_sequen)\n",
    "path = f\"data/result/train_result_rbf_bow.csv\"\n",
    "result_table.to_csv(path, index=False)"
   ]
  },
  {
   "cell_type": "markdown",
   "metadata": {},
   "source": [
    "##### 4.1.3 Performa SVM-Polinomial"
   ]
  },
  {
   "cell_type": "code",
   "execution_count": 28,
   "metadata": {},
   "outputs": [
    {
     "name": "stdout",
     "output_type": "stream",
     "text": [
      "Total combination of parameters: 80\n"
     ]
    },
    {
     "name": "stdout",
     "output_type": "stream",
     "text": [
      "i=0|{'kernel': 'poly', 'C': 10, 'degree': 3, 'gamma': 0.1}  {'mean_accuracy': 0.383, 'mean_precision': 0.785, 'mean_recall': 0.357, 'mean_f1': 0.225}\n",
      "i=1|{'kernel': 'poly', 'C': 10, 'degree': 3, 'gamma': 0.2}  {'mean_accuracy': 0.4, 'mean_precision': 0.713, 'mean_recall': 0.374, 'mean_f1': 0.259}\n",
      "i=2|{'kernel': 'poly', 'C': 10, 'degree': 3, 'gamma': 0.3}  {'mean_accuracy': 0.441, 'mean_precision': 0.637, 'mean_recall': 0.417, 'mean_f1': 0.337}\n",
      "i=3|{'kernel': 'poly', 'C': 10, 'degree': 3, 'gamma': 0.4}  {'mean_accuracy': 0.481, 'mean_precision': 0.612, 'mean_recall': 0.459, 'mean_f1': 0.408}\n",
      "i=4|{'kernel': 'poly', 'C': 10, 'degree': 3, 'gamma': 0.5}  {'mean_accuracy': 0.496, 'mean_precision': 0.598, 'mean_recall': 0.474, 'mean_f1': 0.436}\n",
      "i=5|{'kernel': 'poly', 'C': 10, 'degree': 3, 'gamma': 0.6}  {'mean_accuracy': 0.509, 'mean_precision': 0.593, 'mean_recall': 0.489, 'mean_f1': 0.457}\n",
      "i=6|{'kernel': 'poly', 'C': 10, 'degree': 3, 'gamma': 0.7}  {'mean_accuracy': 0.526, 'mean_precision': 0.595, 'mean_recall': 0.507, 'mean_f1': 0.481}\n",
      "i=7|{'kernel': 'poly', 'C': 10, 'degree': 3, 'gamma': 0.8}  {'mean_accuracy': 0.54, 'mean_precision': 0.598, 'mean_recall': 0.521, 'mean_f1': 0.5}\n",
      "i=8|{'kernel': 'poly', 'C': 10, 'degree': 3, 'gamma': 0.9}  {'mean_accuracy': 0.549, 'mean_precision': 0.595, 'mean_recall': 0.531, 'mean_f1': 0.512}\n",
      "i=9|{'kernel': 'poly', 'C': 10, 'degree': 3, 'gamma': 1.0}  {'mean_accuracy': 0.56, 'mean_precision': 0.597, 'mean_recall': 0.541, 'mean_f1': 0.524}\n",
      "i=10|{'kernel': 'poly', 'C': 30, 'degree': 3, 'gamma': 0.1}  {'mean_accuracy': 0.386, 'mean_precision': 0.76, 'mean_recall': 0.361, 'mean_f1': 0.233}\n",
      "i=11|{'kernel': 'poly', 'C': 30, 'degree': 3, 'gamma': 0.2}  {'mean_accuracy': 0.434, 'mean_precision': 0.637, 'mean_recall': 0.41, 'mean_f1': 0.326}\n",
      "i=12|{'kernel': 'poly', 'C': 30, 'degree': 3, 'gamma': 0.3}  {'mean_accuracy': 0.49, 'mean_precision': 0.604, 'mean_recall': 0.468, 'mean_f1': 0.424}\n",
      "i=13|{'kernel': 'poly', 'C': 30, 'degree': 3, 'gamma': 0.4}  {'mean_accuracy': 0.509, 'mean_precision': 0.597, 'mean_recall': 0.488, 'mean_f1': 0.456}\n",
      "i=14|{'kernel': 'poly', 'C': 30, 'degree': 3, 'gamma': 0.5}  {'mean_accuracy': 0.53, 'mean_precision': 0.598, 'mean_recall': 0.51, 'mean_f1': 0.487}\n",
      "i=15|{'kernel': 'poly', 'C': 30, 'degree': 3, 'gamma': 0.6}  {'mean_accuracy': 0.546, 'mean_precision': 0.595, 'mean_recall': 0.526, 'mean_f1': 0.506}\n",
      "i=16|{'kernel': 'poly', 'C': 30, 'degree': 3, 'gamma': 0.7}  {'mean_accuracy': 0.561, 'mean_precision': 0.597, 'mean_recall': 0.542, 'mean_f1': 0.526}\n",
      "i=17|{'kernel': 'poly', 'C': 30, 'degree': 3, 'gamma': 0.8}  {'mean_accuracy': 0.569, 'mean_precision': 0.595, 'mean_recall': 0.551, 'mean_f1': 0.536}\n",
      "i=18|{'kernel': 'poly', 'C': 30, 'degree': 3, 'gamma': 0.9}  {'mean_accuracy': 0.585, 'mean_precision': 0.603, 'mean_recall': 0.568, 'mean_f1': 0.556}\n",
      "i=19|{'kernel': 'poly', 'C': 30, 'degree': 3, 'gamma': 1.0}  {'mean_accuracy': 0.593, 'mean_precision': 0.604, 'mean_recall': 0.577, 'mean_f1': 0.566}\n",
      "i=20|{'kernel': 'poly', 'C': 90, 'degree': 3, 'gamma': 0.1}  {'mean_accuracy': 0.402, 'mean_precision': 0.718, 'mean_recall': 0.377, 'mean_f1': 0.264}\n",
      "i=21|{'kernel': 'poly', 'C': 90, 'degree': 3, 'gamma': 0.2}  {'mean_accuracy': 0.487, 'mean_precision': 0.614, 'mean_recall': 0.465, 'mean_f1': 0.418}\n",
      "i=22|{'kernel': 'poly', 'C': 90, 'degree': 3, 'gamma': 0.3}  {'mean_accuracy': 0.514, 'mean_precision': 0.592, 'mean_recall': 0.494, 'mean_f1': 0.465}\n",
      "i=23|{'kernel': 'poly', 'C': 90, 'degree': 3, 'gamma': 0.4}  {'mean_accuracy': 0.54, 'mean_precision': 0.594, 'mean_recall': 0.521, 'mean_f1': 0.5}\n",
      "i=24|{'kernel': 'poly', 'C': 90, 'degree': 3, 'gamma': 0.5}  {'mean_accuracy': 0.561, 'mean_precision': 0.595, 'mean_recall': 0.543, 'mean_f1': 0.526}\n",
      "i=25|{'kernel': 'poly', 'C': 90, 'degree': 3, 'gamma': 0.6}  {'mean_accuracy': 0.58, 'mean_precision': 0.598, 'mean_recall': 0.562, 'mean_f1': 0.549}\n",
      "i=26|{'kernel': 'poly', 'C': 90, 'degree': 3, 'gamma': 0.7}  {'mean_accuracy': 0.592, 'mean_precision': 0.603, 'mean_recall': 0.576, 'mean_f1': 0.565}\n",
      "i=27|{'kernel': 'poly', 'C': 90, 'degree': 3, 'gamma': 0.8}  {'mean_accuracy': 0.593, 'mean_precision': 0.598, 'mean_recall': 0.576, 'mean_f1': 0.566}\n",
      "i=28|{'kernel': 'poly', 'C': 90, 'degree': 3, 'gamma': 0.9}  {'mean_accuracy': 0.59, 'mean_precision': 0.592, 'mean_recall': 0.573, 'mean_f1': 0.564}\n",
      "i=29|{'kernel': 'poly', 'C': 90, 'degree': 3, 'gamma': 1.0}  {'mean_accuracy': 0.594, 'mean_precision': 0.594, 'mean_recall': 0.577, 'mean_f1': 0.568}\n",
      "i=30|{'kernel': 'poly', 'C': 270, 'degree': 3, 'gamma': 0.1}  {'mean_accuracy': 0.441, 'mean_precision': 0.637, 'mean_recall': 0.417, 'mean_f1': 0.337}\n",
      "i=31|{'kernel': 'poly', 'C': 270, 'degree': 3, 'gamma': 0.2}  {'mean_accuracy': 0.509, 'mean_precision': 0.593, 'mean_recall': 0.489, 'mean_f1': 0.457}\n",
      "i=32|{'kernel': 'poly', 'C': 270, 'degree': 3, 'gamma': 0.3}  {'mean_accuracy': 0.549, 'mean_precision': 0.595, 'mean_recall': 0.531, 'mean_f1': 0.512}\n",
      "i=33|{'kernel': 'poly', 'C': 270, 'degree': 3, 'gamma': 0.4}  {'mean_accuracy': 0.573, 'mean_precision': 0.594, 'mean_recall': 0.555, 'mean_f1': 0.541}\n",
      "i=34|{'kernel': 'poly', 'C': 270, 'degree': 3, 'gamma': 0.5}  {'mean_accuracy': 0.594, 'mean_precision': 0.605, 'mean_recall': 0.578, 'mean_f1': 0.567}\n",
      "i=35|{'kernel': 'poly', 'C': 270, 'degree': 3, 'gamma': 0.6}  {'mean_accuracy': 0.591, 'mean_precision': 0.593, 'mean_recall': 0.573, 'mean_f1': 0.563}\n",
      "i=36|{'kernel': 'poly', 'C': 270, 'degree': 3, 'gamma': 0.7}  {'mean_accuracy': 0.593, 'mean_precision': 0.592, 'mean_recall': 0.576, 'mean_f1': 0.566}\n",
      "i=37|{'kernel': 'poly', 'C': 270, 'degree': 3, 'gamma': 0.8}  {'mean_accuracy': 0.594, 'mean_precision': 0.591, 'mean_recall': 0.576, 'mean_f1': 0.568}\n",
      "i=38|{'kernel': 'poly', 'C': 270, 'degree': 3, 'gamma': 0.9}  {'mean_accuracy': 0.596, 'mean_precision': 0.589, 'mean_recall': 0.577, 'mean_f1': 0.569}\n",
      "i=39|{'kernel': 'poly', 'C': 270, 'degree': 3, 'gamma': 1.0}  {'mean_accuracy': 0.593, 'mean_precision': 0.585, 'mean_recall': 0.574, 'mean_f1': 0.566}\n",
      "i=40|{'kernel': 'poly', 'C': 810, 'degree': 3, 'gamma': 0.1}  {'mean_accuracy': 0.49, 'mean_precision': 0.604, 'mean_recall': 0.468, 'mean_f1': 0.424}\n",
      "i=41|{'kernel': 'poly', 'C': 810, 'degree': 3, 'gamma': 0.2}  {'mean_accuracy': 0.546, 'mean_precision': 0.595, 'mean_recall': 0.526, 'mean_f1': 0.506}\n",
      "i=42|{'kernel': 'poly', 'C': 810, 'degree': 3, 'gamma': 0.3}  {'mean_accuracy': 0.585, 'mean_precision': 0.603, 'mean_recall': 0.568, 'mean_f1': 0.556}\n",
      "i=43|{'kernel': 'poly', 'C': 810, 'degree': 3, 'gamma': 0.4}  {'mean_accuracy': 0.591, 'mean_precision': 0.593, 'mean_recall': 0.574, 'mean_f1': 0.564}\n",
      "i=44|{'kernel': 'poly', 'C': 810, 'degree': 3, 'gamma': 0.5}  {'mean_accuracy': 0.593, 'mean_precision': 0.592, 'mean_recall': 0.576, 'mean_f1': 0.566}\n",
      "i=45|{'kernel': 'poly', 'C': 810, 'degree': 3, 'gamma': 0.6}  {'mean_accuracy': 0.595, 'mean_precision': 0.591, 'mean_recall': 0.577, 'mean_f1': 0.569}\n",
      "i=46|{'kernel': 'poly', 'C': 810, 'degree': 3, 'gamma': 0.7}  {'mean_accuracy': 0.593, 'mean_precision': 0.585, 'mean_recall': 0.574, 'mean_f1': 0.566}\n",
      "i=47|{'kernel': 'poly', 'C': 810, 'degree': 3, 'gamma': 0.8}  {'mean_accuracy': 0.589, 'mean_precision': 0.578, 'mean_recall': 0.569, 'mean_f1': 0.561}\n",
      "i=48|{'kernel': 'poly', 'C': 810, 'degree': 3, 'gamma': 0.9}  {'mean_accuracy': 0.587, 'mean_precision': 0.574, 'mean_recall': 0.566, 'mean_f1': 0.559}\n",
      "i=49|{'kernel': 'poly', 'C': 810, 'degree': 3, 'gamma': 1.0}  {'mean_accuracy': 0.589, 'mean_precision': 0.575, 'mean_recall': 0.568, 'mean_f1': 0.561}\n",
      "i=50|{'kernel': 'poly', 'C': 2430, 'degree': 3, 'gamma': 0.1}  {'mean_accuracy': 0.514, 'mean_precision': 0.592, 'mean_recall': 0.494, 'mean_f1': 0.465}\n",
      "i=51|{'kernel': 'poly', 'C': 2430, 'degree': 3, 'gamma': 0.2}  {'mean_accuracy': 0.58, 'mean_precision': 0.598, 'mean_recall': 0.562, 'mean_f1': 0.549}\n",
      "i=52|{'kernel': 'poly', 'C': 2430, 'degree': 3, 'gamma': 0.3}  {'mean_accuracy': 0.59, 'mean_precision': 0.592, 'mean_recall': 0.573, 'mean_f1': 0.564}\n",
      "i=53|{'kernel': 'poly', 'C': 2430, 'degree': 3, 'gamma': 0.4}  {'mean_accuracy': 0.594, 'mean_precision': 0.591, 'mean_recall': 0.577, 'mean_f1': 0.569}\n",
      "i=54|{'kernel': 'poly', 'C': 2430, 'degree': 3, 'gamma': 0.5}  {'mean_accuracy': 0.591, 'mean_precision': 0.581, 'mean_recall': 0.571, 'mean_f1': 0.563}\n",
      "i=55|{'kernel': 'poly', 'C': 2430, 'degree': 3, 'gamma': 0.6}  {'mean_accuracy': 0.59, 'mean_precision': 0.579, 'mean_recall': 0.569, 'mean_f1': 0.562}\n",
      "i=56|{'kernel': 'poly', 'C': 2430, 'degree': 3, 'gamma': 0.7}  {'mean_accuracy': 0.589, 'mean_precision': 0.576, 'mean_recall': 0.568, 'mean_f1': 0.561}\n",
      "i=57|{'kernel': 'poly', 'C': 2430, 'degree': 3, 'gamma': 0.8}  {'mean_accuracy': 0.588, 'mean_precision': 0.574, 'mean_recall': 0.568, 'mean_f1': 0.562}\n",
      "i=58|{'kernel': 'poly', 'C': 2430, 'degree': 3, 'gamma': 0.9}  {'mean_accuracy': 0.585, 'mean_precision': 0.57, 'mean_recall': 0.564, 'mean_f1': 0.559}\n",
      "i=59|{'kernel': 'poly', 'C': 2430, 'degree': 3, 'gamma': 1.0}  {'mean_accuracy': 0.581, 'mean_precision': 0.565, 'mean_recall': 0.56, 'mean_f1': 0.555}\n",
      "i=60|{'kernel': 'poly', 'C': 7290, 'degree': 3, 'gamma': 0.1}  {'mean_accuracy': 0.549, 'mean_precision': 0.595, 'mean_recall': 0.531, 'mean_f1': 0.512}\n",
      "i=61|{'kernel': 'poly', 'C': 7290, 'degree': 3, 'gamma': 0.2}  {'mean_accuracy': 0.591, 'mean_precision': 0.593, 'mean_recall': 0.573, 'mean_f1': 0.563}\n",
      "i=62|{'kernel': 'poly', 'C': 7290, 'degree': 3, 'gamma': 0.3}  {'mean_accuracy': 0.596, 'mean_precision': 0.589, 'mean_recall': 0.577, 'mean_f1': 0.569}\n",
      "i=63|{'kernel': 'poly', 'C': 7290, 'degree': 3, 'gamma': 0.4}  {'mean_accuracy': 0.589, 'mean_precision': 0.578, 'mean_recall': 0.569, 'mean_f1': 0.561}\n",
      "i=64|{'kernel': 'poly', 'C': 7290, 'degree': 3, 'gamma': 0.5}  {'mean_accuracy': 0.59, 'mean_precision': 0.576, 'mean_recall': 0.569, 'mean_f1': 0.562}\n",
      "i=65|{'kernel': 'poly', 'C': 7290, 'degree': 3, 'gamma': 0.6}  {'mean_accuracy': 0.585, 'mean_precision': 0.571, 'mean_recall': 0.564, 'mean_f1': 0.559}\n",
      "i=66|{'kernel': 'poly', 'C': 7290, 'degree': 3, 'gamma': 0.7}  {'mean_accuracy': 0.58, 'mean_precision': 0.563, 'mean_recall': 0.559, 'mean_f1': 0.553}\n",
      "i=67|{'kernel': 'poly', 'C': 7290, 'degree': 3, 'gamma': 0.8}  {'mean_accuracy': 0.58, 'mean_precision': 0.564, 'mean_recall': 0.56, 'mean_f1': 0.555}\n",
      "i=68|{'kernel': 'poly', 'C': 7290, 'degree': 3, 'gamma': 0.9}  {'mean_accuracy': 0.579, 'mean_precision': 0.562, 'mean_recall': 0.56, 'mean_f1': 0.555}\n",
      "i=69|{'kernel': 'poly', 'C': 7290, 'degree': 3, 'gamma': 1.0}  {'mean_accuracy': 0.579, 'mean_precision': 0.562, 'mean_recall': 0.56, 'mean_f1': 0.555}\n",
      "i=70|{'kernel': 'poly', 'C': 10000, 'degree': 3, 'gamma': 0.1}  {'mean_accuracy': 0.56, 'mean_precision': 0.597, 'mean_recall': 0.541, 'mean_f1': 0.524}\n",
      "i=71|{'kernel': 'poly', 'C': 10000, 'degree': 3, 'gamma': 0.2}  {'mean_accuracy': 0.595, 'mean_precision': 0.595, 'mean_recall': 0.578, 'mean_f1': 0.568}\n",
      "i=72|{'kernel': 'poly', 'C': 10000, 'degree': 3, 'gamma': 0.3}  {'mean_accuracy': 0.593, 'mean_precision': 0.585, 'mean_recall': 0.574, 'mean_f1': 0.566}\n",
      "i=73|{'kernel': 'poly', 'C': 10000, 'degree': 3, 'gamma': 0.4}  {'mean_accuracy': 0.586, 'mean_precision': 0.572, 'mean_recall': 0.565, 'mean_f1': 0.557}\n",
      "i=74|{'kernel': 'poly', 'C': 10000, 'degree': 3, 'gamma': 0.5}  {'mean_accuracy': 0.588, 'mean_precision': 0.574, 'mean_recall': 0.568, 'mean_f1': 0.562}\n",
      "i=75|{'kernel': 'poly', 'C': 10000, 'degree': 3, 'gamma': 0.6}  {'mean_accuracy': 0.582, 'mean_precision': 0.566, 'mean_recall': 0.561, 'mean_f1': 0.555}\n",
      "i=76|{'kernel': 'poly', 'C': 10000, 'degree': 3, 'gamma': 0.7}  {'mean_accuracy': 0.578, 'mean_precision': 0.562, 'mean_recall': 0.558, 'mean_f1': 0.553}\n",
      "i=77|{'kernel': 'poly', 'C': 10000, 'degree': 3, 'gamma': 0.8}  {'mean_accuracy': 0.58, 'mean_precision': 0.563, 'mean_recall': 0.56, 'mean_f1': 0.555}\n",
      "i=78|{'kernel': 'poly', 'C': 10000, 'degree': 3, 'gamma': 0.9}  {'mean_accuracy': 0.579, 'mean_precision': 0.562, 'mean_recall': 0.56, 'mean_f1': 0.555}\n",
      "i=79|{'kernel': 'poly', 'C': 10000, 'degree': 3, 'gamma': 1.0}  {'mean_accuracy': 0.579, 'mean_precision': 0.562, 'mean_recall': 0.56, 'mean_f1': 0.556}\n"
     ]
    }
   ],
   "source": [
    "poly_perform.fit(X_train, y_train)"
   ]
  },
  {
   "cell_type": "code",
   "execution_count": 29,
   "metadata": {},
   "outputs": [
    {
     "name": "stdout",
     "output_type": "stream",
     "text": [
      "Best and worst results of RBF-SVM (base on accuracy):\n"
     ]
    },
    {
     "data": {
      "text/plain": [
       "[{'params': {'kernel': 'poly', 'C': 270, 'degree': 3, 'gamma': 0.9},\n",
       "  'scores': {'mean_accuracy': 0.596,\n",
       "   'mean_precision': 0.589,\n",
       "   'mean_recall': 0.577,\n",
       "   'mean_f1': 0.569}}]"
      ]
     },
     "execution_count": 29,
     "metadata": {},
     "output_type": "execute_result"
    },
    {
     "data": {
      "text/plain": [
       "[{'params': {'kernel': 'poly', 'C': 10, 'degree': 3, 'gamma': 0.1},\n",
       "  'scores': {'mean_accuracy': 0.383,\n",
       "   'mean_precision': 0.785,\n",
       "   'mean_recall': 0.357,\n",
       "   'mean_f1': 0.225}}]"
      ]
     },
     "execution_count": 29,
     "metadata": {},
     "output_type": "execute_result"
    }
   ],
   "source": [
    "print(\"Best and worst results of RBF-SVM (base on accuracy):\")\n",
    "poly_perform.get_best_result(base_on=\"accuracy\")\n",
    "poly_perform.get_worst_result(base_on=\"accuracy\")"
   ]
  },
  {
   "cell_type": "code",
   "execution_count": 32,
   "metadata": {},
   "outputs": [],
   "source": [
    "result_sequen = poly_perform.get_sequential_result()\n",
    "result_table = pandas.DataFrame(result_sequen)\n",
    "path = f\"data/result/train_result_poly_bow.csv\"\n",
    "result_table.to_csv(path, index=False)"
   ]
  },
  {
   "attachments": {},
   "cell_type": "markdown",
   "metadata": {},
   "source": [
    "#### 4.2 Pengukuran Performa Tahap 2: SVM + TF-IDF"
   ]
  },
  {
   "cell_type": "markdown",
   "metadata": {},
   "source": [
    "##### 4.2.1 Performa SVM-Linear"
   ]
  },
  {
   "cell_type": "code",
   "execution_count": 40,
   "metadata": {},
   "outputs": [
    {
     "name": "stdout",
     "output_type": "stream",
     "text": [
      "Total combination of parameters: 10\n",
      "i=0|{'kernel': 'linear', 'C': 1.0}  {'mean_accuracy': 0.697, 'mean_precision': 0.686, 'mean_recall': 0.684, 'mean_f1': 0.685}\n",
      "i=1|{'kernel': 'linear', 'C': 2.0}  {'mean_accuracy': 0.698, 'mean_precision': 0.688, 'mean_recall': 0.684, 'mean_f1': 0.685}\n",
      "i=2|{'kernel': 'linear', 'C': 3.0}  {'mean_accuracy': 0.699, 'mean_precision': 0.69, 'mean_recall': 0.685, 'mean_f1': 0.687}\n",
      "i=3|{'kernel': 'linear', 'C': 4.0}  {'mean_accuracy': 0.69, 'mean_precision': 0.681, 'mean_recall': 0.675, 'mean_f1': 0.677}\n",
      "i=4|{'kernel': 'linear', 'C': 5.0}  {'mean_accuracy': 0.684, 'mean_precision': 0.675, 'mean_recall': 0.669, 'mean_f1': 0.671}\n",
      "i=5|{'kernel': 'linear', 'C': 6.0}  {'mean_accuracy': 0.682, 'mean_precision': 0.674, 'mean_recall': 0.668, 'mean_f1': 0.67}\n",
      "i=6|{'kernel': 'linear', 'C': 7.0}  {'mean_accuracy': 0.685, 'mean_precision': 0.677, 'mean_recall': 0.671, 'mean_f1': 0.673}\n",
      "i=7|{'kernel': 'linear', 'C': 8.0}  {'mean_accuracy': 0.68, 'mean_precision': 0.672, 'mean_recall': 0.666, 'mean_f1': 0.668}\n",
      "i=8|{'kernel': 'linear', 'C': 9.0}  {'mean_accuracy': 0.677, 'mean_precision': 0.669, 'mean_recall': 0.664, 'mean_f1': 0.665}\n",
      "i=9|{'kernel': 'linear', 'C': 10.0}  {'mean_accuracy': 0.675, 'mean_precision': 0.666, 'mean_recall': 0.662, 'mean_f1': 0.664}\n"
     ]
    }
   ],
   "source": [
    "linear_perform.fit(X_train, y_train)"
   ]
  },
  {
   "cell_type": "code",
   "execution_count": 41,
   "metadata": {},
   "outputs": [
    {
     "name": "stdout",
     "output_type": "stream",
     "text": [
      "Best and worst results of Linear-SVM (base on accuracy):\n"
     ]
    },
    {
     "data": {
      "text/plain": [
       "[{'params': {'kernel': 'linear', 'C': 3.0},\n",
       "  'scores': {'mean_accuracy': 0.699,\n",
       "   'mean_precision': 0.69,\n",
       "   'mean_recall': 0.685,\n",
       "   'mean_f1': 0.687}}]"
      ]
     },
     "execution_count": 41,
     "metadata": {},
     "output_type": "execute_result"
    },
    {
     "data": {
      "text/plain": [
       "[{'params': {'kernel': 'linear', 'C': 10.0},\n",
       "  'scores': {'mean_accuracy': 0.675,\n",
       "   'mean_precision': 0.666,\n",
       "   'mean_recall': 0.662,\n",
       "   'mean_f1': 0.664}}]"
      ]
     },
     "execution_count": 41,
     "metadata": {},
     "output_type": "execute_result"
    }
   ],
   "source": [
    "print(\"Best and worst results of Linear-SVM (base on accuracy):\")\n",
    "linear_perform.get_best_result(base_on=\"accuracy\")\n",
    "linear_perform.get_worst_result(base_on=\"accuracy\")"
   ]
  },
  {
   "cell_type": "code",
   "execution_count": 42,
   "metadata": {},
   "outputs": [],
   "source": [
    "result_sequen = linear_perform.get_sequential_result()\n",
    "result_table = pandas.DataFrame(result_sequen)\n",
    "path = f\"data/result/train_result_linear_tfidf.csv\"\n",
    "result_table.to_csv(path, index=False)"
   ]
  },
  {
   "cell_type": "markdown",
   "metadata": {},
   "source": [
    "##### 4.2.2 Performa SVM-RBF"
   ]
  },
  {
   "cell_type": "code",
   "execution_count": 16,
   "metadata": {},
   "outputs": [
    {
     "name": "stdout",
     "output_type": "stream",
     "text": [
      "Total combination of parameters: 64\n"
     ]
    },
    {
     "name": "stdout",
     "output_type": "stream",
     "text": [
      "i=0|{'kernel': 'rbf', 'C': 10, 'gamma': 0.01}  {'mean_accuracy': 0.679, 'mean_precision': 0.68, 'mean_recall': 0.676, 'mean_f1': 0.674}\n",
      "i=1|{'kernel': 'rbf', 'C': 10, 'gamma': 0.02}  {'mean_accuracy': 0.697, 'mean_precision': 0.686, 'mean_recall': 0.685, 'mean_f1': 0.685}\n",
      "i=2|{'kernel': 'rbf', 'C': 10, 'gamma': 0.04}  {'mean_accuracy': 0.694, 'mean_precision': 0.684, 'mean_recall': 0.681, 'mean_f1': 0.682}\n",
      "i=3|{'kernel': 'rbf', 'C': 10, 'gamma': 0.08}  {'mean_accuracy': 0.702, 'mean_precision': 0.693, 'mean_recall': 0.687, 'mean_f1': 0.688}\n",
      "i=4|{'kernel': 'rbf', 'C': 10, 'gamma': 0.16}  {'mean_accuracy': 0.7, 'mean_precision': 0.691, 'mean_recall': 0.684, 'mean_f1': 0.686}\n",
      "i=5|{'kernel': 'rbf', 'C': 10, 'gamma': 0.32}  {'mean_accuracy': 0.7, 'mean_precision': 0.692, 'mean_recall': 0.684, 'mean_f1': 0.686}\n",
      "i=6|{'kernel': 'rbf', 'C': 10, 'gamma': 0.64}  {'mean_accuracy': 0.706, 'mean_precision': 0.701, 'mean_recall': 0.688, 'mean_f1': 0.691}\n",
      "i=7|{'kernel': 'rbf', 'C': 10, 'gamma': 1.0}  {'mean_accuracy': 0.71, 'mean_precision': 0.71, 'mean_recall': 0.69, 'mean_f1': 0.693}\n",
      "i=8|{'kernel': 'rbf', 'C': 20, 'gamma': 0.01}  {'mean_accuracy': 0.696, 'mean_precision': 0.685, 'mean_recall': 0.685, 'mean_f1': 0.685}\n",
      "i=9|{'kernel': 'rbf', 'C': 20, 'gamma': 0.02}  {'mean_accuracy': 0.694, 'mean_precision': 0.684, 'mean_recall': 0.681, 'mean_f1': 0.682}\n",
      "i=10|{'kernel': 'rbf', 'C': 20, 'gamma': 0.04}  {'mean_accuracy': 0.7, 'mean_precision': 0.69, 'mean_recall': 0.685, 'mean_f1': 0.686}\n",
      "i=11|{'kernel': 'rbf', 'C': 20, 'gamma': 0.08}  {'mean_accuracy': 0.698, 'mean_precision': 0.689, 'mean_recall': 0.683, 'mean_f1': 0.685}\n",
      "i=12|{'kernel': 'rbf', 'C': 20, 'gamma': 0.16}  {'mean_accuracy': 0.695, 'mean_precision': 0.687, 'mean_recall': 0.68, 'mean_f1': 0.681}\n",
      "i=13|{'kernel': 'rbf', 'C': 20, 'gamma': 0.32}  {'mean_accuracy': 0.699, 'mean_precision': 0.692, 'mean_recall': 0.684, 'mean_f1': 0.685}\n",
      "i=14|{'kernel': 'rbf', 'C': 20, 'gamma': 0.64}  {'mean_accuracy': 0.705, 'mean_precision': 0.7, 'mean_recall': 0.688, 'mean_f1': 0.69}\n",
      "i=15|{'kernel': 'rbf', 'C': 20, 'gamma': 1.0}  {'mean_accuracy': 0.712, 'mean_precision': 0.711, 'mean_recall': 0.691, 'mean_f1': 0.694}\n",
      "i=16|{'kernel': 'rbf', 'C': 40, 'gamma': 0.01}  {'mean_accuracy': 0.697, 'mean_precision': 0.686, 'mean_recall': 0.684, 'mean_f1': 0.685}\n",
      "i=17|{'kernel': 'rbf', 'C': 40, 'gamma': 0.02}  {'mean_accuracy': 0.696, 'mean_precision': 0.686, 'mean_recall': 0.681, 'mean_f1': 0.683}\n",
      "i=18|{'kernel': 'rbf', 'C': 40, 'gamma': 0.04}  {'mean_accuracy': 0.695, 'mean_precision': 0.686, 'mean_recall': 0.681, 'mean_f1': 0.682}\n",
      "i=19|{'kernel': 'rbf', 'C': 40, 'gamma': 0.08}  {'mean_accuracy': 0.691, 'mean_precision': 0.682, 'mean_recall': 0.677, 'mean_f1': 0.678}\n",
      "i=20|{'kernel': 'rbf', 'C': 40, 'gamma': 0.16}  {'mean_accuracy': 0.69, 'mean_precision': 0.681, 'mean_recall': 0.675, 'mean_f1': 0.677}\n",
      "i=21|{'kernel': 'rbf', 'C': 40, 'gamma': 0.32}  {'mean_accuracy': 0.7, 'mean_precision': 0.692, 'mean_recall': 0.685, 'mean_f1': 0.686}\n",
      "i=22|{'kernel': 'rbf', 'C': 40, 'gamma': 0.64}  {'mean_accuracy': 0.707, 'mean_precision': 0.701, 'mean_recall': 0.689, 'mean_f1': 0.691}\n",
      "i=23|{'kernel': 'rbf', 'C': 40, 'gamma': 1.0}  {'mean_accuracy': 0.712, 'mean_precision': 0.712, 'mean_recall': 0.691, 'mean_f1': 0.694}\n",
      "i=24|{'kernel': 'rbf', 'C': 80, 'gamma': 0.01}  {'mean_accuracy': 0.696, 'mean_precision': 0.686, 'mean_recall': 0.682, 'mean_f1': 0.683}\n",
      "i=25|{'kernel': 'rbf', 'C': 80, 'gamma': 0.02}  {'mean_accuracy': 0.695, 'mean_precision': 0.686, 'mean_recall': 0.681, 'mean_f1': 0.682}\n",
      "i=26|{'kernel': 'rbf', 'C': 80, 'gamma': 0.04}  {'mean_accuracy': 0.687, 'mean_precision': 0.678, 'mean_recall': 0.672, 'mean_f1': 0.674}\n",
      "i=27|{'kernel': 'rbf', 'C': 80, 'gamma': 0.08}  {'mean_accuracy': 0.682, 'mean_precision': 0.674, 'mean_recall': 0.668, 'mean_f1': 0.67}\n",
      "i=28|{'kernel': 'rbf', 'C': 80, 'gamma': 0.16}  {'mean_accuracy': 0.692, 'mean_precision': 0.683, 'mean_recall': 0.677, 'mean_f1': 0.678}\n",
      "i=29|{'kernel': 'rbf', 'C': 80, 'gamma': 0.32}  {'mean_accuracy': 0.703, 'mean_precision': 0.695, 'mean_recall': 0.688, 'mean_f1': 0.689}\n",
      "i=30|{'kernel': 'rbf', 'C': 80, 'gamma': 0.64}  {'mean_accuracy': 0.705, 'mean_precision': 0.699, 'mean_recall': 0.687, 'mean_f1': 0.689}\n",
      "i=31|{'kernel': 'rbf', 'C': 80, 'gamma': 1.0}  {'mean_accuracy': 0.712, 'mean_precision': 0.711, 'mean_recall': 0.691, 'mean_f1': 0.694}\n",
      "i=32|{'kernel': 'rbf', 'C': 160, 'gamma': 0.01}  {'mean_accuracy': 0.697, 'mean_precision': 0.688, 'mean_recall': 0.683, 'mean_f1': 0.684}\n",
      "i=33|{'kernel': 'rbf', 'C': 160, 'gamma': 0.02}  {'mean_accuracy': 0.687, 'mean_precision': 0.679, 'mean_recall': 0.673, 'mean_f1': 0.675}\n",
      "i=34|{'kernel': 'rbf', 'C': 160, 'gamma': 0.04}  {'mean_accuracy': 0.677, 'mean_precision': 0.669, 'mean_recall': 0.664, 'mean_f1': 0.665}\n",
      "i=35|{'kernel': 'rbf', 'C': 160, 'gamma': 0.08}  {'mean_accuracy': 0.674, 'mean_precision': 0.667, 'mean_recall': 0.661, 'mean_f1': 0.662}\n",
      "i=36|{'kernel': 'rbf', 'C': 160, 'gamma': 0.16}  {'mean_accuracy': 0.689, 'mean_precision': 0.68, 'mean_recall': 0.674, 'mean_f1': 0.676}\n",
      "i=37|{'kernel': 'rbf', 'C': 160, 'gamma': 0.32}  {'mean_accuracy': 0.702, 'mean_precision': 0.693, 'mean_recall': 0.687, 'mean_f1': 0.689}\n",
      "i=38|{'kernel': 'rbf', 'C': 160, 'gamma': 0.64}  {'mean_accuracy': 0.705, 'mean_precision': 0.699, 'mean_recall': 0.687, 'mean_f1': 0.689}\n",
      "i=39|{'kernel': 'rbf', 'C': 160, 'gamma': 1.0}  {'mean_accuracy': 0.711, 'mean_precision': 0.71, 'mean_recall': 0.69, 'mean_f1': 0.693}\n",
      "i=40|{'kernel': 'rbf', 'C': 320, 'gamma': 0.01}  {'mean_accuracy': 0.686, 'mean_precision': 0.678, 'mean_recall': 0.672, 'mean_f1': 0.673}\n",
      "i=41|{'kernel': 'rbf', 'C': 320, 'gamma': 0.02}  {'mean_accuracy': 0.675, 'mean_precision': 0.667, 'mean_recall': 0.662, 'mean_f1': 0.663}\n",
      "i=42|{'kernel': 'rbf', 'C': 320, 'gamma': 0.04}  {'mean_accuracy': 0.668, 'mean_precision': 0.66, 'mean_recall': 0.655, 'mean_f1': 0.656}\n",
      "i=43|{'kernel': 'rbf', 'C': 320, 'gamma': 0.08}  {'mean_accuracy': 0.674, 'mean_precision': 0.666, 'mean_recall': 0.66, 'mean_f1': 0.662}\n",
      "i=44|{'kernel': 'rbf', 'C': 320, 'gamma': 0.16}  {'mean_accuracy': 0.688, 'mean_precision': 0.68, 'mean_recall': 0.674, 'mean_f1': 0.676}\n",
      "i=45|{'kernel': 'rbf', 'C': 320, 'gamma': 0.32}  {'mean_accuracy': 0.702, 'mean_precision': 0.693, 'mean_recall': 0.687, 'mean_f1': 0.689}\n",
      "i=46|{'kernel': 'rbf', 'C': 320, 'gamma': 0.64}  {'mean_accuracy': 0.704, 'mean_precision': 0.698, 'mean_recall': 0.687, 'mean_f1': 0.689}\n",
      "i=47|{'kernel': 'rbf', 'C': 320, 'gamma': 1.0}  {'mean_accuracy': 0.71, 'mean_precision': 0.71, 'mean_recall': 0.689, 'mean_f1': 0.692}\n",
      "i=48|{'kernel': 'rbf', 'C': 640, 'gamma': 0.01}  {'mean_accuracy': 0.673, 'mean_precision': 0.665, 'mean_recall': 0.66, 'mean_f1': 0.661}\n",
      "i=49|{'kernel': 'rbf', 'C': 640, 'gamma': 0.02}  {'mean_accuracy': 0.665, 'mean_precision': 0.657, 'mean_recall': 0.652, 'mean_f1': 0.653}\n",
      "i=50|{'kernel': 'rbf', 'C': 640, 'gamma': 0.04}  {'mean_accuracy': 0.664, 'mean_precision': 0.656, 'mean_recall': 0.651, 'mean_f1': 0.652}\n",
      "i=51|{'kernel': 'rbf', 'C': 640, 'gamma': 0.08}  {'mean_accuracy': 0.671, 'mean_precision': 0.664, 'mean_recall': 0.657, 'mean_f1': 0.659}\n",
      "i=52|{'kernel': 'rbf', 'C': 640, 'gamma': 0.16}  {'mean_accuracy': 0.686, 'mean_precision': 0.677, 'mean_recall': 0.671, 'mean_f1': 0.673}\n",
      "i=53|{'kernel': 'rbf', 'C': 640, 'gamma': 0.32}  {'mean_accuracy': 0.702, 'mean_precision': 0.693, 'mean_recall': 0.687, 'mean_f1': 0.688}\n",
      "i=54|{'kernel': 'rbf', 'C': 640, 'gamma': 0.64}  {'mean_accuracy': 0.703, 'mean_precision': 0.698, 'mean_recall': 0.686, 'mean_f1': 0.688}\n",
      "i=55|{'kernel': 'rbf', 'C': 640, 'gamma': 1.0}  {'mean_accuracy': 0.71, 'mean_precision': 0.71, 'mean_recall': 0.689, 'mean_f1': 0.692}\n",
      "i=56|{'kernel': 'rbf', 'C': 1000, 'gamma': 0.01}  {'mean_accuracy': 0.668, 'mean_precision': 0.66, 'mean_recall': 0.654, 'mean_f1': 0.655}\n",
      "i=57|{'kernel': 'rbf', 'C': 1000, 'gamma': 0.02}  {'mean_accuracy': 0.664, 'mean_precision': 0.656, 'mean_recall': 0.651, 'mean_f1': 0.652}\n",
      "i=58|{'kernel': 'rbf', 'C': 1000, 'gamma': 0.04}  {'mean_accuracy': 0.666, 'mean_precision': 0.658, 'mean_recall': 0.653, 'mean_f1': 0.654}\n",
      "i=59|{'kernel': 'rbf', 'C': 1000, 'gamma': 0.08}  {'mean_accuracy': 0.672, 'mean_precision': 0.665, 'mean_recall': 0.658, 'mean_f1': 0.66}\n",
      "i=60|{'kernel': 'rbf', 'C': 1000, 'gamma': 0.16}  {'mean_accuracy': 0.687, 'mean_precision': 0.678, 'mean_recall': 0.672, 'mean_f1': 0.674}\n",
      "i=61|{'kernel': 'rbf', 'C': 1000, 'gamma': 0.32}  {'mean_accuracy': 0.7, 'mean_precision': 0.691, 'mean_recall': 0.685, 'mean_f1': 0.687}\n",
      "i=62|{'kernel': 'rbf', 'C': 1000, 'gamma': 0.64}  {'mean_accuracy': 0.703, 'mean_precision': 0.698, 'mean_recall': 0.686, 'mean_f1': 0.688}\n",
      "i=63|{'kernel': 'rbf', 'C': 1000, 'gamma': 1.0}  {'mean_accuracy': 0.71, 'mean_precision': 0.71, 'mean_recall': 0.689, 'mean_f1': 0.692}\n"
     ]
    }
   ],
   "source": [
    "rbf_perform.fit(X_train, y_train)"
   ]
  },
  {
   "cell_type": "code",
   "execution_count": 17,
   "metadata": {},
   "outputs": [
    {
     "name": "stdout",
     "output_type": "stream",
     "text": [
      "Best and worst results of RBF-SVM (base on accuracy):\n"
     ]
    },
    {
     "data": {
      "text/plain": [
       "[{'params': {'kernel': 'rbf', 'C': 20, 'gamma': 1.0},\n",
       "  'scores': {'mean_accuracy': 0.712,\n",
       "   'mean_precision': 0.711,\n",
       "   'mean_recall': 0.691,\n",
       "   'mean_f1': 0.694}}]"
      ]
     },
     "execution_count": 17,
     "metadata": {},
     "output_type": "execute_result"
    },
    {
     "data": {
      "text/plain": [
       "[{'params': {'kernel': 'rbf', 'C': 1000, 'gamma': 0.02},\n",
       "  'scores': {'mean_accuracy': 0.664,\n",
       "   'mean_precision': 0.656,\n",
       "   'mean_recall': 0.651,\n",
       "   'mean_f1': 0.652}}]"
      ]
     },
     "execution_count": 17,
     "metadata": {},
     "output_type": "execute_result"
    }
   ],
   "source": [
    "print(\"Best and worst results of RBF-SVM (base on accuracy):\")\n",
    "rbf_perform.get_best_result(base_on=\"accuracy\")\n",
    "rbf_perform.get_worst_result(base_on=\"accuracy\")"
   ]
  },
  {
   "cell_type": "code",
   "execution_count": 18,
   "metadata": {},
   "outputs": [],
   "source": [
    "result_sequen = rbf_perform.get_sequential_result()\n",
    "result_table = pandas.DataFrame(result_sequen)\n",
    "path = f\"data/result/train_result_rbf_tfidf.csv\"\n",
    "result_table.to_csv(path, index=False)"
   ]
  },
  {
   "cell_type": "markdown",
   "metadata": {},
   "source": [
    "##### 4.2.3 Performa SVM-Polinomial"
   ]
  },
  {
   "cell_type": "code",
   "execution_count": 30,
   "metadata": {},
   "outputs": [
    {
     "name": "stdout",
     "output_type": "stream",
     "text": [
      "Total combination of parameters: 80\n",
      "i=0|{'kernel': 'poly', 'C': 10, 'degree': 3, 'gamma': 0.1}  {'mean_accuracy': 0.432, 'mean_precision': 0.758, 'mean_recall': 0.388, 'mean_f1': 0.291}\n",
      "i=1|{'kernel': 'poly', 'C': 10, 'degree': 3, 'gamma': 0.2}  {'mean_accuracy': 0.434, 'mean_precision': 0.758, 'mean_recall': 0.39, 'mean_f1': 0.293}\n",
      "i=2|{'kernel': 'poly', 'C': 10, 'degree': 3, 'gamma': 0.3}  {'mean_accuracy': 0.451, 'mean_precision': 0.75, 'mean_recall': 0.406, 'mean_f1': 0.322}\n",
      "i=3|{'kernel': 'poly', 'C': 10, 'degree': 3, 'gamma': 0.4}  {'mean_accuracy': 0.5, 'mean_precision': 0.695, 'mean_recall': 0.456, 'mean_f1': 0.404}\n",
      "i=4|{'kernel': 'poly', 'C': 10, 'degree': 3, 'gamma': 0.5}  {'mean_accuracy': 0.591, 'mean_precision': 0.641, 'mean_recall': 0.558, 'mean_f1': 0.554}\n",
      "i=5|{'kernel': 'poly', 'C': 10, 'degree': 3, 'gamma': 0.6}  {'mean_accuracy': 0.603, 'mean_precision': 0.62, 'mean_recall': 0.594, 'mean_f1': 0.593}\n",
      "i=6|{'kernel': 'poly', 'C': 10, 'degree': 3, 'gamma': 0.7}  {'mean_accuracy': 0.587, 'mean_precision': 0.628, 'mean_recall': 0.602, 'mean_f1': 0.588}\n",
      "i=7|{'kernel': 'poly', 'C': 10, 'degree': 3, 'gamma': 0.8}  {'mean_accuracy': 0.572, 'mean_precision': 0.624, 'mean_recall': 0.591, 'mean_f1': 0.574}\n",
      "i=8|{'kernel': 'poly', 'C': 10, 'degree': 3, 'gamma': 0.9}  {'mean_accuracy': 0.571, 'mean_precision': 0.624, 'mean_recall': 0.59, 'mean_f1': 0.574}\n",
      "i=9|{'kernel': 'poly', 'C': 10, 'degree': 3, 'gamma': 1.0}  {'mean_accuracy': 0.57, 'mean_precision': 0.623, 'mean_recall': 0.589, 'mean_f1': 0.573}\n",
      "i=10|{'kernel': 'poly', 'C': 30, 'degree': 3, 'gamma': 0.1}  {'mean_accuracy': 0.432, 'mean_precision': 0.758, 'mean_recall': 0.388, 'mean_f1': 0.291}\n",
      "i=11|{'kernel': 'poly', 'C': 30, 'degree': 3, 'gamma': 0.2}  {'mean_accuracy': 0.45, 'mean_precision': 0.75, 'mean_recall': 0.405, 'mean_f1': 0.321}\n",
      "i=12|{'kernel': 'poly', 'C': 30, 'degree': 3, 'gamma': 0.3}  {'mean_accuracy': 0.531, 'mean_precision': 0.681, 'mean_recall': 0.488, 'mean_f1': 0.451}\n",
      "i=13|{'kernel': 'poly', 'C': 30, 'degree': 3, 'gamma': 0.4}  {'mean_accuracy': 0.607, 'mean_precision': 0.628, 'mean_recall': 0.593, 'mean_f1': 0.593}\n",
      "i=14|{'kernel': 'poly', 'C': 30, 'degree': 3, 'gamma': 0.5}  {'mean_accuracy': 0.58, 'mean_precision': 0.626, 'mean_recall': 0.597, 'mean_f1': 0.582}\n",
      "i=15|{'kernel': 'poly', 'C': 30, 'degree': 3, 'gamma': 0.6}  {'mean_accuracy': 0.571, 'mean_precision': 0.624, 'mean_recall': 0.59, 'mean_f1': 0.574}\n",
      "i=16|{'kernel': 'poly', 'C': 30, 'degree': 3, 'gamma': 0.7}  {'mean_accuracy': 0.57, 'mean_precision': 0.622, 'mean_recall': 0.589, 'mean_f1': 0.572}\n",
      "i=17|{'kernel': 'poly', 'C': 30, 'degree': 3, 'gamma': 0.8}  {'mean_accuracy': 0.57, 'mean_precision': 0.623, 'mean_recall': 0.589, 'mean_f1': 0.572}\n",
      "i=18|{'kernel': 'poly', 'C': 30, 'degree': 3, 'gamma': 0.9}  {'mean_accuracy': 0.57, 'mean_precision': 0.623, 'mean_recall': 0.589, 'mean_f1': 0.572}\n",
      "i=19|{'kernel': 'poly', 'C': 30, 'degree': 3, 'gamma': 1.0}  {'mean_accuracy': 0.57, 'mean_precision': 0.623, 'mean_recall': 0.589, 'mean_f1': 0.572}\n",
      "i=20|{'kernel': 'poly', 'C': 90, 'degree': 3, 'gamma': 0.1}  {'mean_accuracy': 0.438, 'mean_precision': 0.76, 'mean_recall': 0.393, 'mean_f1': 0.299}\n",
      "i=21|{'kernel': 'poly', 'C': 90, 'degree': 3, 'gamma': 0.2}  {'mean_accuracy': 0.516, 'mean_precision': 0.687, 'mean_recall': 0.472, 'mean_f1': 0.428}\n",
      "i=22|{'kernel': 'poly', 'C': 90, 'degree': 3, 'gamma': 0.3}  {'mean_accuracy': 0.601, 'mean_precision': 0.619, 'mean_recall': 0.601, 'mean_f1': 0.595}\n",
      "i=23|{'kernel': 'poly', 'C': 90, 'degree': 3, 'gamma': 0.4}  {'mean_accuracy': 0.571, 'mean_precision': 0.624, 'mean_recall': 0.59, 'mean_f1': 0.574}\n",
      "i=24|{'kernel': 'poly', 'C': 90, 'degree': 3, 'gamma': 0.5}  {'mean_accuracy': 0.57, 'mean_precision': 0.622, 'mean_recall': 0.589, 'mean_f1': 0.572}\n",
      "i=25|{'kernel': 'poly', 'C': 90, 'degree': 3, 'gamma': 0.6}  {'mean_accuracy': 0.57, 'mean_precision': 0.623, 'mean_recall': 0.589, 'mean_f1': 0.572}\n",
      "i=26|{'kernel': 'poly', 'C': 90, 'degree': 3, 'gamma': 0.7}  {'mean_accuracy': 0.57, 'mean_precision': 0.623, 'mean_recall': 0.589, 'mean_f1': 0.572}\n",
      "i=27|{'kernel': 'poly', 'C': 90, 'degree': 3, 'gamma': 0.8}  {'mean_accuracy': 0.57, 'mean_precision': 0.623, 'mean_recall': 0.589, 'mean_f1': 0.572}\n",
      "i=28|{'kernel': 'poly', 'C': 90, 'degree': 3, 'gamma': 0.9}  {'mean_accuracy': 0.57, 'mean_precision': 0.623, 'mean_recall': 0.589, 'mean_f1': 0.572}\n",
      "i=29|{'kernel': 'poly', 'C': 90, 'degree': 3, 'gamma': 1.0}  {'mean_accuracy': 0.57, 'mean_precision': 0.623, 'mean_recall': 0.589, 'mean_f1': 0.572}\n",
      "i=30|{'kernel': 'poly', 'C': 270, 'degree': 3, 'gamma': 0.1}  {'mean_accuracy': 0.451, 'mean_precision': 0.75, 'mean_recall': 0.406, 'mean_f1': 0.322}\n",
      "i=31|{'kernel': 'poly', 'C': 270, 'degree': 3, 'gamma': 0.2}  {'mean_accuracy': 0.603, 'mean_precision': 0.62, 'mean_recall': 0.594, 'mean_f1': 0.593}\n",
      "i=32|{'kernel': 'poly', 'C': 270, 'degree': 3, 'gamma': 0.3}  {'mean_accuracy': 0.571, 'mean_precision': 0.623, 'mean_recall': 0.59, 'mean_f1': 0.573}\n",
      "i=33|{'kernel': 'poly', 'C': 270, 'degree': 3, 'gamma': 0.4}  {'mean_accuracy': 0.57, 'mean_precision': 0.623, 'mean_recall': 0.589, 'mean_f1': 0.572}\n",
      "i=34|{'kernel': 'poly', 'C': 270, 'degree': 3, 'gamma': 0.5}  {'mean_accuracy': 0.57, 'mean_precision': 0.623, 'mean_recall': 0.589, 'mean_f1': 0.572}\n",
      "i=35|{'kernel': 'poly', 'C': 270, 'degree': 3, 'gamma': 0.6}  {'mean_accuracy': 0.57, 'mean_precision': 0.623, 'mean_recall': 0.589, 'mean_f1': 0.572}\n",
      "i=36|{'kernel': 'poly', 'C': 270, 'degree': 3, 'gamma': 0.7}  {'mean_accuracy': 0.57, 'mean_precision': 0.623, 'mean_recall': 0.589, 'mean_f1': 0.572}\n",
      "i=37|{'kernel': 'poly', 'C': 270, 'degree': 3, 'gamma': 0.8}  {'mean_accuracy': 0.57, 'mean_precision': 0.623, 'mean_recall': 0.589, 'mean_f1': 0.572}\n",
      "i=38|{'kernel': 'poly', 'C': 270, 'degree': 3, 'gamma': 0.9}  {'mean_accuracy': 0.569, 'mean_precision': 0.622, 'mean_recall': 0.588, 'mean_f1': 0.571}\n",
      "i=39|{'kernel': 'poly', 'C': 270, 'degree': 3, 'gamma': 1.0}  {'mean_accuracy': 0.569, 'mean_precision': 0.622, 'mean_recall': 0.588, 'mean_f1': 0.571}\n",
      "i=40|{'kernel': 'poly', 'C': 810, 'degree': 3, 'gamma': 0.1}  {'mean_accuracy': 0.531, 'mean_precision': 0.681, 'mean_recall': 0.488, 'mean_f1': 0.451}\n",
      "i=41|{'kernel': 'poly', 'C': 810, 'degree': 3, 'gamma': 0.2}  {'mean_accuracy': 0.571, 'mean_precision': 0.623, 'mean_recall': 0.59, 'mean_f1': 0.573}\n",
      "i=42|{'kernel': 'poly', 'C': 810, 'degree': 3, 'gamma': 0.3}  {'mean_accuracy': 0.57, 'mean_precision': 0.623, 'mean_recall': 0.589, 'mean_f1': 0.572}\n",
      "i=43|{'kernel': 'poly', 'C': 810, 'degree': 3, 'gamma': 0.4}  {'mean_accuracy': 0.57, 'mean_precision': 0.623, 'mean_recall': 0.589, 'mean_f1': 0.572}\n",
      "i=44|{'kernel': 'poly', 'C': 810, 'degree': 3, 'gamma': 0.5}  {'mean_accuracy': 0.57, 'mean_precision': 0.623, 'mean_recall': 0.589, 'mean_f1': 0.572}\n",
      "i=45|{'kernel': 'poly', 'C': 810, 'degree': 3, 'gamma': 0.6}  {'mean_accuracy': 0.569, 'mean_precision': 0.622, 'mean_recall': 0.588, 'mean_f1': 0.571}\n",
      "i=46|{'kernel': 'poly', 'C': 810, 'degree': 3, 'gamma': 0.7}  {'mean_accuracy': 0.569, 'mean_precision': 0.622, 'mean_recall': 0.588, 'mean_f1': 0.571}\n",
      "i=47|{'kernel': 'poly', 'C': 810, 'degree': 3, 'gamma': 0.8}  {'mean_accuracy': 0.569, 'mean_precision': 0.622, 'mean_recall': 0.588, 'mean_f1': 0.571}\n",
      "i=48|{'kernel': 'poly', 'C': 810, 'degree': 3, 'gamma': 0.9}  {'mean_accuracy': 0.569, 'mean_precision': 0.622, 'mean_recall': 0.588, 'mean_f1': 0.571}\n",
      "i=49|{'kernel': 'poly', 'C': 810, 'degree': 3, 'gamma': 1.0}  {'mean_accuracy': 0.569, 'mean_precision': 0.622, 'mean_recall': 0.588, 'mean_f1': 0.571}\n",
      "i=50|{'kernel': 'poly', 'C': 2430, 'degree': 3, 'gamma': 0.1}  {'mean_accuracy': 0.601, 'mean_precision': 0.619, 'mean_recall': 0.601, 'mean_f1': 0.595}\n",
      "i=51|{'kernel': 'poly', 'C': 2430, 'degree': 3, 'gamma': 0.2}  {'mean_accuracy': 0.57, 'mean_precision': 0.623, 'mean_recall': 0.589, 'mean_f1': 0.572}\n",
      "i=52|{'kernel': 'poly', 'C': 2430, 'degree': 3, 'gamma': 0.3}  {'mean_accuracy': 0.57, 'mean_precision': 0.623, 'mean_recall': 0.589, 'mean_f1': 0.572}\n",
      "i=53|{'kernel': 'poly', 'C': 2430, 'degree': 3, 'gamma': 0.4}  {'mean_accuracy': 0.569, 'mean_precision': 0.622, 'mean_recall': 0.588, 'mean_f1': 0.571}\n",
      "i=54|{'kernel': 'poly', 'C': 2430, 'degree': 3, 'gamma': 0.5}  {'mean_accuracy': 0.569, 'mean_precision': 0.622, 'mean_recall': 0.588, 'mean_f1': 0.571}\n",
      "i=55|{'kernel': 'poly', 'C': 2430, 'degree': 3, 'gamma': 0.6}  {'mean_accuracy': 0.569, 'mean_precision': 0.622, 'mean_recall': 0.588, 'mean_f1': 0.571}\n",
      "i=56|{'kernel': 'poly', 'C': 2430, 'degree': 3, 'gamma': 0.7}  {'mean_accuracy': 0.569, 'mean_precision': 0.622, 'mean_recall': 0.588, 'mean_f1': 0.571}\n",
      "i=57|{'kernel': 'poly', 'C': 2430, 'degree': 3, 'gamma': 0.8}  {'mean_accuracy': 0.569, 'mean_precision': 0.622, 'mean_recall': 0.588, 'mean_f1': 0.571}\n",
      "i=58|{'kernel': 'poly', 'C': 2430, 'degree': 3, 'gamma': 0.9}  {'mean_accuracy': 0.569, 'mean_precision': 0.622, 'mean_recall': 0.588, 'mean_f1': 0.571}\n",
      "i=59|{'kernel': 'poly', 'C': 2430, 'degree': 3, 'gamma': 1.0}  {'mean_accuracy': 0.569, 'mean_precision': 0.622, 'mean_recall': 0.588, 'mean_f1': 0.571}\n",
      "i=60|{'kernel': 'poly', 'C': 7290, 'degree': 3, 'gamma': 0.1}  {'mean_accuracy': 0.57, 'mean_precision': 0.623, 'mean_recall': 0.589, 'mean_f1': 0.573}\n",
      "i=61|{'kernel': 'poly', 'C': 7290, 'degree': 3, 'gamma': 0.2}  {'mean_accuracy': 0.57, 'mean_precision': 0.623, 'mean_recall': 0.589, 'mean_f1': 0.572}\n",
      "i=62|{'kernel': 'poly', 'C': 7290, 'degree': 3, 'gamma': 0.3}  {'mean_accuracy': 0.569, 'mean_precision': 0.622, 'mean_recall': 0.588, 'mean_f1': 0.571}\n",
      "i=63|{'kernel': 'poly', 'C': 7290, 'degree': 3, 'gamma': 0.4}  {'mean_accuracy': 0.569, 'mean_precision': 0.622, 'mean_recall': 0.588, 'mean_f1': 0.571}\n",
      "i=64|{'kernel': 'poly', 'C': 7290, 'degree': 3, 'gamma': 0.5}  {'mean_accuracy': 0.569, 'mean_precision': 0.622, 'mean_recall': 0.588, 'mean_f1': 0.571}\n",
      "i=65|{'kernel': 'poly', 'C': 7290, 'degree': 3, 'gamma': 0.6}  {'mean_accuracy': 0.569, 'mean_precision': 0.622, 'mean_recall': 0.588, 'mean_f1': 0.571}\n",
      "i=66|{'kernel': 'poly', 'C': 7290, 'degree': 3, 'gamma': 0.7}  {'mean_accuracy': 0.569, 'mean_precision': 0.622, 'mean_recall': 0.588, 'mean_f1': 0.571}\n",
      "i=67|{'kernel': 'poly', 'C': 7290, 'degree': 3, 'gamma': 0.8}  {'mean_accuracy': 0.569, 'mean_precision': 0.622, 'mean_recall': 0.588, 'mean_f1': 0.571}\n",
      "i=68|{'kernel': 'poly', 'C': 7290, 'degree': 3, 'gamma': 0.9}  {'mean_accuracy': 0.569, 'mean_precision': 0.622, 'mean_recall': 0.588, 'mean_f1': 0.571}\n",
      "i=69|{'kernel': 'poly', 'C': 7290, 'degree': 3, 'gamma': 1.0}  {'mean_accuracy': 0.569, 'mean_precision': 0.622, 'mean_recall': 0.588, 'mean_f1': 0.571}\n",
      "i=70|{'kernel': 'poly', 'C': 10000, 'degree': 3, 'gamma': 0.1}  {'mean_accuracy': 0.57, 'mean_precision': 0.623, 'mean_recall': 0.589, 'mean_f1': 0.573}\n",
      "i=71|{'kernel': 'poly', 'C': 10000, 'degree': 3, 'gamma': 0.2}  {'mean_accuracy': 0.57, 'mean_precision': 0.623, 'mean_recall': 0.589, 'mean_f1': 0.572}\n",
      "i=72|{'kernel': 'poly', 'C': 10000, 'degree': 3, 'gamma': 0.3}  {'mean_accuracy': 0.569, 'mean_precision': 0.622, 'mean_recall': 0.588, 'mean_f1': 0.571}\n",
      "i=73|{'kernel': 'poly', 'C': 10000, 'degree': 3, 'gamma': 0.4}  {'mean_accuracy': 0.569, 'mean_precision': 0.622, 'mean_recall': 0.588, 'mean_f1': 0.571}\n",
      "i=74|{'kernel': 'poly', 'C': 10000, 'degree': 3, 'gamma': 0.5}  {'mean_accuracy': 0.569, 'mean_precision': 0.622, 'mean_recall': 0.588, 'mean_f1': 0.571}\n",
      "i=75|{'kernel': 'poly', 'C': 10000, 'degree': 3, 'gamma': 0.6}  {'mean_accuracy': 0.569, 'mean_precision': 0.622, 'mean_recall': 0.588, 'mean_f1': 0.571}\n",
      "i=76|{'kernel': 'poly', 'C': 10000, 'degree': 3, 'gamma': 0.7}  {'mean_accuracy': 0.569, 'mean_precision': 0.622, 'mean_recall': 0.588, 'mean_f1': 0.571}\n",
      "i=77|{'kernel': 'poly', 'C': 10000, 'degree': 3, 'gamma': 0.8}  {'mean_accuracy': 0.569, 'mean_precision': 0.622, 'mean_recall': 0.588, 'mean_f1': 0.571}\n",
      "i=78|{'kernel': 'poly', 'C': 10000, 'degree': 3, 'gamma': 0.9}  {'mean_accuracy': 0.569, 'mean_precision': 0.622, 'mean_recall': 0.588, 'mean_f1': 0.571}\n",
      "i=79|{'kernel': 'poly', 'C': 10000, 'degree': 3, 'gamma': 1.0}  {'mean_accuracy': 0.569, 'mean_precision': 0.622, 'mean_recall': 0.588, 'mean_f1': 0.571}\n"
     ]
    }
   ],
   "source": [
    "poly_perform.fit(X_train, y_train)"
   ]
  },
  {
   "cell_type": "code",
   "execution_count": 31,
   "metadata": {},
   "outputs": [
    {
     "name": "stdout",
     "output_type": "stream",
     "text": [
      "Best and worst results of RBF-SVM (base on accuracy):\n"
     ]
    },
    {
     "data": {
      "text/plain": [
       "[{'params': {'kernel': 'poly', 'C': 30, 'degree': 3, 'gamma': 0.4},\n",
       "  'scores': {'mean_accuracy': 0.607,\n",
       "   'mean_precision': 0.628,\n",
       "   'mean_recall': 0.593,\n",
       "   'mean_f1': 0.593}}]"
      ]
     },
     "execution_count": 31,
     "metadata": {},
     "output_type": "execute_result"
    },
    {
     "data": {
      "text/plain": [
       "[{'params': {'kernel': 'poly', 'C': 30, 'degree': 3, 'gamma': 0.1},\n",
       "  'scores': {'mean_accuracy': 0.432,\n",
       "   'mean_precision': 0.758,\n",
       "   'mean_recall': 0.388,\n",
       "   'mean_f1': 0.291}}]"
      ]
     },
     "execution_count": 31,
     "metadata": {},
     "output_type": "execute_result"
    }
   ],
   "source": [
    "print(\"Best and worst results of RBF-SVM (base on accuracy):\")\n",
    "poly_perform.get_best_result(base_on=\"accuracy\")\n",
    "poly_perform.get_worst_result(base_on=\"accuracy\")"
   ]
  },
  {
   "cell_type": "code",
   "execution_count": 32,
   "metadata": {},
   "outputs": [],
   "source": [
    "result_sequen = poly_perform.get_sequential_result()\n",
    "result_table = pandas.DataFrame(result_sequen)\n",
    "path = f\"data/result/train_result_poly_tfidf.csv\"\n",
    "result_table.to_csv(path, index=False)"
   ]
  },
  {
   "cell_type": "markdown",
   "metadata": {},
   "source": [
    "***"
   ]
  },
  {
   "cell_type": "markdown",
   "metadata": {},
   "source": [
    "### __5. Pengujian__"
   ]
  },
  {
   "cell_type": "markdown",
   "metadata": {},
   "source": [
    "Beralih ke:\n",
    "- [4. Pengukuran Performa Tahap 2](#4-pengukuran-performa-tahap-2)\n",
    "- [Daftar Isi](#daftar-isi)"
   ]
  },
  {
   "cell_type": "code",
   "execution_count": 20,
   "metadata": {},
   "outputs": [],
   "source": [
    "from sklearn.metrics import confusion_matrix, classification_report\n",
    "from imblearn.over_sampling import SMOTE"
   ]
  },
  {
   "cell_type": "code",
   "execution_count": 21,
   "metadata": {},
   "outputs": [],
   "source": [
    "smoter = SMOTE(random_state=random_state)\n",
    "X_train_res, y_train_res = smoter.fit_resample(X_train, y_train)\n",
    "svm = SVC()"
   ]
  },
  {
   "cell_type": "markdown",
   "metadata": {},
   "source": [
    "#### 5.1 Pengujian SVM + BOW"
   ]
  },
  {
   "cell_type": "markdown",
   "metadata": {},
   "source": [
    "##### 5.1.1 SVM-Linear"
   ]
  },
  {
   "cell_type": "code",
   "execution_count": 43,
   "metadata": {},
   "outputs": [
    {
     "data": {
      "text/html": [
       "<style>#sk-container-id-4 {color: black;background-color: white;}#sk-container-id-4 pre{padding: 0;}#sk-container-id-4 div.sk-toggleable {background-color: white;}#sk-container-id-4 label.sk-toggleable__label {cursor: pointer;display: block;width: 100%;margin-bottom: 0;padding: 0.3em;box-sizing: border-box;text-align: center;}#sk-container-id-4 label.sk-toggleable__label-arrow:before {content: \"▸\";float: left;margin-right: 0.25em;color: #696969;}#sk-container-id-4 label.sk-toggleable__label-arrow:hover:before {color: black;}#sk-container-id-4 div.sk-estimator:hover label.sk-toggleable__label-arrow:before {color: black;}#sk-container-id-4 div.sk-toggleable__content {max-height: 0;max-width: 0;overflow: hidden;text-align: left;background-color: #f0f8ff;}#sk-container-id-4 div.sk-toggleable__content pre {margin: 0.2em;color: black;border-radius: 0.25em;background-color: #f0f8ff;}#sk-container-id-4 input.sk-toggleable__control:checked~div.sk-toggleable__content {max-height: 200px;max-width: 100%;overflow: auto;}#sk-container-id-4 input.sk-toggleable__control:checked~label.sk-toggleable__label-arrow:before {content: \"▾\";}#sk-container-id-4 div.sk-estimator input.sk-toggleable__control:checked~label.sk-toggleable__label {background-color: #d4ebff;}#sk-container-id-4 div.sk-label input.sk-toggleable__control:checked~label.sk-toggleable__label {background-color: #d4ebff;}#sk-container-id-4 input.sk-hidden--visually {border: 0;clip: rect(1px 1px 1px 1px);clip: rect(1px, 1px, 1px, 1px);height: 1px;margin: -1px;overflow: hidden;padding: 0;position: absolute;width: 1px;}#sk-container-id-4 div.sk-estimator {font-family: monospace;background-color: #f0f8ff;border: 1px dotted black;border-radius: 0.25em;box-sizing: border-box;margin-bottom: 0.5em;}#sk-container-id-4 div.sk-estimator:hover {background-color: #d4ebff;}#sk-container-id-4 div.sk-parallel-item::after {content: \"\";width: 100%;border-bottom: 1px solid gray;flex-grow: 1;}#sk-container-id-4 div.sk-label:hover label.sk-toggleable__label {background-color: #d4ebff;}#sk-container-id-4 div.sk-serial::before {content: \"\";position: absolute;border-left: 1px solid gray;box-sizing: border-box;top: 0;bottom: 0;left: 50%;z-index: 0;}#sk-container-id-4 div.sk-serial {display: flex;flex-direction: column;align-items: center;background-color: white;padding-right: 0.2em;padding-left: 0.2em;position: relative;}#sk-container-id-4 div.sk-item {position: relative;z-index: 1;}#sk-container-id-4 div.sk-parallel {display: flex;align-items: stretch;justify-content: center;background-color: white;position: relative;}#sk-container-id-4 div.sk-item::before, #sk-container-id-4 div.sk-parallel-item::before {content: \"\";position: absolute;border-left: 1px solid gray;box-sizing: border-box;top: 0;bottom: 0;left: 50%;z-index: -1;}#sk-container-id-4 div.sk-parallel-item {display: flex;flex-direction: column;z-index: 1;position: relative;background-color: white;}#sk-container-id-4 div.sk-parallel-item:first-child::after {align-self: flex-end;width: 50%;}#sk-container-id-4 div.sk-parallel-item:last-child::after {align-self: flex-start;width: 50%;}#sk-container-id-4 div.sk-parallel-item:only-child::after {width: 0;}#sk-container-id-4 div.sk-dashed-wrapped {border: 1px dashed gray;margin: 0 0.4em 0.5em 0.4em;box-sizing: border-box;padding-bottom: 0.4em;background-color: white;}#sk-container-id-4 div.sk-label label {font-family: monospace;font-weight: bold;display: inline-block;line-height: 1.2em;}#sk-container-id-4 div.sk-label-container {text-align: center;}#sk-container-id-4 div.sk-container {/* jupyter's `normalize.less` sets `[hidden] { display: none; }` but bootstrap.min.css set `[hidden] { display: none !important; }` so we also need the `!important` here to be able to override the default hidden behavior on the sphinx rendered scikit-learn.org. See: https://github.com/scikit-learn/scikit-learn/issues/21755 */display: inline-block !important;position: relative;}#sk-container-id-4 div.sk-text-repr-fallback {display: none;}</style><div id=\"sk-container-id-4\" class=\"sk-top-container\"><div class=\"sk-text-repr-fallback\"><pre>SVC(C=7.0, gamma=0.4, kernel=&#x27;linear&#x27;)</pre><b>In a Jupyter environment, please rerun this cell to show the HTML representation or trust the notebook. <br />On GitHub, the HTML representation is unable to render, please try loading this page with nbviewer.org.</b></div><div class=\"sk-container\" hidden><div class=\"sk-item\"><div class=\"sk-estimator sk-toggleable\"><input class=\"sk-toggleable__control sk-hidden--visually\" id=\"sk-estimator-id-4\" type=\"checkbox\" checked><label for=\"sk-estimator-id-4\" class=\"sk-toggleable__label sk-toggleable__label-arrow\">SVC</label><div class=\"sk-toggleable__content\"><pre>SVC(C=7.0, gamma=0.4, kernel=&#x27;linear&#x27;)</pre></div></div></div></div></div>"
      ],
      "text/plain": [
       "SVC(C=7.0, gamma=0.4, kernel='linear')"
      ]
     },
     "execution_count": 43,
     "metadata": {},
     "output_type": "execute_result"
    }
   ],
   "source": [
    "linear_best = linear_perform.get_best_result(base_on=\"accuracy\")\n",
    "linear_best_params = linear_best[0][\"params\"]\n",
    "svm = svm.set_params(**linear_best_params)\n",
    "\n",
    "svm.fit(X_train_res, y_train_res)\n",
    "y_pred = svm.predict(X_test)"
   ]
  },
  {
   "cell_type": "code",
   "execution_count": 44,
   "metadata": {},
   "outputs": [
    {
     "name": "stdout",
     "output_type": "stream",
     "text": [
      "Confusion Matrix:\n",
      " [[212 114  65]\n",
      " [ 23 332  32]\n",
      " [ 36  54 155]]\n",
      "\n",
      "Report:\n",
      "               precision    recall  f1-score   support\n",
      "\n",
      "           0       0.78      0.54      0.64       391\n",
      "           1       0.66      0.86      0.75       387\n",
      "           2       0.62      0.63      0.62       245\n",
      "\n",
      "    accuracy                           0.68      1023\n",
      "   macro avg       0.69      0.68      0.67      1023\n",
      "weighted avg       0.70      0.68      0.68      1023\n",
      "\n"
     ]
    }
   ],
   "source": [
    "print(f\"Confusion Matrix:\\n {confusion_matrix(y_test, y_pred)}\\n\")\n",
    "print(f\"Report:\\n {classification_report(y_test, y_pred)}\")"
   ]
  },
  {
   "cell_type": "markdown",
   "metadata": {},
   "source": [
    "##### 5.1.2 SVM-RBF"
   ]
  },
  {
   "cell_type": "code",
   "execution_count": 23,
   "metadata": {},
   "outputs": [
    {
     "data": {
      "text/html": [
       "<style>#sk-container-id-2 {color: black;background-color: white;}#sk-container-id-2 pre{padding: 0;}#sk-container-id-2 div.sk-toggleable {background-color: white;}#sk-container-id-2 label.sk-toggleable__label {cursor: pointer;display: block;width: 100%;margin-bottom: 0;padding: 0.3em;box-sizing: border-box;text-align: center;}#sk-container-id-2 label.sk-toggleable__label-arrow:before {content: \"▸\";float: left;margin-right: 0.25em;color: #696969;}#sk-container-id-2 label.sk-toggleable__label-arrow:hover:before {color: black;}#sk-container-id-2 div.sk-estimator:hover label.sk-toggleable__label-arrow:before {color: black;}#sk-container-id-2 div.sk-toggleable__content {max-height: 0;max-width: 0;overflow: hidden;text-align: left;background-color: #f0f8ff;}#sk-container-id-2 div.sk-toggleable__content pre {margin: 0.2em;color: black;border-radius: 0.25em;background-color: #f0f8ff;}#sk-container-id-2 input.sk-toggleable__control:checked~div.sk-toggleable__content {max-height: 200px;max-width: 100%;overflow: auto;}#sk-container-id-2 input.sk-toggleable__control:checked~label.sk-toggleable__label-arrow:before {content: \"▾\";}#sk-container-id-2 div.sk-estimator input.sk-toggleable__control:checked~label.sk-toggleable__label {background-color: #d4ebff;}#sk-container-id-2 div.sk-label input.sk-toggleable__control:checked~label.sk-toggleable__label {background-color: #d4ebff;}#sk-container-id-2 input.sk-hidden--visually {border: 0;clip: rect(1px 1px 1px 1px);clip: rect(1px, 1px, 1px, 1px);height: 1px;margin: -1px;overflow: hidden;padding: 0;position: absolute;width: 1px;}#sk-container-id-2 div.sk-estimator {font-family: monospace;background-color: #f0f8ff;border: 1px dotted black;border-radius: 0.25em;box-sizing: border-box;margin-bottom: 0.5em;}#sk-container-id-2 div.sk-estimator:hover {background-color: #d4ebff;}#sk-container-id-2 div.sk-parallel-item::after {content: \"\";width: 100%;border-bottom: 1px solid gray;flex-grow: 1;}#sk-container-id-2 div.sk-label:hover label.sk-toggleable__label {background-color: #d4ebff;}#sk-container-id-2 div.sk-serial::before {content: \"\";position: absolute;border-left: 1px solid gray;box-sizing: border-box;top: 0;bottom: 0;left: 50%;z-index: 0;}#sk-container-id-2 div.sk-serial {display: flex;flex-direction: column;align-items: center;background-color: white;padding-right: 0.2em;padding-left: 0.2em;position: relative;}#sk-container-id-2 div.sk-item {position: relative;z-index: 1;}#sk-container-id-2 div.sk-parallel {display: flex;align-items: stretch;justify-content: center;background-color: white;position: relative;}#sk-container-id-2 div.sk-item::before, #sk-container-id-2 div.sk-parallel-item::before {content: \"\";position: absolute;border-left: 1px solid gray;box-sizing: border-box;top: 0;bottom: 0;left: 50%;z-index: -1;}#sk-container-id-2 div.sk-parallel-item {display: flex;flex-direction: column;z-index: 1;position: relative;background-color: white;}#sk-container-id-2 div.sk-parallel-item:first-child::after {align-self: flex-end;width: 50%;}#sk-container-id-2 div.sk-parallel-item:last-child::after {align-self: flex-start;width: 50%;}#sk-container-id-2 div.sk-parallel-item:only-child::after {width: 0;}#sk-container-id-2 div.sk-dashed-wrapped {border: 1px dashed gray;margin: 0 0.4em 0.5em 0.4em;box-sizing: border-box;padding-bottom: 0.4em;background-color: white;}#sk-container-id-2 div.sk-label label {font-family: monospace;font-weight: bold;display: inline-block;line-height: 1.2em;}#sk-container-id-2 div.sk-label-container {text-align: center;}#sk-container-id-2 div.sk-container {/* jupyter's `normalize.less` sets `[hidden] { display: none; }` but bootstrap.min.css set `[hidden] { display: none !important; }` so we also need the `!important` here to be able to override the default hidden behavior on the sphinx rendered scikit-learn.org. See: https://github.com/scikit-learn/scikit-learn/issues/21755 */display: inline-block !important;position: relative;}#sk-container-id-2 div.sk-text-repr-fallback {display: none;}</style><div id=\"sk-container-id-2\" class=\"sk-top-container\"><div class=\"sk-text-repr-fallback\"><pre>SVC(C=160, gamma=0.02)</pre><b>In a Jupyter environment, please rerun this cell to show the HTML representation or trust the notebook. <br />On GitHub, the HTML representation is unable to render, please try loading this page with nbviewer.org.</b></div><div class=\"sk-container\" hidden><div class=\"sk-item\"><div class=\"sk-estimator sk-toggleable\"><input class=\"sk-toggleable__control sk-hidden--visually\" id=\"sk-estimator-id-2\" type=\"checkbox\" checked><label for=\"sk-estimator-id-2\" class=\"sk-toggleable__label sk-toggleable__label-arrow\">SVC</label><div class=\"sk-toggleable__content\"><pre>SVC(C=160, gamma=0.02)</pre></div></div></div></div></div>"
      ],
      "text/plain": [
       "SVC(C=160, gamma=0.02)"
      ]
     },
     "execution_count": 23,
     "metadata": {},
     "output_type": "execute_result"
    }
   ],
   "source": [
    "rbf_best = rbf_perform.get_best_result(base_on=\"accuracy\")\n",
    "rbf_best_params = rbf_best[0][\"params\"]\n",
    "svm = svm.set_params(**rbf_best_params)\n",
    "\n",
    "svm.fit(X_train_res, y_train_res)\n",
    "y_pred = svm.predict(X_test)"
   ]
  },
  {
   "cell_type": "code",
   "execution_count": 24,
   "metadata": {},
   "outputs": [
    {
     "name": "stdout",
     "output_type": "stream",
     "text": [
      "Confusion Matrix:\n",
      " [[298  53  40]\n",
      " [ 43 295  49]\n",
      " [ 72  37 136]]\n",
      "\n",
      "Report:\n",
      "               precision    recall  f1-score   support\n",
      "\n",
      "           0       0.72      0.76      0.74       391\n",
      "           1       0.77      0.76      0.76       387\n",
      "           2       0.60      0.56      0.58       245\n",
      "\n",
      "    accuracy                           0.71      1023\n",
      "   macro avg       0.70      0.69      0.69      1023\n",
      "weighted avg       0.71      0.71      0.71      1023\n",
      "\n"
     ]
    }
   ],
   "source": [
    "print(f\"Confusion Matrix:\\n {confusion_matrix(y_test, y_pred)}\\n\")\n",
    "print(f\"Report:\\n {classification_report(y_test, y_pred)}\")"
   ]
  },
  {
   "cell_type": "markdown",
   "metadata": {},
   "source": [
    "##### 5.1.3 SVM-Polinomial"
   ]
  },
  {
   "cell_type": "code",
   "execution_count": 30,
   "metadata": {},
   "outputs": [
    {
     "data": {
      "text/html": [
       "<style>#sk-container-id-3 {color: black;background-color: white;}#sk-container-id-3 pre{padding: 0;}#sk-container-id-3 div.sk-toggleable {background-color: white;}#sk-container-id-3 label.sk-toggleable__label {cursor: pointer;display: block;width: 100%;margin-bottom: 0;padding: 0.3em;box-sizing: border-box;text-align: center;}#sk-container-id-3 label.sk-toggleable__label-arrow:before {content: \"▸\";float: left;margin-right: 0.25em;color: #696969;}#sk-container-id-3 label.sk-toggleable__label-arrow:hover:before {color: black;}#sk-container-id-3 div.sk-estimator:hover label.sk-toggleable__label-arrow:before {color: black;}#sk-container-id-3 div.sk-toggleable__content {max-height: 0;max-width: 0;overflow: hidden;text-align: left;background-color: #f0f8ff;}#sk-container-id-3 div.sk-toggleable__content pre {margin: 0.2em;color: black;border-radius: 0.25em;background-color: #f0f8ff;}#sk-container-id-3 input.sk-toggleable__control:checked~div.sk-toggleable__content {max-height: 200px;max-width: 100%;overflow: auto;}#sk-container-id-3 input.sk-toggleable__control:checked~label.sk-toggleable__label-arrow:before {content: \"▾\";}#sk-container-id-3 div.sk-estimator input.sk-toggleable__control:checked~label.sk-toggleable__label {background-color: #d4ebff;}#sk-container-id-3 div.sk-label input.sk-toggleable__control:checked~label.sk-toggleable__label {background-color: #d4ebff;}#sk-container-id-3 input.sk-hidden--visually {border: 0;clip: rect(1px 1px 1px 1px);clip: rect(1px, 1px, 1px, 1px);height: 1px;margin: -1px;overflow: hidden;padding: 0;position: absolute;width: 1px;}#sk-container-id-3 div.sk-estimator {font-family: monospace;background-color: #f0f8ff;border: 1px dotted black;border-radius: 0.25em;box-sizing: border-box;margin-bottom: 0.5em;}#sk-container-id-3 div.sk-estimator:hover {background-color: #d4ebff;}#sk-container-id-3 div.sk-parallel-item::after {content: \"\";width: 100%;border-bottom: 1px solid gray;flex-grow: 1;}#sk-container-id-3 div.sk-label:hover label.sk-toggleable__label {background-color: #d4ebff;}#sk-container-id-3 div.sk-serial::before {content: \"\";position: absolute;border-left: 1px solid gray;box-sizing: border-box;top: 0;bottom: 0;left: 50%;z-index: 0;}#sk-container-id-3 div.sk-serial {display: flex;flex-direction: column;align-items: center;background-color: white;padding-right: 0.2em;padding-left: 0.2em;position: relative;}#sk-container-id-3 div.sk-item {position: relative;z-index: 1;}#sk-container-id-3 div.sk-parallel {display: flex;align-items: stretch;justify-content: center;background-color: white;position: relative;}#sk-container-id-3 div.sk-item::before, #sk-container-id-3 div.sk-parallel-item::before {content: \"\";position: absolute;border-left: 1px solid gray;box-sizing: border-box;top: 0;bottom: 0;left: 50%;z-index: -1;}#sk-container-id-3 div.sk-parallel-item {display: flex;flex-direction: column;z-index: 1;position: relative;background-color: white;}#sk-container-id-3 div.sk-parallel-item:first-child::after {align-self: flex-end;width: 50%;}#sk-container-id-3 div.sk-parallel-item:last-child::after {align-self: flex-start;width: 50%;}#sk-container-id-3 div.sk-parallel-item:only-child::after {width: 0;}#sk-container-id-3 div.sk-dashed-wrapped {border: 1px dashed gray;margin: 0 0.4em 0.5em 0.4em;box-sizing: border-box;padding-bottom: 0.4em;background-color: white;}#sk-container-id-3 div.sk-label label {font-family: monospace;font-weight: bold;display: inline-block;line-height: 1.2em;}#sk-container-id-3 div.sk-label-container {text-align: center;}#sk-container-id-3 div.sk-container {/* jupyter's `normalize.less` sets `[hidden] { display: none; }` but bootstrap.min.css set `[hidden] { display: none !important; }` so we also need the `!important` here to be able to override the default hidden behavior on the sphinx rendered scikit-learn.org. See: https://github.com/scikit-learn/scikit-learn/issues/21755 */display: inline-block !important;position: relative;}#sk-container-id-3 div.sk-text-repr-fallback {display: none;}</style><div id=\"sk-container-id-3\" class=\"sk-top-container\"><div class=\"sk-text-repr-fallback\"><pre>SVC(C=270, gamma=0.9, kernel=&#x27;poly&#x27;)</pre><b>In a Jupyter environment, please rerun this cell to show the HTML representation or trust the notebook. <br />On GitHub, the HTML representation is unable to render, please try loading this page with nbviewer.org.</b></div><div class=\"sk-container\" hidden><div class=\"sk-item\"><div class=\"sk-estimator sk-toggleable\"><input class=\"sk-toggleable__control sk-hidden--visually\" id=\"sk-estimator-id-3\" type=\"checkbox\" checked><label for=\"sk-estimator-id-3\" class=\"sk-toggleable__label sk-toggleable__label-arrow\">SVC</label><div class=\"sk-toggleable__content\"><pre>SVC(C=270, gamma=0.9, kernel=&#x27;poly&#x27;)</pre></div></div></div></div></div>"
      ],
      "text/plain": [
       "SVC(C=270, gamma=0.9, kernel='poly')"
      ]
     },
     "execution_count": 30,
     "metadata": {},
     "output_type": "execute_result"
    }
   ],
   "source": [
    "poly_best = poly_perform.get_best_result(base_on=\"accuracy\")\n",
    "poly_best_params = poly_best[0][\"params\"]\n",
    "svm = svm.set_params(**poly_best_params)\n",
    "\n",
    "svm.fit(X_train_res, y_train_res)\n",
    "y_pred = svm.predict(X_test)"
   ]
  },
  {
   "cell_type": "code",
   "execution_count": 31,
   "metadata": {},
   "outputs": [
    {
     "name": "stdout",
     "output_type": "stream",
     "text": [
      "Confusion Matrix:\n",
      " [[228 121  42]\n",
      " [ 36 315  36]\n",
      " [ 81  58 106]]\n",
      "\n",
      "Report:\n",
      "               precision    recall  f1-score   support\n",
      "\n",
      "           0       0.66      0.58      0.62       391\n",
      "           1       0.64      0.81      0.72       387\n",
      "           2       0.58      0.43      0.49       245\n",
      "\n",
      "    accuracy                           0.63      1023\n",
      "   macro avg       0.62      0.61      0.61      1023\n",
      "weighted avg       0.63      0.63      0.63      1023\n",
      "\n"
     ]
    }
   ],
   "source": [
    "print(f\"Confusion Matrix:\\n {confusion_matrix(y_test, y_pred)}\\n\")\n",
    "print(f\"Report:\\n {classification_report(y_test, y_pred)}\")"
   ]
  },
  {
   "cell_type": "markdown",
   "metadata": {},
   "source": [
    "#### 5.2 Pengujian SVM + TF-IDF"
   ]
  },
  {
   "cell_type": "markdown",
   "metadata": {},
   "source": [
    "##### 5.2.1 SVM-Linear"
   ]
  },
  {
   "cell_type": "code",
   "execution_count": 44,
   "metadata": {},
   "outputs": [
    {
     "data": {
      "text/html": [
       "<style>#sk-container-id-4 {color: black;background-color: white;}#sk-container-id-4 pre{padding: 0;}#sk-container-id-4 div.sk-toggleable {background-color: white;}#sk-container-id-4 label.sk-toggleable__label {cursor: pointer;display: block;width: 100%;margin-bottom: 0;padding: 0.3em;box-sizing: border-box;text-align: center;}#sk-container-id-4 label.sk-toggleable__label-arrow:before {content: \"▸\";float: left;margin-right: 0.25em;color: #696969;}#sk-container-id-4 label.sk-toggleable__label-arrow:hover:before {color: black;}#sk-container-id-4 div.sk-estimator:hover label.sk-toggleable__label-arrow:before {color: black;}#sk-container-id-4 div.sk-toggleable__content {max-height: 0;max-width: 0;overflow: hidden;text-align: left;background-color: #f0f8ff;}#sk-container-id-4 div.sk-toggleable__content pre {margin: 0.2em;color: black;border-radius: 0.25em;background-color: #f0f8ff;}#sk-container-id-4 input.sk-toggleable__control:checked~div.sk-toggleable__content {max-height: 200px;max-width: 100%;overflow: auto;}#sk-container-id-4 input.sk-toggleable__control:checked~label.sk-toggleable__label-arrow:before {content: \"▾\";}#sk-container-id-4 div.sk-estimator input.sk-toggleable__control:checked~label.sk-toggleable__label {background-color: #d4ebff;}#sk-container-id-4 div.sk-label input.sk-toggleable__control:checked~label.sk-toggleable__label {background-color: #d4ebff;}#sk-container-id-4 input.sk-hidden--visually {border: 0;clip: rect(1px 1px 1px 1px);clip: rect(1px, 1px, 1px, 1px);height: 1px;margin: -1px;overflow: hidden;padding: 0;position: absolute;width: 1px;}#sk-container-id-4 div.sk-estimator {font-family: monospace;background-color: #f0f8ff;border: 1px dotted black;border-radius: 0.25em;box-sizing: border-box;margin-bottom: 0.5em;}#sk-container-id-4 div.sk-estimator:hover {background-color: #d4ebff;}#sk-container-id-4 div.sk-parallel-item::after {content: \"\";width: 100%;border-bottom: 1px solid gray;flex-grow: 1;}#sk-container-id-4 div.sk-label:hover label.sk-toggleable__label {background-color: #d4ebff;}#sk-container-id-4 div.sk-serial::before {content: \"\";position: absolute;border-left: 1px solid gray;box-sizing: border-box;top: 0;bottom: 0;left: 50%;z-index: 0;}#sk-container-id-4 div.sk-serial {display: flex;flex-direction: column;align-items: center;background-color: white;padding-right: 0.2em;padding-left: 0.2em;position: relative;}#sk-container-id-4 div.sk-item {position: relative;z-index: 1;}#sk-container-id-4 div.sk-parallel {display: flex;align-items: stretch;justify-content: center;background-color: white;position: relative;}#sk-container-id-4 div.sk-item::before, #sk-container-id-4 div.sk-parallel-item::before {content: \"\";position: absolute;border-left: 1px solid gray;box-sizing: border-box;top: 0;bottom: 0;left: 50%;z-index: -1;}#sk-container-id-4 div.sk-parallel-item {display: flex;flex-direction: column;z-index: 1;position: relative;background-color: white;}#sk-container-id-4 div.sk-parallel-item:first-child::after {align-self: flex-end;width: 50%;}#sk-container-id-4 div.sk-parallel-item:last-child::after {align-self: flex-start;width: 50%;}#sk-container-id-4 div.sk-parallel-item:only-child::after {width: 0;}#sk-container-id-4 div.sk-dashed-wrapped {border: 1px dashed gray;margin: 0 0.4em 0.5em 0.4em;box-sizing: border-box;padding-bottom: 0.4em;background-color: white;}#sk-container-id-4 div.sk-label label {font-family: monospace;font-weight: bold;display: inline-block;line-height: 1.2em;}#sk-container-id-4 div.sk-label-container {text-align: center;}#sk-container-id-4 div.sk-container {/* jupyter's `normalize.less` sets `[hidden] { display: none; }` but bootstrap.min.css set `[hidden] { display: none !important; }` so we also need the `!important` here to be able to override the default hidden behavior on the sphinx rendered scikit-learn.org. See: https://github.com/scikit-learn/scikit-learn/issues/21755 */display: inline-block !important;position: relative;}#sk-container-id-4 div.sk-text-repr-fallback {display: none;}</style><div id=\"sk-container-id-4\" class=\"sk-top-container\"><div class=\"sk-text-repr-fallback\"><pre>SVC(C=3.0, kernel=&#x27;linear&#x27;)</pre><b>In a Jupyter environment, please rerun this cell to show the HTML representation or trust the notebook. <br />On GitHub, the HTML representation is unable to render, please try loading this page with nbviewer.org.</b></div><div class=\"sk-container\" hidden><div class=\"sk-item\"><div class=\"sk-estimator sk-toggleable\"><input class=\"sk-toggleable__control sk-hidden--visually\" id=\"sk-estimator-id-4\" type=\"checkbox\" checked><label for=\"sk-estimator-id-4\" class=\"sk-toggleable__label sk-toggleable__label-arrow\">SVC</label><div class=\"sk-toggleable__content\"><pre>SVC(C=3.0, kernel=&#x27;linear&#x27;)</pre></div></div></div></div></div>"
      ],
      "text/plain": [
       "SVC(C=3.0, kernel='linear')"
      ]
     },
     "execution_count": 44,
     "metadata": {},
     "output_type": "execute_result"
    }
   ],
   "source": [
    "linear_best = linear_perform.get_best_result(base_on=\"accuracy\")\n",
    "linear_best_params = linear_best[0][\"params\"]\n",
    "svm = svm.set_params(**linear_best_params)\n",
    "\n",
    "svm.fit(X_train_res, y_train_res)\n",
    "y_pred = svm.predict(X_test)"
   ]
  },
  {
   "cell_type": "code",
   "execution_count": 45,
   "metadata": {},
   "outputs": [
    {
     "name": "stdout",
     "output_type": "stream",
     "text": [
      "Confusion Matrix:\n",
      " [[307  40  44]\n",
      " [ 57 293  37]\n",
      " [ 65  35 145]]\n",
      "\n",
      "Report:\n",
      "               precision    recall  f1-score   support\n",
      "\n",
      "           0       0.72      0.79      0.75       391\n",
      "           1       0.80      0.76      0.78       387\n",
      "           2       0.64      0.59      0.62       245\n",
      "\n",
      "    accuracy                           0.73      1023\n",
      "   macro avg       0.72      0.71      0.71      1023\n",
      "weighted avg       0.73      0.73      0.73      1023\n",
      "\n"
     ]
    }
   ],
   "source": [
    "print(f\"Confusion Matrix:\\n {confusion_matrix(y_test, y_pred)}\\n\")\n",
    "print(f\"Report:\\n {classification_report(y_test, y_pred)}\")"
   ]
  },
  {
   "cell_type": "markdown",
   "metadata": {},
   "source": [
    "##### 5.2.2 SVM-RBF"
   ]
  },
  {
   "cell_type": "code",
   "execution_count": 22,
   "metadata": {},
   "outputs": [
    {
     "data": {
      "text/html": [
       "<style>#sk-container-id-1 {color: black;background-color: white;}#sk-container-id-1 pre{padding: 0;}#sk-container-id-1 div.sk-toggleable {background-color: white;}#sk-container-id-1 label.sk-toggleable__label {cursor: pointer;display: block;width: 100%;margin-bottom: 0;padding: 0.3em;box-sizing: border-box;text-align: center;}#sk-container-id-1 label.sk-toggleable__label-arrow:before {content: \"▸\";float: left;margin-right: 0.25em;color: #696969;}#sk-container-id-1 label.sk-toggleable__label-arrow:hover:before {color: black;}#sk-container-id-1 div.sk-estimator:hover label.sk-toggleable__label-arrow:before {color: black;}#sk-container-id-1 div.sk-toggleable__content {max-height: 0;max-width: 0;overflow: hidden;text-align: left;background-color: #f0f8ff;}#sk-container-id-1 div.sk-toggleable__content pre {margin: 0.2em;color: black;border-radius: 0.25em;background-color: #f0f8ff;}#sk-container-id-1 input.sk-toggleable__control:checked~div.sk-toggleable__content {max-height: 200px;max-width: 100%;overflow: auto;}#sk-container-id-1 input.sk-toggleable__control:checked~label.sk-toggleable__label-arrow:before {content: \"▾\";}#sk-container-id-1 div.sk-estimator input.sk-toggleable__control:checked~label.sk-toggleable__label {background-color: #d4ebff;}#sk-container-id-1 div.sk-label input.sk-toggleable__control:checked~label.sk-toggleable__label {background-color: #d4ebff;}#sk-container-id-1 input.sk-hidden--visually {border: 0;clip: rect(1px 1px 1px 1px);clip: rect(1px, 1px, 1px, 1px);height: 1px;margin: -1px;overflow: hidden;padding: 0;position: absolute;width: 1px;}#sk-container-id-1 div.sk-estimator {font-family: monospace;background-color: #f0f8ff;border: 1px dotted black;border-radius: 0.25em;box-sizing: border-box;margin-bottom: 0.5em;}#sk-container-id-1 div.sk-estimator:hover {background-color: #d4ebff;}#sk-container-id-1 div.sk-parallel-item::after {content: \"\";width: 100%;border-bottom: 1px solid gray;flex-grow: 1;}#sk-container-id-1 div.sk-label:hover label.sk-toggleable__label {background-color: #d4ebff;}#sk-container-id-1 div.sk-serial::before {content: \"\";position: absolute;border-left: 1px solid gray;box-sizing: border-box;top: 0;bottom: 0;left: 50%;z-index: 0;}#sk-container-id-1 div.sk-serial {display: flex;flex-direction: column;align-items: center;background-color: white;padding-right: 0.2em;padding-left: 0.2em;position: relative;}#sk-container-id-1 div.sk-item {position: relative;z-index: 1;}#sk-container-id-1 div.sk-parallel {display: flex;align-items: stretch;justify-content: center;background-color: white;position: relative;}#sk-container-id-1 div.sk-item::before, #sk-container-id-1 div.sk-parallel-item::before {content: \"\";position: absolute;border-left: 1px solid gray;box-sizing: border-box;top: 0;bottom: 0;left: 50%;z-index: -1;}#sk-container-id-1 div.sk-parallel-item {display: flex;flex-direction: column;z-index: 1;position: relative;background-color: white;}#sk-container-id-1 div.sk-parallel-item:first-child::after {align-self: flex-end;width: 50%;}#sk-container-id-1 div.sk-parallel-item:last-child::after {align-self: flex-start;width: 50%;}#sk-container-id-1 div.sk-parallel-item:only-child::after {width: 0;}#sk-container-id-1 div.sk-dashed-wrapped {border: 1px dashed gray;margin: 0 0.4em 0.5em 0.4em;box-sizing: border-box;padding-bottom: 0.4em;background-color: white;}#sk-container-id-1 div.sk-label label {font-family: monospace;font-weight: bold;display: inline-block;line-height: 1.2em;}#sk-container-id-1 div.sk-label-container {text-align: center;}#sk-container-id-1 div.sk-container {/* jupyter's `normalize.less` sets `[hidden] { display: none; }` but bootstrap.min.css set `[hidden] { display: none !important; }` so we also need the `!important` here to be able to override the default hidden behavior on the sphinx rendered scikit-learn.org. See: https://github.com/scikit-learn/scikit-learn/issues/21755 */display: inline-block !important;position: relative;}#sk-container-id-1 div.sk-text-repr-fallback {display: none;}</style><div id=\"sk-container-id-1\" class=\"sk-top-container\"><div class=\"sk-text-repr-fallback\"><pre>SVC(C=20, gamma=1.0)</pre><b>In a Jupyter environment, please rerun this cell to show the HTML representation or trust the notebook. <br />On GitHub, the HTML representation is unable to render, please try loading this page with nbviewer.org.</b></div><div class=\"sk-container\" hidden><div class=\"sk-item\"><div class=\"sk-estimator sk-toggleable\"><input class=\"sk-toggleable__control sk-hidden--visually\" id=\"sk-estimator-id-1\" type=\"checkbox\" checked><label for=\"sk-estimator-id-1\" class=\"sk-toggleable__label sk-toggleable__label-arrow\">SVC</label><div class=\"sk-toggleable__content\"><pre>SVC(C=20, gamma=1.0)</pre></div></div></div></div></div>"
      ],
      "text/plain": [
       "SVC(C=20, gamma=1.0)"
      ]
     },
     "execution_count": 22,
     "metadata": {},
     "output_type": "execute_result"
    }
   ],
   "source": [
    "rbf_best = rbf_perform.get_best_result(base_on=\"accuracy\")\n",
    "rbf_best_params = rbf_best[0][\"params\"]\n",
    "svm = svm.set_params(**rbf_best_params)\n",
    "\n",
    "svm.fit(X_train_res, y_train_res)\n",
    "y_pred = svm.predict(X_test)"
   ]
  },
  {
   "cell_type": "code",
   "execution_count": 23,
   "metadata": {},
   "outputs": [
    {
     "name": "stdout",
     "output_type": "stream",
     "text": [
      "Confusion Matrix:\n",
      " [[317  45  29]\n",
      " [ 51 307  29]\n",
      " [ 81  38 126]]\n",
      "\n",
      "Report:\n",
      "               precision    recall  f1-score   support\n",
      "\n",
      "           0       0.71      0.81      0.75       391\n",
      "           1       0.79      0.79      0.79       387\n",
      "           2       0.68      0.51      0.59       245\n",
      "\n",
      "    accuracy                           0.73      1023\n",
      "   macro avg       0.73      0.71      0.71      1023\n",
      "weighted avg       0.73      0.73      0.73      1023\n",
      "\n"
     ]
    }
   ],
   "source": [
    "print(f\"Confusion Matrix:\\n {confusion_matrix(y_test, y_pred)}\\n\")\n",
    "print(f\"Report:\\n {classification_report(y_test, y_pred)}\")"
   ]
  },
  {
   "cell_type": "markdown",
   "metadata": {},
   "source": [
    "##### SVM-Polinomial"
   ]
  },
  {
   "cell_type": "code",
   "execution_count": 33,
   "metadata": {},
   "outputs": [
    {
     "data": {
      "text/html": [
       "<style>#sk-container-id-3 {color: black;background-color: white;}#sk-container-id-3 pre{padding: 0;}#sk-container-id-3 div.sk-toggleable {background-color: white;}#sk-container-id-3 label.sk-toggleable__label {cursor: pointer;display: block;width: 100%;margin-bottom: 0;padding: 0.3em;box-sizing: border-box;text-align: center;}#sk-container-id-3 label.sk-toggleable__label-arrow:before {content: \"▸\";float: left;margin-right: 0.25em;color: #696969;}#sk-container-id-3 label.sk-toggleable__label-arrow:hover:before {color: black;}#sk-container-id-3 div.sk-estimator:hover label.sk-toggleable__label-arrow:before {color: black;}#sk-container-id-3 div.sk-toggleable__content {max-height: 0;max-width: 0;overflow: hidden;text-align: left;background-color: #f0f8ff;}#sk-container-id-3 div.sk-toggleable__content pre {margin: 0.2em;color: black;border-radius: 0.25em;background-color: #f0f8ff;}#sk-container-id-3 input.sk-toggleable__control:checked~div.sk-toggleable__content {max-height: 200px;max-width: 100%;overflow: auto;}#sk-container-id-3 input.sk-toggleable__control:checked~label.sk-toggleable__label-arrow:before {content: \"▾\";}#sk-container-id-3 div.sk-estimator input.sk-toggleable__control:checked~label.sk-toggleable__label {background-color: #d4ebff;}#sk-container-id-3 div.sk-label input.sk-toggleable__control:checked~label.sk-toggleable__label {background-color: #d4ebff;}#sk-container-id-3 input.sk-hidden--visually {border: 0;clip: rect(1px 1px 1px 1px);clip: rect(1px, 1px, 1px, 1px);height: 1px;margin: -1px;overflow: hidden;padding: 0;position: absolute;width: 1px;}#sk-container-id-3 div.sk-estimator {font-family: monospace;background-color: #f0f8ff;border: 1px dotted black;border-radius: 0.25em;box-sizing: border-box;margin-bottom: 0.5em;}#sk-container-id-3 div.sk-estimator:hover {background-color: #d4ebff;}#sk-container-id-3 div.sk-parallel-item::after {content: \"\";width: 100%;border-bottom: 1px solid gray;flex-grow: 1;}#sk-container-id-3 div.sk-label:hover label.sk-toggleable__label {background-color: #d4ebff;}#sk-container-id-3 div.sk-serial::before {content: \"\";position: absolute;border-left: 1px solid gray;box-sizing: border-box;top: 0;bottom: 0;left: 50%;z-index: 0;}#sk-container-id-3 div.sk-serial {display: flex;flex-direction: column;align-items: center;background-color: white;padding-right: 0.2em;padding-left: 0.2em;position: relative;}#sk-container-id-3 div.sk-item {position: relative;z-index: 1;}#sk-container-id-3 div.sk-parallel {display: flex;align-items: stretch;justify-content: center;background-color: white;position: relative;}#sk-container-id-3 div.sk-item::before, #sk-container-id-3 div.sk-parallel-item::before {content: \"\";position: absolute;border-left: 1px solid gray;box-sizing: border-box;top: 0;bottom: 0;left: 50%;z-index: -1;}#sk-container-id-3 div.sk-parallel-item {display: flex;flex-direction: column;z-index: 1;position: relative;background-color: white;}#sk-container-id-3 div.sk-parallel-item:first-child::after {align-self: flex-end;width: 50%;}#sk-container-id-3 div.sk-parallel-item:last-child::after {align-self: flex-start;width: 50%;}#sk-container-id-3 div.sk-parallel-item:only-child::after {width: 0;}#sk-container-id-3 div.sk-dashed-wrapped {border: 1px dashed gray;margin: 0 0.4em 0.5em 0.4em;box-sizing: border-box;padding-bottom: 0.4em;background-color: white;}#sk-container-id-3 div.sk-label label {font-family: monospace;font-weight: bold;display: inline-block;line-height: 1.2em;}#sk-container-id-3 div.sk-label-container {text-align: center;}#sk-container-id-3 div.sk-container {/* jupyter's `normalize.less` sets `[hidden] { display: none; }` but bootstrap.min.css set `[hidden] { display: none !important; }` so we also need the `!important` here to be able to override the default hidden behavior on the sphinx rendered scikit-learn.org. See: https://github.com/scikit-learn/scikit-learn/issues/21755 */display: inline-block !important;position: relative;}#sk-container-id-3 div.sk-text-repr-fallback {display: none;}</style><div id=\"sk-container-id-3\" class=\"sk-top-container\"><div class=\"sk-text-repr-fallback\"><pre>SVC(C=30, gamma=0.4, kernel=&#x27;poly&#x27;)</pre><b>In a Jupyter environment, please rerun this cell to show the HTML representation or trust the notebook. <br />On GitHub, the HTML representation is unable to render, please try loading this page with nbviewer.org.</b></div><div class=\"sk-container\" hidden><div class=\"sk-item\"><div class=\"sk-estimator sk-toggleable\"><input class=\"sk-toggleable__control sk-hidden--visually\" id=\"sk-estimator-id-3\" type=\"checkbox\" checked><label for=\"sk-estimator-id-3\" class=\"sk-toggleable__label sk-toggleable__label-arrow\">SVC</label><div class=\"sk-toggleable__content\"><pre>SVC(C=30, gamma=0.4, kernel=&#x27;poly&#x27;)</pre></div></div></div></div></div>"
      ],
      "text/plain": [
       "SVC(C=30, gamma=0.4, kernel='poly')"
      ]
     },
     "execution_count": 33,
     "metadata": {},
     "output_type": "execute_result"
    }
   ],
   "source": [
    "poly_best = poly_perform.get_best_result(base_on=\"accuracy\")\n",
    "poly_best_params = poly_best[0][\"params\"]\n",
    "svm = svm.set_params(**poly_best_params)\n",
    "\n",
    "svm.fit(X_train_res, y_train_res)\n",
    "y_pred = svm.predict(X_test)"
   ]
  },
  {
   "cell_type": "code",
   "execution_count": 34,
   "metadata": {},
   "outputs": [
    {
     "name": "stdout",
     "output_type": "stream",
     "text": [
      "Confusion Matrix:\n",
      " [[335  25  31]\n",
      " [124 207  56]\n",
      " [106  23 116]]\n",
      "\n",
      "Report:\n",
      "               precision    recall  f1-score   support\n",
      "\n",
      "           0       0.59      0.86      0.70       391\n",
      "           1       0.81      0.53      0.64       387\n",
      "           2       0.57      0.47      0.52       245\n",
      "\n",
      "    accuracy                           0.64      1023\n",
      "   macro avg       0.66      0.62      0.62      1023\n",
      "weighted avg       0.67      0.64      0.64      1023\n",
      "\n"
     ]
    }
   ],
   "source": [
    "print(f\"Confusion Matrix:\\n {confusion_matrix(y_test, y_pred)}\\n\")\n",
    "print(f\"Report:\\n {classification_report(y_test, y_pred)}\")"
   ]
  }
 ],
 "metadata": {
  "kernelspec": {
   "display_name": "nlpenv",
   "language": "python",
   "name": "python3"
  },
  "language_info": {
   "codemirror_mode": {
    "name": "ipython",
    "version": 3
   },
   "file_extension": ".py",
   "mimetype": "text/x-python",
   "name": "python",
   "nbconvert_exporter": "python",
   "pygments_lexer": "ipython3",
   "version": "3.9.18"
  },
  "orig_nbformat": 4
 },
 "nbformat": 4,
 "nbformat_minor": 2
}
